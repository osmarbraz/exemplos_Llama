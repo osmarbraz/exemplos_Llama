{
  "cells": [
    {
      "cell_type": "markdown",
      "metadata": {
        "id": "view-in-github",
        "colab_type": "text"
      },
      "source": [
        "<a href=\"https://colab.research.google.com/github/osmarbraz/exemplos_Llama/blob/main/RAG_RespondendoPergunta_Llama2_13B_4bit_Langchain.ipynb\" target=\"_parent\"><img src=\"https://colab.research.google.com/assets/colab-badge.svg\" alt=\"Open In Colab\"/></a>"
      ]
    },
    {
      "cell_type": "markdown",
      "metadata": {
        "id": "78HE8FLsKN9Q"
      },
      "source": [
        "#Exemplo de Respondendo Perguntas sobre Textos Longos usando Llama v2.0, Longchain, Chroma e Transformers by HuggingFace\n",
        "\n",
        "**Toda a execução ocorre no Google Colaboratory.**\n",
        "\n",
        "Pré-requisitos:\n",
        "- Lhama 2 não está acessível abertamente e requer solicitação  de acesso. Faça o cadastro no site do https://huggingface.co/join. Depois do login, gere um token de acesso no link https://huggingface.co/settings/tokens.\n",
        "- Configurar o notebook para usar GPU- Acesse o menu 'Ambiente de Execução -> Alterar o tipo do ambiente de execução -> Acelerador de hardware -> T4 GPU\n",
        "\n",
        "\n",
        "**Referências**\n",
        "\n",
        "https://medium.com/@onkarmishra/using-langchain-for-question-answering-on-own-data-3af0a82789ed\n",
        "\n",
        "**Lista dos modelos:**\n",
        "\n",
        "https://huggingface.co/models\n",
        "\n",
        "\n",
        "**Link biblioteca Huggingface:**\n",
        "\n",
        "https://github.com/huggingface/transformers\n",
        "\n",
        "\n"
      ]
    },
    {
      "cell_type": "markdown",
      "metadata": {
        "id": "xyxb5Px3p1-e"
      },
      "source": [
        "# 0 - Preparação do ambiente\n",
        "Preparação do ambiente para execução do exemplo."
      ]
    },
    {
      "cell_type": "markdown",
      "metadata": {
        "id": "iAPVtRXQqDim"
      },
      "source": [
        "## Tratamento de logs\n",
        "\n",
        "Método para tratamento dos logs."
      ]
    },
    {
      "cell_type": "code",
      "execution_count": null,
      "metadata": {
        "id": "DcopxbGZqDip"
      },
      "outputs": [],
      "source": [
        "# Biblioteca de logging\n",
        "import logging\n",
        "\n",
        "# Formatando a mensagem de logging\n",
        "logging.basicConfig(format=\"%(asctime)s : %(levelname)s : %(message)s\", level=logging.INFO)"
      ]
    },
    {
      "cell_type": "markdown",
      "metadata": {
        "id": "_GjYtXcMnSAe"
      },
      "source": [
        "## Identificando o ambiente Colab\n",
        "\n",
        "Cria uma variável para identificar que o notebook está sendo executado no Google Colaboratory."
      ]
    },
    {
      "cell_type": "code",
      "execution_count": null,
      "metadata": {
        "id": "YMiH0E3OnRa1"
      },
      "outputs": [],
      "source": [
        "# Se estiver executando no Google Colaboratory\n",
        "import sys\n",
        "\n",
        "# Retorna true ou false se estiver no Google Colaboratory\n",
        "IN_COLAB = \"google.colab\" in sys.modules"
      ]
    },
    {
      "cell_type": "markdown",
      "metadata": {
        "id": "JKmhxcvIfbG2"
      },
      "source": [
        "## Funções auxiliares"
      ]
    },
    {
      "cell_type": "markdown",
      "metadata": {
        "id": "603LYIYKBmq5"
      },
      "source": [
        "Função auxiliar para formatar o tempo como `hh: mm: ss`"
      ]
    },
    {
      "cell_type": "code",
      "execution_count": null,
      "metadata": {
        "id": "Guy6B4whsZFR"
      },
      "outputs": [],
      "source": [
        "# Import das bibliotecas.\n",
        "import time\n",
        "import datetime\n",
        "\n",
        "def formataTempo(tempo):\n",
        "    \"\"\"\n",
        "      Pega a tempo em segundos e retorna uma string hh:mm:ss\n",
        "    \"\"\"\n",
        "    # Arredonda para o segundo mais próximo.\n",
        "    tempo_arredondado = int(round((tempo)))\n",
        "\n",
        "    # Formata como hh:mm:ss\n",
        "    return str(datetime.timedelta(seconds=tempo_arredondado))"
      ]
    },
    {
      "cell_type": "markdown",
      "source": [
        "Imprime linhas menores."
      ],
      "metadata": {
        "id": "V1vu-ch8yT5R"
      }
    },
    {
      "cell_type": "code",
      "source": [
        "def print_linhas_menores(texto, tamanho=120):\n",
        "  for i in range(0, len(texto), tamanho):\n",
        "    print(texto[i:i+tamanho])"
      ],
      "metadata": {
        "id": "8BKQZtF9yUBs"
      },
      "execution_count": null,
      "outputs": []
    },
    {
      "cell_type": "markdown",
      "metadata": {
        "id": "Pqa-7WXBAw8q"
      },
      "source": [
        "# 1 - Instalação das bibliotecas"
      ]
    },
    {
      "cell_type": "markdown",
      "source": [
        "Biblioteca para manipular pdf\n",
        "\n",
        "https://pypi.org/project/pypdf/"
      ],
      "metadata": {
        "id": "akFHj1OT0eCc"
      }
    },
    {
      "cell_type": "code",
      "source": [
        "!pip install pypdf==3.16.4"
      ],
      "metadata": {
        "colab": {
          "base_uri": "https://localhost:8080/"
        },
        "id": "7mdrRBD_0gAL",
        "outputId": "3e62ef6a-2620-4774-8931-594544f62eae"
      },
      "execution_count": null,
      "outputs": [
        {
          "output_type": "stream",
          "name": "stdout",
          "text": [
            "Requirement already satisfied: pypdf==3.16.4 in /usr/local/lib/python3.10/dist-packages (3.16.4)\n"
          ]
        }
      ]
    },
    {
      "cell_type": "markdown",
      "source": [
        "Bibliota de dependência para manipular os embeddings pelo Langchain.\n",
        "\n",
        "https://pypi.org/project/sentence-transformers/"
      ],
      "metadata": {
        "id": "IHKbYosXal6M"
      }
    },
    {
      "cell_type": "code",
      "source": [
        "!pip install sentence_transformers==2.2.2"
      ],
      "metadata": {
        "colab": {
          "base_uri": "https://localhost:8080/"
        },
        "id": "QQYsLbh1aoEe",
        "outputId": "68fb9a6f-1ac4-44ba-a8f4-e3dbb0d9a185"
      },
      "execution_count": null,
      "outputs": [
        {
          "output_type": "stream",
          "name": "stdout",
          "text": [
            "Requirement already satisfied: sentence_transformers==2.2.2 in /usr/local/lib/python3.10/dist-packages (2.2.2)\n",
            "Requirement already satisfied: transformers<5.0.0,>=4.6.0 in /usr/local/lib/python3.10/dist-packages (from sentence_transformers==2.2.2) (4.31.0)\n",
            "Requirement already satisfied: tqdm in /usr/local/lib/python3.10/dist-packages (from sentence_transformers==2.2.2) (4.66.1)\n",
            "Requirement already satisfied: torch>=1.6.0 in /usr/local/lib/python3.10/dist-packages (from sentence_transformers==2.2.2) (2.1.0)\n",
            "Requirement already satisfied: torchvision in /usr/local/lib/python3.10/dist-packages (from sentence_transformers==2.2.2) (0.15.2+cu118)\n",
            "Requirement already satisfied: numpy in /usr/local/lib/python3.10/dist-packages (from sentence_transformers==2.2.2) (1.23.5)\n",
            "Requirement already satisfied: scikit-learn in /usr/local/lib/python3.10/dist-packages (from sentence_transformers==2.2.2) (1.2.2)\n",
            "Requirement already satisfied: scipy in /usr/local/lib/python3.10/dist-packages (from sentence_transformers==2.2.2) (1.11.3)\n",
            "Requirement already satisfied: nltk in /usr/local/lib/python3.10/dist-packages (from sentence_transformers==2.2.2) (3.8.1)\n",
            "Requirement already satisfied: sentencepiece in /usr/local/lib/python3.10/dist-packages (from sentence_transformers==2.2.2) (0.1.99)\n",
            "Requirement already satisfied: huggingface-hub>=0.4.0 in /usr/local/lib/python3.10/dist-packages (from sentence_transformers==2.2.2) (0.18.0)\n",
            "Requirement already satisfied: filelock in /usr/local/lib/python3.10/dist-packages (from huggingface-hub>=0.4.0->sentence_transformers==2.2.2) (3.12.4)\n",
            "Requirement already satisfied: fsspec>=2023.5.0 in /usr/local/lib/python3.10/dist-packages (from huggingface-hub>=0.4.0->sentence_transformers==2.2.2) (2023.6.0)\n",
            "Requirement already satisfied: requests in /usr/local/lib/python3.10/dist-packages (from huggingface-hub>=0.4.0->sentence_transformers==2.2.2) (2.31.0)\n",
            "Requirement already satisfied: pyyaml>=5.1 in /usr/local/lib/python3.10/dist-packages (from huggingface-hub>=0.4.0->sentence_transformers==2.2.2) (6.0.1)\n",
            "Requirement already satisfied: typing-extensions>=3.7.4.3 in /usr/local/lib/python3.10/dist-packages (from huggingface-hub>=0.4.0->sentence_transformers==2.2.2) (4.8.0)\n",
            "Requirement already satisfied: packaging>=20.9 in /usr/local/lib/python3.10/dist-packages (from huggingface-hub>=0.4.0->sentence_transformers==2.2.2) (23.2)\n",
            "Requirement already satisfied: sympy in /usr/local/lib/python3.10/dist-packages (from torch>=1.6.0->sentence_transformers==2.2.2) (1.12)\n",
            "Requirement already satisfied: networkx in /usr/local/lib/python3.10/dist-packages (from torch>=1.6.0->sentence_transformers==2.2.2) (3.2)\n",
            "Requirement already satisfied: jinja2 in /usr/local/lib/python3.10/dist-packages (from torch>=1.6.0->sentence_transformers==2.2.2) (3.1.2)\n",
            "Requirement already satisfied: nvidia-cuda-nvrtc-cu12==12.1.105 in /usr/local/lib/python3.10/dist-packages (from torch>=1.6.0->sentence_transformers==2.2.2) (12.1.105)\n",
            "Requirement already satisfied: nvidia-cuda-runtime-cu12==12.1.105 in /usr/local/lib/python3.10/dist-packages (from torch>=1.6.0->sentence_transformers==2.2.2) (12.1.105)\n",
            "Requirement already satisfied: nvidia-cuda-cupti-cu12==12.1.105 in /usr/local/lib/python3.10/dist-packages (from torch>=1.6.0->sentence_transformers==2.2.2) (12.1.105)\n",
            "Requirement already satisfied: nvidia-cudnn-cu12==8.9.2.26 in /usr/local/lib/python3.10/dist-packages (from torch>=1.6.0->sentence_transformers==2.2.2) (8.9.2.26)\n",
            "Requirement already satisfied: nvidia-cublas-cu12==12.1.3.1 in /usr/local/lib/python3.10/dist-packages (from torch>=1.6.0->sentence_transformers==2.2.2) (12.1.3.1)\n",
            "Requirement already satisfied: nvidia-cufft-cu12==11.0.2.54 in /usr/local/lib/python3.10/dist-packages (from torch>=1.6.0->sentence_transformers==2.2.2) (11.0.2.54)\n",
            "Requirement already satisfied: nvidia-curand-cu12==10.3.2.106 in /usr/local/lib/python3.10/dist-packages (from torch>=1.6.0->sentence_transformers==2.2.2) (10.3.2.106)\n",
            "Requirement already satisfied: nvidia-cusolver-cu12==11.4.5.107 in /usr/local/lib/python3.10/dist-packages (from torch>=1.6.0->sentence_transformers==2.2.2) (11.4.5.107)\n",
            "Requirement already satisfied: nvidia-cusparse-cu12==12.1.0.106 in /usr/local/lib/python3.10/dist-packages (from torch>=1.6.0->sentence_transformers==2.2.2) (12.1.0.106)\n",
            "Requirement already satisfied: nvidia-nccl-cu12==2.18.1 in /usr/local/lib/python3.10/dist-packages (from torch>=1.6.0->sentence_transformers==2.2.2) (2.18.1)\n",
            "Requirement already satisfied: nvidia-nvtx-cu12==12.1.105 in /usr/local/lib/python3.10/dist-packages (from torch>=1.6.0->sentence_transformers==2.2.2) (12.1.105)\n",
            "Requirement already satisfied: triton==2.1.0 in /usr/local/lib/python3.10/dist-packages (from torch>=1.6.0->sentence_transformers==2.2.2) (2.1.0)\n",
            "Requirement already satisfied: nvidia-nvjitlink-cu12 in /usr/local/lib/python3.10/dist-packages (from nvidia-cusolver-cu12==11.4.5.107->torch>=1.6.0->sentence_transformers==2.2.2) (12.3.52)\n",
            "Requirement already satisfied: regex!=2019.12.17 in /usr/local/lib/python3.10/dist-packages (from transformers<5.0.0,>=4.6.0->sentence_transformers==2.2.2) (2023.6.3)\n",
            "Requirement already satisfied: tokenizers!=0.11.3,<0.14,>=0.11.1 in /usr/local/lib/python3.10/dist-packages (from transformers<5.0.0,>=4.6.0->sentence_transformers==2.2.2) (0.13.3)\n",
            "Requirement already satisfied: safetensors>=0.3.1 in /usr/local/lib/python3.10/dist-packages (from transformers<5.0.0,>=4.6.0->sentence_transformers==2.2.2) (0.4.0)\n",
            "Requirement already satisfied: click in /usr/local/lib/python3.10/dist-packages (from nltk->sentence_transformers==2.2.2) (8.1.7)\n",
            "Requirement already satisfied: joblib in /usr/local/lib/python3.10/dist-packages (from nltk->sentence_transformers==2.2.2) (1.3.2)\n",
            "Requirement already satisfied: threadpoolctl>=2.0.0 in /usr/local/lib/python3.10/dist-packages (from scikit-learn->sentence_transformers==2.2.2) (3.2.0)\n",
            "Collecting torch>=1.6.0 (from sentence_transformers==2.2.2)\n",
            "  Downloading torch-2.0.1-cp310-cp310-manylinux1_x86_64.whl (619.9 MB)\n",
            "\u001b[2K     \u001b[90m━━━━━━━━━━━━━━━━━━━━━━━━━━━━━━━━━━━━━━━━\u001b[0m \u001b[32m619.9/619.9 MB\u001b[0m \u001b[31m2.3 MB/s\u001b[0m eta \u001b[36m0:00:00\u001b[0m\n",
            "\u001b[?25hRequirement already satisfied: pillow!=8.3.*,>=5.3.0 in /usr/local/lib/python3.10/dist-packages (from torchvision->sentence_transformers==2.2.2) (9.4.0)\n",
            "Collecting nvidia-cuda-nvrtc-cu11==11.7.99 (from torch>=1.6.0->sentence_transformers==2.2.2)\n",
            "  Downloading nvidia_cuda_nvrtc_cu11-11.7.99-2-py3-none-manylinux1_x86_64.whl (21.0 MB)\n",
            "\u001b[2K     \u001b[90m━━━━━━━━━━━━━━━━━━━━━━━━━━━━━━━━━━━━━━━━\u001b[0m \u001b[32m21.0/21.0 MB\u001b[0m \u001b[31m34.4 MB/s\u001b[0m eta \u001b[36m0:00:00\u001b[0m\n",
            "\u001b[?25hCollecting nvidia-cuda-runtime-cu11==11.7.99 (from torch>=1.6.0->sentence_transformers==2.2.2)\n",
            "  Downloading nvidia_cuda_runtime_cu11-11.7.99-py3-none-manylinux1_x86_64.whl (849 kB)\n",
            "\u001b[2K     \u001b[90m━━━━━━━━━━━━━━━━━━━━━━━━━━━━━━━━━━━━━━━━\u001b[0m \u001b[32m849.3/849.3 kB\u001b[0m \u001b[31m33.2 MB/s\u001b[0m eta \u001b[36m0:00:00\u001b[0m\n",
            "\u001b[?25hCollecting nvidia-cuda-cupti-cu11==11.7.101 (from torch>=1.6.0->sentence_transformers==2.2.2)\n",
            "  Downloading nvidia_cuda_cupti_cu11-11.7.101-py3-none-manylinux1_x86_64.whl (11.8 MB)\n",
            "\u001b[2K     \u001b[90m━━━━━━━━━━━━━━━━━━━━━━━━━━━━━━━━━━━━━━━━\u001b[0m \u001b[32m11.8/11.8 MB\u001b[0m \u001b[31m41.5 MB/s\u001b[0m eta \u001b[36m0:00:00\u001b[0m\n",
            "\u001b[?25hCollecting nvidia-cudnn-cu11==8.5.0.96 (from torch>=1.6.0->sentence_transformers==2.2.2)\n",
            "  Downloading nvidia_cudnn_cu11-8.5.0.96-2-py3-none-manylinux1_x86_64.whl (557.1 MB)\n",
            "\u001b[2K     \u001b[90m━━━━━━━━━━━━━━━━━━━━━━━━━━━━━━━━━━━━━━━━\u001b[0m \u001b[32m557.1/557.1 MB\u001b[0m \u001b[31m3.0 MB/s\u001b[0m eta \u001b[36m0:00:00\u001b[0m\n",
            "\u001b[?25hCollecting nvidia-cublas-cu11==11.10.3.66 (from torch>=1.6.0->sentence_transformers==2.2.2)\n",
            "  Downloading nvidia_cublas_cu11-11.10.3.66-py3-none-manylinux1_x86_64.whl (317.1 MB)\n",
            "\u001b[2K     \u001b[90m━━━━━━━━━━━━━━━━━━━━━━━━━━━━━━━━━━━━━━━━\u001b[0m \u001b[32m317.1/317.1 MB\u001b[0m \u001b[31m4.3 MB/s\u001b[0m eta \u001b[36m0:00:00\u001b[0m\n",
            "\u001b[?25hCollecting nvidia-cufft-cu11==10.9.0.58 (from torch>=1.6.0->sentence_transformers==2.2.2)\n",
            "  Downloading nvidia_cufft_cu11-10.9.0.58-py3-none-manylinux1_x86_64.whl (168.4 MB)\n",
            "\u001b[2K     \u001b[90m━━━━━━━━━━━━━━━━━━━━━━━━━━━━━━━━━━━━━━━━\u001b[0m \u001b[32m168.4/168.4 MB\u001b[0m \u001b[31m7.1 MB/s\u001b[0m eta \u001b[36m0:00:00\u001b[0m\n",
            "\u001b[?25hCollecting nvidia-curand-cu11==10.2.10.91 (from torch>=1.6.0->sentence_transformers==2.2.2)\n",
            "  Downloading nvidia_curand_cu11-10.2.10.91-py3-none-manylinux1_x86_64.whl (54.6 MB)\n",
            "\u001b[2K     \u001b[90m━━━━━━━━━━━━━━━━━━━━━━━━━━━━━━━━━━━━━━━━\u001b[0m \u001b[32m54.6/54.6 MB\u001b[0m \u001b[31m12.0 MB/s\u001b[0m eta \u001b[36m0:00:00\u001b[0m\n",
            "\u001b[?25hCollecting nvidia-cusolver-cu11==11.4.0.1 (from torch>=1.6.0->sentence_transformers==2.2.2)\n",
            "  Downloading nvidia_cusolver_cu11-11.4.0.1-2-py3-none-manylinux1_x86_64.whl (102.6 MB)\n",
            "\u001b[2K     \u001b[90m━━━━━━━━━━━━━━━━━━━━━━━━━━━━━━━━━━━━━━━━\u001b[0m \u001b[32m102.6/102.6 MB\u001b[0m \u001b[31m9.1 MB/s\u001b[0m eta \u001b[36m0:00:00\u001b[0m\n",
            "\u001b[?25hCollecting nvidia-cusparse-cu11==11.7.4.91 (from torch>=1.6.0->sentence_transformers==2.2.2)\n",
            "  Downloading nvidia_cusparse_cu11-11.7.4.91-py3-none-manylinux1_x86_64.whl (173.2 MB)\n",
            "\u001b[2K     \u001b[90m━━━━━━━━━━━━━━━━━━━━━━━━━━━━━━━━━━━━━━━━\u001b[0m \u001b[32m173.2/173.2 MB\u001b[0m \u001b[31m7.1 MB/s\u001b[0m eta \u001b[36m0:00:00\u001b[0m\n",
            "\u001b[?25hCollecting nvidia-nccl-cu11==2.14.3 (from torch>=1.6.0->sentence_transformers==2.2.2)\n",
            "  Downloading nvidia_nccl_cu11-2.14.3-py3-none-manylinux1_x86_64.whl (177.1 MB)\n",
            "\u001b[2K     \u001b[90m━━━━━━━━━━━━━━━━━━━━━━━━━━━━━━━━━━━━━━━━\u001b[0m \u001b[32m177.1/177.1 MB\u001b[0m \u001b[31m6.8 MB/s\u001b[0m eta \u001b[36m0:00:00\u001b[0m\n",
            "\u001b[?25hCollecting nvidia-nvtx-cu11==11.7.91 (from torch>=1.6.0->sentence_transformers==2.2.2)\n",
            "  Downloading nvidia_nvtx_cu11-11.7.91-py3-none-manylinux1_x86_64.whl (98 kB)\n",
            "\u001b[2K     \u001b[90m━━━━━━━━━━━━━━━━━━━━━━━━━━━━━━━━━━━━━━━━\u001b[0m \u001b[32m98.6/98.6 kB\u001b[0m \u001b[31m13.4 MB/s\u001b[0m eta \u001b[36m0:00:00\u001b[0m\n",
            "\u001b[?25hCollecting triton==2.0.0 (from torch>=1.6.0->sentence_transformers==2.2.2)\n",
            "  Downloading triton-2.0.0-1-cp310-cp310-manylinux2014_x86_64.manylinux_2_17_x86_64.whl (63.3 MB)\n",
            "\u001b[2K     \u001b[90m━━━━━━━━━━━━━━━━━━━━━━━━━━━━━━━━━━━━━━━━\u001b[0m \u001b[32m63.3/63.3 MB\u001b[0m \u001b[31m9.6 MB/s\u001b[0m eta \u001b[36m0:00:00\u001b[0m\n",
            "\u001b[?25hRequirement already satisfied: setuptools in /usr/local/lib/python3.10/dist-packages (from nvidia-cublas-cu11==11.10.3.66->torch>=1.6.0->sentence_transformers==2.2.2) (67.7.2)\n",
            "Requirement already satisfied: wheel in /usr/local/lib/python3.10/dist-packages (from nvidia-cublas-cu11==11.10.3.66->torch>=1.6.0->sentence_transformers==2.2.2) (0.41.2)\n",
            "Requirement already satisfied: cmake in /usr/local/lib/python3.10/dist-packages (from triton==2.0.0->torch>=1.6.0->sentence_transformers==2.2.2) (3.27.7)\n",
            "Requirement already satisfied: lit in /usr/local/lib/python3.10/dist-packages (from triton==2.0.0->torch>=1.6.0->sentence_transformers==2.2.2) (15.0.7)\n",
            "Requirement already satisfied: MarkupSafe>=2.0 in /usr/local/lib/python3.10/dist-packages (from jinja2->torch>=1.6.0->sentence_transformers==2.2.2) (2.1.3)\n",
            "Requirement already satisfied: charset-normalizer<4,>=2 in /usr/local/lib/python3.10/dist-packages (from requests->huggingface-hub>=0.4.0->sentence_transformers==2.2.2) (3.3.1)\n",
            "Requirement already satisfied: idna<4,>=2.5 in /usr/local/lib/python3.10/dist-packages (from requests->huggingface-hub>=0.4.0->sentence_transformers==2.2.2) (3.4)\n",
            "Requirement already satisfied: urllib3<3,>=1.21.1 in /usr/local/lib/python3.10/dist-packages (from requests->huggingface-hub>=0.4.0->sentence_transformers==2.2.2) (1.26.18)\n",
            "Requirement already satisfied: certifi>=2017.4.17 in /usr/local/lib/python3.10/dist-packages (from requests->huggingface-hub>=0.4.0->sentence_transformers==2.2.2) (2023.7.22)\n",
            "Requirement already satisfied: mpmath>=0.19 in /usr/local/lib/python3.10/dist-packages (from sympy->torch>=1.6.0->sentence_transformers==2.2.2) (1.3.0)\n",
            "Installing collected packages: nvidia-nvtx-cu11, nvidia-nccl-cu11, nvidia-cusparse-cu11, nvidia-curand-cu11, nvidia-cufft-cu11, nvidia-cuda-runtime-cu11, nvidia-cuda-nvrtc-cu11, nvidia-cuda-cupti-cu11, nvidia-cublas-cu11, nvidia-cusolver-cu11, nvidia-cudnn-cu11, triton, torch\n",
            "  Attempting uninstall: triton\n",
            "    Found existing installation: triton 2.1.0\n",
            "    Uninstalling triton-2.1.0:\n",
            "      Successfully uninstalled triton-2.1.0\n",
            "  Attempting uninstall: torch\n",
            "    Found existing installation: torch 2.1.0\n",
            "    Uninstalling torch-2.1.0:\n",
            "      Successfully uninstalled torch-2.1.0\n",
            "\u001b[31mERROR: pip's dependency resolver does not currently take into account all the packages that are installed. This behaviour is the source of the following dependency conflicts.\n",
            "xformers 0.0.22.post7 requires torch==2.1.0, but you have torch 2.0.1 which is incompatible.\u001b[0m\u001b[31m\n",
            "\u001b[0mSuccessfully installed nvidia-cublas-cu11-11.10.3.66 nvidia-cuda-cupti-cu11-11.7.101 nvidia-cuda-nvrtc-cu11-11.7.99 nvidia-cuda-runtime-cu11-11.7.99 nvidia-cudnn-cu11-8.5.0.96 nvidia-cufft-cu11-10.9.0.58 nvidia-curand-cu11-10.2.10.91 nvidia-cusolver-cu11-11.4.0.1 nvidia-cusparse-cu11-11.7.4.91 nvidia-nccl-cu11-2.14.3 nvidia-nvtx-cu11-11.7.91 torch-2.0.1 triton-2.0.0\n"
          ]
        }
      ]
    },
    {
      "cell_type": "markdown",
      "source": [
        "Biblioteca que persiste os embeddings e realiza busca semântica.\n",
        "\n",
        "https://pypi.org/project/chromadb/"
      ],
      "metadata": {
        "id": "xX6UfQIXbZGt"
      }
    },
    {
      "cell_type": "code",
      "source": [
        "!pip install chromadb==0.4.15"
      ],
      "metadata": {
        "colab": {
          "base_uri": "https://localhost:8080/"
        },
        "id": "KQKufOHtbbAc",
        "outputId": "21537e7a-9614-4cff-eae9-397f271736dc"
      },
      "execution_count": null,
      "outputs": [
        {
          "output_type": "stream",
          "name": "stdout",
          "text": [
            "Requirement already satisfied: chromadb==0.4.15 in /usr/local/lib/python3.10/dist-packages (0.4.15)\n",
            "Requirement already satisfied: requests>=2.28 in /usr/local/lib/python3.10/dist-packages (from chromadb==0.4.15) (2.31.0)\n",
            "Requirement already satisfied: pydantic>=1.9 in /usr/local/lib/python3.10/dist-packages (from chromadb==0.4.15) (1.10.13)\n",
            "Requirement already satisfied: chroma-hnswlib==0.7.3 in /usr/local/lib/python3.10/dist-packages (from chromadb==0.4.15) (0.7.3)\n",
            "Requirement already satisfied: fastapi>=0.95.2 in /usr/local/lib/python3.10/dist-packages (from chromadb==0.4.15) (0.104.0)\n",
            "Requirement already satisfied: uvicorn[standard]>=0.18.3 in /usr/local/lib/python3.10/dist-packages (from chromadb==0.4.15) (0.23.2)\n",
            "Requirement already satisfied: posthog>=2.4.0 in /usr/local/lib/python3.10/dist-packages (from chromadb==0.4.15) (3.0.2)\n",
            "Requirement already satisfied: typing-extensions>=4.5.0 in /usr/local/lib/python3.10/dist-packages (from chromadb==0.4.15) (4.8.0)\n",
            "Requirement already satisfied: pulsar-client>=3.1.0 in /usr/local/lib/python3.10/dist-packages (from chromadb==0.4.15) (3.3.0)\n",
            "Requirement already satisfied: onnxruntime>=1.14.1 in /usr/local/lib/python3.10/dist-packages (from chromadb==0.4.15) (1.16.1)\n",
            "Requirement already satisfied: opentelemetry-api>=1.2.0 in /usr/local/lib/python3.10/dist-packages (from chromadb==0.4.15) (1.20.0)\n",
            "Requirement already satisfied: opentelemetry-exporter-otlp-proto-grpc>=1.2.0 in /usr/local/lib/python3.10/dist-packages (from chromadb==0.4.15) (1.20.0)\n",
            "Requirement already satisfied: opentelemetry-sdk>=1.2.0 in /usr/local/lib/python3.10/dist-packages (from chromadb==0.4.15) (1.20.0)\n",
            "Requirement already satisfied: tokenizers>=0.13.2 in /usr/local/lib/python3.10/dist-packages (from chromadb==0.4.15) (0.13.3)\n",
            "Requirement already satisfied: pypika>=0.48.9 in /usr/local/lib/python3.10/dist-packages (from chromadb==0.4.15) (0.48.9)\n",
            "Requirement already satisfied: tqdm>=4.65.0 in /usr/local/lib/python3.10/dist-packages (from chromadb==0.4.15) (4.66.1)\n",
            "Requirement already satisfied: overrides>=7.3.1 in /usr/local/lib/python3.10/dist-packages (from chromadb==0.4.15) (7.4.0)\n",
            "Requirement already satisfied: importlib-resources in /usr/local/lib/python3.10/dist-packages (from chromadb==0.4.15) (6.1.0)\n",
            "Requirement already satisfied: grpcio>=1.58.0 in /usr/local/lib/python3.10/dist-packages (from chromadb==0.4.15) (1.59.0)\n",
            "Requirement already satisfied: bcrypt>=4.0.1 in /usr/local/lib/python3.10/dist-packages (from chromadb==0.4.15) (4.0.1)\n",
            "Requirement already satisfied: typer>=0.9.0 in /usr/local/lib/python3.10/dist-packages (from chromadb==0.4.15) (0.9.0)\n",
            "Requirement already satisfied: kubernetes>=28.1.0 in /usr/local/lib/python3.10/dist-packages (from chromadb==0.4.15) (28.1.0)\n",
            "Requirement already satisfied: tenacity>=8.2.3 in /usr/local/lib/python3.10/dist-packages (from chromadb==0.4.15) (8.2.3)\n",
            "Requirement already satisfied: numpy>=1.22.5 in /usr/local/lib/python3.10/dist-packages (from chromadb==0.4.15) (1.23.5)\n",
            "Requirement already satisfied: anyio<4.0.0,>=3.7.1 in /usr/local/lib/python3.10/dist-packages (from fastapi>=0.95.2->chromadb==0.4.15) (3.7.1)\n",
            "Requirement already satisfied: starlette<0.28.0,>=0.27.0 in /usr/local/lib/python3.10/dist-packages (from fastapi>=0.95.2->chromadb==0.4.15) (0.27.0)\n",
            "Requirement already satisfied: certifi>=14.05.14 in /usr/local/lib/python3.10/dist-packages (from kubernetes>=28.1.0->chromadb==0.4.15) (2023.7.22)\n",
            "Requirement already satisfied: six>=1.9.0 in /usr/local/lib/python3.10/dist-packages (from kubernetes>=28.1.0->chromadb==0.4.15) (1.16.0)\n",
            "Requirement already satisfied: python-dateutil>=2.5.3 in /usr/local/lib/python3.10/dist-packages (from kubernetes>=28.1.0->chromadb==0.4.15) (2.8.2)\n",
            "Requirement already satisfied: pyyaml>=5.4.1 in /usr/local/lib/python3.10/dist-packages (from kubernetes>=28.1.0->chromadb==0.4.15) (6.0.1)\n",
            "Requirement already satisfied: google-auth>=1.0.1 in /usr/local/lib/python3.10/dist-packages (from kubernetes>=28.1.0->chromadb==0.4.15) (2.17.3)\n",
            "Requirement already satisfied: websocket-client!=0.40.0,!=0.41.*,!=0.42.*,>=0.32.0 in /usr/local/lib/python3.10/dist-packages (from kubernetes>=28.1.0->chromadb==0.4.15) (1.6.4)\n",
            "Requirement already satisfied: requests-oauthlib in /usr/local/lib/python3.10/dist-packages (from kubernetes>=28.1.0->chromadb==0.4.15) (1.3.1)\n",
            "Requirement already satisfied: oauthlib>=3.2.2 in /usr/local/lib/python3.10/dist-packages (from kubernetes>=28.1.0->chromadb==0.4.15) (3.2.2)\n",
            "Requirement already satisfied: urllib3<2.0,>=1.24.2 in /usr/local/lib/python3.10/dist-packages (from kubernetes>=28.1.0->chromadb==0.4.15) (1.26.18)\n",
            "Requirement already satisfied: coloredlogs in /usr/local/lib/python3.10/dist-packages (from onnxruntime>=1.14.1->chromadb==0.4.15) (15.0.1)\n",
            "Requirement already satisfied: flatbuffers in /usr/local/lib/python3.10/dist-packages (from onnxruntime>=1.14.1->chromadb==0.4.15) (23.5.26)\n",
            "Requirement already satisfied: packaging in /usr/local/lib/python3.10/dist-packages (from onnxruntime>=1.14.1->chromadb==0.4.15) (23.2)\n",
            "Requirement already satisfied: protobuf in /usr/local/lib/python3.10/dist-packages (from onnxruntime>=1.14.1->chromadb==0.4.15) (3.20.3)\n",
            "Requirement already satisfied: sympy in /usr/local/lib/python3.10/dist-packages (from onnxruntime>=1.14.1->chromadb==0.4.15) (1.12)\n",
            "Requirement already satisfied: deprecated>=1.2.6 in /usr/local/lib/python3.10/dist-packages (from opentelemetry-api>=1.2.0->chromadb==0.4.15) (1.2.14)\n",
            "Requirement already satisfied: importlib-metadata<7.0,>=6.0 in /usr/local/lib/python3.10/dist-packages (from opentelemetry-api>=1.2.0->chromadb==0.4.15) (6.8.0)\n",
            "Requirement already satisfied: backoff<3.0.0,>=1.10.0 in /usr/local/lib/python3.10/dist-packages (from opentelemetry-exporter-otlp-proto-grpc>=1.2.0->chromadb==0.4.15) (2.2.1)\n",
            "Requirement already satisfied: googleapis-common-protos~=1.52 in /usr/local/lib/python3.10/dist-packages (from opentelemetry-exporter-otlp-proto-grpc>=1.2.0->chromadb==0.4.15) (1.61.0)\n",
            "Requirement already satisfied: opentelemetry-exporter-otlp-proto-common==1.20.0 in /usr/local/lib/python3.10/dist-packages (from opentelemetry-exporter-otlp-proto-grpc>=1.2.0->chromadb==0.4.15) (1.20.0)\n",
            "Requirement already satisfied: opentelemetry-proto==1.20.0 in /usr/local/lib/python3.10/dist-packages (from opentelemetry-exporter-otlp-proto-grpc>=1.2.0->chromadb==0.4.15) (1.20.0)\n",
            "Requirement already satisfied: opentelemetry-semantic-conventions==0.41b0 in /usr/local/lib/python3.10/dist-packages (from opentelemetry-sdk>=1.2.0->chromadb==0.4.15) (0.41b0)\n",
            "Requirement already satisfied: monotonic>=1.5 in /usr/local/lib/python3.10/dist-packages (from posthog>=2.4.0->chromadb==0.4.15) (1.6)\n",
            "Requirement already satisfied: charset-normalizer<4,>=2 in /usr/local/lib/python3.10/dist-packages (from requests>=2.28->chromadb==0.4.15) (3.3.1)\n",
            "Requirement already satisfied: idna<4,>=2.5 in /usr/local/lib/python3.10/dist-packages (from requests>=2.28->chromadb==0.4.15) (3.4)\n",
            "Requirement already satisfied: click<9.0.0,>=7.1.1 in /usr/local/lib/python3.10/dist-packages (from typer>=0.9.0->chromadb==0.4.15) (8.1.7)\n",
            "Requirement already satisfied: h11>=0.8 in /usr/local/lib/python3.10/dist-packages (from uvicorn[standard]>=0.18.3->chromadb==0.4.15) (0.14.0)\n",
            "Requirement already satisfied: httptools>=0.5.0 in /usr/local/lib/python3.10/dist-packages (from uvicorn[standard]>=0.18.3->chromadb==0.4.15) (0.6.1)\n",
            "Requirement already satisfied: python-dotenv>=0.13 in /usr/local/lib/python3.10/dist-packages (from uvicorn[standard]>=0.18.3->chromadb==0.4.15) (1.0.0)\n",
            "Requirement already satisfied: uvloop!=0.15.0,!=0.15.1,>=0.14.0 in /usr/local/lib/python3.10/dist-packages (from uvicorn[standard]>=0.18.3->chromadb==0.4.15) (0.19.0)\n",
            "Requirement already satisfied: watchfiles>=0.13 in /usr/local/lib/python3.10/dist-packages (from uvicorn[standard]>=0.18.3->chromadb==0.4.15) (0.21.0)\n",
            "Requirement already satisfied: websockets>=10.4 in /usr/local/lib/python3.10/dist-packages (from uvicorn[standard]>=0.18.3->chromadb==0.4.15) (12.0)\n",
            "Requirement already satisfied: sniffio>=1.1 in /usr/local/lib/python3.10/dist-packages (from anyio<4.0.0,>=3.7.1->fastapi>=0.95.2->chromadb==0.4.15) (1.3.0)\n",
            "Requirement already satisfied: exceptiongroup in /usr/local/lib/python3.10/dist-packages (from anyio<4.0.0,>=3.7.1->fastapi>=0.95.2->chromadb==0.4.15) (1.1.3)\n",
            "Requirement already satisfied: wrapt<2,>=1.10 in /usr/local/lib/python3.10/dist-packages (from deprecated>=1.2.6->opentelemetry-api>=1.2.0->chromadb==0.4.15) (1.14.1)\n",
            "Requirement already satisfied: cachetools<6.0,>=2.0.0 in /usr/local/lib/python3.10/dist-packages (from google-auth>=1.0.1->kubernetes>=28.1.0->chromadb==0.4.15) (5.3.2)\n",
            "Requirement already satisfied: pyasn1-modules>=0.2.1 in /usr/local/lib/python3.10/dist-packages (from google-auth>=1.0.1->kubernetes>=28.1.0->chromadb==0.4.15) (0.3.0)\n",
            "Requirement already satisfied: rsa<5,>=3.1.4 in /usr/local/lib/python3.10/dist-packages (from google-auth>=1.0.1->kubernetes>=28.1.0->chromadb==0.4.15) (4.9)\n",
            "Requirement already satisfied: zipp>=0.5 in /usr/local/lib/python3.10/dist-packages (from importlib-metadata<7.0,>=6.0->opentelemetry-api>=1.2.0->chromadb==0.4.15) (3.17.0)\n",
            "Requirement already satisfied: humanfriendly>=9.1 in /usr/local/lib/python3.10/dist-packages (from coloredlogs->onnxruntime>=1.14.1->chromadb==0.4.15) (10.0)\n",
            "Requirement already satisfied: mpmath>=0.19 in /usr/local/lib/python3.10/dist-packages (from sympy->onnxruntime>=1.14.1->chromadb==0.4.15) (1.3.0)\n",
            "Requirement already satisfied: pyasn1<0.6.0,>=0.4.6 in /usr/local/lib/python3.10/dist-packages (from pyasn1-modules>=0.2.1->google-auth>=1.0.1->kubernetes>=28.1.0->chromadb==0.4.15) (0.5.0)\n"
          ]
        }
      ]
    },
    {
      "cell_type": "markdown",
      "source": [
        "Biblioteca para realizar a divisão por token."
      ],
      "metadata": {
        "id": "YIz5_pcBneGu"
      }
    },
    {
      "cell_type": "code",
      "source": [
        "!pip install tiktoken==0.5.1"
      ],
      "metadata": {
        "colab": {
          "base_uri": "https://localhost:8080/"
        },
        "id": "WO0tpmblneRf",
        "outputId": "db3ad7d5-1718-4f4d-ef4d-9234fa9e3618"
      },
      "execution_count": null,
      "outputs": [
        {
          "output_type": "stream",
          "name": "stdout",
          "text": [
            "Requirement already satisfied: tiktoken==0.5.1 in /usr/local/lib/python3.10/dist-packages (0.5.1)\n",
            "Requirement already satisfied: regex>=2022.1.18 in /usr/local/lib/python3.10/dist-packages (from tiktoken==0.5.1) (2023.6.3)\n",
            "Requirement already satisfied: requests>=2.26.0 in /usr/local/lib/python3.10/dist-packages (from tiktoken==0.5.1) (2.31.0)\n",
            "Requirement already satisfied: charset-normalizer<4,>=2 in /usr/local/lib/python3.10/dist-packages (from requests>=2.26.0->tiktoken==0.5.1) (3.3.1)\n",
            "Requirement already satisfied: idna<4,>=2.5 in /usr/local/lib/python3.10/dist-packages (from requests>=2.26.0->tiktoken==0.5.1) (3.4)\n",
            "Requirement already satisfied: urllib3<3,>=1.21.1 in /usr/local/lib/python3.10/dist-packages (from requests>=2.26.0->tiktoken==0.5.1) (1.26.18)\n",
            "Requirement already satisfied: certifi>=2017.4.17 in /usr/local/lib/python3.10/dist-packages (from requests>=2.26.0->tiktoken==0.5.1) (2023.7.22)\n"
          ]
        }
      ]
    },
    {
      "cell_type": "markdown",
      "source": [
        "Bibioteca LangChain é um framework de código aberto para o desenvolvimento de aplicações usando modelos de linguagem grandes.\n",
        "\n",
        "https://pypi.org/project/langchain/"
      ],
      "metadata": {
        "id": "PGrlTKgSLdNj"
      }
    },
    {
      "cell_type": "code",
      "source": [
        "!pip install langchain==0.0.323"
      ],
      "metadata": {
        "colab": {
          "base_uri": "https://localhost:8080/"
        },
        "id": "ppVeArJcLdVb",
        "outputId": "8acb9581-ebec-44ae-911b-615c674bafb9"
      },
      "execution_count": null,
      "outputs": [
        {
          "output_type": "stream",
          "name": "stdout",
          "text": [
            "Requirement already satisfied: langchain==0.0.323 in /usr/local/lib/python3.10/dist-packages (0.0.323)\n",
            "Requirement already satisfied: PyYAML>=5.3 in /usr/local/lib/python3.10/dist-packages (from langchain==0.0.323) (6.0.1)\n",
            "Requirement already satisfied: SQLAlchemy<3,>=1.4 in /usr/local/lib/python3.10/dist-packages (from langchain==0.0.323) (2.0.22)\n",
            "Requirement already satisfied: aiohttp<4.0.0,>=3.8.3 in /usr/local/lib/python3.10/dist-packages (from langchain==0.0.323) (3.8.6)\n",
            "Requirement already satisfied: anyio<4.0 in /usr/local/lib/python3.10/dist-packages (from langchain==0.0.323) (3.7.1)\n",
            "Requirement already satisfied: async-timeout<5.0.0,>=4.0.0 in /usr/local/lib/python3.10/dist-packages (from langchain==0.0.323) (4.0.3)\n",
            "Requirement already satisfied: dataclasses-json<0.7,>=0.5.7 in /usr/local/lib/python3.10/dist-packages (from langchain==0.0.323) (0.6.1)\n",
            "Requirement already satisfied: jsonpatch<2.0,>=1.33 in /usr/local/lib/python3.10/dist-packages (from langchain==0.0.323) (1.33)\n",
            "Requirement already satisfied: langsmith<0.1.0,>=0.0.43 in /usr/local/lib/python3.10/dist-packages (from langchain==0.0.323) (0.0.53)\n",
            "Requirement already satisfied: numpy<2,>=1 in /usr/local/lib/python3.10/dist-packages (from langchain==0.0.323) (1.23.5)\n",
            "Requirement already satisfied: pydantic<3,>=1 in /usr/local/lib/python3.10/dist-packages (from langchain==0.0.323) (1.10.13)\n",
            "Requirement already satisfied: requests<3,>=2 in /usr/local/lib/python3.10/dist-packages (from langchain==0.0.323) (2.31.0)\n",
            "Requirement already satisfied: tenacity<9.0.0,>=8.1.0 in /usr/local/lib/python3.10/dist-packages (from langchain==0.0.323) (8.2.3)\n",
            "Requirement already satisfied: attrs>=17.3.0 in /usr/local/lib/python3.10/dist-packages (from aiohttp<4.0.0,>=3.8.3->langchain==0.0.323) (23.1.0)\n",
            "Requirement already satisfied: charset-normalizer<4.0,>=2.0 in /usr/local/lib/python3.10/dist-packages (from aiohttp<4.0.0,>=3.8.3->langchain==0.0.323) (3.3.1)\n",
            "Requirement already satisfied: multidict<7.0,>=4.5 in /usr/local/lib/python3.10/dist-packages (from aiohttp<4.0.0,>=3.8.3->langchain==0.0.323) (6.0.4)\n",
            "Requirement already satisfied: yarl<2.0,>=1.0 in /usr/local/lib/python3.10/dist-packages (from aiohttp<4.0.0,>=3.8.3->langchain==0.0.323) (1.9.2)\n",
            "Requirement already satisfied: frozenlist>=1.1.1 in /usr/local/lib/python3.10/dist-packages (from aiohttp<4.0.0,>=3.8.3->langchain==0.0.323) (1.4.0)\n",
            "Requirement already satisfied: aiosignal>=1.1.2 in /usr/local/lib/python3.10/dist-packages (from aiohttp<4.0.0,>=3.8.3->langchain==0.0.323) (1.3.1)\n",
            "Requirement already satisfied: idna>=2.8 in /usr/local/lib/python3.10/dist-packages (from anyio<4.0->langchain==0.0.323) (3.4)\n",
            "Requirement already satisfied: sniffio>=1.1 in /usr/local/lib/python3.10/dist-packages (from anyio<4.0->langchain==0.0.323) (1.3.0)\n",
            "Requirement already satisfied: exceptiongroup in /usr/local/lib/python3.10/dist-packages (from anyio<4.0->langchain==0.0.323) (1.1.3)\n",
            "Requirement already satisfied: marshmallow<4.0.0,>=3.18.0 in /usr/local/lib/python3.10/dist-packages (from dataclasses-json<0.7,>=0.5.7->langchain==0.0.323) (3.20.1)\n",
            "Requirement already satisfied: typing-inspect<1,>=0.4.0 in /usr/local/lib/python3.10/dist-packages (from dataclasses-json<0.7,>=0.5.7->langchain==0.0.323) (0.9.0)\n",
            "Requirement already satisfied: jsonpointer>=1.9 in /usr/local/lib/python3.10/dist-packages (from jsonpatch<2.0,>=1.33->langchain==0.0.323) (2.4)\n",
            "Requirement already satisfied: typing-extensions>=4.2.0 in /usr/local/lib/python3.10/dist-packages (from pydantic<3,>=1->langchain==0.0.323) (4.8.0)\n",
            "Requirement already satisfied: urllib3<3,>=1.21.1 in /usr/local/lib/python3.10/dist-packages (from requests<3,>=2->langchain==0.0.323) (1.26.18)\n",
            "Requirement already satisfied: certifi>=2017.4.17 in /usr/local/lib/python3.10/dist-packages (from requests<3,>=2->langchain==0.0.323) (2023.7.22)\n",
            "Requirement already satisfied: greenlet!=0.4.17 in /usr/local/lib/python3.10/dist-packages (from SQLAlchemy<3,>=1.4->langchain==0.0.323) (3.0.0)\n",
            "Requirement already satisfied: packaging>=17.0 in /usr/local/lib/python3.10/dist-packages (from marshmallow<4.0.0,>=3.18.0->dataclasses-json<0.7,>=0.5.7->langchain==0.0.323) (23.2)\n",
            "Requirement already satisfied: mypy-extensions>=0.3.0 in /usr/local/lib/python3.10/dist-packages (from typing-inspect<1,>=0.4.0->dataclasses-json<0.7,>=0.5.7->langchain==0.0.323) (1.0.0)\n"
          ]
        }
      ]
    },
    {
      "cell_type": "markdown",
      "source": [
        "Dependências do xformers\n",
        "\n",
        "https://pypi.org/project/lmdb/"
      ],
      "metadata": {
        "id": "upho_jty-L2R"
      }
    },
    {
      "cell_type": "code",
      "source": [
        "!pip install lmdb==1.4.1\n",
        "!pip install torch==2.0.1+cu118 torchvision==0.15.2+cu118 torchaudio==2.0.2 torchtext==0.15.2+cpu torchdata==0.6.1 --index-url https://download.pytorch.org/whl/cu118"
      ],
      "metadata": {
        "id": "VgO9dhZX66Va",
        "colab": {
          "base_uri": "https://localhost:8080/"
        },
        "outputId": "b83d3385-98f4-411b-f230-db93e59c3363"
      },
      "execution_count": null,
      "outputs": [
        {
          "output_type": "stream",
          "name": "stdout",
          "text": [
            "Requirement already satisfied: lmdb==1.4.1 in /usr/local/lib/python3.10/dist-packages (1.4.1)\n",
            "Looking in indexes: https://download.pytorch.org/whl/cu118\n",
            "Collecting torch==2.0.1+cu118\n",
            "  Using cached https://download.pytorch.org/whl/cu118/torch-2.0.1%2Bcu118-cp310-cp310-linux_x86_64.whl (2267.3 MB)\n",
            "Requirement already satisfied: torchvision==0.15.2+cu118 in /usr/local/lib/python3.10/dist-packages (0.15.2+cu118)\n",
            "Requirement already satisfied: torchaudio==2.0.2 in /usr/local/lib/python3.10/dist-packages (2.0.2+cu118)\n",
            "Requirement already satisfied: torchtext==0.15.2+cpu in /usr/local/lib/python3.10/dist-packages (0.15.2+cpu)\n",
            "Requirement already satisfied: torchdata==0.6.1 in /usr/local/lib/python3.10/dist-packages (0.6.1)\n",
            "Requirement already satisfied: filelock in /usr/local/lib/python3.10/dist-packages (from torch==2.0.1+cu118) (3.12.4)\n",
            "Requirement already satisfied: typing-extensions in /usr/local/lib/python3.10/dist-packages (from torch==2.0.1+cu118) (4.8.0)\n",
            "Requirement already satisfied: sympy in /usr/local/lib/python3.10/dist-packages (from torch==2.0.1+cu118) (1.12)\n",
            "Requirement already satisfied: networkx in /usr/local/lib/python3.10/dist-packages (from torch==2.0.1+cu118) (3.2)\n",
            "Requirement already satisfied: jinja2 in /usr/local/lib/python3.10/dist-packages (from torch==2.0.1+cu118) (3.1.2)\n",
            "Requirement already satisfied: triton==2.0.0 in /usr/local/lib/python3.10/dist-packages (from torch==2.0.1+cu118) (2.0.0)\n",
            "Requirement already satisfied: numpy in /usr/local/lib/python3.10/dist-packages (from torchvision==0.15.2+cu118) (1.23.5)\n",
            "Requirement already satisfied: requests in /usr/local/lib/python3.10/dist-packages (from torchvision==0.15.2+cu118) (2.31.0)\n",
            "Requirement already satisfied: pillow!=8.3.*,>=5.3.0 in /usr/local/lib/python3.10/dist-packages (from torchvision==0.15.2+cu118) (9.4.0)\n",
            "Requirement already satisfied: tqdm in /usr/local/lib/python3.10/dist-packages (from torchtext==0.15.2+cpu) (4.66.1)\n",
            "Requirement already satisfied: urllib3>=1.25 in /usr/local/lib/python3.10/dist-packages (from torchdata==0.6.1) (1.26.18)\n",
            "Requirement already satisfied: cmake in /usr/local/lib/python3.10/dist-packages (from triton==2.0.0->torch==2.0.1+cu118) (3.27.7)\n",
            "Requirement already satisfied: lit in /usr/local/lib/python3.10/dist-packages (from triton==2.0.0->torch==2.0.1+cu118) (15.0.7)\n",
            "Requirement already satisfied: MarkupSafe>=2.0 in /usr/local/lib/python3.10/dist-packages (from jinja2->torch==2.0.1+cu118) (2.1.3)\n",
            "Requirement already satisfied: charset-normalizer<4,>=2 in /usr/local/lib/python3.10/dist-packages (from requests->torchvision==0.15.2+cu118) (3.3.1)\n",
            "Requirement already satisfied: idna<4,>=2.5 in /usr/local/lib/python3.10/dist-packages (from requests->torchvision==0.15.2+cu118) (3.4)\n",
            "Requirement already satisfied: certifi>=2017.4.17 in /usr/local/lib/python3.10/dist-packages (from requests->torchvision==0.15.2+cu118) (2023.7.22)\n",
            "Requirement already satisfied: mpmath>=0.19 in /usr/local/lib/python3.10/dist-packages (from sympy->torch==2.0.1+cu118) (1.3.0)\n",
            "Installing collected packages: torch\n",
            "  Attempting uninstall: torch\n",
            "    Found existing installation: torch 2.0.1\n",
            "    Uninstalling torch-2.0.1:\n",
            "      Successfully uninstalled torch-2.0.1\n",
            "\u001b[31mERROR: pip's dependency resolver does not currently take into account all the packages that are installed. This behaviour is the source of the following dependency conflicts.\n",
            "xformers 0.0.22.post7 requires torch==2.1.0, but you have torch 2.0.1+cu118 which is incompatible.\u001b[0m\u001b[31m\n",
            "\u001b[0mSuccessfully installed torch-2.0.1+cu118\n"
          ]
        }
      ]
    },
    {
      "cell_type": "markdown",
      "source": [
        "Permite maior velocidade e menor consumo de memória nos transformers.\n",
        "\n",
        "https://pypi.org/project/xformers/"
      ],
      "metadata": {
        "id": "bDqzuP1kqPZh"
      }
    },
    {
      "cell_type": "code",
      "source": [
        "!pip install xformers==0.0.22.post7"
      ],
      "metadata": {
        "id": "Evr5Vtp0qWE0",
        "colab": {
          "base_uri": "https://localhost:8080/"
        },
        "outputId": "c78f3272-fa33-49a9-a4ec-0ce8c4cea11d"
      },
      "execution_count": null,
      "outputs": [
        {
          "output_type": "stream",
          "name": "stdout",
          "text": [
            "Requirement already satisfied: xformers==0.0.22.post7 in /usr/local/lib/python3.10/dist-packages (0.0.22.post7)\n",
            "Requirement already satisfied: numpy in /usr/local/lib/python3.10/dist-packages (from xformers==0.0.22.post7) (1.23.5)\n",
            "Collecting torch==2.1.0 (from xformers==0.0.22.post7)\n",
            "  Using cached torch-2.1.0-cp310-cp310-manylinux1_x86_64.whl (670.2 MB)\n",
            "Requirement already satisfied: filelock in /usr/local/lib/python3.10/dist-packages (from torch==2.1.0->xformers==0.0.22.post7) (3.12.4)\n",
            "Requirement already satisfied: typing-extensions in /usr/local/lib/python3.10/dist-packages (from torch==2.1.0->xformers==0.0.22.post7) (4.8.0)\n",
            "Requirement already satisfied: sympy in /usr/local/lib/python3.10/dist-packages (from torch==2.1.0->xformers==0.0.22.post7) (1.12)\n",
            "Requirement already satisfied: networkx in /usr/local/lib/python3.10/dist-packages (from torch==2.1.0->xformers==0.0.22.post7) (3.2)\n",
            "Requirement already satisfied: jinja2 in /usr/local/lib/python3.10/dist-packages (from torch==2.1.0->xformers==0.0.22.post7) (3.1.2)\n",
            "Requirement already satisfied: fsspec in /usr/local/lib/python3.10/dist-packages (from torch==2.1.0->xformers==0.0.22.post7) (2023.6.0)\n",
            "Requirement already satisfied: nvidia-cuda-nvrtc-cu12==12.1.105 in /usr/local/lib/python3.10/dist-packages (from torch==2.1.0->xformers==0.0.22.post7) (12.1.105)\n",
            "Requirement already satisfied: nvidia-cuda-runtime-cu12==12.1.105 in /usr/local/lib/python3.10/dist-packages (from torch==2.1.0->xformers==0.0.22.post7) (12.1.105)\n",
            "Requirement already satisfied: nvidia-cuda-cupti-cu12==12.1.105 in /usr/local/lib/python3.10/dist-packages (from torch==2.1.0->xformers==0.0.22.post7) (12.1.105)\n",
            "Requirement already satisfied: nvidia-cudnn-cu12==8.9.2.26 in /usr/local/lib/python3.10/dist-packages (from torch==2.1.0->xformers==0.0.22.post7) (8.9.2.26)\n",
            "Requirement already satisfied: nvidia-cublas-cu12==12.1.3.1 in /usr/local/lib/python3.10/dist-packages (from torch==2.1.0->xformers==0.0.22.post7) (12.1.3.1)\n",
            "Requirement already satisfied: nvidia-cufft-cu12==11.0.2.54 in /usr/local/lib/python3.10/dist-packages (from torch==2.1.0->xformers==0.0.22.post7) (11.0.2.54)\n",
            "Requirement already satisfied: nvidia-curand-cu12==10.3.2.106 in /usr/local/lib/python3.10/dist-packages (from torch==2.1.0->xformers==0.0.22.post7) (10.3.2.106)\n",
            "Requirement already satisfied: nvidia-cusolver-cu12==11.4.5.107 in /usr/local/lib/python3.10/dist-packages (from torch==2.1.0->xformers==0.0.22.post7) (11.4.5.107)\n",
            "Requirement already satisfied: nvidia-cusparse-cu12==12.1.0.106 in /usr/local/lib/python3.10/dist-packages (from torch==2.1.0->xformers==0.0.22.post7) (12.1.0.106)\n",
            "Requirement already satisfied: nvidia-nccl-cu12==2.18.1 in /usr/local/lib/python3.10/dist-packages (from torch==2.1.0->xformers==0.0.22.post7) (2.18.1)\n",
            "Requirement already satisfied: nvidia-nvtx-cu12==12.1.105 in /usr/local/lib/python3.10/dist-packages (from torch==2.1.0->xformers==0.0.22.post7) (12.1.105)\n",
            "Collecting triton==2.1.0 (from torch==2.1.0->xformers==0.0.22.post7)\n",
            "  Using cached triton-2.1.0-0-cp310-cp310-manylinux2014_x86_64.manylinux_2_17_x86_64.whl (89.2 MB)\n",
            "Requirement already satisfied: nvidia-nvjitlink-cu12 in /usr/local/lib/python3.10/dist-packages (from nvidia-cusolver-cu12==11.4.5.107->torch==2.1.0->xformers==0.0.22.post7) (12.3.52)\n",
            "Requirement already satisfied: MarkupSafe>=2.0 in /usr/local/lib/python3.10/dist-packages (from jinja2->torch==2.1.0->xformers==0.0.22.post7) (2.1.3)\n",
            "Requirement already satisfied: mpmath>=0.19 in /usr/local/lib/python3.10/dist-packages (from sympy->torch==2.1.0->xformers==0.0.22.post7) (1.3.0)\n",
            "Installing collected packages: triton, torch\n",
            "  Attempting uninstall: triton\n",
            "    Found existing installation: triton 2.0.0\n",
            "    Uninstalling triton-2.0.0:\n",
            "      Successfully uninstalled triton-2.0.0\n",
            "  Attempting uninstall: torch\n",
            "    Found existing installation: torch 2.0.1+cu118\n",
            "    Uninstalling torch-2.0.1+cu118:\n",
            "      Successfully uninstalled torch-2.0.1+cu118\n",
            "\u001b[31mERROR: pip's dependency resolver does not currently take into account all the packages that are installed. This behaviour is the source of the following dependency conflicts.\n",
            "torchaudio 2.0.2+cu118 requires torch==2.0.1, but you have torch 2.1.0 which is incompatible.\n",
            "torchdata 0.6.1 requires torch==2.0.1, but you have torch 2.1.0 which is incompatible.\n",
            "torchtext 0.15.2+cpu requires torch==2.0.1, but you have torch 2.1.0 which is incompatible.\n",
            "torchvision 0.15.2+cu118 requires torch==2.0.1, but you have torch 2.1.0 which is incompatible.\u001b[0m\u001b[31m\n",
            "\u001b[0mSuccessfully installed torch-2.1.0 triton-2.1.0\n"
          ]
        }
      ]
    },
    {
      "cell_type": "markdown",
      "metadata": {
        "id": "zp0jVfo3QM3h"
      },
      "source": [
        "O bitsandbytes é um wrapper leve em torno de funções personalizadas CUDA, em particular otimizadores de 8 bits, multiplicação de matrizes (LLM.int8()) e funções de quantização. É uma dependência do accelerate.\n",
        "\n",
        "https://huggingface.co/blog/4bit-transformers-bitsandbytes\n",
        "\n",
        "https://pypi.org/project/bitsandbytes/"
      ]
    },
    {
      "cell_type": "code",
      "execution_count": null,
      "metadata": {
        "colab": {
          "base_uri": "https://localhost:8080/"
        },
        "id": "12GE2W3fQM_n",
        "outputId": "d1aab68a-afa3-4db9-ff88-d9c432791f08"
      },
      "outputs": [
        {
          "output_type": "stream",
          "name": "stdout",
          "text": [
            "Requirement already satisfied: bitsandbytes==0.41.1 in /usr/local/lib/python3.10/dist-packages (0.41.1)\n"
          ]
        }
      ],
      "source": [
        "!pip install bitsandbytes==0.41.1"
      ]
    },
    {
      "cell_type": "markdown",
      "metadata": {
        "id": "N7wU6vuyAuPd"
      },
      "source": [
        "Accelerate é uma biblioteca que permite que o mesmo código PyTorch seja executado em qualquer configuração distribuída adicionando apenas quatro linhas de código. Otimiza as operações do PyTorch, especialmente na GPU.\n",
        "\n",
        "https://pypi.org/project/accelerate/"
      ]
    },
    {
      "cell_type": "code",
      "execution_count": null,
      "metadata": {
        "colab": {
          "base_uri": "https://localhost:8080/"
        },
        "id": "qTMID1rZAvx7",
        "outputId": "056fa53b-13e9-436c-c608-86808dc62083"
      },
      "outputs": [
        {
          "output_type": "stream",
          "name": "stdout",
          "text": [
            "Requirement already satisfied: accelerate==0.24.0 in /usr/local/lib/python3.10/dist-packages (0.24.0)\n",
            "Requirement already satisfied: numpy>=1.17 in /usr/local/lib/python3.10/dist-packages (from accelerate==0.24.0) (1.23.5)\n",
            "Requirement already satisfied: packaging>=20.0 in /usr/local/lib/python3.10/dist-packages (from accelerate==0.24.0) (23.2)\n",
            "Requirement already satisfied: psutil in /usr/local/lib/python3.10/dist-packages (from accelerate==0.24.0) (5.9.5)\n",
            "Requirement already satisfied: pyyaml in /usr/local/lib/python3.10/dist-packages (from accelerate==0.24.0) (6.0.1)\n",
            "Requirement already satisfied: torch>=1.10.0 in /usr/local/lib/python3.10/dist-packages (from accelerate==0.24.0) (2.1.0)\n",
            "Requirement already satisfied: huggingface-hub in /usr/local/lib/python3.10/dist-packages (from accelerate==0.24.0) (0.18.0)\n",
            "Requirement already satisfied: filelock in /usr/local/lib/python3.10/dist-packages (from torch>=1.10.0->accelerate==0.24.0) (3.12.4)\n",
            "Requirement already satisfied: typing-extensions in /usr/local/lib/python3.10/dist-packages (from torch>=1.10.0->accelerate==0.24.0) (4.8.0)\n",
            "Requirement already satisfied: sympy in /usr/local/lib/python3.10/dist-packages (from torch>=1.10.0->accelerate==0.24.0) (1.12)\n",
            "Requirement already satisfied: networkx in /usr/local/lib/python3.10/dist-packages (from torch>=1.10.0->accelerate==0.24.0) (3.2)\n",
            "Requirement already satisfied: jinja2 in /usr/local/lib/python3.10/dist-packages (from torch>=1.10.0->accelerate==0.24.0) (3.1.2)\n",
            "Requirement already satisfied: fsspec in /usr/local/lib/python3.10/dist-packages (from torch>=1.10.0->accelerate==0.24.0) (2023.6.0)\n",
            "Requirement already satisfied: nvidia-cuda-nvrtc-cu12==12.1.105 in /usr/local/lib/python3.10/dist-packages (from torch>=1.10.0->accelerate==0.24.0) (12.1.105)\n",
            "Requirement already satisfied: nvidia-cuda-runtime-cu12==12.1.105 in /usr/local/lib/python3.10/dist-packages (from torch>=1.10.0->accelerate==0.24.0) (12.1.105)\n",
            "Requirement already satisfied: nvidia-cuda-cupti-cu12==12.1.105 in /usr/local/lib/python3.10/dist-packages (from torch>=1.10.0->accelerate==0.24.0) (12.1.105)\n",
            "Requirement already satisfied: nvidia-cudnn-cu12==8.9.2.26 in /usr/local/lib/python3.10/dist-packages (from torch>=1.10.0->accelerate==0.24.0) (8.9.2.26)\n",
            "Requirement already satisfied: nvidia-cublas-cu12==12.1.3.1 in /usr/local/lib/python3.10/dist-packages (from torch>=1.10.0->accelerate==0.24.0) (12.1.3.1)\n",
            "Requirement already satisfied: nvidia-cufft-cu12==11.0.2.54 in /usr/local/lib/python3.10/dist-packages (from torch>=1.10.0->accelerate==0.24.0) (11.0.2.54)\n",
            "Requirement already satisfied: nvidia-curand-cu12==10.3.2.106 in /usr/local/lib/python3.10/dist-packages (from torch>=1.10.0->accelerate==0.24.0) (10.3.2.106)\n",
            "Requirement already satisfied: nvidia-cusolver-cu12==11.4.5.107 in /usr/local/lib/python3.10/dist-packages (from torch>=1.10.0->accelerate==0.24.0) (11.4.5.107)\n",
            "Requirement already satisfied: nvidia-cusparse-cu12==12.1.0.106 in /usr/local/lib/python3.10/dist-packages (from torch>=1.10.0->accelerate==0.24.0) (12.1.0.106)\n",
            "Requirement already satisfied: nvidia-nccl-cu12==2.18.1 in /usr/local/lib/python3.10/dist-packages (from torch>=1.10.0->accelerate==0.24.0) (2.18.1)\n",
            "Requirement already satisfied: nvidia-nvtx-cu12==12.1.105 in /usr/local/lib/python3.10/dist-packages (from torch>=1.10.0->accelerate==0.24.0) (12.1.105)\n",
            "Requirement already satisfied: triton==2.1.0 in /usr/local/lib/python3.10/dist-packages (from torch>=1.10.0->accelerate==0.24.0) (2.1.0)\n",
            "Requirement already satisfied: nvidia-nvjitlink-cu12 in /usr/local/lib/python3.10/dist-packages (from nvidia-cusolver-cu12==11.4.5.107->torch>=1.10.0->accelerate==0.24.0) (12.3.52)\n",
            "Requirement already satisfied: requests in /usr/local/lib/python3.10/dist-packages (from huggingface-hub->accelerate==0.24.0) (2.31.0)\n",
            "Requirement already satisfied: tqdm>=4.42.1 in /usr/local/lib/python3.10/dist-packages (from huggingface-hub->accelerate==0.24.0) (4.66.1)\n",
            "Requirement already satisfied: MarkupSafe>=2.0 in /usr/local/lib/python3.10/dist-packages (from jinja2->torch>=1.10.0->accelerate==0.24.0) (2.1.3)\n",
            "Requirement already satisfied: charset-normalizer<4,>=2 in /usr/local/lib/python3.10/dist-packages (from requests->huggingface-hub->accelerate==0.24.0) (3.3.1)\n",
            "Requirement already satisfied: idna<4,>=2.5 in /usr/local/lib/python3.10/dist-packages (from requests->huggingface-hub->accelerate==0.24.0) (3.4)\n",
            "Requirement already satisfied: urllib3<3,>=1.21.1 in /usr/local/lib/python3.10/dist-packages (from requests->huggingface-hub->accelerate==0.24.0) (1.26.18)\n",
            "Requirement already satisfied: certifi>=2017.4.17 in /usr/local/lib/python3.10/dist-packages (from requests->huggingface-hub->accelerate==0.24.0) (2023.7.22)\n",
            "Requirement already satisfied: mpmath>=0.19 in /usr/local/lib/python3.10/dist-packages (from sympy->torch>=1.10.0->accelerate==0.24.0) (1.3.0)\n"
          ]
        }
      ],
      "source": [
        "!pip install accelerate==0.24.0"
      ]
    },
    {
      "cell_type": "markdown",
      "metadata": {
        "id": "eCdqJCtQN52l"
      },
      "source": [
        "A Biblioteca A Biblioteca Transformers fornece APIs e ferramentas para baixar e treinar facilmente modelos pré-treinados de última geração para Processamento de linguagem natural, Visão computacional, Áudio, etc.\n",
        "\n",
        "Fornece uma maneira direta de usar modelos pré-treinados."
      ]
    },
    {
      "cell_type": "code",
      "execution_count": null,
      "metadata": {
        "colab": {
          "base_uri": "https://localhost:8080/"
        },
        "id": "1RfUN_KolV-f",
        "outputId": "a2cc74c8-50d6-447a-bdc1-4c376e86bc5a"
      },
      "outputs": [
        {
          "output_type": "stream",
          "name": "stdout",
          "text": [
            "Requirement already satisfied: transformers==4.31.0 in /usr/local/lib/python3.10/dist-packages (4.31.0)\n",
            "Requirement already satisfied: filelock in /usr/local/lib/python3.10/dist-packages (from transformers==4.31.0) (3.12.4)\n",
            "Requirement already satisfied: huggingface-hub<1.0,>=0.14.1 in /usr/local/lib/python3.10/dist-packages (from transformers==4.31.0) (0.18.0)\n",
            "Requirement already satisfied: numpy>=1.17 in /usr/local/lib/python3.10/dist-packages (from transformers==4.31.0) (1.23.5)\n",
            "Requirement already satisfied: packaging>=20.0 in /usr/local/lib/python3.10/dist-packages (from transformers==4.31.0) (23.2)\n",
            "Requirement already satisfied: pyyaml>=5.1 in /usr/local/lib/python3.10/dist-packages (from transformers==4.31.0) (6.0.1)\n",
            "Requirement already satisfied: regex!=2019.12.17 in /usr/local/lib/python3.10/dist-packages (from transformers==4.31.0) (2023.6.3)\n",
            "Requirement already satisfied: requests in /usr/local/lib/python3.10/dist-packages (from transformers==4.31.0) (2.31.0)\n",
            "Requirement already satisfied: tokenizers!=0.11.3,<0.14,>=0.11.1 in /usr/local/lib/python3.10/dist-packages (from transformers==4.31.0) (0.13.3)\n",
            "Requirement already satisfied: safetensors>=0.3.1 in /usr/local/lib/python3.10/dist-packages (from transformers==4.31.0) (0.4.0)\n",
            "Requirement already satisfied: tqdm>=4.27 in /usr/local/lib/python3.10/dist-packages (from transformers==4.31.0) (4.66.1)\n",
            "Requirement already satisfied: fsspec>=2023.5.0 in /usr/local/lib/python3.10/dist-packages (from huggingface-hub<1.0,>=0.14.1->transformers==4.31.0) (2023.6.0)\n",
            "Requirement already satisfied: typing-extensions>=3.7.4.3 in /usr/local/lib/python3.10/dist-packages (from huggingface-hub<1.0,>=0.14.1->transformers==4.31.0) (4.8.0)\n",
            "Requirement already satisfied: charset-normalizer<4,>=2 in /usr/local/lib/python3.10/dist-packages (from requests->transformers==4.31.0) (3.3.1)\n",
            "Requirement already satisfied: idna<4,>=2.5 in /usr/local/lib/python3.10/dist-packages (from requests->transformers==4.31.0) (3.4)\n",
            "Requirement already satisfied: urllib3<3,>=1.21.1 in /usr/local/lib/python3.10/dist-packages (from requests->transformers==4.31.0) (1.26.18)\n",
            "Requirement already satisfied: certifi>=2017.4.17 in /usr/local/lib/python3.10/dist-packages (from requests->transformers==4.31.0) (2023.7.22)\n"
          ]
        }
      ],
      "source": [
        "# Instala a última versão da biblioteca\n",
        "# !pip install transformers\n",
        "\n",
        "# A última versão do huggingface apresenta um problema:\n",
        "# UserWarning: `do_sample` is set to `False`. However, `temperature` is set to `0.1`\n",
        "# https://discuss.huggingface.co/t/help-with-llama-2-finetuning-setup/50035\n",
        "# Usar a versão 4.31.0\n",
        "\n",
        "# Instala uma versão específica da biblioteca\n",
        "!pip install -U transformers==4.31.0"
      ]
    },
    {
      "cell_type": "markdown",
      "metadata": {
        "id": "OlrWrRP02tuZ"
      },
      "source": [
        "A Biblioteca huggingface-cli fornece vários comandos para interagir com o Hugging Face Hub a partir da linha de comando. Um desses comandos é o login, que permite aos usuários se autenticarem no Hub usando suas credenciais."
      ]
    },
    {
      "cell_type": "code",
      "execution_count": null,
      "metadata": {
        "colab": {
          "base_uri": "https://localhost:8080/"
        },
        "id": "UQxtD3Zk14ov",
        "outputId": "cfa952bb-f374-4a34-cd1e-989d8c659184"
      },
      "outputs": [
        {
          "output_type": "stream",
          "name": "stdout",
          "text": [
            "Requirement already satisfied: huggingface_hub==0.18.0 in /usr/local/lib/python3.10/dist-packages (0.18.0)\n",
            "Requirement already satisfied: filelock in /usr/local/lib/python3.10/dist-packages (from huggingface_hub==0.18.0) (3.12.4)\n",
            "Requirement already satisfied: fsspec>=2023.5.0 in /usr/local/lib/python3.10/dist-packages (from huggingface_hub==0.18.0) (2023.6.0)\n",
            "Requirement already satisfied: requests in /usr/local/lib/python3.10/dist-packages (from huggingface_hub==0.18.0) (2.31.0)\n",
            "Requirement already satisfied: tqdm>=4.42.1 in /usr/local/lib/python3.10/dist-packages (from huggingface_hub==0.18.0) (4.66.1)\n",
            "Requirement already satisfied: pyyaml>=5.1 in /usr/local/lib/python3.10/dist-packages (from huggingface_hub==0.18.0) (6.0.1)\n",
            "Requirement already satisfied: typing-extensions>=3.7.4.3 in /usr/local/lib/python3.10/dist-packages (from huggingface_hub==0.18.0) (4.8.0)\n",
            "Requirement already satisfied: packaging>=20.9 in /usr/local/lib/python3.10/dist-packages (from huggingface_hub==0.18.0) (23.2)\n",
            "Requirement already satisfied: charset-normalizer<4,>=2 in /usr/local/lib/python3.10/dist-packages (from requests->huggingface_hub==0.18.0) (3.3.1)\n",
            "Requirement already satisfied: idna<4,>=2.5 in /usr/local/lib/python3.10/dist-packages (from requests->huggingface_hub==0.18.0) (3.4)\n",
            "Requirement already satisfied: urllib3<3,>=1.21.1 in /usr/local/lib/python3.10/dist-packages (from requests->huggingface_hub==0.18.0) (1.26.18)\n",
            "Requirement already satisfied: certifi>=2017.4.17 in /usr/local/lib/python3.10/dist-packages (from requests->huggingface_hub==0.18.0) (2023.7.22)\n"
          ]
        }
      ],
      "source": [
        "!pip install huggingface_hub==0.18.0"
      ]
    },
    {
      "cell_type": "markdown",
      "metadata": {
        "id": "Bcpd9t9PpkrX"
      },
      "source": [
        "# 2 - Carregando o LLM\n",
        "\n"
      ]
    },
    {
      "cell_type": "markdown",
      "metadata": {
        "id": "NFRSYoCArrQ-"
      },
      "source": [
        "## 2.1 - Login no huggingface\n",
        "\n",
        "- Lhama 2 não está acessível abertamente e requer solicitação  de acesso. Faça o cadastro no site do https://huggingface.co/join. Depois do login, gere um token de acesso no link https://huggingface.co/settings/tokens.\n",
        "\n",
        "Insira o token quando solicitado e depois digite Y para adicionar as credenciais."
      ]
    },
    {
      "cell_type": "code",
      "execution_count": null,
      "metadata": {
        "id": "0bkqIoNU18UH"
      },
      "outputs": [],
      "source": [
        "# !huggingface-cli login"
      ]
    },
    {
      "cell_type": "markdown",
      "metadata": {
        "id": "ACJuj9wB9kjZ"
      },
      "source": [
        "Se o seu notebook não for público e não desejar incluir o token de acesso toda vez que for executar o notebook preencha o método save_token."
      ]
    },
    {
      "cell_type": "code",
      "execution_count": null,
      "metadata": {
        "id": "lRVr7uqp9Ubk"
      },
      "outputs": [],
      "source": [
        "from huggingface_hub.hf_api import HfFolder\n",
        "\n",
        "ACCESS_TOKEN  = 'COLOQUE O SEU TOKEN DE ACESSO AQUI'\n",
        "\n",
        "HfFolder.save_token(ACCESS_TOKEN)"
      ]
    },
    {
      "cell_type": "markdown",
      "metadata": {
        "id": "LIzrrJLw9oQd"
      },
      "source": [
        "Mostrando o usuário conectado"
      ]
    },
    {
      "cell_type": "code",
      "execution_count": null,
      "metadata": {
        "id": "xLrSstlxR_kq"
      },
      "outputs": [],
      "source": [
        "# !huggingface-cli whoami"
      ]
    },
    {
      "cell_type": "markdown",
      "metadata": {
        "id": "niwUEmYM6kjG"
      },
      "source": [
        "## 2.2 - Nome do LLM"
      ]
    },
    {
      "cell_type": "markdown",
      "metadata": {
        "id": "lBOzL86X6kjM"
      },
      "source": [
        "Define o nome do modelo a ser carregado\n",
        "Lista dos modelos:\n",
        "  - https://huggingface.co/meta-llama/Llama-2-7b-hf\n",
        "  - https://huggingface.co/meta-llama/Llama-2-7b-chat-hf\n",
        "  - https://huggingface.co/meta-llama/Llama-2-13b-hf\n",
        "  - https://huggingface.co/meta-llama/Llama-2-13b-chat-hf\n",
        "  - https://huggingface.co/meta-llama/Llama-2-70b-hf\n",
        "  - https://huggingface.co/meta-llama/Llama-2-70b-chat-hf"
      ]
    },
    {
      "cell_type": "code",
      "execution_count": null,
      "metadata": {
        "id": "-zOnSymM6kjM"
      },
      "outputs": [],
      "source": [
        "# Roda com 4 bits e 8 bits\n",
        "#nome_modelo_llm = \"meta-llama/Llama-2-7b-hf\"\n",
        "# nome_modelo = \"meta-llama/Llama-2-7b-chat-hf\"\n",
        "\n",
        "# Roda com 4 bits\n",
        "#nome_modelo = \"meta-llama/Llama-2-13b-hf\"\n",
        "nome_modelo = \"meta-llama/Llama-2-13b-chat-hf\"\n",
        "\n",
        "# Não roda pois exige GPU A100 e mais espaço em disco\n",
        "#nome_modelo = \"meta-llama/Llama-2-70b-hf\"\n",
        "# nome_modelo = \"meta-llama/Llama-2-70b-chat-hf\""
      ]
    },
    {
      "cell_type": "markdown",
      "metadata": {
        "id": "OzWcQNSORrYC"
      },
      "source": [
        "## 2.3 - Carrega o tokenizador do LLM\n",
        "\n",
        "Carregando o **tokenizador** da comunidade."
      ]
    },
    {
      "cell_type": "code",
      "execution_count": null,
      "metadata": {
        "colab": {
          "base_uri": "https://localhost:8080/"
        },
        "id": "MlSM1VufRw5B",
        "outputId": "cd26e188-a481-41f6-d4b5-ee1b46e0bb39"
      },
      "outputs": [
        {
          "output_type": "stream",
          "name": "stdout",
          "text": [
            "Carregando o tokenizador meta-llama/Llama-2-13b-chat-hf da comunidade...\n"
          ]
        }
      ],
      "source": [
        "# Importando as bibliotecas do Tokenizador\n",
        "from transformers import AutoTokenizer\n",
        "\n",
        "# Carregando o Tokenizador da comunidade\n",
        "print('Carregando o tokenizador ' + nome_modelo + ' da comunidade...')\n",
        "\n",
        "tokenizer = AutoTokenizer.from_pretrained(nome_modelo)"
      ]
    },
    {
      "cell_type": "markdown",
      "metadata": {
        "id": "UhNMEhN9BHuc"
      },
      "source": [
        "## 2.4 - Carregando o Modelo LLM\n",
        "\n",
        "Carregando o **modelo** da comunidade Huggingface.\n",
        "\n",
        "Parametrização do from_pretrained\n",
        "https://huggingface.co/docs/transformers/main/en/main_classes/quantization#offload-between-cpu-and-gpu"
      ]
    },
    {
      "cell_type": "markdown",
      "source": [
        "Carregamento LLama 2 com 4 bits"
      ],
      "metadata": {
        "id": "uctHNAd2xIJ4"
      }
    },
    {
      "cell_type": "code",
      "source": [
        "# Importando as bibliotecas do Modelo\n",
        "from transformers import BitsAndBytesConfig, AutoModelForCausalLM\n",
        "import time\n",
        "import torch\n",
        "\n",
        "# Guarda o tempo de início do carregamento do modelo\n",
        "tempo_inicio = time.time()\n",
        "\n",
        "# Carregando o Modelo da comunidade\n",
        "print('Carregando o modelo ' + nome_modelo + ' da comunidade...')\n",
        "\n",
        "# BitsAndBytes é um framework com funções customizadas para\n",
        "# otimização com precisão 8-bit, multiplicações de matrizes e funções de quantização\n",
        "quantization_config = BitsAndBytesConfig(\n",
        "   load_in_4bit=True, # Habilita a quantização de 4 bits para comprimir o modelo\n",
        "   bnb_4bit_quant_type=\"nf4\", # Define o tipo de dados de quantização nas camadas (`fp4` e `nf4`).\n",
        "   bnb_4bit_use_double_quant=True, # Quantização aninhada, onde as constantes de quantização da primeira quantização são quantizadas novamente.\n",
        "   bnb_4bit_compute_dtype=torch.bfloat16 # # Os gradientes dos pesos são computados em 16-bit. Define o tipo computacional que pode ser diferente do tempo de entrada. Por exemplo, as entradas podem ser fp32, mas a computação pode ser definida como bf16 para acelerações.\n",
        ")\n",
        "\n",
        "# Carrega o modelo\n",
        "model = AutoModelForCausalLM.from_pretrained(nome_modelo,\n",
        "                                             #torch_dtype=torch.float16, #default\n",
        "                                             trust_remote_code=True, # Carrega de um repositório confiável\n",
        "                                             quantization_config=quantization_config,\n",
        "                                             device_map=\"auto\"\n",
        "                                             )\n",
        "\n",
        "# Coloca o modelo e modo avaliação\n",
        "model.eval()\n",
        "\n",
        "print(\"Tempo de carregamento do modelo LLM:  {:} (h:mm:ss)\".format(formataTempo(time.time() - tempo_inicio)))"
      ],
      "metadata": {
        "colab": {
          "base_uri": "https://localhost:8080/",
          "height": 84,
          "referenced_widgets": [
            "fcb65966c6de4b3bbd44788b36858f60",
            "cd6565eb802642b890c2ba095ec8c945",
            "e296462516704e63a9e726a99da6d50e",
            "630501e1e88f4678af7e6602d138b555",
            "5ef22f9f706c4c288d8517afedca3f6a",
            "35818fef0f70498db660ab0a2b28a2d1",
            "38ef3a86d7fc4f87b6d0691bda616458",
            "2a03eb0941874b30a35fa4c128d7b00e",
            "b60eb11570e7441b889c5d8b763deb29",
            "d3e44d30e5064153917664c15cfe9daa",
            "04076074e64e46f295b026706fe5a719"
          ]
        },
        "id": "5Kx5Ed64YlV-",
        "outputId": "6c42fed6-dcdd-4244-c082-4d3b5dea5f6b"
      },
      "execution_count": null,
      "outputs": [
        {
          "output_type": "stream",
          "name": "stdout",
          "text": [
            "Carregando o modelo meta-llama/Llama-2-13b-chat-hf da comunidade...\n"
          ]
        },
        {
          "output_type": "display_data",
          "data": {
            "text/plain": [
              "Loading checkpoint shards:   0%|          | 0/3 [00:00<?, ?it/s]"
            ],
            "application/vnd.jupyter.widget-view+json": {
              "version_major": 2,
              "version_minor": 0,
              "model_id": "fcb65966c6de4b3bbd44788b36858f60"
            }
          },
          "metadata": {}
        },
        {
          "output_type": "stream",
          "name": "stdout",
          "text": [
            "Tempo de carregamento do modelo LLM:  0:02:24 (h:mm:ss)\n"
          ]
        }
      ]
    },
    {
      "cell_type": "markdown",
      "source": [
        "Carregamento LLama 2 com 8 bits"
      ],
      "metadata": {
        "id": "a9NIIeTAxJm5"
      }
    },
    {
      "cell_type": "code",
      "source": [
        "# # Importando as bibliotecas do Modelo\n",
        "# from transformers import AutoModelForCausalLM\n",
        "# import time\n",
        "\n",
        "# # Guarda o tempo de início do carregamento do modelo\n",
        "# tempo_inicio = time.time()\n",
        "\n",
        "# # Carregando o Modelo da comunidade\n",
        "# print('Carregando o modelo ' + nome_modelo + ' da comunidade...')\n",
        "\n",
        "# model = AutoModelForCausalLM.from_pretrained(nome_modelo,\n",
        "#                                              #torch_dtype=torch.float16, #default\n",
        "#                                              trust_remote_code=True,   # Carrega de um repositório confiável\n",
        "#                                              load_in_8bit=True,\n",
        "#                                              device_map=\"auto\"\n",
        "#                                              )\n",
        "\n",
        "# # Coloca o modelo e modo avaliação\n",
        "# model.eval()\n",
        "\n",
        "# print(\"Tempo de carregamento do modelo:  {:} (h:mm:ss)\".format(formataTempo(time.time() - tempo_inicio)))"
      ],
      "metadata": {
        "id": "WTFnuVQ3R0gp"
      },
      "execution_count": null,
      "outputs": []
    },
    {
      "cell_type": "code",
      "execution_count": null,
      "metadata": {
        "id": "ysqp5fuyRWc4",
        "colab": {
          "base_uri": "https://localhost:8080/"
        },
        "outputId": "1acb1911-3928-4181-810d-158f70724870"
      },
      "outputs": [
        {
          "output_type": "stream",
          "name": "stdout",
          "text": [
            "4096\n"
          ]
        }
      ],
      "source": [
        "print(model.config.max_position_embeddings)"
      ]
    },
    {
      "cell_type": "code",
      "source": [
        "print(model)"
      ],
      "metadata": {
        "id": "E11NM4T6pmpP",
        "colab": {
          "base_uri": "https://localhost:8080/"
        },
        "outputId": "41cdb655-3808-4b0f-b629-3754b505659e"
      },
      "execution_count": null,
      "outputs": [
        {
          "output_type": "stream",
          "name": "stdout",
          "text": [
            "LlamaForCausalLM(\n",
            "  (model): LlamaModel(\n",
            "    (embed_tokens): Embedding(32000, 5120, padding_idx=0)\n",
            "    (layers): ModuleList(\n",
            "      (0-39): 40 x LlamaDecoderLayer(\n",
            "        (self_attn): LlamaAttention(\n",
            "          (q_proj): Linear4bit(in_features=5120, out_features=5120, bias=False)\n",
            "          (k_proj): Linear4bit(in_features=5120, out_features=5120, bias=False)\n",
            "          (v_proj): Linear4bit(in_features=5120, out_features=5120, bias=False)\n",
            "          (o_proj): Linear4bit(in_features=5120, out_features=5120, bias=False)\n",
            "          (rotary_emb): LlamaRotaryEmbedding()\n",
            "        )\n",
            "        (mlp): LlamaMLP(\n",
            "          (gate_proj): Linear4bit(in_features=5120, out_features=13824, bias=False)\n",
            "          (up_proj): Linear4bit(in_features=5120, out_features=13824, bias=False)\n",
            "          (down_proj): Linear4bit(in_features=13824, out_features=5120, bias=False)\n",
            "          (act_fn): SiLUActivation()\n",
            "        )\n",
            "        (input_layernorm): LlamaRMSNorm()\n",
            "        (post_attention_layernorm): LlamaRMSNorm()\n",
            "      )\n",
            "    )\n",
            "    (norm): LlamaRMSNorm()\n",
            "  )\n",
            "  (lm_head): Linear(in_features=5120, out_features=32000, bias=False)\n",
            ")\n"
          ]
        }
      ]
    },
    {
      "cell_type": "code",
      "execution_count": null,
      "metadata": {
        "id": "vXgoG2ZvuHFI",
        "colab": {
          "base_uri": "https://localhost:8080/"
        },
        "outputId": "933593dd-d174-4168-9288-a8c569518c9e"
      },
      "outputs": [
        {
          "output_type": "stream",
          "name": "stdout",
          "text": [
            "LlamaConfig {\n",
            "  \"_name_or_path\": \"meta-llama/Llama-2-13b-chat-hf\",\n",
            "  \"architectures\": [\n",
            "    \"LlamaForCausalLM\"\n",
            "  ],\n",
            "  \"bos_token_id\": 1,\n",
            "  \"eos_token_id\": 2,\n",
            "  \"hidden_act\": \"silu\",\n",
            "  \"hidden_size\": 5120,\n",
            "  \"initializer_range\": 0.02,\n",
            "  \"intermediate_size\": 13824,\n",
            "  \"max_position_embeddings\": 4096,\n",
            "  \"model_type\": \"llama\",\n",
            "  \"num_attention_heads\": 40,\n",
            "  \"num_hidden_layers\": 40,\n",
            "  \"num_key_value_heads\": 40,\n",
            "  \"pad_token_id\": 0,\n",
            "  \"pretraining_tp\": 1,\n",
            "  \"quantization_config\": {\n",
            "    \"bnb_4bit_compute_dtype\": \"bfloat16\",\n",
            "    \"bnb_4bit_quant_type\": \"nf4\",\n",
            "    \"bnb_4bit_use_double_quant\": true,\n",
            "    \"llm_int8_enable_fp32_cpu_offload\": false,\n",
            "    \"llm_int8_has_fp16_weight\": false,\n",
            "    \"llm_int8_skip_modules\": null,\n",
            "    \"llm_int8_threshold\": 6.0,\n",
            "    \"load_in_4bit\": true,\n",
            "    \"load_in_8bit\": false\n",
            "  },\n",
            "  \"rms_norm_eps\": 1e-05,\n",
            "  \"rope_scaling\": null,\n",
            "  \"tie_word_embeddings\": false,\n",
            "  \"torch_dtype\": \"float16\",\n",
            "  \"transformers_version\": \"4.31.0\",\n",
            "  \"use_cache\": true,\n",
            "  \"vocab_size\": 32000\n",
            "}\n",
            "\n"
          ]
        }
      ],
      "source": [
        "print(model.config)"
      ]
    },
    {
      "cell_type": "markdown",
      "source": [
        "## 2.5 - Cria o pipeline usando Langchain\n",
        "\n",
        "Cria o pipeline com a classe [HuggingFacePipeline](https://api.python.langchain.com/en/latest/llms/langchain.llms.huggingface_pipeline.HuggingFacePipeline.html) do langchain."
      ],
      "metadata": {
        "id": "ZGiVSTl1rwAe"
      }
    },
    {
      "cell_type": "markdown",
      "source": [
        "Passagem direta do pipeline Huggingface.\n",
        "\n",
        "Configura o pipeline do Huggingface usando o modelo e tokenizador previamente carregado e passa para o HuggingFacePipeline do langchain."
      ],
      "metadata": {
        "id": "Q7kqNDonwh49"
      }
    },
    {
      "cell_type": "code",
      "source": [
        "# Import das bibliotecas\n",
        "from langchain.llms import HuggingFacePipeline\n",
        "from transformers import GenerationConfig, pipeline\n",
        "\n",
        "# Instância as configurações do modelo\n",
        "generation_config = GenerationConfig.from_pretrained(nome_modelo)\n",
        "print(\"Antes:\",generation_config)\n",
        "generation_config.max_new_tokens = 4096 #Preenche até um comprimento máximo especificado com o argumento max_lengthou até o comprimento de entrada máximo aceitável para o modelo se esse argumento não for fornecido.\n",
        "generation_config.temperature = 0.2 # A temperatura é um parâmetro que controla a aleatoriedade da saída do LLM. Uma temperatura mais alta resultará em um texto mais criativo e imaginativo, enquanto uma temperatura mais baixa resultará em um texto mais preciso e factual.\n",
        "generation_config.top_p = 0.75 # Top-p é mais dinâmico que top-k e é frequentemente usado para excluir resultados com probabilidades mais baixas. Portanto, se você definir p como 0,75, excluirá os 25% inferiores dos resultados prováveis.\n",
        "generation_config.top_k = 5  # Top-k diz ao modelo para escolher o próximo token entre os 'k' tokens principais de sua lista, classificados por probabilidade.\n",
        "#generation_config.do_sample = True # (Default True) Se definido como True, este parâmetro permite estratégias de decodificação como amostragem multinomial, amostragem multinomial de busca de feixe, amostragem Top-K e amostragem Top-p. Todas essas estratégias selecionam o próximo token da distribuição de probabilidade em todo o vocabulário com vários ajustes específicos da estratégia.\n",
        "generation_config.repetition_penalty = 1.20 # Penaliza a repetição e visa evitar frases que se repetem sem nada de realmente interessante.\n",
        "print(\"Depois:\",generation_config)\n",
        "\n",
        "# Configura o pipeline do HuggingFace\n",
        "pipe = pipeline(\n",
        "    \"text-generation\",\n",
        "    model=model,\n",
        "    tokenizer=tokenizer,\n",
        "    return_full_text=True,  # Langchain espera o texto completo\n",
        "    generation_config=generation_config,\n",
        ")\n",
        "\n",
        "# Carrega o pipeline do Langchain\n",
        "# https://python.langchain.com/docs/integrations/llms/huggingface_pipelines\n",
        "model_llm = HuggingFacePipeline(\n",
        "    pipeline=pipe,\n",
        ")"
      ],
      "metadata": {
        "colab": {
          "base_uri": "https://localhost:8080/"
        },
        "id": "YwUXweFrOyx0",
        "outputId": "c5d34158-243c-404e-bb99-fc0d2eadaf46"
      },
      "execution_count": null,
      "outputs": [
        {
          "output_type": "stream",
          "name": "stdout",
          "text": [
            "Antes: GenerationConfig {\n",
            "  \"bos_token_id\": 1,\n",
            "  \"do_sample\": true,\n",
            "  \"eos_token_id\": 2,\n",
            "  \"max_length\": 4096,\n",
            "  \"pad_token_id\": 0,\n",
            "  \"temperature\": 0.6,\n",
            "  \"top_p\": 0.9,\n",
            "  \"transformers_version\": \"4.31.0\"\n",
            "}\n",
            "\n",
            "Depois: GenerationConfig {\n",
            "  \"bos_token_id\": 1,\n",
            "  \"do_sample\": true,\n",
            "  \"eos_token_id\": 2,\n",
            "  \"max_length\": 4096,\n",
            "  \"max_new_tokens\": 4096,\n",
            "  \"pad_token_id\": 0,\n",
            "  \"repetition_penalty\": 1.2,\n",
            "  \"temperature\": 0.2,\n",
            "  \"top_k\": 5,\n",
            "  \"top_p\": 0.75,\n",
            "  \"transformers_version\": \"4.31.0\"\n",
            "}\n",
            "\n"
          ]
        }
      ]
    },
    {
      "cell_type": "code",
      "source": [
        "print(model_llm)"
      ],
      "metadata": {
        "id": "MFReKYmi8bdb",
        "colab": {
          "base_uri": "https://localhost:8080/"
        },
        "outputId": "a8c3dc0d-b3c4-4a30-e42b-7e675f9ce195"
      },
      "execution_count": null,
      "outputs": [
        {
          "output_type": "stream",
          "name": "stdout",
          "text": [
            "\u001b[1mHuggingFacePipeline\u001b[0m\n",
            "Params: {'model_id': 'gpt2', 'model_kwargs': None, 'pipeline_kwargs': None}\n"
          ]
        }
      ]
    },
    {
      "cell_type": "markdown",
      "source": [
        "## 2.6 - Nome do LM BERT"
      ],
      "metadata": {
        "id": "VBgsgE4_ik7r"
      }
    },
    {
      "cell_type": "code",
      "source": [
        "# Modelos em Inglês\n",
        "#nome_modelo_bert = \"bert-large-cased\"\n",
        "#nome_modelo_bert = \"bert-base-cased\"\n",
        "\n",
        "# Modelos em Português\n",
        "nome_modelo_bert = \"neuralmind/bert-large-portuguese-cased\"\n",
        "#nome_modelo_bert = \"neuralmind/bert-base-portuguese-cased\""
      ],
      "metadata": {
        "id": "JLU3MXhBipLD"
      },
      "execution_count": null,
      "outputs": []
    },
    {
      "cell_type": "markdown",
      "source": [
        "## 2.7 - Carregando o LM BERT\n",
        "\n",
        "A classe HuggingFaceBgeEmbeddings realiza o download do BERT via HuggingFace.\n",
        "\n",
        "Os modelos [BGE](https://python.langchain.com/docs/integrations/text_embedding/bge_huggingface) no HuggingFace são os melhores modelos de embeddings de código aberto. O modelo BGE é criado pela Academia de Inteligência Artificial de Pequim(*Beijing Academy of Artificial Intelligence*-BAAI) . BAAI é uma organização privada sem fins lucrativos envolvida em pesquisa e desenvolvimento de IA."
      ],
      "metadata": {
        "id": "4Wpi2LXFZ-Hc"
      }
    },
    {
      "cell_type": "code",
      "source": [
        "# Import das bibliotecas\n",
        "from langchain.embeddings import HuggingFaceBgeEmbeddings\n",
        "from langchain.chains import RetrievalQA\n",
        "from langchain.vectorstores import Chroma\n",
        "import time\n",
        "\n",
        "# Guarda o tempo de início do carregamento do modelo\n",
        "tempo_inicio = time.time()\n",
        "\n",
        "# Carrega os embeddings diretamente do HuggingFace\n",
        "model_lm = HuggingFaceBgeEmbeddings(\n",
        "    model_name=nome_modelo_bert,\n",
        "    model_kwargs={'device': 'cuda'},\n",
        "    encode_kwargs={'normalize_embeddings': True}\n",
        ")\n",
        "\n",
        "print(\"Tempo de carregamento do modelo LM:  {:} (h:mm:ss)\".format(formataTempo(time.time() - tempo_inicio)))"
      ],
      "metadata": {
        "id": "CVRiwo7PZ_VM",
        "colab": {
          "base_uri": "https://localhost:8080/"
        },
        "outputId": "db838119-3882-4f9c-b93b-4d2f53a17056"
      },
      "execution_count": null,
      "outputs": [
        {
          "output_type": "stream",
          "name": "stderr",
          "text": [
            "WARNING:sentence_transformers.SentenceTransformer:No sentence-transformers model found with name /root/.cache/torch/sentence_transformers/neuralmind_bert-large-portuguese-cased. Creating a new one with MEAN pooling.\n"
          ]
        },
        {
          "output_type": "stream",
          "name": "stdout",
          "text": [
            "Tempo de carregamento do modelo LM:  0:00:13 (h:mm:ss)\n"
          ]
        }
      ]
    },
    {
      "cell_type": "code",
      "source": [
        "print(model_lm)"
      ],
      "metadata": {
        "id": "ZcyVsy-_9SEr",
        "colab": {
          "base_uri": "https://localhost:8080/"
        },
        "outputId": "8b039cce-32d3-4b6a-f92b-62fca8919ee0"
      },
      "execution_count": null,
      "outputs": [
        {
          "output_type": "stream",
          "name": "stdout",
          "text": [
            "client=SentenceTransformer(\n",
            "  (0): Transformer({'max_seq_length': 512, 'do_lower_case': False}) with Transformer model: BertModel \n",
            "  (1): Pooling({'word_embedding_dimension': 1024, 'pooling_mode_cls_token': False, 'pooling_mode_mean_tokens': True, 'pooling_mode_max_tokens': False, 'pooling_mode_mean_sqrt_len_tokens': False})\n",
            ") model_name='neuralmind/bert-large-portuguese-cased' cache_folder=None model_kwargs={'device': 'cuda'} encode_kwargs={'normalize_embeddings': True} query_instruction='Represent this question for searching relevant passages: '\n"
          ]
        }
      ]
    },
    {
      "cell_type": "markdown",
      "source": [
        "Carrega o tokenizador do bert"
      ],
      "metadata": {
        "id": "j_ZIFsJdxrA4"
      }
    },
    {
      "cell_type": "code",
      "source": [
        "# Importando as bibliotecas do Tokenizador\n",
        "from transformers import AutoTokenizer\n",
        "\n",
        "# Carregando o Tokenizador da comunidade\n",
        "print('Carregando o tokenizador ' + nome_modelo_bert + ' da comunidade...')\n",
        "\n",
        "tokenizer_bert = AutoTokenizer.from_pretrained(nome_modelo_bert)"
      ],
      "metadata": {
        "id": "3myR-b5OvTIU",
        "colab": {
          "base_uri": "https://localhost:8080/"
        },
        "outputId": "542b7f6b-cd91-4970-f25f-68faf1db37d8"
      },
      "execution_count": null,
      "outputs": [
        {
          "output_type": "stream",
          "name": "stdout",
          "text": [
            "Carregando o tokenizador neuralmind/bert-large-portuguese-cased da comunidade...\n"
          ]
        }
      ]
    },
    {
      "cell_type": "markdown",
      "metadata": {
        "id": "hgiKWHXxafKf"
      },
      "source": [
        "# 3 - Pergunta em texto longo\n",
        "\n",
        "Artigos que auxiliaram a criar o recuperador de texto de perguntas em texto longo.\n",
        "\n",
        "https://heidloff.net/article/retrieval-augmented-generation-chroma-langchain/\n",
        "\n",
        "https://medium.com/@onkarmishra/using-langchain-for-question-answering-on-own-data-3af0a82789ed"
      ]
    },
    {
      "cell_type": "markdown",
      "source": [
        "## 3.1 - Carrega os Documentos\n",
        "\n",
        "Carrega de PDF ou HTML.\n",
        "\n",
        "Escolha uma das formas de carregar os dados.\n",
        "\n",
        "Existem outros formas de carregamento.\n",
        "\n",
        "https://python.langchain.com/docs/modules/data_connection/document_loaders/"
      ],
      "metadata": {
        "id": "6unWJreOX_fb"
      }
    },
    {
      "cell_type": "markdown",
      "source": [
        "### 3.1.1 - Carrega os documentos de PDF\n",
        "\n",
        "https://python.langchain.com/docs/modules/data_connection/document_loaders/pdf"
      ],
      "metadata": {
        "id": "3w7ApoLkx83r"
      }
    },
    {
      "cell_type": "markdown",
      "source": [
        "####  Download do PDF\n"
      ],
      "metadata": {
        "id": "I4Fj8pNPyOR-"
      }
    },
    {
      "cell_type": "markdown",
      "source": [
        "Download do PDF do livro \"As Vítimas Algozes\".\n",
        "\n",
        "PDF: https://www.literaturabrasileira.ufsc.br/documentos/?action=download&id=116977\n",
        "\n",
        "\n",
        "Biblioteca: https://www.literaturabrasileira.ufsc.br/documentos/?id=142070\n"
      ],
      "metadata": {
        "id": "wd4GcvfCz7L1"
      }
    },
    {
      "cell_type": "code",
      "source": [
        "# Import das bibliotecas\n",
        "# import subprocess\n",
        "\n",
        "# # As Vítimas Algozes\n",
        "# urlpdf = 'https://www.literaturabrasileira.ufsc.br/documentos/?action=download&id=116977'\n",
        "\n",
        "# destino = 'arquivo1.pdf'\n",
        "\n",
        "# # Executa o comando wget no prompt\n",
        "# subprocess.call([\"wget\", urlpdf, \"-O\", destino])"
      ],
      "metadata": {
        "id": "WbAPtRSxyuIG"
      },
      "execution_count": null,
      "outputs": []
    },
    {
      "cell_type": "markdown",
      "source": [
        "#### Carrega o PDF\n",
        "\n"
      ],
      "metadata": {
        "id": "kRx-vabm0Vbc"
      }
    },
    {
      "cell_type": "code",
      "source": [
        "# # Import das bibliotecas\n",
        "# from langchain.document_loaders import PyPDFLoader, PyPDFDirectoryLoader\n",
        "\n",
        "# # Define o diretório\n",
        "# diretorio = '/content'\n",
        "\n",
        "# # Cria o carregar dos documentos do diretório\n",
        "# # Pode ser usado o PyPDFLoader para um arquivo\n",
        "# carregador = PyPDFDirectoryLoader(diretorio)\n",
        "\n",
        "# # Carrega os documentos\n",
        "# documentos = carregador.load()"
      ],
      "metadata": {
        "id": "j18ncV8e0B8M"
      },
      "execution_count": null,
      "outputs": []
    },
    {
      "cell_type": "markdown",
      "source": [
        "### 3.1.2 - Carrega os documentos da WEB\n",
        "\n",
        "https://python.langchain.com/docs/integrations/document_loaders/web_base\n",
        "\n",
        "https://medium.com/@onkarmishra/using-langchain-for-question-answering-on-own-data-3af0a82789ed"
      ],
      "metadata": {
        "id": "P5tgQFvgx4UL"
      }
    },
    {
      "cell_type": "markdown",
      "source": [
        "#### Carrega o HTML\n",
        "\n",
        "Carrega o HTML do livro \"As Vítimas Algozes\".\n",
        "\n",
        "HTML: https://www.literaturabrasileira.ufsc.br/documentos/?action=download&id=116979\n",
        "\n",
        "Biblioteca: https://www.literaturabrasileira.ufsc.br/documentos/?id=142070\n",
        "\n"
      ],
      "metadata": {
        "id": "afsQSgK3yiXK"
      }
    },
    {
      "cell_type": "code",
      "source": [
        "# Import das bibliotecas\n",
        "from langchain.document_loaders import WebBaseLoader\n",
        "\n",
        "urlhtml = \"https://www.literaturabrasileira.ufsc.br/documentos/?action=download&id=116979\"\n",
        "\n",
        "# Cria o carregador da página\n",
        "carregador = WebBaseLoader(urlhtml)\n",
        "\n",
        "# Carrega os documentos\n",
        "documentos = carregador.load()"
      ],
      "metadata": {
        "id": "UO97RTfwxUDV"
      },
      "execution_count": null,
      "outputs": []
    },
    {
      "cell_type": "markdown",
      "source": [
        "Exibe parte dos dados carregados do PDF ou HTML."
      ],
      "metadata": {
        "id": "GE12a2SGoFCG"
      }
    },
    {
      "cell_type": "code",
      "source": [
        "print(\"Quantidade de documentos(páginas):\", len(documentos))\n",
        "pagina = 0\n",
        "print(\"Trecho página(\", pagina, \") :\", documentos[pagina].page_content[0:500])\n",
        "print()\n",
        "print(\"Medadados:\", documentos[0].metadata)"
      ],
      "metadata": {
        "id": "hQFU9kiPVT5B",
        "colab": {
          "base_uri": "https://localhost:8080/"
        },
        "outputId": "a0b94d40-da8c-4824-9144-d60c4d49331f"
      },
      "execution_count": null,
      "outputs": [
        {
          "output_type": "stream",
          "name": "stdout",
          "text": [
            "Quantidade de documentos(páginas): 1\n",
            "Trecho página( 0 ) : \n",
            "\n",
            "\n",
            "\n",
            "\n",
            "\n",
            "\n",
            "\n",
            "\n",
            "\n",
            "\n",
            "\n",
            "\n",
            "\n",
            "\n",
            "\n",
            "As vítimas algozes - Joaquim Manuel de Macedo\n",
            "\n",
            "\n",
            "\n",
            "Fonte: Biblioteca Digital de Literatura de Países Lusófonos\n",
            "\n",
            "LITERATURA BRASILEIRA \n",
            "Textos literários em\n",
            "meio eletrônico\n",
            "As\n",
            "Vítimas-Algozes, de Joaquim Manuel de Macedo\n",
            "\n",
            "Edição de base:\n",
            "Biblioteca Nacional – setor de obras digitalizadas\n",
            "ÍNDICE\n",
            "SIMEÃO, O CRIOULO\n",
            "PAI- RAIOL, O FEITICEIRO\n",
            "LUCINDA, A\n",
            "MUCAMA\n",
            "CONCLUSÃO\n",
            "I\n",
            "SIMEÃO, O CRIOULO\n",
            "I\n",
            "No interior e principalmente longe da vila, ou da\n",
            "freguesia e dos povoados há quase sempre uma ven\n",
            "\n",
            "Medadados: {'source': 'https://www.literaturabrasileira.ufsc.br/documentos/?action=download&id=116979', 'title': 'As vítimas algozes - Joaquim Manuel de Macedo', 'description': 'As vítimas algozes - Joaquim Manuel de Macedo', 'language': 'No language found.'}\n"
          ]
        }
      ]
    },
    {
      "cell_type": "markdown",
      "source": [
        "## 3.2 - Divide e sobrepõe os documentos em chuks\n",
        "\n",
        "Carrega o documentos e realiza o divisão do documento em pedaços(chunks) e faz a sobreposição(overlap) para garantir o contexto semântico entre os pedaços.\n",
        "\n",
        "Teste online da chunk(divisão) e overlap(overlap) usando um arquivo texto no link: https://chunkerizer.streamlit.app/"
      ],
      "metadata": {
        "id": "CFY2d-y60scC"
      }
    },
    {
      "cell_type": "code",
      "source": [
        "# Import das bibliotecas\n",
        "from langchain.text_splitter import RecursiveCharacterTextSplitter\n",
        "import os\n",
        "import time\n",
        "\n",
        "# Parâmetros\n",
        "chunk_tamanho = 500\n",
        "chunk_sobreposicao = 100\n",
        "\n",
        "# Configura o divisor\n",
        "text_splitter = RecursiveCharacterTextSplitter.from_huggingface_tokenizer(\n",
        "    tokenizer_bert,\n",
        "    chunk_size = chunk_tamanho,\n",
        "    chunk_overlap  = chunk_sobreposicao, # Número de tokens sobrepostos entre chunks(pedaços)\n",
        "    add_start_index = True, # Adiciona o índice de início do chunk no documento\n",
        ")\n",
        "\n",
        "# Guarda o tempo de início\n",
        "tempo_inicio = time.time()\n",
        "\n",
        "# Calcula os chunks dos documentos\n",
        "chunks = text_splitter.split_documents(documentos)\n",
        "\n",
        "tempo_final = time.time()\n",
        "\n",
        "print(f\"Carregando e dividindo {len(documentos)} documentos html em {tempo_final - tempo_inicio} segundos!\")\n",
        "print(f\"Quantidade de chunks: {len(chunks)}\")"
      ],
      "metadata": {
        "id": "4fsq-rPLbm2V",
        "colab": {
          "base_uri": "https://localhost:8080/"
        },
        "outputId": "5ab8f76c-cb3a-4eeb-c3bc-076dbd7454fd"
      },
      "execution_count": null,
      "outputs": [
        {
          "output_type": "stream",
          "name": "stdout",
          "text": [
            "Carregando e dividindo 1 documentos html em 3.3902273178100586 segundos!\n",
            "Quantidade de chunks: 481\n"
          ]
        }
      ]
    },
    {
      "cell_type": "markdown",
      "source": [
        "Mostra alguns chunks. A sobreposição se encontra ao final e início de cada pedaço(chunk). A variável 'start_index' define onde começa o texto sem a sobreposição."
      ],
      "metadata": {
        "id": "lEpkjr3hcvGQ"
      }
    },
    {
      "cell_type": "code",
      "source": [
        "for i, chunk in enumerate(chunks):\n",
        "  if i < 20:\n",
        "    # Divide o chunk pelo espaço em branco\n",
        "    tokens = chunk.page_content.split(\" \")\n",
        "\n",
        "    # Divide o chunk pelo tokenizador do BERT\n",
        "    tokens_bert = tokenizer_bert.tokenize(chunk.page_content)\n",
        "    # Documento HTML\n",
        "    print('chunk #',i,' Doc:',chunk.metadata['source'],' qtde char :', len(chunk.page_content),' qtde token :', len(tokens), ' start_index:', chunk.metadata.get('start_index') )\n",
        "    # Documento PDF\n",
        "    # print('chunk #',i,' Doc:',chunk.metadata['source'],' Página:', chunk.metadata['page'], ' qtde char :', len(chunk.page_content),' qtde token :', len(tokens), ' start_index:', chunk.metadata.get('start_index') )\n",
        "    print()\n",
        "    print(chunk.page_content)\n",
        "    print('-----------------------------------------------------------------------')"
      ],
      "metadata": {
        "id": "cFDYb8GJcriZ",
        "colab": {
          "base_uri": "https://localhost:8080/"
        },
        "outputId": "eac42620-d94c-43c5-e6b2-fc24474dfee4"
      },
      "execution_count": null,
      "outputs": [
        {
          "output_type": "stream",
          "name": "stdout",
          "text": [
            "chunk # 0  Doc: https://www.literaturabrasileira.ufsc.br/documentos/?action=download&id=116979  qtde char : 217  qtde token : 25  start_index: 16\n",
            "\n",
            "As vítimas algozes - Joaquim Manuel de Macedo\n",
            "\n",
            "\n",
            "\n",
            "Fonte: Biblioteca Digital de Literatura de Países Lusófonos\n",
            "\n",
            "LITERATURA BRASILEIRA \n",
            "Textos literários em\n",
            "meio eletrônico\n",
            "As\n",
            "Vítimas-Algozes, de Joaquim Manuel de Macedo\n",
            "-----------------------------------------------------------------------\n",
            "chunk # 1  Doc: https://www.literaturabrasileira.ufsc.br/documentos/?action=download&id=116979  qtde char : 1429  qtde token : 220  start_index: 235\n",
            "\n",
            "Edição de base:\n",
            "Biblioteca Nacional – setor de obras digitalizadas\n",
            "ÍNDICE\n",
            "SIMEÃO, O CRIOULO\n",
            "PAI- RAIOL, O FEITICEIRO\n",
            "LUCINDA, A\n",
            "MUCAMA\n",
            "CONCLUSÃO\n",
            "I\n",
            "SIMEÃO, O CRIOULO\n",
            "I\n",
            "No interior e principalmente longe da vila, ou da\n",
            "freguesia e dos povoados há quase sempre uma venda perto da fazenda: é a\n",
            "parasita que se apega à árvore; pior que isso, é a inimiga hipócrita que rende\n",
            "vassalagem à sua vítima.\n",
            "A venda de que falo é uma taberna especialíssima\n",
            "que não poderia existir, manter-se, medrar em outras condições locais, e em\n",
            "outras condições do trabalho rural, e nem se confunde com a taberna regular que\n",
            "em toda parte se encontra, quanto mais com as casas de grande ou pequeno comércio,\n",
            "onde os lavradores ricos e pobres se provêem do que precisa a casa, quando não\n",
            "lhes é possível esperar pelas remessas dos seus consigna­tários ou fregueses.\n",
            "Essa parasita das fazendas e estabelecimentos agrícolas\n",
            "das vizinhanças facilmente se pode conhecer por suas feições e modos\n",
            "característicos, se nos é lícito dizer assim: uma se parece com todas e não há\n",
            "hipótese em que alguma delas, por mais dissimulada que seja, chegue a perder o\n",
            "cará­ter da família. \n",
            "É uma pequena casa de taipa e coberta de telha, tendo às\n",
            "vezes na frente varanda aberta pelos três lados, também coberta de telha e com\n",
            "o teto sustido por esteios fortes, mas rudes e ainda mesmo tortos; as paredes\n",
            "nem sempre são caiadas, o chão não tem assoalho nem ladrilho; quando há\n",
            "-----------------------------------------------------------------------\n",
            "chunk # 2  Doc: https://www.literaturabrasileira.ufsc.br/documentos/?action=download&id=116979  qtde char : 1530  qtde token : 253  start_index: 1357\n",
            "\n",
            "cará­ter da família. \n",
            "É uma pequena casa de taipa e coberta de telha, tendo às\n",
            "vezes na frente varanda aberta pelos três lados, também coberta de telha e com\n",
            "o teto sustido por esteios fortes, mas rudes e ainda mesmo tortos; as paredes\n",
            "nem sempre são caiadas, o chão não tem assoalho nem ladrilho; quando há\n",
            "varanda, abrem-se para ela uma porta e uma janela; dentro está a ven­da: entre\n",
            "a porta e a janela encostado à parede um banco de pau, defronte um balcão tosco\n",
            "e no bojo ou no espaço que se vê além, grotesca armação de tábuas contendo\n",
            "garrafas, botijas, latas de tabaco em pó, a um canto algumas voltas de fumo em\n",
            "rolo e uma ruim manta de carne-seca. Eis a venda.\n",
            "Há muitas que nem chegam à opulência da que aí fica\n",
            "descrita; em todas porém aparece humilde no fundo do quase vazio bojo a porta\n",
            "baixa que comunica pelo corredor imundo com dois ou mais quartos escuros, onde\n",
            "se recolhem as pingues colheitas agrícolas do vendelhão que aliás não tem\n",
            "lavoura.\n",
            "A venda é pouco freqüentada à luz do sol nos dias\n",
            "de serviço; nunca porém, ou raramente se acha solitária: ainda nesses mesmos\n",
            "dias de santo dever do trabalho, homens ociosos, vadios e turbulentos jogam ao\n",
            "balcão com um baralho de cartas machucadas, enegrecidas e como oleosas desde a\n",
            "manhã até o fim da tarde, e é milagre faltar algum incansável tocador de viola;\n",
            "mas apenas chega a noite, começa a concorrência e ferve o negócio.\n",
            "Explorador das trevas protetoras dos vícios e do crime,\n",
            "o vendelhão baixo, ignóbil, sem consciência, paga com abuso duplo e escandaloso\n",
            "-----------------------------------------------------------------------\n",
            "chunk # 3  Doc: https://www.literaturabrasileira.ufsc.br/documentos/?action=download&id=116979  qtde char : 1602  qtde token : 250  start_index: 2605\n",
            "\n",
            "manhã até o fim da tarde, e é milagre faltar algum incansável tocador de viola;\n",
            "mas apenas chega a noite, começa a concorrência e ferve o negócio.\n",
            "Explorador das trevas protetoras dos vícios e do crime,\n",
            "o vendelhão baixo, ignóbil, sem consciência, paga com abuso duplo e escandaloso\n",
            "a garrafas de aguardente, a rolos de fumo, e a chorados vinténs o café, o\n",
            "açúcar e os cereais que os escravos furtam aos senhores; e cúmplice no furto\n",
            "efetuado pelos escravos, é ladrão por sua vez, roubando a estes nas medidas e\n",
            "no preço dos gêneros.\n",
            "A venda não dorme: às horas mortas da\n",
            "noite vêm os quilombolas escravos fugidos e acoitados nas florestas, trazer o\n",
            "tributo de suas depredações nas roças vizinhas ou distantes ao vendelhão que\n",
            "apura nelas segunda colheita do que não semeou e que tem sempre de reserva para\n",
            "os quilombolas recursos de alimentação de que eles não podem prescindir, e\n",
            "também não raras vezes a pólvora e o chumbo para a resistência nos casos de\n",
            "ataque aos quilombos.\n",
            "E o vendelhão é em regra a vigilância protetora do\n",
            "quilombola e o seu espião dissimulado que tem interesse em contrariar a\n",
            "polícia, ou as diligências dos senhores no encalço dos escravos fugidos.\n",
            "Desprezível e nociva durante o dia, a venda é\n",
            "esquálida, medonha, criminosa e atroz durante a noite: os escravos, que aí\n",
            "então se reúnem, embebedam-se, espancam-se, tornando-se muitos incapazes de\n",
            "trabalhar na manhã seguinte; misturam as rixas e as pancadas com a conversação\n",
            "mais indecente sob o caráter e a vida de seus senhores, cuja reputação é\n",
            "ultrajada ao som de gargalhadas selvagens: inspirados pelo ódio, pelo horror,\n",
            "-----------------------------------------------------------------------\n",
            "chunk # 4  Doc: https://www.literaturabrasileira.ufsc.br/documentos/?action=download&id=116979  qtde char : 1623  qtde token : 244  start_index: 3902\n",
            "\n",
            "então se reúnem, embebedam-se, espancam-se, tornando-se muitos incapazes de\n",
            "trabalhar na manhã seguinte; misturam as rixas e as pancadas com a conversação\n",
            "mais indecente sob o caráter e a vida de seus senhores, cuja reputação é\n",
            "ultrajada ao som de gargalhadas selvagens: inspirados pelo ódio, pelo horror,\n",
            "pelos sofrimentos inseparáveis da escravidão, se expandem em calúnias terríveis\n",
            "que às vezes chegam até a honra das esposas e das filhas dos senhores; atiçam a\n",
            "raiva que todos eles têm dos feitores, contando histórias lúgubres de castigos\n",
            "exagerados e de cruelíssimas vinganças, a cuja idéia se habituam; em sua\n",
            "credulidade estúpida e ilimitada esses desgraçados escutam boquiabertos a\n",
            "relação dos prodígios do feitiço, e se emprazam para as reuniões noturnas dos\n",
            "feiticeiros; e uns finalmente aprendem com outros mais sabidos a conhecer\n",
            "plantas maléficas, raízes venenosas que produzem a loucura ou dão a morte, e\n",
            "tudo isto e muito mais ainda envolta com a embriaguez, com a desordem, com o\n",
            "quadro da abjeção e do desavergonhamento já natural nas palavras, nas ações,\n",
            "nos gozos do es­cravo.\n",
            "Aos domingos e nos dias santificados, a venda tem\n",
            "centuplicadas as suas glórias nefandas, aproveita a luz e as trevas, o dia e a\n",
            "noite, e por isso mesmo cada lavrador conta de menos na roça e demais na\n",
            "enfermaria al­guns escravos na manhã do dia que se segue.\n",
            "De ordinário, pelo menos muitas vezes, é nessas\n",
            "reuniões, é nesse foco de peste moral que se premeditam e planejam os crimes\n",
            "que ensangüen­tam e alvoroçam as fazendas. Na hipótese de uma insurreição de\n",
            "escravos, a venda nunca seria alheia ao tremendo acontecimento.\n",
            "-----------------------------------------------------------------------\n",
            "chunk # 5  Doc: https://www.literaturabrasileira.ufsc.br/documentos/?action=download&id=116979  qtde char : 1552  qtde token : 237  start_index: 5202\n",
            "\n",
            "enfermaria al­guns escravos na manhã do dia que se segue.\n",
            "De ordinário, pelo menos muitas vezes, é nessas\n",
            "reuniões, é nesse foco de peste moral que se premeditam e planejam os crimes\n",
            "que ensangüen­tam e alvoroçam as fazendas. Na hipótese de uma insurreição de\n",
            "escravos, a venda nunca seria alheia ao tremendo acontecimento.\n",
            "Todavia tolera-se a venda: o governo não pode\n",
            "ignorar, a polícia local sabe, os fazendeiros e lavradores conhecem e sentem\n",
            "que essa espelunca ignóbil é fonte de vícios e de crimes, manancial turvo e\n",
            "hediondo de pro­funda corrupção, constante ameaça à propriedade, patíbulo da\n",
            "reputa­ção, e em certos casos forja de arma assassina; porque é e será sempre o\n",
            "ponto de ajuntamento de escravos onde se conspire ou se inicie a conspi­ração;\n",
            "e ainda assim a venda subsiste e não há força capaz de aniquilá-la.\n",
            "Porquê?...\n",
            "É que se proibissem a venda, de que trato, se lhe\n",
            "fechassem a porta, se lhe destruíssem o teto, ela renasceria com outro nome, e,\n",
            "como quer que fosse, e, onde quer que fosse, havia de manter-se, embora\n",
            "dissimulada e abusivamente.\n",
            "A lógica é implacável.\n",
            "Não é possível que haja escravos sem todas as\n",
            "conseqüências escandalo­sas da escravidão: querer a úlcera sem o pus, o cancro\n",
            "sem a podridão é loucura ou capricho infantil.\n",
            "Perigosa e repugnante por certo, e ainda assim não das\n",
            "mais formidá­veis conseqüências da escravidão, a venda de que estou\n",
            "falando é inevitá­vel; porque nasce da vida, das condições, e das exigências\n",
            "irresistíveis da situação dos escravos.\n",
            "A venda é o espelho que retrata ao vivo o rosto e\n",
            "-----------------------------------------------------------------------\n",
            "chunk # 6  Doc: https://www.literaturabrasileira.ufsc.br/documentos/?action=download&id=116979  qtde char : 1511  qtde token : 236  start_index: 6465\n",
            "\n",
            "Perigosa e repugnante por certo, e ainda assim não das\n",
            "mais formidá­veis conseqüências da escravidão, a venda de que estou\n",
            "falando é inevitá­vel; porque nasce da vida, das condições, e das exigências\n",
            "irresistíveis da situação dos escravos.\n",
            "A venda é o espelho que retrata ao vivo o rosto e\n",
            "o espírito da escravi­dão.\n",
            "Se não fosse, se não se chamasse venda, teria\n",
            "outro e mil nomes no pa­tuá do escravo; seria uma casa no deserto, um sítio nas\n",
            "brenhas; estaria na gruta da floresta, em um antro tomado às feras, mas onde\n",
            "iria sempre o escravo, o quilombola, vender o furto, embriagar-se, ultrajar a\n",
            "honra do senhor e de sua família, a quem detesta, engolfar-se em vícios, ouvir\n",
            "con­selhos envenenados, inflamar-se em ódio, e habituar-se à idéia do crime\n",
            "filho da vingança; porque o escravo, por melhor que seja tratado, é, em regra\n",
            "geral, pelo fato de ser escravo, sempre e natural e logicamente o pri­meiro e\n",
            "mais rancoroso inimigo de seu senhor.\n",
            "O escravo precisa dar expansão à sua raiva, que ferve\n",
            "incessante, e es­quecer por momentos ou horas as misérias e os tormentos\n",
            "insondáveis da escravidão; é na venda que ele se expande e esquece; aí o\n",
            "ódio fala licen­cioso e a aguardente afoga em vapores e no atordoamento a\n",
            "memória.\n",
            "Entretanto, a venda é horrível; é o recinto da\n",
            "assembléia selvagem dos escravos, onde se eleva a tribuna malvada da lascívia\n",
            "feroz, da difamação nojenta e do crime sem suscetibilidade de remorso; ali a\n",
            "matrona veneranda, a esposa honesta, a donzela-anjo são julgadas e medidas pela\n",
            "-----------------------------------------------------------------------\n",
            "chunk # 7  Doc: https://www.literaturabrasileira.ufsc.br/documentos/?action=download&id=116979  qtde char : 1455  qtde token : 221  start_index: 7686\n",
            "\n",
            "memória.\n",
            "Entretanto, a venda é horrível; é o recinto da\n",
            "assembléia selvagem dos escravos, onde se eleva a tribuna malvada da lascívia\n",
            "feroz, da difamação nojenta e do crime sem suscetibilidade de remorso; ali a\n",
            "matrona veneranda, a esposa honesta, a donzela-anjo são julgadas e medidas pela\n",
            "bitola da moralidade dos escravos; o aleive é aplaudido e sancionado como\n",
            "verdade provada, e o aleive se lança com as formas esquálidas da selvatiqueza\n",
            "que fala com a eloqüência do rancor sublimizado pelo álcool; ali se acendem\n",
            "fúrias contra os feitores e os senhores: ali se rouba a fazenda e se fazem\n",
            "votos ferozes pela morte daqueles que se detestam, porque, é im­possível\n",
            "negá-lo, são opressores.\n",
            "E não há para suprimir a venda, essa venda fatal,\n",
            "que rouba, desmoraliza, corrompe, calunia e às vezes mata, senão um só, um\n",
            "único meio: é suprimir a escravidão.\n",
            "Não há; porque a venda está intimamente presa,\n",
            "imprescindivelmente adunada à vida do escravo; sem ela, os suicídios dos\n",
            "escravos espantariam pelas suas proporções.\n",
            "Onde houver fazendas, haverá por força a venda perversa,\n",
            "ameaçadora, infamíssima, como a tenho descrito e a conhecem todos, sem exceção,\n",
            "todos os lavradores.\n",
            "Não há rei sem trono, não há família sem lar, nem aves\n",
            "sem ninho, nem fera sem antro; o trono, o lar, o ninho, o antro do escravo é,\n",
            "antes da senzala, a venda.\n",
            "A venda, que vos parece apenas repugnante,\n",
            "corruptora, ladra e infa­me, é, ainda mais, formidável e atroz; mas em todos\n",
            "-----------------------------------------------------------------------\n",
            "chunk # 8  Doc: https://www.literaturabrasileira.ufsc.br/documentos/?action=download&id=116979  qtde char : 1454  qtde token : 229  start_index: 8917\n",
            "\n",
            "sem ninho, nem fera sem antro; o trono, o lar, o ninho, o antro do escravo é,\n",
            "antes da senzala, a venda.\n",
            "A venda, que vos parece apenas repugnante,\n",
            "corruptora, ladra e infa­me, é, ainda mais, formidável e atroz; mas em todos\n",
            "esses atributos digna, legítima filha da escravidão, que a gerou, criou,\n",
            "sustenta, impõe, e que há de mantê-la arraigada à sua existência.\n",
            "É um mal absolutamente dependente, porém inseparável de\n",
            "outro mal; não é causa, é efeito; não é árvore, é fruto de árvore.\n",
            "Se quiserdes suprimir a venda-inferno, haveis de\n",
            "suprimir primeiro a escravidão-demônio.\n",
            "II\n",
            "Era em uma dessas vendas sinistras como a que\n",
            "acabamos de descrever. \n",
            "O sítio era solitário; a estrada rompia pelo meio vasta\n",
            "floresta que cortava sinuosa, e, descendo declive suave, ia\n",
            "atravessar tênue corrente d’água alimentada por brejal vizinho e de novo se\n",
            "perdia, como embe­bendo-se no seio do bosque.\n",
            "A venda mostrava-se triste à beira da estrada,\n",
            "que em sua frente se alargava cerca de seis ou oito braças; tinha ao lado\n",
            "direito o brejal a esten­der-se para trás, e ao esquerdo e pegada à casa uma\n",
            "rude tranqueira de pau, dando entrada para um terreiro imundo, que se adiantava\n",
            "pouco além da cozinha. Não havia criação no terreiro; apenas a ele se recolhiam\n",
            "à noite um porco, que chafurdava na lama, e um casal de patos, que grasnavam no\n",
            "brejo.\n",
            "A venda se isolava na solidão, mas não longe de\n",
            "fazendas e sítios, que se anunciavam de madrugada pelo cantar dos galos, à\n",
            "-----------------------------------------------------------------------\n",
            "chunk # 9  Doc: https://www.literaturabrasileira.ufsc.br/documentos/?action=download&id=116979  qtde char : 1549  qtde token : 239  start_index: 10082\n",
            "\n",
            "pouco além da cozinha. Não havia criação no terreiro; apenas a ele se recolhiam\n",
            "à noite um porco, que chafurdava na lama, e um casal de patos, que grasnavam no\n",
            "brejo.\n",
            "A venda se isolava na solidão, mas não longe de\n",
            "fazendas e sítios, que se anunciavam de madrugada pelo cantar dos galos, à\n",
            "tarde pelo mugir dos bois, à noite pelo latir dos cães.\n",
            "Os cavaleiros e viandantes que passavam às vezes durante\n",
            "o dia, não se lembravam nunca de chegar-se ou parar àquela venda desprezível,\n",
            "onde em compensação faziam sempre estação demorada os escravos carreiros ou\n",
            "tropeiros que iam ou voltavam, conduzindo gêneros.\n",
            "Entretanto, aquele teto miserável, albergue de vícios e\n",
            "torpezas, jamais se achava em abandono de fregueses.\n",
            "Há poucos anos, em um dia calmoso do mês de fevereiro,\n",
            "viam-se às três horas da tarde nessa venda certas figuras, formando um\n",
            "quadro quase constantemente ali observado com insignificantes modificações até\n",
            "a hora do negro concurso noturno.\n",
            "Para dentro do balcão estava um menino de doze anos, de\n",
            "pés no chão, vestido de calças e camisa que desde um mês não mudava, e cuja cor\n",
            "e qualidade do pano escapariam ao mais teimoso exame; era o caixeiro mandrião,\n",
            "e já perdido pela desmoralização, pela incontinência da pala­vra e pela\n",
            "convivência com os vadios e os escravos. À porta da venda via-se em pé a\n",
            "olhar a estrada um homem de meia-idade, cabeludo, amarelo, em mangas de camisa\n",
            "com o colarinho desabotoado, o peito à mostra, e calçando grandes tamancos: era\n",
            "o vendelhão.\n",
            "Em uma extremidade do balcão sentava-se um homem avelhantado,\n",
            "-----------------------------------------------------------------------\n",
            "chunk # 10  Doc: https://www.literaturabrasileira.ufsc.br/documentos/?action=download&id=116979  qtde char : 1457  qtde token : 226  start_index: 11398\n",
            "\n",
            "olhar a estrada um homem de meia-idade, cabeludo, amarelo, em mangas de camisa\n",
            "com o colarinho desabotoado, o peito à mostra, e calçando grandes tamancos: era\n",
            "o vendelhão.\n",
            "Em uma extremidade do balcão sentava-se um homem avelhantado,\n",
            "tendo as pernas pendidas, os pés descalços, os vestidos remendados, um velho\n",
            "chapéu de palha na cabeça, e ao peito uma viola, em que tocava de contínuo as\n",
            "músicas rudes dos fados. Na outra extremidade do balcão quatro sujeitos moços\n",
            "quase todos, um ainda imberbe, todos quatro mais ou menos miseravelmente\n",
            "vestidos, jogavam o pacau, rixando a todo mo­mento, e não se poupando\n",
            "acusações de furtos e de fraude no jogo.\n",
            "Um último freguês enfim, figura sinistra, tendo olhos de\n",
            "tigre, boca, por assim dizer, sem lábios, e com imensa barba malcuidada,\n",
            "parecia dor­mir estendido em um banco de pau defronte do balcão.\n",
            "De espaço em espaço a aguardente inspirava o tocador de\n",
            "viola e ani­mava os jogadores.\n",
            "Às quatro horas da tarde um cavalo, correndo à\n",
            "desfilada, veio estacar à porta da venda, pondo-se o cavaleiro de um\n",
            "salto no chão.\n",
            "O cavaleiro era um crioulo escravo ainda muito jovem.\n",
            "– Oh!... O grande Simeão!... – exclamou o vendelhão,\n",
            "abraçando o escravo.\n",
            "– Uma pinga que estou com muita pressa – disse este, e\n",
            "correu para dentro da venda.\n",
            "Simeão recebeu logo um copo cheio de aguardente, que\n",
            "bebeu de uma vez, atirando o resto à cara do menino, que o servira.\n",
            "III\n",
            "Simeão devia ter vinte anos: era um crioulo de raça pura\n",
            "-----------------------------------------------------------------------\n",
            "chunk # 11  Doc: https://www.literaturabrasileira.ufsc.br/documentos/?action=download&id=116979  qtde char : 1686  qtde token : 252  start_index: 12590\n",
            "\n",
            "– Uma pinga que estou com muita pressa – disse este, e\n",
            "correu para dentro da venda.\n",
            "Simeão recebeu logo um copo cheio de aguardente, que\n",
            "bebeu de uma vez, atirando o resto à cara do menino, que o servira.\n",
            "III\n",
            "Simeão devia ter vinte anos: era um crioulo de raça pura\n",
            "africana, mas cujos caracteres físicos aliás favoravelmente modificados pelo\n",
            "clima e pe­la influência natural do país onde nascera, não tinham sido ainda\n",
            "afeiados pelos serviços rigorosos da escravidão, embora ele fosse escravo.\n",
            "Havia em seus modos a expansão que só parece própria do\n",
            "homem li­vre: ele não tinha nem as mãos calejadas, nem os pés esparramados do\n",
            "ne­gro trabalhador de enxada: era um escravo de cabelos penteados, vestido com\n",
            "asseio e certa faceirice, calçado, falando com os vícios de\n",
            "linguagem triviais no campo, mas sem a bruteza comum na gente da sua condição;\n",
            "até certo ponto, pois, aceito, apadrinhado, protegido e acariciado pela fa­mília\n",
            "livre, pelo amor dos senhores.\n",
            "A história de Simeão tem mil histórias irmãs até aos\n",
            "vinte anos, que ele conta; há de, portanto, trazer à memória mil histórias,\n",
            "como a sua, cheia de desgostos e de ressentimentos de ingratidão, que aliás,\n",
            "sem o pensar, os benfeitores cimentam. A história que vai seguir-se depois dos\n",
            "vinte anos talvez lembre alguma infelizmente mais ou menos semelhante, e cu­jo\n",
            "horror é somente um dos frutos e dos horrores da escravidão.\n",
            "Sementeira de venenosos espinhos, a escravidão não pode\n",
            "produzir flo­res inocentes.\n",
            "A história de Simeão ainda não criminoso é simples:\n",
            "muitos dos leito­res deste romance a encontrarão realizada, viva,\n",
            "eloqüentemente exposta no seio de seu lar doméstico.\n",
            "Domingos Caetano teve de sua mulher muito e bem\n",
            "-----------------------------------------------------------------------\n",
            "chunk # 12  Doc: https://www.literaturabrasileira.ufsc.br/documentos/?action=download&id=116979  qtde char : 1653  qtde token : 250  start_index: 13974\n",
            "\n",
            "Sementeira de venenosos espinhos, a escravidão não pode\n",
            "produzir flo­res inocentes.\n",
            "A história de Simeão ainda não criminoso é simples:\n",
            "muitos dos leito­res deste romance a encontrarão realizada, viva,\n",
            "eloqüentemente exposta no seio de seu lar doméstico.\n",
            "Domingos Caetano teve de sua mulher muito e bem\n",
            "merecidamente amada uma filha que satisfizera os doces votos de ambos.\n",
            "Angélica, a no­bre esposa e virtuosa mulher, não pôde ter a dita de amamentar o\n",
            "seu an­jo, e confiou-o aos peitos de uma escrava que acabava de ser mãe como\n",
            "ela: a escrava que amamentara dois filhos, o próprio e o da senhora, morreu\n",
            "dois anos depois, e Angélica pagou-lhe a amamentação da sua queri­da Florinda,\n",
            "criando com amor maternal o crioulinho Simeão, colaço de sua filha.\n",
            "A compaixão e o reconhecimento em breve se transformaram\n",
            "em ver­dadeira afeição: o crioulo era esperto e engraçado, começou fazendo rir,\n",
            "acabou fazendo-se amar. Simeão divertia, dava encanto às travessuras de\n",
            "Florinda: Domingos Caetano e Angélica o amaram em dobro por isso.\n",
            "Até os oito anos de idade Simeão teve prato à mesa e\n",
            "leito no quarto de seus senhores, e não teve consciência de sua condição de\n",
            "escravo. Depois dos oito anos apenas foi privado da mesa e do quarto em comum;\n",
            "conti­nuou, porém, a receber tratamento de filho adotivo, mas criado com amor\n",
            "desmazelado e imprudente, e cresceu enfim sem hábito de traba­lho, abusando\n",
            "muitas vezes da fraqueza dos senhores, sem atingir a digni­dade de homem livre,\n",
            "e sem reconhecer nem sentir a absoluta submissão do escravo.\n",
            "Era o tipo mais perfeito do crioulo, cria estimada da\n",
            "família.\n",
            "IV\n",
            "Mais de uma vez parentes e amigos de Domingos Caetano e\n",
            "-----------------------------------------------------------------------\n",
            "chunk # 13  Doc: https://www.literaturabrasileira.ufsc.br/documentos/?action=download&id=116979  qtde char : 1577  qtde token : 233  start_index: 15289\n",
            "\n",
            "desmazelado e imprudente, e cresceu enfim sem hábito de traba­lho, abusando\n",
            "muitas vezes da fraqueza dos senhores, sem atingir a digni­dade de homem livre,\n",
            "e sem reconhecer nem sentir a absoluta submissão do escravo.\n",
            "Era o tipo mais perfeito do crioulo, cria estimada da\n",
            "família.\n",
            "IV\n",
            "Mais de uma vez parentes e amigos de Domingos Caetano e\n",
            "Angélica disseram a um ou outro, mostrando Simeão:\n",
            "– Estão criando um inimigo: a regra não falha.\n",
            "E Domingos respondia:\n",
            "– Coitado! Ele é tão bom!\n",
            "E Angélica dizia sorrindo-se:\n",
            "É impossível que nos seja ingrato.\n",
            "– Ainda não houve um que o não fosse! – tornavam-lhes\n",
            "debalde; porque os senhores de Simeão nem por essas já triviais advertências\n",
            "menos condescendentes e afetuosos se mostravam com o seu crioulo estimado.\n",
            "Breve reflexão de passagem.\n",
            "As apreensões da ingratidão e da inimizade desses\n",
            "escravos, crias predi­letas aquecidas no seio da família, têm por certo o\n",
            "fundamento da mais triste experiência; mas a sanção da regra sem o estudo e\n",
            "reconhecimento da causa do mal tenderia a fazer apagar as santas inspirações da\n",
            "caridade, e a empedernir os corações de todos os senhores de escravos.\n",
            "Fora absurdo pretender que a ingratidão às vezes até\n",
            "profundamente perversa dos crioulos amorosamente criados por seus senhores é\n",
            "neles ina­ta ou condição natural da sua raça: a fonte do mal, que é mais negra\n",
            "do que a cor desses infelizes, é a escravidão, a consciência desse estado violen­ta\n",
            "e barbaramente imposto, estado lúgubre, revoltante, condição ignóbil, mãe do\n",
            "ódio, pústula encerradora de raiva, pantanal dos vícios mais tor­pes que\n",
            "-----------------------------------------------------------------------\n",
            "chunk # 14  Doc: https://www.literaturabrasileira.ufsc.br/documentos/?action=download&id=116979  qtde char : 1591  qtde token : 246  start_index: 16554\n",
            "\n",
            "neles ina­ta ou condição natural da sua raça: a fonte do mal, que é mais negra\n",
            "do que a cor desses infelizes, é a escravidão, a consciência desse estado violen­ta\n",
            "e barbaramente imposto, estado lúgubre, revoltante, condição ignóbil, mãe do\n",
            "ódio, pústula encerradora de raiva, pantanal dos vícios mais tor­pes que\n",
            "degeneram, infeccionam, e tornam perverso o coração da vítima, o coração do\n",
            "escravo.\n",
            "No amor dos senhores o crioulo estimado viu, sentiu,\n",
            "gozou os reflexos das flamas vivificantes, generosas, sagradas da liberdade:\n",
            "mas vem um dia em que ele se reconhece escravo, coisa e não homem, apesar da\n",
            "afeição, das condescendências, dos caridosos benefícios do senhor – amigo, da\n",
            "se­nhora – segunda mãe; vem a primeira hora sinistra em que ele, que até então\n",
            "vivera em sonhos e ilusões, desperta com a certeza horrível de que é um\n",
            "condenado daquém-berço; condenado sem crime; tendo alma e con­siderado simples\n",
            "matéria ambulante; coisa, animal, que se vende, como a casa, como o boi e como\n",
            "a besta; finalmente miserável e perpétuo des­terrado em deserto sem horizonte,\n",
            "tendo vida e não vivendo para si, dese­jando sem esperanças, não possuindo de\n",
            "seu nem o pleno direito dos três amores mais santos: o de filho, o de esposo, e\n",
            "o de pai; máquina para ca­var com a enxada, homem desnaturado, miséria\n",
            "respirante e movente que os próprios cães distinguem pela marca do desprezo\n",
            "social.\n",
            "O crioulo escravo e estimado, por isso mesmo que tem\n",
            "mais aguçada a inteligência, e por isso mesmo que deram-lhe as mostras dos\n",
            "gozos e da superioridade, mas não lhe deram a condição e a educação próprias do\n",
            "-----------------------------------------------------------------------\n",
            "chunk # 15  Doc: https://www.literaturabrasileira.ufsc.br/documentos/?action=download&id=116979  qtde char : 1659  qtde token : 257  start_index: 17854\n",
            "\n",
            "respirante e movente que os próprios cães distinguem pela marca do desprezo\n",
            "social.\n",
            "O crioulo escravo e estimado, por isso mesmo que tem\n",
            "mais aguçada a inteligência, e por isso mesmo que deram-lhe as mostras dos\n",
            "gozos e da superioridade, mas não lhe deram a condição e a educação próprias do\n",
            "homem livre, pesa melhor que os escravos brutais o preço e o encanto da\n",
            "verdadeira liberdade; no meio dos benefícios compreende que lhe falta um que\n",
            "vale mais do que todos os outros somados e multiplicados; feliz pelos favores\n",
            "que recebe, pelos dons da afeição de que é objeto, esbarra sempre diante da\n",
            "realidade da escravidão, que o abate, avilta e moral­mente o aniquila: deseja e\n",
            "não tem, quer e não pode, sonha e não realiza o bem supremo da terra, escravo\n",
            "se reconhece e bebe o ódio, os maus cos­tumes, o veneno, a perversidade da\n",
            "escravidão.\n",
            "O crioulo escravo e estimado, em quem o amor e as\n",
            "condescendências do senhor animam e atiçam expansões naturais do amplo gozo da\n",
            "liberda­de, mistura nos dias da reflexão mais sombria e triste a lembrança dos\n",
            "sa­bores do reflexo da liberdade com a ameaça e os negros horrores da escra­vidão;\n",
            "habituado à impunidade garantida pela afeição, ousa muito e abu­sa ainda mais;\n",
            "como predileto da família, e escravo, portanto infecciona­do de todos os vícios\n",
            "e ferozes impulsos da madre-fera escravidão, insolen­te e malcriado, nem\n",
            "perfeitamente livre, nem absolutamente escravo, bom juiz odiento, pois que\n",
            "conhece as duas condições, e da melhor é bas­tardo, e da pior legítimo\n",
            "filho, o crioulo escravo e estimado de seu se­nhor, torna-se em breve tempo\n",
            "ingrato e muitas vezes leva a ingratidão a perversidade, porque é escravo.\n",
            "-----------------------------------------------------------------------\n",
            "chunk # 16  Doc: https://www.literaturabrasileira.ufsc.br/documentos/?action=download&id=116979  qtde char : 1508  qtde token : 230  start_index: 19217\n",
            "\n",
            "perfeitamente livre, nem absolutamente escravo, bom juiz odiento, pois que\n",
            "conhece as duas condições, e da melhor é bas­tardo, e da pior legítimo\n",
            "filho, o crioulo escravo e estimado de seu se­nhor, torna-se em breve tempo\n",
            "ingrato e muitas vezes leva a ingratidão a perversidade, porque é escravo.\n",
            "Mas a sua ingratidão e a sua perversidade não se\n",
            "explicam pela nature­za da raça, o que seria absurdo; explicam-se pela condição\n",
            "de escravo, que corrompe e perverte o homem.\n",
            "O\n",
            "crioulo amorosamente criado pela família dos senhores seria talvez o seu melhor\n",
            "amigo, se não fosse escravo.\n",
            "V\n",
            "Ninguém poderia ter marcado, nem o próprio Simeão seria\n",
            "capaz de determinar o dia em que lhe toldara as alegrias do coração inocente a\n",
            "pri­meira gota de fel destilado pela consciência da sua escravidão. Havia para\n",
            "ele na casa de seus amorosos senhores um céu e um inferno: na sala o néctar da\n",
            "predileção e da amizade, na cozinha o veneno da inveja e o golfão dos vícios:\n",
            "na cozinha a negra má e impiedosa castigou-lhe as travessuras e exigências\n",
            "incômodas e apadrinhadas pelos senhores, repetindo-lhe mil vezes:\n",
            "– Tu és escravo como eu.\n",
            "E o negro enfezado e ruim perseguia o crioulinho\n",
            "estimado com a ameaça lúgubre de um futuro tormentoso:\n",
            "– Brinca para aí, pobre coitado! Hás de ver como é bom o\n",
            "chicote, quando cresceres...\n",
            "E pouco a pouco Simeão abalado, incessantemente\n",
            "influenciado pela inveja e pelas maldades da cozinha, deixou-se tomar de um\n",
            "constrangi­mento leve, mas invencível, que foi o primeiro sinal da triste\n",
            "-----------------------------------------------------------------------\n",
            "chunk # 17  Doc: https://www.literaturabrasileira.ufsc.br/documentos/?action=download&id=116979  qtde char : 1564  qtde token : 223  start_index: 20442\n",
            "\n",
            "– Brinca para aí, pobre coitado! Hás de ver como é bom o\n",
            "chicote, quando cresceres...\n",
            "E pouco a pouco Simeão abalado, incessantemente\n",
            "influenciado pela inveja e pelas maldades da cozinha, deixou-se tomar de um\n",
            "constrangi­mento leve, mas invencível, que foi o primeiro sinal da triste\n",
            "suspeita do abismo que o separava dos senhores.\n",
            "A cozinha foi sempre adiantando a sua obra: quando\n",
            "conseguiram convencer, compenetrar o crioulinho da baixeza, da miséria da sua\n",
            "condi­ção, as escravas passaram a preparar nele o inimigo dos seus amantes pro­tetores:\n",
            "ensinaram-o a espiar a senhora, a mentir-lhe, a atraiçoá-la, ouvindo-lhe as\n",
            "conversas com o senhor para contá-las na cozinha; desmo­ralizaram-no com as\n",
            "torpezas da linguagem mais indecente, com os qua­dros vivos de gozos\n",
            "esquálidos, com o exemplo freqüente do furto e da embriaguez, e com a lição\n",
            "insistente do ódio concentrado aos senhores.\n",
            "E a sala ajudou sem o pensar, sem o querer, a obra da\n",
            "cozinha.\n",
            "Domingos Caetano e Angélica não destinavam Simeão para\n",
            "trabalha­dor de enxada, e não o fizeram aprender ofício algum, nem lhe deram ta­refa,\n",
            "e ocupação na fazenda: abandonando-o à quase completa ociosida­de, tolerando\n",
            "seus abusos com fraqueza e cega condescendência, e, o que é pior, simulando às\n",
            "vezes exagerada severidade esquecida logo depois, ameaçando sem realizar jamais\n",
            "a ameaça do castigo, dando enfim ao crioulo facilidades para o passeio, não\n",
            "raramente dinheiro para suas des­pesas fúteis, amando-o como filho adotivo, e\n",
            "conservando-o escravo, sem o querer, sem o pensar, auxiliaram as depravações da\n",
            "-----------------------------------------------------------------------\n",
            "chunk # 18  Doc: https://www.literaturabrasileira.ufsc.br/documentos/?action=download&id=116979  qtde char : 1618  qtde token : 232  start_index: 21693\n",
            "\n",
            "vezes exagerada severidade esquecida logo depois, ameaçando sem realizar jamais\n",
            "a ameaça do castigo, dando enfim ao crioulo facilidades para o passeio, não\n",
            "raramente dinheiro para suas des­pesas fúteis, amando-o como filho adotivo, e\n",
            "conservando-o escravo, sem o querer, sem o pensar, auxiliaram as depravações da\n",
            "cozinha que perver­teram o vadio da fazenda.\n",
            "E, maior imprudência ainda, ora Domingos, ora Angélica,\n",
            "cada qual por sua vez sorrindo ao pequeno Simeão, e falando aos amigos que, por\n",
            "favor e agrado a eles, o tratavam com prazenteiros modos, dizia sem cau­tela:\n",
            "– Este não será de outro senhor.\n",
            "E a promessa contida nas palavras referentes ao escravo\n",
            "ainda pequeno foi por muitas bocas traduzida com acerto ao escravo mais tarde\n",
            "jovem, por turvo juízo que encerrava esperança dependente de morte.\n",
            "Diziam a Simeão:\n",
            "– Feliz rapaz! Em seu testamento teu senhor te deixa forro.\n",
            "E, por aborrecimento da escravidão, pelo anelo da\n",
            "liberdade completa, pelo encanto de chegar a ser dono de si próprio, Simeão\n",
            "escravo era já in­grato; porque não pensava mais que a morte de seu benfeitor\n",
            "fosse um su­cesso lamentável.\n",
            "A venda rematou a obra começada pela cozinha e\n",
            "auxiliada pela sala.\n",
            "Não podendo ter parte nos banquetes, nas reuniões\n",
            "festivas, nos diver­timentos da sociedade livre, vendo-os de longe,\n",
            "invejando-os, querendo arremedá-los, Simeão que pairava em uma condição média,\n",
            "mas artifi­cial, inconseqüente e falsa entre as flores da liberdade que não\n",
            "podia co­lher de todo e os espinhos da escravidão que embora não dilacerassem,\n",
            "es­picaçavam-lhe o coração, desceu da situação híbrida para o fundo do abis­mo:\n",
            "-----------------------------------------------------------------------\n",
            "chunk # 19  Doc: https://www.literaturabrasileira.ufsc.br/documentos/?action=download&id=116979  qtde char : 1513  qtde token : 213  start_index: 22998\n",
            "\n",
            "invejando-os, querendo arremedá-los, Simeão que pairava em uma condição média,\n",
            "mas artifi­cial, inconseqüente e falsa entre as flores da liberdade que não\n",
            "podia co­lher de todo e os espinhos da escravidão que embora não dilacerassem,\n",
            "es­picaçavam-lhe o coração, desceu da situação híbrida para o fundo do abis­mo:\n",
            "do fado da senzala da fazenda, passou depressa aos ajuntamentos da venda, e\n",
            "convivendo ali com os escravos mais brutais e corruptos, e com os vadios,\n",
            "turbulentos e viciosos das vizinhanças entregou-se a todos os de­boches, e se\n",
            "fez sócio ativo do jogo aladroado, da embriaguez ignóbil e da luxúria mais\n",
            "torpe.\n",
            "Simeão\n",
            "foi desde então perfeito escravo.\n",
            "VI\n",
            "A\n",
            "necessidade da alimentação dos vícios torna o vadio ladrão.\n",
            "Domingos Caetano e Angélica fatigaram-se de duvidar, e\n",
            "cederam à evidência, reconhecendo que Simeão lhes furtava dinheiro e objetos de\n",
            "valor; mas em vez de castigá-lo com severidade, fracos ainda, quiseram ver no\n",
            "crime apenas uma extravagância da mocidade, e limitaram-se a re­preender com\n",
            "aspereza, e a impedir durante algumas semanas as saídas de Simeão.\n",
            "A insuficiência do castigo serviu somente para irritar o\n",
            "crioulo que, res­sentido da privação de seus prazeres, maldisse dos senhores na\n",
            "cozinha, recrudescendo-lhe a raiva com as zombarias e as provocações dos par­ceiros.\n",
            "A escravidão já tinha com o seu cortejo lógico e quase\n",
            "sempre infalível de todos os sentimentos ruins, de todas as paixões ignóbeis,\n",
            "estragado o crioulo que talvez houvesse nascido com felizes disposições\n",
            "-----------------------------------------------------------------------\n"
          ]
        }
      ]
    },
    {
      "cell_type": "code",
      "source": [
        "maior_chunk_token = 0\n",
        "maior_chunk_token_bert = 0\n",
        "maior_chunk_character = 0\n",
        "\n",
        "for i, chunk in enumerate(chunks):\n",
        "    # Divide o chunk pelo espaço em branco\n",
        "    tokens = chunk.page_content.split(\" \")\n",
        "\n",
        "    # Divide o chunk pelo tokenizador do BERT\n",
        "    tokens_bert = tokenizer_bert.tokenize(chunk.page_content)\n",
        "\n",
        "    # Documento HTML\n",
        "    print('chunk #',i,' Doc:',chunk.metadata['source'],' qtde char :', len(chunk.page_content),' qtde token :', len(tokens), ' qtde token bert:', len(tokens_bert), ' start_index:', chunk.metadata.get('start_index') )\n",
        "    # Documento PDF\n",
        "    #print('chunk #',i,' Doc:',chunk.metadata['source'],' Página:', chunk.metadata['page'], ' qtde char :', len(chunk.page_content),' qtde token :', len(tokens), ' qtde token bert:', len(tokens_bert),' start_index:', chunk.metadata.get('start_index') )\n",
        "\n",
        "    # Procura os maiores valores\n",
        "    if len(tokens) > maior_chunk_token:\n",
        "      maior_chunk_token = len(tokens)\n",
        "    if len(tokens_bert) > maior_chunk_token_bert:\n",
        "      maior_chunk_token_bert = len(tokens_bert)\n",
        "    if len(chunk.page_content) > maior_chunk_character:\n",
        "      maior_chunk_character = len(chunk.page_content)\n",
        "\n",
        "print(\"Maior chunk token:\", maior_chunk_token)\n",
        "print(\"Maior chunk token bert:\", maior_chunk_token_bert)\n",
        "print(\"Maior chunk character:\", maior_chunk_character)"
      ],
      "metadata": {
        "id": "TVyaTCP3vJbR",
        "colab": {
          "base_uri": "https://localhost:8080/"
        },
        "outputId": "f13f8d82-64fe-4e70-a159-d3cd2c486ba5"
      },
      "execution_count": null,
      "outputs": [
        {
          "output_type": "stream",
          "name": "stdout",
          "text": [
            "chunk # 0  Doc: https://www.literaturabrasileira.ufsc.br/documentos/?action=download&id=116979  qtde char : 217  qtde token : 25  qtde token bert: 50  start_index: 16\n",
            "chunk # 1  Doc: https://www.literaturabrasileira.ufsc.br/documentos/?action=download&id=116979  qtde char : 1429  qtde token : 220  qtde token bert: 361  start_index: 235\n",
            "chunk # 2  Doc: https://www.literaturabrasileira.ufsc.br/documentos/?action=download&id=116979  qtde char : 1530  qtde token : 253  qtde token bert: 394  start_index: 1357\n",
            "chunk # 3  Doc: https://www.literaturabrasileira.ufsc.br/documentos/?action=download&id=116979  qtde char : 1602  qtde token : 250  qtde token bert: 403  start_index: 2605\n",
            "chunk # 4  Doc: https://www.literaturabrasileira.ufsc.br/documentos/?action=download&id=116979  qtde char : 1623  qtde token : 244  qtde token bert: 406  start_index: 3902\n",
            "chunk # 5  Doc: https://www.literaturabrasileira.ufsc.br/documentos/?action=download&id=116979  qtde char : 1552  qtde token : 237  qtde token bert: 393  start_index: 5202\n",
            "chunk # 6  Doc: https://www.literaturabrasileira.ufsc.br/documentos/?action=download&id=116979  qtde char : 1511  qtde token : 236  qtde token bert: 390  start_index: 6465\n",
            "chunk # 7  Doc: https://www.literaturabrasileira.ufsc.br/documentos/?action=download&id=116979  qtde char : 1455  qtde token : 221  qtde token bert: 393  start_index: 7686\n",
            "chunk # 8  Doc: https://www.literaturabrasileira.ufsc.br/documentos/?action=download&id=116979  qtde char : 1454  qtde token : 229  qtde token bert: 390  start_index: 8917\n",
            "chunk # 9  Doc: https://www.literaturabrasileira.ufsc.br/documentos/?action=download&id=116979  qtde char : 1549  qtde token : 239  qtde token bert: 388  start_index: 10082\n",
            "chunk # 10  Doc: https://www.literaturabrasileira.ufsc.br/documentos/?action=download&id=116979  qtde char : 1457  qtde token : 226  qtde token bert: 382  start_index: 11398\n",
            "chunk # 11  Doc: https://www.literaturabrasileira.ufsc.br/documentos/?action=download&id=116979  qtde char : 1686  qtde token : 252  qtde token bert: 388  start_index: 12590\n",
            "chunk # 12  Doc: https://www.literaturabrasileira.ufsc.br/documentos/?action=download&id=116979  qtde char : 1653  qtde token : 250  qtde token bert: 379  start_index: 13974\n",
            "chunk # 13  Doc: https://www.literaturabrasileira.ufsc.br/documentos/?action=download&id=116979  qtde char : 1577  qtde token : 233  qtde token bert: 376  start_index: 15289\n",
            "chunk # 14  Doc: https://www.literaturabrasileira.ufsc.br/documentos/?action=download&id=116979  qtde char : 1591  qtde token : 246  qtde token bert: 391  start_index: 16554\n",
            "chunk # 15  Doc: https://www.literaturabrasileira.ufsc.br/documentos/?action=download&id=116979  qtde char : 1659  qtde token : 257  qtde token bert: 394  start_index: 17854\n",
            "chunk # 16  Doc: https://www.literaturabrasileira.ufsc.br/documentos/?action=download&id=116979  qtde char : 1508  qtde token : 230  qtde token bert: 384  start_index: 19217\n",
            "chunk # 17  Doc: https://www.literaturabrasileira.ufsc.br/documentos/?action=download&id=116979  qtde char : 1564  qtde token : 223  qtde token bert: 394  start_index: 20442\n",
            "chunk # 18  Doc: https://www.literaturabrasileira.ufsc.br/documentos/?action=download&id=116979  qtde char : 1618  qtde token : 232  qtde token bert: 390  start_index: 21693\n",
            "chunk # 19  Doc: https://www.literaturabrasileira.ufsc.br/documentos/?action=download&id=116979  qtde char : 1513  qtde token : 213  qtde token bert: 388  start_index: 22998\n",
            "chunk # 20  Doc: https://www.literaturabrasileira.ufsc.br/documentos/?action=download&id=116979  qtde char : 1519  qtde token : 226  qtde token bert: 379  start_index: 24222\n",
            "chunk # 21  Doc: https://www.literaturabrasileira.ufsc.br/documentos/?action=download&id=116979  qtde char : 1327  qtde token : 205  qtde token bert: 377  start_index: 25494\n",
            "chunk # 22  Doc: https://www.literaturabrasileira.ufsc.br/documentos/?action=download&id=116979  qtde char : 1465  qtde token : 224  qtde token bert: 384  start_index: 26561\n",
            "chunk # 23  Doc: https://www.literaturabrasileira.ufsc.br/documentos/?action=download&id=116979  qtde char : 1488  qtde token : 233  qtde token bert: 401  start_index: 27726\n",
            "chunk # 24  Doc: https://www.literaturabrasileira.ufsc.br/documentos/?action=download&id=116979  qtde char : 1435  qtde token : 214  qtde token bert: 380  start_index: 28979\n",
            "chunk # 25  Doc: https://www.literaturabrasileira.ufsc.br/documentos/?action=download&id=116979  qtde char : 1392  qtde token : 222  qtde token bert: 389  start_index: 30088\n",
            "chunk # 26  Doc: https://www.literaturabrasileira.ufsc.br/documentos/?action=download&id=116979  qtde char : 1333  qtde token : 211  qtde token bert: 381  start_index: 31248\n",
            "chunk # 27  Doc: https://www.literaturabrasileira.ufsc.br/documentos/?action=download&id=116979  qtde char : 1551  qtde token : 221  qtde token bert: 379  start_index: 32278\n",
            "chunk # 28  Doc: https://www.literaturabrasileira.ufsc.br/documentos/?action=download&id=116979  qtde char : 1631  qtde token : 252  qtde token bert: 392  start_index: 33532\n",
            "chunk # 29  Doc: https://www.literaturabrasileira.ufsc.br/documentos/?action=download&id=116979  qtde char : 1578  qtde token : 227  qtde token bert: 384  start_index: 34866\n",
            "chunk # 30  Doc: https://www.literaturabrasileira.ufsc.br/documentos/?action=download&id=116979  qtde char : 1619  qtde token : 240  qtde token bert: 394  start_index: 36138\n",
            "chunk # 31  Doc: https://www.literaturabrasileira.ufsc.br/documentos/?action=download&id=116979  qtde char : 1542  qtde token : 231  qtde token bert: 409  start_index: 37492\n",
            "chunk # 32  Doc: https://www.literaturabrasileira.ufsc.br/documentos/?action=download&id=116979  qtde char : 1539  qtde token : 236  qtde token bert: 376  start_index: 38788\n",
            "chunk # 33  Doc: https://www.literaturabrasileira.ufsc.br/documentos/?action=download&id=116979  qtde char : 1507  qtde token : 236  qtde token bert: 379  start_index: 39970\n",
            "chunk # 34  Doc: https://www.literaturabrasileira.ufsc.br/documentos/?action=download&id=116979  qtde char : 1432  qtde token : 228  qtde token bert: 386  start_index: 41247\n",
            "chunk # 35  Doc: https://www.literaturabrasileira.ufsc.br/documentos/?action=download&id=116979  qtde char : 1470  qtde token : 227  qtde token bert: 374  start_index: 42401\n",
            "chunk # 36  Doc: https://www.literaturabrasileira.ufsc.br/documentos/?action=download&id=116979  qtde char : 1580  qtde token : 253  qtde token bert: 376  start_index: 43582\n",
            "chunk # 37  Doc: https://www.literaturabrasileira.ufsc.br/documentos/?action=download&id=116979  qtde char : 1658  qtde token : 254  qtde token bert: 402  start_index: 44858\n",
            "chunk # 38  Doc: https://www.literaturabrasileira.ufsc.br/documentos/?action=download&id=116979  qtde char : 1577  qtde token : 238  qtde token bert: 387  start_index: 46194\n",
            "chunk # 39  Doc: https://www.literaturabrasileira.ufsc.br/documentos/?action=download&id=116979  qtde char : 1568  qtde token : 231  qtde token bert: 370  start_index: 47461\n",
            "chunk # 40  Doc: https://www.literaturabrasileira.ufsc.br/documentos/?action=download&id=116979  qtde char : 1606  qtde token : 243  qtde token bert: 388  start_index: 48714\n",
            "chunk # 41  Doc: https://www.literaturabrasileira.ufsc.br/documentos/?action=download&id=116979  qtde char : 1580  qtde token : 233  qtde token bert: 402  start_index: 50051\n",
            "chunk # 42  Doc: https://www.literaturabrasileira.ufsc.br/documentos/?action=download&id=116979  qtde char : 1526  qtde token : 231  qtde token bert: 379  start_index: 51333\n",
            "chunk # 43  Doc: https://www.literaturabrasileira.ufsc.br/documentos/?action=download&id=116979  qtde char : 1533  qtde token : 238  qtde token bert: 376  start_index: 52568\n",
            "chunk # 44  Doc: https://www.literaturabrasileira.ufsc.br/documentos/?action=download&id=116979  qtde char : 1500  qtde token : 241  qtde token bert: 372  start_index: 53793\n",
            "chunk # 45  Doc: https://www.literaturabrasileira.ufsc.br/documentos/?action=download&id=116979  qtde char : 1246  qtde token : 199  qtde token bert: 367  start_index: 55037\n",
            "chunk # 46  Doc: https://www.literaturabrasileira.ufsc.br/documentos/?action=download&id=116979  qtde char : 1276  qtde token : 202  qtde token bert: 367  start_index: 56024\n",
            "chunk # 47  Doc: https://www.literaturabrasileira.ufsc.br/documentos/?action=download&id=116979  qtde char : 1296  qtde token : 200  qtde token bert: 373  start_index: 57046\n",
            "chunk # 48  Doc: https://www.literaturabrasileira.ufsc.br/documentos/?action=download&id=116979  qtde char : 1426  qtde token : 208  qtde token bert: 369  start_index: 58110\n",
            "chunk # 49  Doc: https://www.literaturabrasileira.ufsc.br/documentos/?action=download&id=116979  qtde char : 1622  qtde token : 251  qtde token bert: 388  start_index: 59231\n",
            "chunk # 50  Doc: https://www.literaturabrasileira.ufsc.br/documentos/?action=download&id=116979  qtde char : 1353  qtde token : 200  qtde token bert: 359  start_index: 60551\n",
            "chunk # 51  Doc: https://www.literaturabrasileira.ufsc.br/documentos/?action=download&id=116979  qtde char : 1580  qtde token : 246  qtde token bert: 377  start_index: 61658\n",
            "chunk # 52  Doc: https://www.literaturabrasileira.ufsc.br/documentos/?action=download&id=116979  qtde char : 1571  qtde token : 267  qtde token bert: 393  start_index: 62927\n",
            "chunk # 53  Doc: https://www.literaturabrasileira.ufsc.br/documentos/?action=download&id=116979  qtde char : 1492  qtde token : 237  qtde token bert: 377  start_index: 64222\n",
            "chunk # 54  Doc: https://www.literaturabrasileira.ufsc.br/documentos/?action=download&id=116979  qtde char : 1578  qtde token : 234  qtde token bert: 394  start_index: 65408\n",
            "chunk # 55  Doc: https://www.literaturabrasileira.ufsc.br/documentos/?action=download&id=116979  qtde char : 1550  qtde token : 242  qtde token bert: 390  start_index: 66689\n",
            "chunk # 56  Doc: https://www.literaturabrasileira.ufsc.br/documentos/?action=download&id=116979  qtde char : 1513  qtde token : 231  qtde token bert: 391  start_index: 67921\n",
            "chunk # 57  Doc: https://www.literaturabrasileira.ufsc.br/documentos/?action=download&id=116979  qtde char : 1527  qtde token : 245  qtde token bert: 381  start_index: 69155\n",
            "chunk # 58  Doc: https://www.literaturabrasileira.ufsc.br/documentos/?action=download&id=116979  qtde char : 1499  qtde token : 234  qtde token bert: 397  start_index: 70459\n",
            "chunk # 59  Doc: https://www.literaturabrasileira.ufsc.br/documentos/?action=download&id=116979  qtde char : 1555  qtde token : 259  qtde token bert: 405  start_index: 71707\n",
            "chunk # 60  Doc: https://www.literaturabrasileira.ufsc.br/documentos/?action=download&id=116979  qtde char : 1524  qtde token : 233  qtde token bert: 383  start_index: 72969\n",
            "chunk # 61  Doc: https://www.literaturabrasileira.ufsc.br/documentos/?action=download&id=116979  qtde char : 1422  qtde token : 229  qtde token bert: 396  start_index: 74218\n",
            "chunk # 62  Doc: https://www.literaturabrasileira.ufsc.br/documentos/?action=download&id=116979  qtde char : 1501  qtde token : 236  qtde token bert: 376  start_index: 75374\n",
            "chunk # 63  Doc: https://www.literaturabrasileira.ufsc.br/documentos/?action=download&id=116979  qtde char : 1606  qtde token : 240  qtde token bert: 373  start_index: 76544\n",
            "chunk # 64  Doc: https://www.literaturabrasileira.ufsc.br/documentos/?action=download&id=116979  qtde char : 1516  qtde token : 233  qtde token bert: 375  start_index: 77871\n",
            "chunk # 65  Doc: https://www.literaturabrasileira.ufsc.br/documentos/?action=download&id=116979  qtde char : 1506  qtde token : 230  qtde token bert: 397  start_index: 79125\n",
            "chunk # 66  Doc: https://www.literaturabrasileira.ufsc.br/documentos/?action=download&id=116979  qtde char : 1448  qtde token : 217  qtde token bert: 390  start_index: 80325\n",
            "chunk # 67  Doc: https://www.literaturabrasileira.ufsc.br/documentos/?action=download&id=116979  qtde char : 1393  qtde token : 211  qtde token bert: 375  start_index: 81532\n",
            "chunk # 68  Doc: https://www.literaturabrasileira.ufsc.br/documentos/?action=download&id=116979  qtde char : 1443  qtde token : 220  qtde token bert: 384  start_index: 82703\n",
            "chunk # 69  Doc: https://www.literaturabrasileira.ufsc.br/documentos/?action=download&id=116979  qtde char : 1391  qtde token : 196  qtde token bert: 368  start_index: 83819\n",
            "chunk # 70  Doc: https://www.literaturabrasileira.ufsc.br/documentos/?action=download&id=116979  qtde char : 1487  qtde token : 226  qtde token bert: 382  start_index: 84957\n",
            "chunk # 71  Doc: https://www.literaturabrasileira.ufsc.br/documentos/?action=download&id=116979  qtde char : 1531  qtde token : 232  qtde token bert: 380  start_index: 86127\n",
            "chunk # 72  Doc: https://www.literaturabrasileira.ufsc.br/documentos/?action=download&id=116979  qtde char : 1482  qtde token : 214  qtde token bert: 384  start_index: 87339\n",
            "chunk # 73  Doc: https://www.literaturabrasileira.ufsc.br/documentos/?action=download&id=116979  qtde char : 1383  qtde token : 186  qtde token bert: 373  start_index: 88542\n",
            "chunk # 74  Doc: https://www.literaturabrasileira.ufsc.br/documentos/?action=download&id=116979  qtde char : 1400  qtde token : 213  qtde token bert: 382  start_index: 89662\n",
            "chunk # 75  Doc: https://www.literaturabrasileira.ufsc.br/documentos/?action=download&id=116979  qtde char : 1390  qtde token : 207  qtde token bert: 378  start_index: 90771\n",
            "chunk # 76  Doc: https://www.literaturabrasileira.ufsc.br/documentos/?action=download&id=116979  qtde char : 1564  qtde token : 248  qtde token bert: 387  start_index: 91881\n",
            "chunk # 77  Doc: https://www.literaturabrasileira.ufsc.br/documentos/?action=download&id=116979  qtde char : 1636  qtde token : 247  qtde token bert: 394  start_index: 93145\n",
            "chunk # 78  Doc: https://www.literaturabrasileira.ufsc.br/documentos/?action=download&id=116979  qtde char : 1509  qtde token : 231  qtde token bert: 379  start_index: 94478\n",
            "chunk # 79  Doc: https://www.literaturabrasileira.ufsc.br/documentos/?action=download&id=116979  qtde char : 1396  qtde token : 211  qtde token bert: 361  start_index: 95735\n",
            "chunk # 80  Doc: https://www.literaturabrasileira.ufsc.br/documentos/?action=download&id=116979  qtde char : 1392  qtde token : 218  qtde token bert: 376  start_index: 96857\n",
            "chunk # 81  Doc: https://www.literaturabrasileira.ufsc.br/documentos/?action=download&id=116979  qtde char : 1484  qtde token : 227  qtde token bert: 374  start_index: 98003\n",
            "chunk # 82  Doc: https://www.literaturabrasileira.ufsc.br/documentos/?action=download&id=116979  qtde char : 1671  qtde token : 263  qtde token bert: 382  start_index: 99194\n",
            "chunk # 83  Doc: https://www.literaturabrasileira.ufsc.br/documentos/?action=download&id=116979  qtde char : 1638  qtde token : 243  qtde token bert: 382  start_index: 100497\n",
            "chunk # 84  Doc: https://www.literaturabrasileira.ufsc.br/documentos/?action=download&id=116979  qtde char : 1503  qtde token : 232  qtde token bert: 389  start_index: 101865\n",
            "chunk # 85  Doc: https://www.literaturabrasileira.ufsc.br/documentos/?action=download&id=116979  qtde char : 1525  qtde token : 232  qtde token bert: 394  start_index: 103086\n",
            "chunk # 86  Doc: https://www.literaturabrasileira.ufsc.br/documentos/?action=download&id=116979  qtde char : 1478  qtde token : 227  qtde token bert: 383  start_index: 104294\n",
            "chunk # 87  Doc: https://www.literaturabrasileira.ufsc.br/documentos/?action=download&id=116979  qtde char : 1452  qtde token : 228  qtde token bert: 391  start_index: 105514\n",
            "chunk # 88  Doc: https://www.literaturabrasileira.ufsc.br/documentos/?action=download&id=116979  qtde char : 1482  qtde token : 220  qtde token bert: 367  start_index: 106689\n",
            "chunk # 89  Doc: https://www.literaturabrasileira.ufsc.br/documentos/?action=download&id=116979  qtde char : 577  qtde token : 82  qtde token bert: 157  start_index: 107930\n",
            "chunk # 90  Doc: https://www.literaturabrasileira.ufsc.br/documentos/?action=download&id=116979  qtde char : 1429  qtde token : 224  qtde token bert: 375  start_index: 108509\n",
            "chunk # 91  Doc: https://www.literaturabrasileira.ufsc.br/documentos/?action=download&id=116979  qtde char : 1422  qtde token : 213  qtde token bert: 366  start_index: 109663\n",
            "chunk # 92  Doc: https://www.literaturabrasileira.ufsc.br/documentos/?action=download&id=116979  qtde char : 1601  qtde token : 241  qtde token bert: 380  start_index: 110785\n",
            "chunk # 93  Doc: https://www.literaturabrasileira.ufsc.br/documentos/?action=download&id=116979  qtde char : 1659  qtde token : 239  qtde token bert: 385  start_index: 112065\n",
            "chunk # 94  Doc: https://www.literaturabrasileira.ufsc.br/documentos/?action=download&id=116979  qtde char : 1523  qtde token : 210  qtde token bert: 366  start_index: 113383\n",
            "chunk # 95  Doc: https://www.literaturabrasileira.ufsc.br/documentos/?action=download&id=116979  qtde char : 1551  qtde token : 230  qtde token bert: 393  start_index: 114633\n",
            "chunk # 96  Doc: https://www.literaturabrasileira.ufsc.br/documentos/?action=download&id=116979  qtde char : 1516  qtde token : 238  qtde token bert: 401  start_index: 115888\n",
            "chunk # 97  Doc: https://www.literaturabrasileira.ufsc.br/documentos/?action=download&id=116979  qtde char : 1490  qtde token : 211  qtde token bert: 390  start_index: 117150\n",
            "chunk # 98  Doc: https://www.literaturabrasileira.ufsc.br/documentos/?action=download&id=116979  qtde char : 1594  qtde token : 237  qtde token bert: 392  start_index: 118346\n",
            "chunk # 99  Doc: https://www.literaturabrasileira.ufsc.br/documentos/?action=download&id=116979  qtde char : 1528  qtde token : 222  qtde token bert: 377  start_index: 119636\n",
            "chunk # 100  Doc: https://www.literaturabrasileira.ufsc.br/documentos/?action=download&id=116979  qtde char : 1649  qtde token : 250  qtde token bert: 402  start_index: 120905\n",
            "chunk # 101  Doc: https://www.literaturabrasileira.ufsc.br/documentos/?action=download&id=116979  qtde char : 1565  qtde token : 229  qtde token bert: 394  start_index: 122250\n",
            "chunk # 102  Doc: https://www.literaturabrasileira.ufsc.br/documentos/?action=download&id=116979  qtde char : 1502  qtde token : 236  qtde token bert: 381  start_index: 123512\n",
            "chunk # 103  Doc: https://www.literaturabrasileira.ufsc.br/documentos/?action=download&id=116979  qtde char : 1687  qtde token : 260  qtde token bert: 400  start_index: 124705\n",
            "chunk # 104  Doc: https://www.literaturabrasileira.ufsc.br/documentos/?action=download&id=116979  qtde char : 1754  qtde token : 279  qtde token bert: 392  start_index: 126074\n",
            "chunk # 105  Doc: https://www.literaturabrasileira.ufsc.br/documentos/?action=download&id=116979  qtde char : 1678  qtde token : 256  qtde token bert: 383  start_index: 127444\n",
            "chunk # 106  Doc: https://www.literaturabrasileira.ufsc.br/documentos/?action=download&id=116979  qtde char : 1488  qtde token : 235  qtde token bert: 388  start_index: 128799\n",
            "chunk # 107  Doc: https://www.literaturabrasileira.ufsc.br/documentos/?action=download&id=116979  qtde char : 1581  qtde token : 237  qtde token bert: 394  start_index: 130028\n",
            "chunk # 108  Doc: https://www.literaturabrasileira.ufsc.br/documentos/?action=download&id=116979  qtde char : 1605  qtde token : 239  qtde token bert: 392  start_index: 131304\n",
            "chunk # 109  Doc: https://www.literaturabrasileira.ufsc.br/documentos/?action=download&id=116979  qtde char : 1631  qtde token : 234  qtde token bert: 400  start_index: 132586\n",
            "chunk # 110  Doc: https://www.literaturabrasileira.ufsc.br/documentos/?action=download&id=116979  qtde char : 1612  qtde token : 238  qtde token bert: 385  start_index: 133900\n",
            "chunk # 111  Doc: https://www.literaturabrasileira.ufsc.br/documentos/?action=download&id=116979  qtde char : 1392  qtde token : 198  qtde token bert: 360  start_index: 135191\n",
            "chunk # 112  Doc: https://www.literaturabrasileira.ufsc.br/documentos/?action=download&id=116979  qtde char : 1518  qtde token : 237  qtde token bert: 365  start_index: 136283\n",
            "chunk # 113  Doc: https://www.literaturabrasileira.ufsc.br/documentos/?action=download&id=116979  qtde char : 1524  qtde token : 225  qtde token bert: 381  start_index: 137803\n",
            "chunk # 114  Doc: https://www.literaturabrasileira.ufsc.br/documentos/?action=download&id=116979  qtde char : 1457  qtde token : 204  qtde token bert: 386  start_index: 139092\n",
            "chunk # 115  Doc: https://www.literaturabrasileira.ufsc.br/documentos/?action=download&id=116979  qtde char : 1535  qtde token : 219  qtde token bert: 386  start_index: 140261\n",
            "chunk # 116  Doc: https://www.literaturabrasileira.ufsc.br/documentos/?action=download&id=116979  qtde char : 1587  qtde token : 232  qtde token bert: 403  start_index: 141502\n",
            "chunk # 117  Doc: https://www.literaturabrasileira.ufsc.br/documentos/?action=download&id=116979  qtde char : 1453  qtde token : 222  qtde token bert: 401  start_index: 142785\n",
            "chunk # 118  Doc: https://www.literaturabrasileira.ufsc.br/documentos/?action=download&id=116979  qtde char : 1472  qtde token : 222  qtde token bert: 383  start_index: 143950\n",
            "chunk # 119  Doc: https://www.literaturabrasileira.ufsc.br/documentos/?action=download&id=116979  qtde char : 1583  qtde token : 227  qtde token bert: 390  start_index: 145099\n",
            "chunk # 120  Doc: https://www.literaturabrasileira.ufsc.br/documentos/?action=download&id=116979  qtde char : 1548  qtde token : 227  qtde token bert: 393  start_index: 146362\n",
            "chunk # 121  Doc: https://www.literaturabrasileira.ufsc.br/documentos/?action=download&id=116979  qtde char : 1487  qtde token : 213  qtde token bert: 391  start_index: 147649\n",
            "chunk # 122  Doc: https://www.literaturabrasileira.ufsc.br/documentos/?action=download&id=116979  qtde char : 1489  qtde token : 218  qtde token bert: 397  start_index: 148854\n",
            "chunk # 123  Doc: https://www.literaturabrasileira.ufsc.br/documentos/?action=download&id=116979  qtde char : 1502  qtde token : 230  qtde token bert: 389  start_index: 150061\n",
            "chunk # 124  Doc: https://www.literaturabrasileira.ufsc.br/documentos/?action=download&id=116979  qtde char : 1677  qtde token : 237  qtde token bert: 387  start_index: 151288\n",
            "chunk # 125  Doc: https://www.literaturabrasileira.ufsc.br/documentos/?action=download&id=116979  qtde char : 1667  qtde token : 230  qtde token bert: 386  start_index: 152620\n",
            "chunk # 126  Doc: https://www.literaturabrasileira.ufsc.br/documentos/?action=download&id=116979  qtde char : 1518  qtde token : 230  qtde token bert: 385  start_index: 153998\n",
            "chunk # 127  Doc: https://www.literaturabrasileira.ufsc.br/documentos/?action=download&id=116979  qtde char : 1453  qtde token : 227  qtde token bert: 376  start_index: 155264\n",
            "chunk # 128  Doc: https://www.literaturabrasileira.ufsc.br/documentos/?action=download&id=116979  qtde char : 1479  qtde token : 222  qtde token bert: 382  start_index: 156422\n",
            "chunk # 129  Doc: https://www.literaturabrasileira.ufsc.br/documentos/?action=download&id=116979  qtde char : 1337  qtde token : 207  qtde token bert: 393  start_index: 157698\n",
            "chunk # 130  Doc: https://www.literaturabrasileira.ufsc.br/documentos/?action=download&id=116979  qtde char : 1110  qtde token : 166  qtde token bert: 365  start_index: 158796\n",
            "chunk # 131  Doc: https://www.literaturabrasileira.ufsc.br/documentos/?action=download&id=116979  qtde char : 1293  qtde token : 194  qtde token bert: 366  start_index: 159729\n",
            "chunk # 132  Doc: https://www.literaturabrasileira.ufsc.br/documentos/?action=download&id=116979  qtde char : 1451  qtde token : 220  qtde token bert: 380  start_index: 160788\n",
            "chunk # 133  Doc: https://www.literaturabrasileira.ufsc.br/documentos/?action=download&id=116979  qtde char : 1412  qtde token : 206  qtde token bert: 379  start_index: 161952\n",
            "chunk # 134  Doc: https://www.literaturabrasileira.ufsc.br/documentos/?action=download&id=116979  qtde char : 1357  qtde token : 212  qtde token bert: 372  start_index: 163107\n",
            "chunk # 135  Doc: https://www.literaturabrasileira.ufsc.br/documentos/?action=download&id=116979  qtde char : 1363  qtde token : 216  qtde token bert: 376  start_index: 164189\n",
            "chunk # 136  Doc: https://www.literaturabrasileira.ufsc.br/documentos/?action=download&id=116979  qtde char : 1303  qtde token : 204  qtde token bert: 383  start_index: 165334\n",
            "chunk # 137  Doc: https://www.literaturabrasileira.ufsc.br/documentos/?action=download&id=116979  qtde char : 1504  qtde token : 222  qtde token bert: 382  start_index: 166355\n",
            "chunk # 138  Doc: https://www.literaturabrasileira.ufsc.br/documentos/?action=download&id=116979  qtde char : 1570  qtde token : 238  qtde token bert: 391  start_index: 167566\n",
            "chunk # 139  Doc: https://www.literaturabrasileira.ufsc.br/documentos/?action=download&id=116979  qtde char : 1528  qtde token : 229  qtde token bert: 392  start_index: 168861\n",
            "chunk # 140  Doc: https://www.literaturabrasileira.ufsc.br/documentos/?action=download&id=116979  qtde char : 1605  qtde token : 229  qtde token bert: 381  start_index: 170139\n",
            "chunk # 141  Doc: https://www.literaturabrasileira.ufsc.br/documentos/?action=download&id=116979  qtde char : 1609  qtde token : 262  qtde token bert: 401  start_index: 171421\n",
            "chunk # 142  Doc: https://www.literaturabrasileira.ufsc.br/documentos/?action=download&id=116979  qtde char : 1648  qtde token : 245  qtde token bert: 391  start_index: 172724\n",
            "chunk # 143  Doc: https://www.literaturabrasileira.ufsc.br/documentos/?action=download&id=116979  qtde char : 1607  qtde token : 230  qtde token bert: 390  start_index: 174031\n",
            "chunk # 144  Doc: https://www.literaturabrasileira.ufsc.br/documentos/?action=download&id=116979  qtde char : 1523  qtde token : 228  qtde token bert: 402  start_index: 175368\n",
            "chunk # 145  Doc: https://www.literaturabrasileira.ufsc.br/documentos/?action=download&id=116979  qtde char : 1548  qtde token : 241  qtde token bert: 390  start_index: 176656\n",
            "chunk # 146  Doc: https://www.literaturabrasileira.ufsc.br/documentos/?action=download&id=116979  qtde char : 1471  qtde token : 225  qtde token bert: 398  start_index: 177923\n",
            "chunk # 147  Doc: https://www.literaturabrasileira.ufsc.br/documentos/?action=download&id=116979  qtde char : 1572  qtde token : 240  qtde token bert: 401  start_index: 179092\n",
            "chunk # 148  Doc: https://www.literaturabrasileira.ufsc.br/documentos/?action=download&id=116979  qtde char : 1595  qtde token : 246  qtde token bert: 391  start_index: 180339\n",
            "chunk # 149  Doc: https://www.literaturabrasileira.ufsc.br/documentos/?action=download&id=116979  qtde char : 1573  qtde token : 237  qtde token bert: 376  start_index: 181606\n",
            "chunk # 150  Doc: https://www.literaturabrasileira.ufsc.br/documentos/?action=download&id=116979  qtde char : 1715  qtde token : 264  qtde token bert: 392  start_index: 182880\n",
            "chunk # 151  Doc: https://www.literaturabrasileira.ufsc.br/documentos/?action=download&id=116979  qtde char : 1568  qtde token : 227  qtde token bert: 392  start_index: 184292\n",
            "chunk # 152  Doc: https://www.literaturabrasileira.ufsc.br/documentos/?action=download&id=116979  qtde char : 1686  qtde token : 248  qtde token bert: 405  start_index: 185553\n",
            "chunk # 153  Doc: https://www.literaturabrasileira.ufsc.br/documentos/?action=download&id=116979  qtde char : 1634  qtde token : 244  qtde token bert: 397  start_index: 186931\n",
            "chunk # 154  Doc: https://www.literaturabrasileira.ufsc.br/documentos/?action=download&id=116979  qtde char : 1524  qtde token : 214  qtde token bert: 381  start_index: 188233\n",
            "chunk # 155  Doc: https://www.literaturabrasileira.ufsc.br/documentos/?action=download&id=116979  qtde char : 1528  qtde token : 209  qtde token bert: 399  start_index: 189476\n",
            "chunk # 156  Doc: https://www.literaturabrasileira.ufsc.br/documentos/?action=download&id=116979  qtde char : 1525  qtde token : 236  qtde token bert: 398  start_index: 190717\n",
            "chunk # 157  Doc: https://www.literaturabrasileira.ufsc.br/documentos/?action=download&id=116979  qtde char : 1318  qtde token : 213  qtde token bert: 377  start_index: 191923\n",
            "chunk # 158  Doc: https://www.literaturabrasileira.ufsc.br/documentos/?action=download&id=116979  qtde char : 1323  qtde token : 218  qtde token bert: 387  start_index: 192991\n",
            "chunk # 159  Doc: https://www.literaturabrasileira.ufsc.br/documentos/?action=download&id=116979  qtde char : 1520  qtde token : 233  qtde token bert: 380  start_index: 194002\n",
            "chunk # 160  Doc: https://www.literaturabrasileira.ufsc.br/documentos/?action=download&id=116979  qtde char : 1386  qtde token : 222  qtde token bert: 373  start_index: 195220\n",
            "chunk # 161  Doc: https://www.literaturabrasileira.ufsc.br/documentos/?action=download&id=116979  qtde char : 1305  qtde token : 212  qtde token bert: 375  start_index: 196355\n",
            "chunk # 162  Doc: https://www.literaturabrasileira.ufsc.br/documentos/?action=download&id=116979  qtde char : 1340  qtde token : 214  qtde token bert: 381  start_index: 197407\n",
            "chunk # 163  Doc: https://www.literaturabrasileira.ufsc.br/documentos/?action=download&id=116979  qtde char : 1412  qtde token : 229  qtde token bert: 370  start_index: 198473\n",
            "chunk # 164  Doc: https://www.literaturabrasileira.ufsc.br/documentos/?action=download&id=116979  qtde char : 1399  qtde token : 224  qtde token bert: 378  start_index: 199595\n",
            "chunk # 165  Doc: https://www.literaturabrasileira.ufsc.br/documentos/?action=download&id=116979  qtde char : 1473  qtde token : 233  qtde token bert: 408  start_index: 200718\n",
            "chunk # 166  Doc: https://www.literaturabrasileira.ufsc.br/documentos/?action=download&id=116979  qtde char : 1593  qtde token : 241  qtde token bert: 384  start_index: 201916\n",
            "chunk # 167  Doc: https://www.literaturabrasileira.ufsc.br/documentos/?action=download&id=116979  qtde char : 1641  qtde token : 255  qtde token bert: 400  start_index: 203181\n",
            "chunk # 168  Doc: https://www.literaturabrasileira.ufsc.br/documentos/?action=download&id=116979  qtde char : 1478  qtde token : 231  qtde token bert: 387  start_index: 204575\n",
            "chunk # 169  Doc: https://www.literaturabrasileira.ufsc.br/documentos/?action=download&id=116979  qtde char : 1526  qtde token : 249  qtde token bert: 392  start_index: 205750\n",
            "chunk # 170  Doc: https://www.literaturabrasileira.ufsc.br/documentos/?action=download&id=116979  qtde char : 1629  qtde token : 240  qtde token bert: 394  start_index: 206955\n",
            "chunk # 171  Doc: https://www.literaturabrasileira.ufsc.br/documentos/?action=download&id=116979  qtde char : 1645  qtde token : 232  qtde token bert: 398  start_index: 208256\n",
            "chunk # 172  Doc: https://www.literaturabrasileira.ufsc.br/documentos/?action=download&id=116979  qtde char : 1442  qtde token : 215  qtde token bert: 394  start_index: 209648\n",
            "chunk # 173  Doc: https://www.literaturabrasileira.ufsc.br/documentos/?action=download&id=116979  qtde char : 1451  qtde token : 211  qtde token bert: 370  start_index: 210806\n",
            "chunk # 174  Doc: https://www.literaturabrasileira.ufsc.br/documentos/?action=download&id=116979  qtde char : 1754  qtde token : 230  qtde token bert: 372  start_index: 211927\n",
            "chunk # 175  Doc: https://www.literaturabrasileira.ufsc.br/documentos/?action=download&id=116979  qtde char : 1610  qtde token : 235  qtde token bert: 397  start_index: 213370\n",
            "chunk # 176  Doc: https://www.literaturabrasileira.ufsc.br/documentos/?action=download&id=116979  qtde char : 1513  qtde token : 232  qtde token bert: 390  start_index: 214669\n",
            "chunk # 177  Doc: https://www.literaturabrasileira.ufsc.br/documentos/?action=download&id=116979  qtde char : 1348  qtde token : 209  qtde token bert: 380  start_index: 215912\n",
            "chunk # 178  Doc: https://www.literaturabrasileira.ufsc.br/documentos/?action=download&id=116979  qtde char : 1458  qtde token : 227  qtde token bert: 379  start_index: 216996\n",
            "chunk # 179  Doc: https://www.literaturabrasileira.ufsc.br/documentos/?action=download&id=116979  qtde char : 1527  qtde token : 238  qtde token bert: 384  start_index: 218184\n",
            "chunk # 180  Doc: https://www.literaturabrasileira.ufsc.br/documentos/?action=download&id=116979  qtde char : 1241  qtde token : 206  qtde token bert: 383  start_index: 219484\n",
            "chunk # 181  Doc: https://www.literaturabrasileira.ufsc.br/documentos/?action=download&id=116979  qtde char : 1226  qtde token : 202  qtde token bert: 366  start_index: 220508\n",
            "chunk # 182  Doc: https://www.literaturabrasileira.ufsc.br/documentos/?action=download&id=116979  qtde char : 1342  qtde token : 204  qtde token bert: 370  start_index: 221499\n",
            "chunk # 183  Doc: https://www.literaturabrasileira.ufsc.br/documentos/?action=download&id=116979  qtde char : 1624  qtde token : 248  qtde token bert: 392  start_index: 222550\n",
            "chunk # 184  Doc: https://www.literaturabrasileira.ufsc.br/documentos/?action=download&id=116979  qtde char : 1684  qtde token : 253  qtde token bert: 402  start_index: 223836\n",
            "chunk # 185  Doc: https://www.literaturabrasileira.ufsc.br/documentos/?action=download&id=116979  qtde char : 1615  qtde token : 245  qtde token bert: 385  start_index: 225212\n",
            "chunk # 186  Doc: https://www.literaturabrasileira.ufsc.br/documentos/?action=download&id=116979  qtde char : 1652  qtde token : 243  qtde token bert: 398  start_index: 226482\n",
            "chunk # 187  Doc: https://www.literaturabrasileira.ufsc.br/documentos/?action=download&id=116979  qtde char : 1406  qtde token : 213  qtde token bert: 391  start_index: 227841\n",
            "chunk # 188  Doc: https://www.literaturabrasileira.ufsc.br/documentos/?action=download&id=116979  qtde char : 1358  qtde token : 220  qtde token bert: 387  start_index: 228984\n",
            "chunk # 189  Doc: https://www.literaturabrasileira.ufsc.br/documentos/?action=download&id=116979  qtde char : 1372  qtde token : 214  qtde token bert: 382  start_index: 230060\n",
            "chunk # 190  Doc: https://www.literaturabrasileira.ufsc.br/documentos/?action=download&id=116979  qtde char : 1379  qtde token : 203  qtde token bert: 382  start_index: 231206\n",
            "chunk # 191  Doc: https://www.literaturabrasileira.ufsc.br/documentos/?action=download&id=116979  qtde char : 1566  qtde token : 237  qtde token bert: 396  start_index: 232343\n",
            "chunk # 192  Doc: https://www.literaturabrasileira.ufsc.br/documentos/?action=download&id=116979  qtde char : 1526  qtde token : 231  qtde token bert: 386  start_index: 233603\n",
            "chunk # 193  Doc: https://www.literaturabrasileira.ufsc.br/documentos/?action=download&id=116979  qtde char : 1594  qtde token : 231  qtde token bert: 398  start_index: 234875\n",
            "chunk # 194  Doc: https://www.literaturabrasileira.ufsc.br/documentos/?action=download&id=116979  qtde char : 1463  qtde token : 217  qtde token bert: 372  start_index: 236172\n",
            "chunk # 195  Doc: https://www.literaturabrasileira.ufsc.br/documentos/?action=download&id=116979  qtde char : 1542  qtde token : 213  qtde token bert: 384  start_index: 237354\n",
            "chunk # 196  Doc: https://www.literaturabrasileira.ufsc.br/documentos/?action=download&id=116979  qtde char : 1508  qtde token : 236  qtde token bert: 383  start_index: 238641\n",
            "chunk # 197  Doc: https://www.literaturabrasileira.ufsc.br/documentos/?action=download&id=116979  qtde char : 1420  qtde token : 228  qtde token bert: 374  start_index: 239914\n",
            "chunk # 198  Doc: https://www.literaturabrasileira.ufsc.br/documentos/?action=download&id=116979  qtde char : 1581  qtde token : 236  qtde token bert: 398  start_index: 241068\n",
            "chunk # 199  Doc: https://www.literaturabrasileira.ufsc.br/documentos/?action=download&id=116979  qtde char : 1593  qtde token : 226  qtde token bert: 387  start_index: 242368\n",
            "chunk # 200  Doc: https://www.literaturabrasileira.ufsc.br/documentos/?action=download&id=116979  qtde char : 1371  qtde token : 211  qtde token bert: 378  start_index: 243654\n",
            "chunk # 201  Doc: https://www.literaturabrasileira.ufsc.br/documentos/?action=download&id=116979  qtde char : 1511  qtde token : 243  qtde token bert: 395  start_index: 244770\n",
            "chunk # 202  Doc: https://www.literaturabrasileira.ufsc.br/documentos/?action=download&id=116979  qtde char : 1396  qtde token : 222  qtde token bert: 385  start_index: 246008\n",
            "chunk # 203  Doc: https://www.literaturabrasileira.ufsc.br/documentos/?action=download&id=116979  qtde char : 1309  qtde token : 211  qtde token bert: 383  start_index: 247227\n",
            "chunk # 204  Doc: https://www.literaturabrasileira.ufsc.br/documentos/?action=download&id=116979  qtde char : 1458  qtde token : 219  qtde token bert: 370  start_index: 248233\n",
            "chunk # 205  Doc: https://www.literaturabrasileira.ufsc.br/documentos/?action=download&id=116979  qtde char : 1535  qtde token : 226  qtde token bert: 392  start_index: 249407\n",
            "chunk # 206  Doc: https://www.literaturabrasileira.ufsc.br/documentos/?action=download&id=116979  qtde char : 1472  qtde token : 219  qtde token bert: 395  start_index: 250639\n",
            "chunk # 207  Doc: https://www.literaturabrasileira.ufsc.br/documentos/?action=download&id=116979  qtde char : 1249  qtde token : 209  qtde token bert: 363  start_index: 251887\n",
            "chunk # 208  Doc: https://www.literaturabrasileira.ufsc.br/documentos/?action=download&id=116979  qtde char : 1278  qtde token : 192  qtde token bert: 373  start_index: 252912\n",
            "chunk # 209  Doc: https://www.literaturabrasileira.ufsc.br/documentos/?action=download&id=116979  qtde char : 1521  qtde token : 234  qtde token bert: 378  start_index: 253842\n",
            "chunk # 210  Doc: https://www.literaturabrasileira.ufsc.br/documentos/?action=download&id=116979  qtde char : 1362  qtde token : 213  qtde token bert: 382  start_index: 255151\n",
            "chunk # 211  Doc: https://www.literaturabrasileira.ufsc.br/documentos/?action=download&id=116979  qtde char : 1360  qtde token : 208  qtde token bert: 359  start_index: 256252\n",
            "chunk # 212  Doc: https://www.literaturabrasileira.ufsc.br/documentos/?action=download&id=116979  qtde char : 1475  qtde token : 227  qtde token bert: 386  start_index: 257331\n",
            "chunk # 213  Doc: https://www.literaturabrasileira.ufsc.br/documentos/?action=download&id=116979  qtde char : 1228  qtde token : 186  qtde token bert: 372  start_index: 258562\n",
            "chunk # 214  Doc: https://www.literaturabrasileira.ufsc.br/documentos/?action=download&id=116979  qtde char : 1326  qtde token : 200  qtde token bert: 362  start_index: 259604\n",
            "chunk # 215  Doc: https://www.literaturabrasileira.ufsc.br/documentos/?action=download&id=116979  qtde char : 1472  qtde token : 224  qtde token bert: 376  start_index: 260667\n",
            "chunk # 216  Doc: https://www.literaturabrasileira.ufsc.br/documentos/?action=download&id=116979  qtde char : 1453  qtde token : 236  qtde token bert: 396  start_index: 261830\n",
            "chunk # 217  Doc: https://www.literaturabrasileira.ufsc.br/documentos/?action=download&id=116979  qtde char : 1487  qtde token : 231  qtde token bert: 379  start_index: 262959\n",
            "chunk # 218  Doc: https://www.literaturabrasileira.ufsc.br/documentos/?action=download&id=116979  qtde char : 1443  qtde token : 212  qtde token bert: 382  start_index: 264207\n",
            "chunk # 219  Doc: https://www.literaturabrasileira.ufsc.br/documentos/?action=download&id=116979  qtde char : 1472  qtde token : 214  qtde token bert: 375  start_index: 265417\n",
            "chunk # 220  Doc: https://www.literaturabrasileira.ufsc.br/documentos/?action=download&id=116979  qtde char : 1679  qtde token : 247  qtde token bert: 379  start_index: 266613\n",
            "chunk # 221  Doc: https://www.literaturabrasileira.ufsc.br/documentos/?action=download&id=116979  qtde char : 1624  qtde token : 248  qtde token bert: 391  start_index: 267993\n",
            "chunk # 222  Doc: https://www.literaturabrasileira.ufsc.br/documentos/?action=download&id=116979  qtde char : 1587  qtde token : 254  qtde token bert: 407  start_index: 269309\n",
            "chunk # 223  Doc: https://www.literaturabrasileira.ufsc.br/documentos/?action=download&id=116979  qtde char : 1505  qtde token : 226  qtde token bert: 387  start_index: 270597\n",
            "chunk # 224  Doc: https://www.literaturabrasileira.ufsc.br/documentos/?action=download&id=116979  qtde char : 1351  qtde token : 211  qtde token bert: 379  start_index: 271852\n",
            "chunk # 225  Doc: https://www.literaturabrasileira.ufsc.br/documentos/?action=download&id=116979  qtde char : 1381  qtde token : 221  qtde token bert: 372  start_index: 272922\n",
            "chunk # 226  Doc: https://www.literaturabrasileira.ufsc.br/documentos/?action=download&id=116979  qtde char : 1702  qtde token : 262  qtde token bert: 383  start_index: 274022\n",
            "chunk # 227  Doc: https://www.literaturabrasileira.ufsc.br/documentos/?action=download&id=116979  qtde char : 1600  qtde token : 258  qtde token bert: 397  start_index: 275416\n",
            "chunk # 228  Doc: https://www.literaturabrasileira.ufsc.br/documentos/?action=download&id=116979  qtde char : 1509  qtde token : 242  qtde token bert: 401  start_index: 276743\n",
            "chunk # 229  Doc: https://www.literaturabrasileira.ufsc.br/documentos/?action=download&id=116979  qtde char : 1661  qtde token : 253  qtde token bert: 385  start_index: 277946\n",
            "chunk # 230  Doc: https://www.literaturabrasileira.ufsc.br/documentos/?action=download&id=116979  qtde char : 1698  qtde token : 257  qtde token bert: 397  start_index: 279301\n",
            "chunk # 231  Doc: https://www.literaturabrasileira.ufsc.br/documentos/?action=download&id=116979  qtde char : 1726  qtde token : 261  qtde token bert: 387  start_index: 280648\n",
            "chunk # 232  Doc: https://www.literaturabrasileira.ufsc.br/documentos/?action=download&id=116979  qtde char : 1597  qtde token : 251  qtde token bert: 398  start_index: 282073\n",
            "chunk # 233  Doc: https://www.literaturabrasileira.ufsc.br/documentos/?action=download&id=116979  qtde char : 1568  qtde token : 241  qtde token bert: 398  start_index: 283372\n",
            "chunk # 234  Doc: https://www.literaturabrasileira.ufsc.br/documentos/?action=download&id=116979  qtde char : 1523  qtde token : 225  qtde token bert: 387  start_index: 284657\n",
            "chunk # 235  Doc: https://www.literaturabrasileira.ufsc.br/documentos/?action=download&id=116979  qtde char : 1577  qtde token : 244  qtde token bert: 403  start_index: 285854\n",
            "chunk # 236  Doc: https://www.literaturabrasileira.ufsc.br/documentos/?action=download&id=116979  qtde char : 1497  qtde token : 241  qtde token bert: 407  start_index: 287148\n",
            "chunk # 237  Doc: https://www.literaturabrasileira.ufsc.br/documentos/?action=download&id=116979  qtde char : 1580  qtde token : 255  qtde token bert: 408  start_index: 288337\n",
            "chunk # 238  Doc: https://www.literaturabrasileira.ufsc.br/documentos/?action=download&id=116979  qtde char : 1558  qtde token : 247  qtde token bert: 389  start_index: 289619\n",
            "chunk # 239  Doc: https://www.literaturabrasileira.ufsc.br/documentos/?action=download&id=116979  qtde char : 1688  qtde token : 249  qtde token bert: 401  start_index: 290880\n",
            "chunk # 240  Doc: https://www.literaturabrasileira.ufsc.br/documentos/?action=download&id=116979  qtde char : 782  qtde token : 120  qtde token bert: 188  start_index: 292238\n",
            "chunk # 241  Doc: https://www.literaturabrasileira.ufsc.br/documentos/?action=download&id=116979  qtde char : 1578  qtde token : 243  qtde token bert: 380  start_index: 293022\n",
            "chunk # 242  Doc: https://www.literaturabrasileira.ufsc.br/documentos/?action=download&id=116979  qtde char : 1593  qtde token : 247  qtde token bert: 392  start_index: 294306\n",
            "chunk # 243  Doc: https://www.literaturabrasileira.ufsc.br/documentos/?action=download&id=116979  qtde char : 1450  qtde token : 217  qtde token bert: 396  start_index: 295583\n",
            "chunk # 244  Doc: https://www.literaturabrasileira.ufsc.br/documentos/?action=download&id=116979  qtde char : 1405  qtde token : 213  qtde token bert: 385  start_index: 296751\n",
            "chunk # 245  Doc: https://www.literaturabrasileira.ufsc.br/documentos/?action=download&id=116979  qtde char : 1386  qtde token : 210  qtde token bert: 364  start_index: 297868\n",
            "chunk # 246  Doc: https://www.literaturabrasileira.ufsc.br/documentos/?action=download&id=116979  qtde char : 1406  qtde token : 209  qtde token bert: 368  start_index: 299051\n",
            "chunk # 247  Doc: https://www.literaturabrasileira.ufsc.br/documentos/?action=download&id=116979  qtde char : 1607  qtde token : 244  qtde token bert: 390  start_index: 300203\n",
            "chunk # 248  Doc: https://www.literaturabrasileira.ufsc.br/documentos/?action=download&id=116979  qtde char : 1575  qtde token : 243  qtde token bert: 392  start_index: 301508\n",
            "chunk # 249  Doc: https://www.literaturabrasileira.ufsc.br/documentos/?action=download&id=116979  qtde char : 1309  qtde token : 228  qtde token bert: 382  start_index: 302824\n",
            "chunk # 250  Doc: https://www.literaturabrasileira.ufsc.br/documentos/?action=download&id=116979  qtde char : 1410  qtde token : 210  qtde token bert: 379  start_index: 303894\n",
            "chunk # 251  Doc: https://www.literaturabrasileira.ufsc.br/documentos/?action=download&id=116979  qtde char : 1610  qtde token : 252  qtde token bert: 397  start_index: 304980\n",
            "chunk # 252  Doc: https://www.literaturabrasileira.ufsc.br/documentos/?action=download&id=116979  qtde char : 1332  qtde token : 210  qtde token bert: 378  start_index: 306308\n",
            "chunk # 253  Doc: https://www.literaturabrasileira.ufsc.br/documentos/?action=download&id=116979  qtde char : 1549  qtde token : 226  qtde token bert: 398  start_index: 307326\n",
            "chunk # 254  Doc: https://www.literaturabrasileira.ufsc.br/documentos/?action=download&id=116979  qtde char : 1344  qtde token : 206  qtde token bert: 377  start_index: 308598\n",
            "chunk # 255  Doc: https://www.literaturabrasileira.ufsc.br/documentos/?action=download&id=116979  qtde char : 1405  qtde token : 219  qtde token bert: 380  start_index: 309676\n",
            "chunk # 256  Doc: https://www.literaturabrasileira.ufsc.br/documentos/?action=download&id=116979  qtde char : 1667  qtde token : 247  qtde token bert: 405  start_index: 310810\n",
            "chunk # 257  Doc: https://www.literaturabrasileira.ufsc.br/documentos/?action=download&id=116979  qtde char : 1498  qtde token : 212  qtde token bert: 377  start_index: 312195\n",
            "chunk # 258  Doc: https://www.literaturabrasileira.ufsc.br/documentos/?action=download&id=116979  qtde char : 1244  qtde token : 194  qtde token bert: 380  start_index: 313489\n",
            "chunk # 259  Doc: https://www.literaturabrasileira.ufsc.br/documentos/?action=download&id=116979  qtde char : 1345  qtde token : 212  qtde token bert: 370  start_index: 314476\n",
            "chunk # 260  Doc: https://www.literaturabrasileira.ufsc.br/documentos/?action=download&id=116979  qtde char : 1455  qtde token : 232  qtde token bert: 369  start_index: 315538\n",
            "chunk # 261  Doc: https://www.literaturabrasileira.ufsc.br/documentos/?action=download&id=116979  qtde char : 1640  qtde token : 255  qtde token bert: 386  start_index: 316670\n",
            "chunk # 262  Doc: https://www.literaturabrasileira.ufsc.br/documentos/?action=download&id=116979  qtde char : 1539  qtde token : 242  qtde token bert: 387  start_index: 317995\n",
            "chunk # 263  Doc: https://www.literaturabrasileira.ufsc.br/documentos/?action=download&id=116979  qtde char : 1432  qtde token : 224  qtde token bert: 387  start_index: 319286\n",
            "chunk # 264  Doc: https://www.literaturabrasileira.ufsc.br/documentos/?action=download&id=116979  qtde char : 1241  qtde token : 208  qtde token bert: 361  start_index: 320501\n",
            "chunk # 265  Doc: https://www.literaturabrasileira.ufsc.br/documentos/?action=download&id=116979  qtde char : 1317  qtde token : 213  qtde token bert: 372  start_index: 321527\n",
            "chunk # 266  Doc: https://www.literaturabrasileira.ufsc.br/documentos/?action=download&id=116979  qtde char : 1573  qtde token : 241  qtde token bert: 384  start_index: 322611\n",
            "chunk # 267  Doc: https://www.literaturabrasileira.ufsc.br/documentos/?action=download&id=116979  qtde char : 1650  qtde token : 256  qtde token bert: 401  start_index: 323867\n",
            "chunk # 268  Doc: https://www.literaturabrasileira.ufsc.br/documentos/?action=download&id=116979  qtde char : 1534  qtde token : 234  qtde token bert: 398  start_index: 325212\n",
            "chunk # 269  Doc: https://www.literaturabrasileira.ufsc.br/documentos/?action=download&id=116979  qtde char : 1471  qtde token : 228  qtde token bert: 382  start_index: 326476\n",
            "chunk # 270  Doc: https://www.literaturabrasileira.ufsc.br/documentos/?action=download&id=116979  qtde char : 1379  qtde token : 234  qtde token bert: 390  start_index: 327690\n",
            "chunk # 271  Doc: https://www.literaturabrasileira.ufsc.br/documentos/?action=download&id=116979  qtde char : 1638  qtde token : 243  qtde token bert: 389  start_index: 328796\n",
            "chunk # 272  Doc: https://www.literaturabrasileira.ufsc.br/documentos/?action=download&id=116979  qtde char : 1570  qtde token : 220  qtde token bert: 401  start_index: 330090\n",
            "chunk # 273  Doc: https://www.literaturabrasileira.ufsc.br/documentos/?action=download&id=116979  qtde char : 1502  qtde token : 229  qtde token bert: 413  start_index: 331355\n",
            "chunk # 274  Doc: https://www.literaturabrasileira.ufsc.br/documentos/?action=download&id=116979  qtde char : 1528  qtde token : 235  qtde token bert: 413  start_index: 332625\n",
            "chunk # 275  Doc: https://www.literaturabrasileira.ufsc.br/documentos/?action=download&id=116979  qtde char : 1511  qtde token : 226  qtde token bert: 401  start_index: 333846\n",
            "chunk # 276  Doc: https://www.literaturabrasileira.ufsc.br/documentos/?action=download&id=116979  qtde char : 1620  qtde token : 234  qtde token bert: 393  start_index: 335054\n",
            "chunk # 277  Doc: https://www.literaturabrasileira.ufsc.br/documentos/?action=download&id=116979  qtde char : 1571  qtde token : 229  qtde token bert: 390  start_index: 336421\n",
            "chunk # 278  Doc: https://www.literaturabrasileira.ufsc.br/documentos/?action=download&id=116979  qtde char : 1562  qtde token : 250  qtde token bert: 394  start_index: 337712\n",
            "chunk # 279  Doc: https://www.literaturabrasileira.ufsc.br/documentos/?action=download&id=116979  qtde char : 1601  qtde token : 250  qtde token bert: 398  start_index: 338962\n",
            "chunk # 280  Doc: https://www.literaturabrasileira.ufsc.br/documentos/?action=download&id=116979  qtde char : 1440  qtde token : 205  qtde token bert: 376  start_index: 340319\n",
            "chunk # 281  Doc: https://www.literaturabrasileira.ufsc.br/documentos/?action=download&id=116979  qtde char : 1430  qtde token : 220  qtde token bert: 378  start_index: 341463\n",
            "chunk # 282  Doc: https://www.literaturabrasileira.ufsc.br/documentos/?action=download&id=116979  qtde char : 1446  qtde token : 231  qtde token bert: 385  start_index: 342676\n",
            "chunk # 283  Doc: https://www.literaturabrasileira.ufsc.br/documentos/?action=download&id=116979  qtde char : 1713  qtde token : 246  qtde token bert: 377  start_index: 343776\n",
            "chunk # 284  Doc: https://www.literaturabrasileira.ufsc.br/documentos/?action=download&id=116979  qtde char : 1749  qtde token : 263  qtde token bert: 400  start_index: 345109\n",
            "chunk # 285  Doc: https://www.literaturabrasileira.ufsc.br/documentos/?action=download&id=116979  qtde char : 1702  qtde token : 263  qtde token bert: 391  start_index: 346545\n",
            "chunk # 286  Doc: https://www.literaturabrasileira.ufsc.br/documentos/?action=download&id=116979  qtde char : 1592  qtde token : 238  qtde token bert: 390  start_index: 347943\n",
            "chunk # 287  Doc: https://www.literaturabrasileira.ufsc.br/documentos/?action=download&id=116979  qtde char : 1545  qtde token : 233  qtde token bert: 388  start_index: 349256\n",
            "chunk # 288  Doc: https://www.literaturabrasileira.ufsc.br/documentos/?action=download&id=116979  qtde char : 1597  qtde token : 232  qtde token bert: 397  start_index: 350506\n",
            "chunk # 289  Doc: https://www.literaturabrasileira.ufsc.br/documentos/?action=download&id=116979  qtde char : 1436  qtde token : 212  qtde token bert: 389  start_index: 351822\n",
            "chunk # 290  Doc: https://www.literaturabrasileira.ufsc.br/documentos/?action=download&id=116979  qtde char : 1526  qtde token : 224  qtde token bert: 386  start_index: 352977\n",
            "chunk # 291  Doc: https://www.literaturabrasileira.ufsc.br/documentos/?action=download&id=116979  qtde char : 1563  qtde token : 232  qtde token bert: 377  start_index: 354220\n",
            "chunk # 292  Doc: https://www.literaturabrasileira.ufsc.br/documentos/?action=download&id=116979  qtde char : 1540  qtde token : 233  qtde token bert: 392  start_index: 355510\n",
            "chunk # 293  Doc: https://www.literaturabrasileira.ufsc.br/documentos/?action=download&id=116979  qtde char : 1587  qtde token : 240  qtde token bert: 395  start_index: 356744\n",
            "chunk # 294  Doc: https://www.literaturabrasileira.ufsc.br/documentos/?action=download&id=116979  qtde char : 1428  qtde token : 220  qtde token bert: 383  start_index: 358016\n",
            "chunk # 295  Doc: https://www.literaturabrasileira.ufsc.br/documentos/?action=download&id=116979  qtde char : 1547  qtde token : 232  qtde token bert: 385  start_index: 359192\n",
            "chunk # 296  Doc: https://www.literaturabrasileira.ufsc.br/documentos/?action=download&id=116979  qtde char : 1423  qtde token : 226  qtde token bert: 382  start_index: 360435\n",
            "chunk # 297  Doc: https://www.literaturabrasileira.ufsc.br/documentos/?action=download&id=116979  qtde char : 1501  qtde token : 226  qtde token bert: 376  start_index: 361559\n",
            "chunk # 298  Doc: https://www.literaturabrasileira.ufsc.br/documentos/?action=download&id=116979  qtde char : 1403  qtde token : 208  qtde token bert: 369  start_index: 362805\n",
            "chunk # 299  Doc: https://www.literaturabrasileira.ufsc.br/documentos/?action=download&id=116979  qtde char : 1446  qtde token : 216  qtde token bert: 386  start_index: 363932\n",
            "chunk # 300  Doc: https://www.literaturabrasileira.ufsc.br/documentos/?action=download&id=116979  qtde char : 1269  qtde token : 192  qtde token bert: 362  start_index: 365182\n",
            "chunk # 301  Doc: https://www.literaturabrasileira.ufsc.br/documentos/?action=download&id=116979  qtde char : 1475  qtde token : 235  qtde token bert: 389  start_index: 366201\n",
            "chunk # 302  Doc: https://www.literaturabrasileira.ufsc.br/documentos/?action=download&id=116979  qtde char : 1697  qtde token : 254  qtde token bert: 398  start_index: 367388\n",
            "chunk # 303  Doc: https://www.literaturabrasileira.ufsc.br/documentos/?action=download&id=116979  qtde char : 1710  qtde token : 253  qtde token bert: 395  start_index: 368758\n",
            "chunk # 304  Doc: https://www.literaturabrasileira.ufsc.br/documentos/?action=download&id=116979  qtde char : 1672  qtde token : 244  qtde token bert: 392  start_index: 370124\n",
            "chunk # 305  Doc: https://www.literaturabrasileira.ufsc.br/documentos/?action=download&id=116979  qtde char : 1586  qtde token : 234  qtde token bert: 390  start_index: 371481\n",
            "chunk # 306  Doc: https://www.literaturabrasileira.ufsc.br/documentos/?action=download&id=116979  qtde char : 1599  qtde token : 226  qtde token bert: 396  start_index: 372790\n",
            "chunk # 307  Doc: https://www.literaturabrasileira.ufsc.br/documentos/?action=download&id=116979  qtde char : 1403  qtde token : 209  qtde token bert: 377  start_index: 374075\n",
            "chunk # 308  Doc: https://www.literaturabrasileira.ufsc.br/documentos/?action=download&id=116979  qtde char : 1437  qtde token : 224  qtde token bert: 383  start_index: 375251\n",
            "chunk # 309  Doc: https://www.literaturabrasileira.ufsc.br/documentos/?action=download&id=116979  qtde char : 1444  qtde token : 224  qtde token bert: 374  start_index: 376400\n",
            "chunk # 310  Doc: https://www.literaturabrasileira.ufsc.br/documentos/?action=download&id=116979  qtde char : 1383  qtde token : 212  qtde token bert: 375  start_index: 377567\n",
            "chunk # 311  Doc: https://www.literaturabrasileira.ufsc.br/documentos/?action=download&id=116979  qtde char : 1376  qtde token : 206  qtde token bert: 372  start_index: 378691\n",
            "chunk # 312  Doc: https://www.literaturabrasileira.ufsc.br/documentos/?action=download&id=116979  qtde char : 1613  qtde token : 233  qtde token bert: 403  start_index: 379810\n",
            "chunk # 313  Doc: https://www.literaturabrasileira.ufsc.br/documentos/?action=download&id=116979  qtde char : 1573  qtde token : 229  qtde token bert: 408  start_index: 381125\n",
            "chunk # 314  Doc: https://www.literaturabrasileira.ufsc.br/documentos/?action=download&id=116979  qtde char : 1573  qtde token : 230  qtde token bert: 397  start_index: 382465\n",
            "chunk # 315  Doc: https://www.literaturabrasileira.ufsc.br/documentos/?action=download&id=116979  qtde char : 1723  qtde token : 251  qtde token bert: 397  start_index: 383710\n",
            "chunk # 316  Doc: https://www.literaturabrasileira.ufsc.br/documentos/?action=download&id=116979  qtde char : 1606  qtde token : 237  qtde token bert: 401  start_index: 385126\n",
            "chunk # 317  Doc: https://www.literaturabrasileira.ufsc.br/documentos/?action=download&id=116979  qtde char : 1621  qtde token : 231  qtde token bert: 405  start_index: 386434\n",
            "chunk # 318  Doc: https://www.literaturabrasileira.ufsc.br/documentos/?action=download&id=116979  qtde char : 1361  qtde token : 191  qtde token bert: 368  start_index: 387795\n",
            "chunk # 319  Doc: https://www.literaturabrasileira.ufsc.br/documentos/?action=download&id=116979  qtde char : 1526  qtde token : 240  qtde token bert: 391  start_index: 388902\n",
            "chunk # 320  Doc: https://www.literaturabrasileira.ufsc.br/documentos/?action=download&id=116979  qtde char : 1595  qtde token : 245  qtde token bert: 399  start_index: 390164\n",
            "chunk # 321  Doc: https://www.literaturabrasileira.ufsc.br/documentos/?action=download&id=116979  qtde char : 1625  qtde token : 236  qtde token bert: 405  start_index: 391483\n",
            "chunk # 322  Doc: https://www.literaturabrasileira.ufsc.br/documentos/?action=download&id=116979  qtde char : 1670  qtde token : 252  qtde token bert: 397  start_index: 392803\n",
            "chunk # 323  Doc: https://www.literaturabrasileira.ufsc.br/documentos/?action=download&id=116979  qtde char : 1624  qtde token : 243  qtde token bert: 403  start_index: 394123\n",
            "chunk # 324  Doc: https://www.literaturabrasileira.ufsc.br/documentos/?action=download&id=116979  qtde char : 1522  qtde token : 223  qtde token bert: 360  start_index: 395454\n",
            "chunk # 325  Doc: https://www.literaturabrasileira.ufsc.br/documentos/?action=download&id=116979  qtde char : 1483  qtde token : 220  qtde token bert: 376  start_index: 396709\n",
            "chunk # 326  Doc: https://www.literaturabrasileira.ufsc.br/documentos/?action=download&id=116979  qtde char : 573  qtde token : 91  qtde token bert: 157  start_index: 397956\n",
            "chunk # 327  Doc: https://www.literaturabrasileira.ufsc.br/documentos/?action=download&id=116979  qtde char : 1354  qtde token : 208  qtde token bert: 380  start_index: 398531\n",
            "chunk # 328  Doc: https://www.literaturabrasileira.ufsc.br/documentos/?action=download&id=116979  qtde char : 1530  qtde token : 237  qtde token bert: 399  start_index: 399567\n",
            "chunk # 329  Doc: https://www.literaturabrasileira.ufsc.br/documentos/?action=download&id=116979  qtde char : 1583  qtde token : 236  qtde token bert: 387  start_index: 400787\n",
            "chunk # 330  Doc: https://www.literaturabrasileira.ufsc.br/documentos/?action=download&id=116979  qtde char : 1403  qtde token : 208  qtde token bert: 361  start_index: 402044\n",
            "chunk # 331  Doc: https://www.literaturabrasileira.ufsc.br/documentos/?action=download&id=116979  qtde char : 1285  qtde token : 210  qtde token bert: 383  start_index: 403194\n",
            "chunk # 332  Doc: https://www.literaturabrasileira.ufsc.br/documentos/?action=download&id=116979  qtde char : 1479  qtde token : 222  qtde token bert: 398  start_index: 404282\n",
            "chunk # 333  Doc: https://www.literaturabrasileira.ufsc.br/documentos/?action=download&id=116979  qtde char : 1568  qtde token : 228  qtde token bert: 399  start_index: 405510\n",
            "chunk # 334  Doc: https://www.literaturabrasileira.ufsc.br/documentos/?action=download&id=116979  qtde char : 1709  qtde token : 262  qtde token bert: 383  start_index: 406730\n",
            "chunk # 335  Doc: https://www.literaturabrasileira.ufsc.br/documentos/?action=download&id=116979  qtde char : 1500  qtde token : 238  qtde token bert: 392  start_index: 408131\n",
            "chunk # 336  Doc: https://www.literaturabrasileira.ufsc.br/documentos/?action=download&id=116979  qtde char : 1420  qtde token : 208  qtde token bert: 386  start_index: 409394\n",
            "chunk # 337  Doc: https://www.literaturabrasileira.ufsc.br/documentos/?action=download&id=116979  qtde char : 1506  qtde token : 216  qtde token bert: 388  start_index: 410542\n",
            "chunk # 338  Doc: https://www.literaturabrasileira.ufsc.br/documentos/?action=download&id=116979  qtde char : 1588  qtde token : 240  qtde token bert: 395  start_index: 411762\n",
            "chunk # 339  Doc: https://www.literaturabrasileira.ufsc.br/documentos/?action=download&id=116979  qtde char : 1373  qtde token : 215  qtde token bert: 387  start_index: 413078\n",
            "chunk # 340  Doc: https://www.literaturabrasileira.ufsc.br/documentos/?action=download&id=116979  qtde char : 1393  qtde token : 234  qtde token bert: 414  start_index: 414182\n",
            "chunk # 341  Doc: https://www.literaturabrasileira.ufsc.br/documentos/?action=download&id=116979  qtde char : 1429  qtde token : 224  qtde token bert: 385  start_index: 415288\n",
            "chunk # 342  Doc: https://www.literaturabrasileira.ufsc.br/documentos/?action=download&id=116979  qtde char : 1637  qtde token : 242  qtde token bert: 399  start_index: 416468\n",
            "chunk # 343  Doc: https://www.literaturabrasileira.ufsc.br/documentos/?action=download&id=116979  qtde char : 1597  qtde token : 244  qtde token bert: 398  start_index: 417788\n",
            "chunk # 344  Doc: https://www.literaturabrasileira.ufsc.br/documentos/?action=download&id=116979  qtde char : 1368  qtde token : 212  qtde token bert: 380  start_index: 419093\n",
            "chunk # 345  Doc: https://www.literaturabrasileira.ufsc.br/documentos/?action=download&id=116979  qtde char : 1344  qtde token : 207  qtde token bert: 374  start_index: 420212\n",
            "chunk # 346  Doc: https://www.literaturabrasileira.ufsc.br/documentos/?action=download&id=116979  qtde char : 1450  qtde token : 226  qtde token bert: 379  start_index: 421252\n",
            "chunk # 347  Doc: https://www.literaturabrasileira.ufsc.br/documentos/?action=download&id=116979  qtde char : 1486  qtde token : 222  qtde token bert: 375  start_index: 422429\n",
            "chunk # 348  Doc: https://www.literaturabrasileira.ufsc.br/documentos/?action=download&id=116979  qtde char : 1473  qtde token : 216  qtde token bert: 382  start_index: 423649\n",
            "chunk # 349  Doc: https://www.literaturabrasileira.ufsc.br/documentos/?action=download&id=116979  qtde char : 1580  qtde token : 257  qtde token bert: 388  start_index: 424795\n",
            "chunk # 350  Doc: https://www.literaturabrasileira.ufsc.br/documentos/?action=download&id=116979  qtde char : 1646  qtde token : 247  qtde token bert: 391  start_index: 426068\n",
            "chunk # 351  Doc: https://www.literaturabrasileira.ufsc.br/documentos/?action=download&id=116979  qtde char : 1646  qtde token : 230  qtde token bert: 381  start_index: 427417\n",
            "chunk # 352  Doc: https://www.literaturabrasileira.ufsc.br/documentos/?action=download&id=116979  qtde char : 1492  qtde token : 211  qtde token bert: 376  start_index: 428766\n",
            "chunk # 353  Doc: https://www.literaturabrasileira.ufsc.br/documentos/?action=download&id=116979  qtde char : 1502  qtde token : 225  qtde token bert: 392  start_index: 429948\n",
            "chunk # 354  Doc: https://www.literaturabrasileira.ufsc.br/documentos/?action=download&id=116979  qtde char : 1336  qtde token : 193  qtde token bert: 367  start_index: 431217\n",
            "chunk # 355  Doc: https://www.literaturabrasileira.ufsc.br/documentos/?action=download&id=116979  qtde char : 1343  qtde token : 201  qtde token bert: 374  start_index: 432289\n",
            "chunk # 356  Doc: https://www.literaturabrasileira.ufsc.br/documentos/?action=download&id=116979  qtde char : 1392  qtde token : 212  qtde token bert: 373  start_index: 433382\n",
            "chunk # 357  Doc: https://www.literaturabrasileira.ufsc.br/documentos/?action=download&id=116979  qtde char : 1317  qtde token : 205  qtde token bert: 393  start_index: 434531\n",
            "chunk # 358  Doc: https://www.literaturabrasileira.ufsc.br/documentos/?action=download&id=116979  qtde char : 1407  qtde token : 210  qtde token bert: 384  start_index: 435636\n",
            "chunk # 359  Doc: https://www.literaturabrasileira.ufsc.br/documentos/?action=download&id=116979  qtde char : 1449  qtde token : 227  qtde token bert: 393  start_index: 436770\n",
            "chunk # 360  Doc: https://www.literaturabrasileira.ufsc.br/documentos/?action=download&id=116979  qtde char : 1516  qtde token : 234  qtde token bert: 387  start_index: 437909\n",
            "chunk # 361  Doc: https://www.literaturabrasileira.ufsc.br/documentos/?action=download&id=116979  qtde char : 1552  qtde token : 229  qtde token bert: 389  start_index: 439121\n",
            "chunk # 362  Doc: https://www.literaturabrasileira.ufsc.br/documentos/?action=download&id=116979  qtde char : 1435  qtde token : 216  qtde token bert: 371  start_index: 440404\n",
            "chunk # 363  Doc: https://www.literaturabrasileira.ufsc.br/documentos/?action=download&id=116979  qtde char : 1441  qtde token : 214  qtde token bert: 394  start_index: 441544\n",
            "chunk # 364  Doc: https://www.literaturabrasileira.ufsc.br/documentos/?action=download&id=116979  qtde char : 1148  qtde token : 164  qtde token bert: 298  start_index: 442711\n",
            "chunk # 365  Doc: https://www.literaturabrasileira.ufsc.br/documentos/?action=download&id=116979  qtde char : 1132  qtde token : 139  qtde token bert: 399  start_index: 443595\n",
            "chunk # 366  Doc: https://www.literaturabrasileira.ufsc.br/documentos/?action=download&id=116979  qtde char : 1602  qtde token : 222  qtde token bert: 388  start_index: 444434\n",
            "chunk # 367  Doc: https://www.literaturabrasileira.ufsc.br/documentos/?action=download&id=116979  qtde char : 1516  qtde token : 218  qtde token bert: 394  start_index: 445775\n",
            "chunk # 368  Doc: https://www.literaturabrasileira.ufsc.br/documentos/?action=download&id=116979  qtde char : 1316  qtde token : 198  qtde token bert: 377  start_index: 447000\n",
            "chunk # 369  Doc: https://www.literaturabrasileira.ufsc.br/documentos/?action=download&id=116979  qtde char : 1261  qtde token : 212  qtde token bert: 372  start_index: 448060\n",
            "chunk # 370  Doc: https://www.literaturabrasileira.ufsc.br/documentos/?action=download&id=116979  qtde char : 1157  qtde token : 188  qtde token bert: 366  start_index: 449105\n",
            "chunk # 371  Doc: https://www.literaturabrasileira.ufsc.br/documentos/?action=download&id=116979  qtde char : 1264  qtde token : 204  qtde token bert: 378  start_index: 449995\n",
            "chunk # 372  Doc: https://www.literaturabrasileira.ufsc.br/documentos/?action=download&id=116979  qtde char : 1334  qtde token : 196  qtde token bert: 364  start_index: 451022\n",
            "chunk # 373  Doc: https://www.literaturabrasileira.ufsc.br/documentos/?action=download&id=116979  qtde char : 1350  qtde token : 203  qtde token bert: 365  start_index: 452073\n",
            "chunk # 374  Doc: https://www.literaturabrasileira.ufsc.br/documentos/?action=download&id=116979  qtde char : 1513  qtde token : 219  qtde token bert: 374  start_index: 453101\n",
            "chunk # 375  Doc: https://www.literaturabrasileira.ufsc.br/documentos/?action=download&id=116979  qtde char : 1341  qtde token : 197  qtde token bert: 380  start_index: 454350\n",
            "chunk # 376  Doc: https://www.literaturabrasileira.ufsc.br/documentos/?action=download&id=116979  qtde char : 1500  qtde token : 222  qtde token bert: 383  start_index: 455510\n",
            "chunk # 377  Doc: https://www.literaturabrasileira.ufsc.br/documentos/?action=download&id=116979  qtde char : 1538  qtde token : 237  qtde token bert: 396  start_index: 456728\n",
            "chunk # 378  Doc: https://www.literaturabrasileira.ufsc.br/documentos/?action=download&id=116979  qtde char : 1607  qtde token : 226  qtde token bert: 393  start_index: 457974\n",
            "chunk # 379  Doc: https://www.literaturabrasileira.ufsc.br/documentos/?action=download&id=116979  qtde char : 1408  qtde token : 225  qtde token bert: 376  start_index: 459296\n",
            "chunk # 380  Doc: https://www.literaturabrasileira.ufsc.br/documentos/?action=download&id=116979  qtde char : 1247  qtde token : 203  qtde token bert: 366  start_index: 460503\n",
            "chunk # 381  Doc: https://www.literaturabrasileira.ufsc.br/documentos/?action=download&id=116979  qtde char : 1369  qtde token : 196  qtde token bert: 378  start_index: 461541\n",
            "chunk # 382  Doc: https://www.literaturabrasileira.ufsc.br/documentos/?action=download&id=116979  qtde char : 1469  qtde token : 218  qtde token bert: 384  start_index: 462651\n",
            "chunk # 383  Doc: https://www.literaturabrasileira.ufsc.br/documentos/?action=download&id=116979  qtde char : 1514  qtde token : 224  qtde token bert: 371  start_index: 463880\n",
            "chunk # 384  Doc: https://www.literaturabrasileira.ufsc.br/documentos/?action=download&id=116979  qtde char : 1513  qtde token : 223  qtde token bert: 395  start_index: 465047\n",
            "chunk # 385  Doc: https://www.literaturabrasileira.ufsc.br/documentos/?action=download&id=116979  qtde char : 1561  qtde token : 237  qtde token bert: 401  start_index: 466251\n",
            "chunk # 386  Doc: https://www.literaturabrasileira.ufsc.br/documentos/?action=download&id=116979  qtde char : 1529  qtde token : 222  qtde token bert: 386  start_index: 467460\n",
            "chunk # 387  Doc: https://www.literaturabrasileira.ufsc.br/documentos/?action=download&id=116979  qtde char : 1544  qtde token : 229  qtde token bert: 390  start_index: 468721\n",
            "chunk # 388  Doc: https://www.literaturabrasileira.ufsc.br/documentos/?action=download&id=116979  qtde char : 1509  qtde token : 229  qtde token bert: 400  start_index: 469989\n",
            "chunk # 389  Doc: https://www.literaturabrasileira.ufsc.br/documentos/?action=download&id=116979  qtde char : 1455  qtde token : 204  qtde token bert: 392  start_index: 471192\n",
            "chunk # 390  Doc: https://www.literaturabrasileira.ufsc.br/documentos/?action=download&id=116979  qtde char : 1570  qtde token : 232  qtde token bert: 401  start_index: 472400\n",
            "chunk # 391  Doc: https://www.literaturabrasileira.ufsc.br/documentos/?action=download&id=116979  qtde char : 1577  qtde token : 216  qtde token bert: 394  start_index: 473708\n",
            "chunk # 392  Doc: https://www.literaturabrasileira.ufsc.br/documentos/?action=download&id=116979  qtde char : 1445  qtde token : 201  qtde token bert: 381  start_index: 474991\n",
            "chunk # 393  Doc: https://www.literaturabrasileira.ufsc.br/documentos/?action=download&id=116979  qtde char : 1499  qtde token : 224  qtde token bert: 391  start_index: 476162\n",
            "chunk # 394  Doc: https://www.literaturabrasileira.ufsc.br/documentos/?action=download&id=116979  qtde char : 1600  qtde token : 241  qtde token bert: 407  start_index: 477320\n",
            "chunk # 395  Doc: https://www.literaturabrasileira.ufsc.br/documentos/?action=download&id=116979  qtde char : 1327  qtde token : 190  qtde token bert: 377  start_index: 478660\n",
            "chunk # 396  Doc: https://www.literaturabrasileira.ufsc.br/documentos/?action=download&id=116979  qtde char : 1289  qtde token : 191  qtde token bert: 364  start_index: 479766\n",
            "chunk # 397  Doc: https://www.literaturabrasileira.ufsc.br/documentos/?action=download&id=116979  qtde char : 1463  qtde token : 228  qtde token bert: 373  start_index: 480812\n",
            "chunk # 398  Doc: https://www.literaturabrasileira.ufsc.br/documentos/?action=download&id=116979  qtde char : 1378  qtde token : 213  qtde token bert: 391  start_index: 481972\n",
            "chunk # 399  Doc: https://www.literaturabrasileira.ufsc.br/documentos/?action=download&id=116979  qtde char : 1407  qtde token : 210  qtde token bert: 387  start_index: 483091\n",
            "chunk # 400  Doc: https://www.literaturabrasileira.ufsc.br/documentos/?action=download&id=116979  qtde char : 1452  qtde token : 221  qtde token bert: 396  start_index: 484194\n",
            "chunk # 401  Doc: https://www.literaturabrasileira.ufsc.br/documentos/?action=download&id=116979  qtde char : 1496  qtde token : 226  qtde token bert: 390  start_index: 485343\n",
            "chunk # 402  Doc: https://www.literaturabrasileira.ufsc.br/documentos/?action=download&id=116979  qtde char : 1506  qtde token : 217  qtde token bert: 395  start_index: 486526\n",
            "chunk # 403  Doc: https://www.literaturabrasileira.ufsc.br/documentos/?action=download&id=116979  qtde char : 1499  qtde token : 220  qtde token bert: 405  start_index: 487769\n",
            "chunk # 404  Doc: https://www.literaturabrasileira.ufsc.br/documentos/?action=download&id=116979  qtde char : 1596  qtde token : 239  qtde token bert: 399  start_index: 488958\n",
            "chunk # 405  Doc: https://www.literaturabrasileira.ufsc.br/documentos/?action=download&id=116979  qtde char : 1537  qtde token : 229  qtde token bert: 390  start_index: 490266\n",
            "chunk # 406  Doc: https://www.literaturabrasileira.ufsc.br/documentos/?action=download&id=116979  qtde char : 1501  qtde token : 216  qtde token bert: 391  start_index: 491516\n",
            "chunk # 407  Doc: https://www.literaturabrasileira.ufsc.br/documentos/?action=download&id=116979  qtde char : 1216  qtde token : 178  qtde token bert: 373  start_index: 492786\n",
            "chunk # 408  Doc: https://www.literaturabrasileira.ufsc.br/documentos/?action=download&id=116979  qtde char : 1284  qtde token : 192  qtde token bert: 374  start_index: 493728\n",
            "chunk # 409  Doc: https://www.literaturabrasileira.ufsc.br/documentos/?action=download&id=116979  qtde char : 1350  qtde token : 206  qtde token bert: 378  start_index: 494741\n",
            "chunk # 410  Doc: https://www.literaturabrasileira.ufsc.br/documentos/?action=download&id=116979  qtde char : 1221  qtde token : 186  qtde token bert: 374  start_index: 495808\n",
            "chunk # 411  Doc: https://www.literaturabrasileira.ufsc.br/documentos/?action=download&id=116979  qtde char : 1474  qtde token : 211  qtde token bert: 402  start_index: 496828\n",
            "chunk # 412  Doc: https://www.literaturabrasileira.ufsc.br/documentos/?action=download&id=116979  qtde char : 1407  qtde token : 228  qtde token bert: 399  start_index: 497999\n",
            "chunk # 413  Doc: https://www.literaturabrasileira.ufsc.br/documentos/?action=download&id=116979  qtde char : 1420  qtde token : 217  qtde token bert: 382  start_index: 499179\n",
            "chunk # 414  Doc: https://www.literaturabrasileira.ufsc.br/documentos/?action=download&id=116979  qtde char : 1639  qtde token : 243  qtde token bert: 387  start_index: 500293\n",
            "chunk # 415  Doc: https://www.literaturabrasileira.ufsc.br/documentos/?action=download&id=116979  qtde char : 1490  qtde token : 219  qtde token bert: 395  start_index: 501624\n",
            "chunk # 416  Doc: https://www.literaturabrasileira.ufsc.br/documentos/?action=download&id=116979  qtde char : 1468  qtde token : 214  qtde token bert: 398  start_index: 502836\n",
            "chunk # 417  Doc: https://www.literaturabrasileira.ufsc.br/documentos/?action=download&id=116979  qtde char : 1534  qtde token : 238  qtde token bert: 401  start_index: 504036\n",
            "chunk # 418  Doc: https://www.literaturabrasileira.ufsc.br/documentos/?action=download&id=116979  qtde char : 1505  qtde token : 229  qtde token bert: 378  start_index: 505315\n",
            "chunk # 419  Doc: https://www.literaturabrasileira.ufsc.br/documentos/?action=download&id=116979  qtde char : 1634  qtde token : 245  qtde token bert: 374  start_index: 506504\n",
            "chunk # 420  Doc: https://www.literaturabrasileira.ufsc.br/documentos/?action=download&id=116979  qtde char : 1660  qtde token : 248  qtde token bert: 406  start_index: 507835\n",
            "chunk # 421  Doc: https://www.literaturabrasileira.ufsc.br/documentos/?action=download&id=116979  qtde char : 1481  qtde token : 225  qtde token bert: 398  start_index: 509205\n",
            "chunk # 422  Doc: https://www.literaturabrasileira.ufsc.br/documentos/?action=download&id=116979  qtde char : 1410  qtde token : 198  qtde token bert: 380  start_index: 510372\n",
            "chunk # 423  Doc: https://www.literaturabrasileira.ufsc.br/documentos/?action=download&id=116979  qtde char : 1259  qtde token : 196  qtde token bert: 363  start_index: 511554\n",
            "chunk # 424  Doc: https://www.literaturabrasileira.ufsc.br/documentos/?action=download&id=116979  qtde char : 1293  qtde token : 191  qtde token bert: 378  start_index: 512577\n",
            "chunk # 425  Doc: https://www.literaturabrasileira.ufsc.br/documentos/?action=download&id=116979  qtde char : 1394  qtde token : 211  qtde token bert: 386  start_index: 513691\n",
            "chunk # 426  Doc: https://www.literaturabrasileira.ufsc.br/documentos/?action=download&id=116979  qtde char : 1634  qtde token : 254  qtde token bert: 401  start_index: 514774\n",
            "chunk # 427  Doc: https://www.literaturabrasileira.ufsc.br/documentos/?action=download&id=116979  qtde char : 1557  qtde token : 241  qtde token bert: 403  start_index: 516110\n",
            "chunk # 428  Doc: https://www.literaturabrasileira.ufsc.br/documentos/?action=download&id=116979  qtde char : 1505  qtde token : 225  qtde token bert: 405  start_index: 517415\n",
            "chunk # 429  Doc: https://www.literaturabrasileira.ufsc.br/documentos/?action=download&id=116979  qtde char : 1494  qtde token : 212  qtde token bert: 394  start_index: 518656\n",
            "chunk # 430  Doc: https://www.literaturabrasileira.ufsc.br/documentos/?action=download&id=116979  qtde char : 1479  qtde token : 223  qtde token bert: 391  start_index: 519883\n",
            "chunk # 431  Doc: https://www.literaturabrasileira.ufsc.br/documentos/?action=download&id=116979  qtde char : 1523  qtde token : 218  qtde token bert: 396  start_index: 521088\n",
            "chunk # 432  Doc: https://www.literaturabrasileira.ufsc.br/documentos/?action=download&id=116979  qtde char : 1381  qtde token : 209  qtde token bert: 365  start_index: 522334\n",
            "chunk # 433  Doc: https://www.literaturabrasileira.ufsc.br/documentos/?action=download&id=116979  qtde char : 1414  qtde token : 200  qtde token bert: 379  start_index: 523486\n",
            "chunk # 434  Doc: https://www.literaturabrasileira.ufsc.br/documentos/?action=download&id=116979  qtde char : 1675  qtde token : 249  qtde token bert: 410  start_index: 524575\n",
            "chunk # 435  Doc: https://www.literaturabrasileira.ufsc.br/documentos/?action=download&id=116979  qtde char : 1462  qtde token : 211  qtde token bert: 371  start_index: 525943\n",
            "chunk # 436  Doc: https://www.literaturabrasileira.ufsc.br/documentos/?action=download&id=116979  qtde char : 1233  qtde token : 184  qtde token bert: 394  start_index: 527149\n",
            "chunk # 437  Doc: https://www.literaturabrasileira.ufsc.br/documentos/?action=download&id=116979  qtde char : 1433  qtde token : 226  qtde token bert: 394  start_index: 528169\n",
            "chunk # 438  Doc: https://www.literaturabrasileira.ufsc.br/documentos/?action=download&id=116979  qtde char : 1355  qtde token : 203  qtde token bert: 379  start_index: 529287\n",
            "chunk # 439  Doc: https://www.literaturabrasileira.ufsc.br/documentos/?action=download&id=116979  qtde char : 1366  qtde token : 209  qtde token bert: 402  start_index: 530393\n",
            "chunk # 440  Doc: https://www.literaturabrasileira.ufsc.br/documentos/?action=download&id=116979  qtde char : 1452  qtde token : 221  qtde token bert: 391  start_index: 531442\n",
            "chunk # 441  Doc: https://www.literaturabrasileira.ufsc.br/documentos/?action=download&id=116979  qtde char : 1519  qtde token : 217  qtde token bert: 386  start_index: 532629\n",
            "chunk # 442  Doc: https://www.literaturabrasileira.ufsc.br/documentos/?action=download&id=116979  qtde char : 1543  qtde token : 227  qtde token bert: 386  start_index: 533856\n",
            "chunk # 443  Doc: https://www.literaturabrasileira.ufsc.br/documentos/?action=download&id=116979  qtde char : 1325  qtde token : 205  qtde token bert: 385  start_index: 535097\n",
            "chunk # 444  Doc: https://www.literaturabrasileira.ufsc.br/documentos/?action=download&id=116979  qtde char : 1209  qtde token : 176  qtde token bert: 384  start_index: 536217\n",
            "chunk # 445  Doc: https://www.literaturabrasileira.ufsc.br/documentos/?action=download&id=116979  qtde char : 1302  qtde token : 195  qtde token bert: 365  start_index: 537224\n",
            "chunk # 446  Doc: https://www.literaturabrasileira.ufsc.br/documentos/?action=download&id=116979  qtde char : 1504  qtde token : 219  qtde token bert: 390  start_index: 538281\n",
            "chunk # 447  Doc: https://www.literaturabrasileira.ufsc.br/documentos/?action=download&id=116979  qtde char : 1574  qtde token : 225  qtde token bert: 383  start_index: 539470\n",
            "chunk # 448  Doc: https://www.literaturabrasileira.ufsc.br/documentos/?action=download&id=116979  qtde char : 1612  qtde token : 248  qtde token bert: 391  start_index: 540727\n",
            "chunk # 449  Doc: https://www.literaturabrasileira.ufsc.br/documentos/?action=download&id=116979  qtde char : 1588  qtde token : 238  qtde token bert: 393  start_index: 542023\n",
            "chunk # 450  Doc: https://www.literaturabrasileira.ufsc.br/documentos/?action=download&id=116979  qtde char : 1402  qtde token : 210  qtde token bert: 377  start_index: 543374\n",
            "chunk # 451  Doc: https://www.literaturabrasileira.ufsc.br/documentos/?action=download&id=116979  qtde char : 1338  qtde token : 212  qtde token bert: 378  start_index: 544525\n",
            "chunk # 452  Doc: https://www.literaturabrasileira.ufsc.br/documentos/?action=download&id=116979  qtde char : 1536  qtde token : 232  qtde token bert: 375  start_index: 545598\n",
            "chunk # 453  Doc: https://www.literaturabrasileira.ufsc.br/documentos/?action=download&id=116979  qtde char : 1571  qtde token : 238  qtde token bert: 375  start_index: 546819\n",
            "chunk # 454  Doc: https://www.literaturabrasileira.ufsc.br/documentos/?action=download&id=116979  qtde char : 1431  qtde token : 232  qtde token bert: 381  start_index: 548076\n",
            "chunk # 455  Doc: https://www.literaturabrasileira.ufsc.br/documentos/?action=download&id=116979  qtde char : 1497  qtde token : 217  qtde token bert: 391  start_index: 549191\n",
            "chunk # 456  Doc: https://www.literaturabrasileira.ufsc.br/documentos/?action=download&id=116979  qtde char : 1537  qtde token : 227  qtde token bert: 398  start_index: 550395\n",
            "chunk # 457  Doc: https://www.literaturabrasileira.ufsc.br/documentos/?action=download&id=116979  qtde char : 1480  qtde token : 213  qtde token bert: 372  start_index: 551631\n",
            "chunk # 458  Doc: https://www.literaturabrasileira.ufsc.br/documentos/?action=download&id=116979  qtde char : 1265  qtde token : 188  qtde token bert: 380  start_index: 552912\n",
            "chunk # 459  Doc: https://www.literaturabrasileira.ufsc.br/documentos/?action=download&id=116979  qtde char : 1372  qtde token : 209  qtde token bert: 378  start_index: 553924\n",
            "chunk # 460  Doc: https://www.literaturabrasileira.ufsc.br/documentos/?action=download&id=116979  qtde char : 1177  qtde token : 181  qtde token bert: 351  start_index: 554995\n",
            "chunk # 461  Doc: https://www.literaturabrasileira.ufsc.br/documentos/?action=download&id=116979  qtde char : 1353  qtde token : 199  qtde token bert: 365  start_index: 555936\n",
            "chunk # 462  Doc: https://www.literaturabrasileira.ufsc.br/documentos/?action=download&id=116979  qtde char : 1632  qtde token : 241  qtde token bert: 377  start_index: 556937\n",
            "chunk # 463  Doc: https://www.literaturabrasileira.ufsc.br/documentos/?action=download&id=116979  qtde char : 1637  qtde token : 236  qtde token bert: 389  start_index: 558276\n",
            "chunk # 464  Doc: https://www.literaturabrasileira.ufsc.br/documentos/?action=download&id=116979  qtde char : 1391  qtde token : 208  qtde token bert: 385  start_index: 559653\n",
            "chunk # 465  Doc: https://www.literaturabrasileira.ufsc.br/documentos/?action=download&id=116979  qtde char : 1583  qtde token : 238  qtde token bert: 397  start_index: 560730\n",
            "chunk # 466  Doc: https://www.literaturabrasileira.ufsc.br/documentos/?action=download&id=116979  qtde char : 1410  qtde token : 202  qtde token bert: 371  start_index: 562054\n",
            "chunk # 467  Doc: https://www.literaturabrasileira.ufsc.br/documentos/?action=download&id=116979  qtde char : 1289  qtde token : 188  qtde token bert: 364  start_index: 563230\n",
            "chunk # 468  Doc: https://www.literaturabrasileira.ufsc.br/documentos/?action=download&id=116979  qtde char : 1242  qtde token : 184  qtde token bert: 366  start_index: 564301\n",
            "chunk # 469  Doc: https://www.literaturabrasileira.ufsc.br/documentos/?action=download&id=116979  qtde char : 1373  qtde token : 207  qtde token bert: 395  start_index: 565257\n",
            "chunk # 470  Doc: https://www.literaturabrasileira.ufsc.br/documentos/?action=download&id=116979  qtde char : 1406  qtde token : 225  qtde token bert: 382  start_index: 566394\n",
            "chunk # 471  Doc: https://www.literaturabrasileira.ufsc.br/documentos/?action=download&id=116979  qtde char : 1407  qtde token : 205  qtde token bert: 390  start_index: 567539\n",
            "chunk # 472  Doc: https://www.literaturabrasileira.ufsc.br/documentos/?action=download&id=116979  qtde char : 1378  qtde token : 196  qtde token bert: 373  start_index: 568709\n",
            "chunk # 473  Doc: https://www.literaturabrasileira.ufsc.br/documentos/?action=download&id=116979  qtde char : 1477  qtde token : 220  qtde token bert: 385  start_index: 569877\n",
            "chunk # 474  Doc: https://www.literaturabrasileira.ufsc.br/documentos/?action=download&id=116979  qtde char : 1565  qtde token : 216  qtde token bert: 380  start_index: 571065\n",
            "chunk # 475  Doc: https://www.literaturabrasileira.ufsc.br/documentos/?action=download&id=116979  qtde char : 1480  qtde token : 224  qtde token bert: 395  start_index: 572344\n",
            "chunk # 476  Doc: https://www.literaturabrasileira.ufsc.br/documentos/?action=download&id=116979  qtde char : 1247  qtde token : 179  qtde token bert: 389  start_index: 573558\n",
            "chunk # 477  Doc: https://www.literaturabrasileira.ufsc.br/documentos/?action=download&id=116979  qtde char : 1300  qtde token : 196  qtde token bert: 373  start_index: 574604\n",
            "chunk # 478  Doc: https://www.literaturabrasileira.ufsc.br/documentos/?action=download&id=116979  qtde char : 1482  qtde token : 227  qtde token bert: 376  start_index: 575624\n",
            "chunk # 479  Doc: https://www.literaturabrasileira.ufsc.br/documentos/?action=download&id=116979  qtde char : 1479  qtde token : 213  qtde token bert: 404  start_index: 576817\n",
            "chunk # 480  Doc: https://www.literaturabrasileira.ufsc.br/documentos/?action=download&id=116979  qtde char : 918  qtde token : 123  qtde token bert: 253  start_index: 577990\n",
            "Maior chunk token: 279\n",
            "Maior chunk token bert: 414\n",
            "Maior chunk character: 1754\n"
          ]
        }
      ]
    },
    {
      "cell_type": "markdown",
      "source": [
        "## 3.3 - Armazena os chunks\n",
        "\n",
        "Utiliza o Chroma um banco de dados de embeddings de código aberto e leve.\n",
        "\n",
        "https://www.trychroma.com/\n",
        "\n",
        "https://heidloff.net/article/retrieval-augmented-generation-chroma-langchain/"
      ],
      "metadata": {
        "id": "cLSk7vNBWMla"
      }
    },
    {
      "cell_type": "code",
      "source": [
        "# Import das bibliotecas\n",
        "from langchain.vectorstores import Chroma\n",
        "\n",
        "# Armazena os chunks usando o Chroma\n",
        "vectorstore = Chroma.from_documents(documents=chunks, embedding=model_lm, persist_directory=\"./bancodedados\", )"
      ],
      "metadata": {
        "id": "rsXZLkeCWPIq"
      },
      "execution_count": null,
      "outputs": []
    },
    {
      "cell_type": "markdown",
      "metadata": {
        "id": "epsEHDsGQJAC"
      },
      "source": [
        "## 3.4 - Função de envio de perguntas ao LLM"
      ]
    },
    {
      "cell_type": "code",
      "source": [
        "# Import das bibliotecas\n",
        "from langchain.chains import RetrievalQA\n",
        "from langchain import PromptTemplate\n",
        "import torch\n",
        "import gc\n",
        "\n",
        "def avaliarContexto(texto):\n",
        "\n",
        "  # Cria o texto de prompt\n",
        "  prompt_template = \"\"\"Você é um assistente de IA útil e fornece a resposta em língua portuguesa para a pergunta com base no contexto fornecido.\n",
        "Contexto: {context}\n",
        ">>PERGUNTA<< {question}\n",
        ">>RESPOSTA<<\"\"\"\n",
        "\n",
        "  # Cria o prompt\n",
        "  # As variáveis \"context\" e \"question\" não podem ser alteradas\n",
        "  # O parâmetro \"context\" recebe o contexto do carregado e armazenado no Chroma\n",
        "  # O parâmetro \"question\" recebe a pergunta realizada sobre o contexto.\n",
        "  prompt = PromptTemplate(input_variables=[\"context\", \"question\"],\n",
        "                          template=prompt_template)\n",
        "\n",
        "  # Instancia o chain\n",
        "  chain_type_kwargs = {\"prompt\": prompt}\n",
        "  chain = RetrievalQA.from_chain_type(\n",
        "        llm=model_llm,\n",
        "        chain_type=\"stuff\",\n",
        "        return_source_documents = True, # Retorna o documento de origm\n",
        "        retriever=vectorstore.as_retriever(), # Passa o contexto(livro carregado)\n",
        "        #retriever=vectorstore.as_retriever(search_kwargs={'k':1}),\n",
        "        chain_type_kwargs=chain_type_kwargs\n",
        "    )\n",
        "\n",
        "  # Executa o prompt no llm\n",
        "  resultado = chain({\"query\":texto})\n",
        "\n",
        "  # Esvazia a memória\n",
        "  del chain\n",
        "  gc.collect()\n",
        "  torch.cuda.empty_cache()\n",
        "\n",
        "  return resultado"
      ],
      "metadata": {
        "id": "ToMVt5GkkqEw"
      },
      "execution_count": null,
      "outputs": []
    },
    {
      "cell_type": "markdown",
      "source": [
        "## 3.5 - Algumas perguntas usando o contexto"
      ],
      "metadata": {
        "id": "l_iS635Fftog"
      }
    },
    {
      "cell_type": "markdown",
      "source": [
        "Guarda o tempo de início de realização das perguntas"
      ],
      "metadata": {
        "id": "GYZeuWBf6AV4"
      }
    },
    {
      "cell_type": "code",
      "source": [
        "# Importando as bibliotecas do Modelo\n",
        "import time\n",
        "\n",
        "# Guarda o tempo de início do carregamento do modelo\n",
        "tempo_inicio = time.time()"
      ],
      "metadata": {
        "id": "qxGyZ-El6DK_"
      },
      "execution_count": null,
      "outputs": []
    },
    {
      "cell_type": "markdown",
      "source": [
        "### Perguntas sobre o tempo"
      ],
      "metadata": {
        "id": "P5fc-ULt8gny"
      }
    },
    {
      "cell_type": "code",
      "execution_count": null,
      "metadata": {
        "id": "RCeR9lv5_Fxd",
        "colab": {
          "base_uri": "https://localhost:8080/"
        },
        "outputId": "26f1bfcf-a8c1-495b-9409-a0ae8fadc9b8"
      },
      "outputs": [
        {
          "output_type": "stream",
          "name": "stdout",
          "text": [
            " A história do texto ocorreu no século XIX, pois é mencionado o \"ministro da França no Rio de Janeiro\".\n",
            "\n",
            "Origem: page_content='O curandeiro turbou-se: de novo e com absurdo processo\\nfez o exame do triste e enregelado corpo da vítima, e incapaz de compreender os\\nsin\\xadtomas que haviam escapado à sua ignorância, incapaz de apelar para os meios\\ncientíficos que vingam a sociedade, reconhecendo no cadáver as provas\\nirrecusáveis do crime do envenenador, o curandeiro charlatão, vaidoso do seu\\ndiagnóstico, acabou por dizer com desfaçada impostura:\\n– Envenenada!... Quem o disse, mentiu.\\n– Está absolutamente certo disso?\\n– Juro-o...\\n– Que Deus perdoe a quem tal suspeitou! \\n– Quem foi?\\n– A defunta.\\n– Delírio de moribunda: ela morreu da febre que eu\\ndisse.\\n– Antes assim.\\nPaulo Borges tranqüilizou a revolta de seu ânimo, e\\nconcentrou-se na dor da viuvez recente.\\nEsméria ficou inocente a seus olhos, e quase que mais\\nmereceu em compensação da suspeita que o curandeiro declarara infundada.\\nO marido adúltero supôs enganar a Deus e aos homens, e\\ntalvez mes\\xadmo a si, dando aos restos mortais de sua santa mulher honras\\nfúnebres suntuosas, esmolas aos pobres, missas, e aparatoso ofício do sétimo\\ndia.\\nDeus, que recebeu a mártir, desprezou sem dúvida as\\noblações sacríle\\xadgas do pecador incontrito e obstinado.\\nO romance tem contra o seu legítimo fim comprometer a\\nlição da ver\\xaddade pelas prevenções contra a imaginação que deve ser\\nexclusivamente a fonte de ornamentos da forma e de circunstâncias acessórias e\\nincidentais que sirvam para dar maior interesse ao assunto; no seu fundo,' metadata={'description': 'As vítimas algozes - Joaquim Manuel de Macedo', 'language': 'No language found.', 'source': 'https://www.literaturabrasileira.ufsc.br/documentos/?action=download&id=116979', 'start_index': 210806, 'title': 'As vítimas algozes - Joaquim Manuel de Macedo'}\n"
          ]
        }
      ],
      "source": [
        "texto = \"Qual o período que ocorreu a história do texto?\"\n",
        "\n",
        "resultado = avaliarContexto(texto)\n",
        "\n",
        "# Mostra o resultado\n",
        "print_linhas_menores(resultado[\"result\"])\n",
        "\n",
        "# Verifique o documento de origem usado\n",
        "print(\"\\nOrigem:\", resultado[\"source_documents\"][0])"
      ]
    },
    {
      "cell_type": "code",
      "source": [
        "texto = \"Considerando o contexto em qual período que ocorreram os fatos?\"\n",
        "\n",
        "resultado = avaliarContexto(texto)\n",
        "\n",
        "# Mostra o resultado\n",
        "print_linhas_menores(resultado[\"result\"])\n",
        "\n",
        "# Verifique o documento de origem usado\n",
        "print(\"\\nOrigem:\", resultado[\"source_documents\"][0])"
      ],
      "metadata": {
        "id": "kBbhBnY3ul45",
        "colab": {
          "base_uri": "https://localhost:8080/"
        },
        "outputId": "5aa4da8d-b17b-48aa-9556-fe30c12cb3e9"
      },
      "execution_count": null,
      "outputs": [
        {
          "output_type": "stream",
          "name": "stdout",
          "text": [
            " Os fatos ocorreram no século XIX, época em que a cidade do Rio de Janeiro era a capital do Brasil.\n",
            "\n",
            "Origem: page_content='O curandeiro turbou-se: de novo e com absurdo processo\\nfez o exame do triste e enregelado corpo da vítima, e incapaz de compreender os\\nsin\\xadtomas que haviam escapado à sua ignorância, incapaz de apelar para os meios\\ncientíficos que vingam a sociedade, reconhecendo no cadáver as provas\\nirrecusáveis do crime do envenenador, o curandeiro charlatão, vaidoso do seu\\ndiagnóstico, acabou por dizer com desfaçada impostura:\\n– Envenenada!... Quem o disse, mentiu.\\n– Está absolutamente certo disso?\\n– Juro-o...\\n– Que Deus perdoe a quem tal suspeitou! \\n– Quem foi?\\n– A defunta.\\n– Delírio de moribunda: ela morreu da febre que eu\\ndisse.\\n– Antes assim.\\nPaulo Borges tranqüilizou a revolta de seu ânimo, e\\nconcentrou-se na dor da viuvez recente.\\nEsméria ficou inocente a seus olhos, e quase que mais\\nmereceu em compensação da suspeita que o curandeiro declarara infundada.\\nO marido adúltero supôs enganar a Deus e aos homens, e\\ntalvez mes\\xadmo a si, dando aos restos mortais de sua santa mulher honras\\nfúnebres suntuosas, esmolas aos pobres, missas, e aparatoso ofício do sétimo\\ndia.\\nDeus, que recebeu a mártir, desprezou sem dúvida as\\noblações sacríle\\xadgas do pecador incontrito e obstinado.\\nO romance tem contra o seu legítimo fim comprometer a\\nlição da ver\\xaddade pelas prevenções contra a imaginação que deve ser\\nexclusivamente a fonte de ornamentos da forma e de circunstâncias acessórias e\\nincidentais que sirvam para dar maior interesse ao assunto; no seu fundo,' metadata={'description': 'As vítimas algozes - Joaquim Manuel de Macedo', 'language': 'No language found.', 'source': 'https://www.literaturabrasileira.ufsc.br/documentos/?action=download&id=116979', 'start_index': 210806, 'title': 'As vítimas algozes - Joaquim Manuel de Macedo'}\n"
          ]
        }
      ]
    },
    {
      "cell_type": "markdown",
      "source": [
        "### Perguntas sobre personagens"
      ],
      "metadata": {
        "id": "ZVqP0ju984hP"
      }
    },
    {
      "cell_type": "code",
      "source": [
        "texto = \"Qual o nome de todos os personagens do texto?\"\n",
        "\n",
        "resultado = avaliarContexto(texto)\n",
        "\n",
        "# Mostra o resultado\n",
        "print_linhas_menores(resultado[\"result\"])\n",
        "\n",
        "# Verifique o documento de origem usado\n",
        "print(\"\\nOrigem:\", resultado[\"source_documents\"][0])"
      ],
      "metadata": {
        "id": "sn3S9FO4zYRd",
        "colab": {
          "base_uri": "https://localhost:8080/"
        },
        "outputId": "18b30560-232a-4b94-94bf-eb5178cca0c4"
      },
      "execution_count": null,
      "outputs": [
        {
          "output_type": "stream",
          "name": "stdout",
          "text": [
            " Os personagens são:\n",
            "\n",
            "1. Lucinda\n",
            "2. Cándida\n",
            "3. Frederico\n",
            "4. Paulo Borges (curandeiro)\n",
            "5. Esméria (defunta)\n",
            "\n",
            "Origem: page_content='O curandeiro turbou-se: de novo e com absurdo processo\\nfez o exame do triste e enregelado corpo da vítima, e incapaz de compreender os\\nsin\\xadtomas que haviam escapado à sua ignorância, incapaz de apelar para os meios\\ncientíficos que vingam a sociedade, reconhecendo no cadáver as provas\\nirrecusáveis do crime do envenenador, o curandeiro charlatão, vaidoso do seu\\ndiagnóstico, acabou por dizer com desfaçada impostura:\\n– Envenenada!... Quem o disse, mentiu.\\n– Está absolutamente certo disso?\\n– Juro-o...\\n– Que Deus perdoe a quem tal suspeitou! \\n– Quem foi?\\n– A defunta.\\n– Delírio de moribunda: ela morreu da febre que eu\\ndisse.\\n– Antes assim.\\nPaulo Borges tranqüilizou a revolta de seu ânimo, e\\nconcentrou-se na dor da viuvez recente.\\nEsméria ficou inocente a seus olhos, e quase que mais\\nmereceu em compensação da suspeita que o curandeiro declarara infundada.\\nO marido adúltero supôs enganar a Deus e aos homens, e\\ntalvez mes\\xadmo a si, dando aos restos mortais de sua santa mulher honras\\nfúnebres suntuosas, esmolas aos pobres, missas, e aparatoso ofício do sétimo\\ndia.\\nDeus, que recebeu a mártir, desprezou sem dúvida as\\noblações sacríle\\xadgas do pecador incontrito e obstinado.\\nO romance tem contra o seu legítimo fim comprometer a\\nlição da ver\\xaddade pelas prevenções contra a imaginação que deve ser\\nexclusivamente a fonte de ornamentos da forma e de circunstâncias acessórias e\\nincidentais que sirvam para dar maior interesse ao assunto; no seu fundo,' metadata={'description': 'As vítimas algozes - Joaquim Manuel de Macedo', 'language': 'No language found.', 'source': 'https://www.literaturabrasileira.ufsc.br/documentos/?action=download&id=116979', 'start_index': 210806, 'title': 'As vítimas algozes - Joaquim Manuel de Macedo'}\n"
          ]
        }
      ]
    },
    {
      "cell_type": "code",
      "source": [
        "texto = \"Considerando o contexto qual o nome de todos os personagens da história?\"\n",
        "\n",
        "resultado = avaliarContexto(texto)\n",
        "\n",
        "# Mostra o resultado\n",
        "print_linhas_menores(resultado[\"result\"])\n",
        "\n",
        "# Verifique o documento de origem usado\n",
        "print(\"\\nOrigem:\", resultado[\"source_documents\"][0])"
      ],
      "metadata": {
        "id": "cK-_KNVozeoO",
        "colab": {
          "base_uri": "https://localhost:8080/"
        },
        "outputId": "e035c503-a650-41f8-f718-fabbe52b4c5a"
      },
      "execution_count": null,
      "outputs": [
        {
          "output_type": "stream",
          "name": "stdout",
          "text": [
            " Os personagens são:\n",
            "\n",
            "1. Esméria\n",
            "2. Paulo Borges\n",
            "3. Frederico\n",
            "4. Cándida\n",
            "5. Lucinda\n",
            "6. Souvanel (que é na verdade Paulo \n",
            "Dermany)\n",
            "\n",
            "Origem: page_content='O curandeiro turbou-se: de novo e com absurdo processo\\nfez o exame do triste e enregelado corpo da vítima, e incapaz de compreender os\\nsin\\xadtomas que haviam escapado à sua ignorância, incapaz de apelar para os meios\\ncientíficos que vingam a sociedade, reconhecendo no cadáver as provas\\nirrecusáveis do crime do envenenador, o curandeiro charlatão, vaidoso do seu\\ndiagnóstico, acabou por dizer com desfaçada impostura:\\n– Envenenada!... Quem o disse, mentiu.\\n– Está absolutamente certo disso?\\n– Juro-o...\\n– Que Deus perdoe a quem tal suspeitou! \\n– Quem foi?\\n– A defunta.\\n– Delírio de moribunda: ela morreu da febre que eu\\ndisse.\\n– Antes assim.\\nPaulo Borges tranqüilizou a revolta de seu ânimo, e\\nconcentrou-se na dor da viuvez recente.\\nEsméria ficou inocente a seus olhos, e quase que mais\\nmereceu em compensação da suspeita que o curandeiro declarara infundada.\\nO marido adúltero supôs enganar a Deus e aos homens, e\\ntalvez mes\\xadmo a si, dando aos restos mortais de sua santa mulher honras\\nfúnebres suntuosas, esmolas aos pobres, missas, e aparatoso ofício do sétimo\\ndia.\\nDeus, que recebeu a mártir, desprezou sem dúvida as\\noblações sacríle\\xadgas do pecador incontrito e obstinado.\\nO romance tem contra o seu legítimo fim comprometer a\\nlição da ver\\xaddade pelas prevenções contra a imaginação que deve ser\\nexclusivamente a fonte de ornamentos da forma e de circunstâncias acessórias e\\nincidentais que sirvam para dar maior interesse ao assunto; no seu fundo,' metadata={'description': 'As vítimas algozes - Joaquim Manuel de Macedo', 'language': 'No language found.', 'source': 'https://www.literaturabrasileira.ufsc.br/documentos/?action=download&id=116979', 'start_index': 210806, 'title': 'As vítimas algozes - Joaquim Manuel de Macedo'}\n"
          ]
        }
      ]
    },
    {
      "cell_type": "code",
      "source": [
        "texto = \"Quem são os principais personagens do contexto?\"\n",
        "\n",
        "resultado = avaliarContexto(texto)\n",
        "\n",
        "# Mostra o resultado\n",
        "print_linhas_menores(resultado[\"result\"])\n",
        "\n",
        "# Verifique o documento de origem usado\n",
        "print(\"\\nOrigem:\", resultado[\"source_documents\"][0])"
      ],
      "metadata": {
        "id": "TcJwBtkRfvwy",
        "colab": {
          "base_uri": "https://localhost:8080/"
        },
        "outputId": "6b637139-12ee-4e8b-df3c-2b1605495882"
      },
      "execution_count": null,
      "outputs": [
        {
          "output_type": "stream",
          "name": "stdout",
          "text": [
            " Paulo Borges, Esméria, o curandeiro e a defunta (mencionada mas não identificada).\n",
            "\n",
            "Origem: page_content='O curandeiro turbou-se: de novo e com absurdo processo\\nfez o exame do triste e enregelado corpo da vítima, e incapaz de compreender os\\nsin\\xadtomas que haviam escapado à sua ignorância, incapaz de apelar para os meios\\ncientíficos que vingam a sociedade, reconhecendo no cadáver as provas\\nirrecusáveis do crime do envenenador, o curandeiro charlatão, vaidoso do seu\\ndiagnóstico, acabou por dizer com desfaçada impostura:\\n– Envenenada!... Quem o disse, mentiu.\\n– Está absolutamente certo disso?\\n– Juro-o...\\n– Que Deus perdoe a quem tal suspeitou! \\n– Quem foi?\\n– A defunta.\\n– Delírio de moribunda: ela morreu da febre que eu\\ndisse.\\n– Antes assim.\\nPaulo Borges tranqüilizou a revolta de seu ânimo, e\\nconcentrou-se na dor da viuvez recente.\\nEsméria ficou inocente a seus olhos, e quase que mais\\nmereceu em compensação da suspeita que o curandeiro declarara infundada.\\nO marido adúltero supôs enganar a Deus e aos homens, e\\ntalvez mes\\xadmo a si, dando aos restos mortais de sua santa mulher honras\\nfúnebres suntuosas, esmolas aos pobres, missas, e aparatoso ofício do sétimo\\ndia.\\nDeus, que recebeu a mártir, desprezou sem dúvida as\\noblações sacríle\\xadgas do pecador incontrito e obstinado.\\nO romance tem contra o seu legítimo fim comprometer a\\nlição da ver\\xaddade pelas prevenções contra a imaginação que deve ser\\nexclusivamente a fonte de ornamentos da forma e de circunstâncias acessórias e\\nincidentais que sirvam para dar maior interesse ao assunto; no seu fundo,' metadata={'description': 'As vítimas algozes - Joaquim Manuel de Macedo', 'language': 'No language found.', 'source': 'https://www.literaturabrasileira.ufsc.br/documentos/?action=download&id=116979', 'start_index': 210806, 'title': 'As vítimas algozes - Joaquim Manuel de Macedo'}\n"
          ]
        }
      ]
    },
    {
      "cell_type": "code",
      "source": [
        "texto = \"Quais os nomes dos principais personagens do contexto?\"\n",
        "\n",
        "resultado = avaliarContexto(texto)\n",
        "\n",
        "# Mostra o resultado\n",
        "print_linhas_menores(resultado[\"result\"])\n",
        "\n",
        "# Verifique o documento de origem usado\n",
        "print(\"\\nOrigem:\", resultado[\"source_documents\"][0])"
      ],
      "metadata": {
        "id": "Y5H9HQ_PzGBh",
        "colab": {
          "base_uri": "https://localhost:8080/"
        },
        "outputId": "5dc15cd8-aaab-4c0f-d883-3698859d2b53"
      },
      "execution_count": null,
      "outputs": [
        {
          "output_type": "stream",
          "name": "stdout",
          "text": [
            " Paulo Borges, Esméria, o curandeiro e a defunta (mencionados como \"ela\").\n",
            "\n",
            "Origem: page_content='O curandeiro turbou-se: de novo e com absurdo processo\\nfez o exame do triste e enregelado corpo da vítima, e incapaz de compreender os\\nsin\\xadtomas que haviam escapado à sua ignorância, incapaz de apelar para os meios\\ncientíficos que vingam a sociedade, reconhecendo no cadáver as provas\\nirrecusáveis do crime do envenenador, o curandeiro charlatão, vaidoso do seu\\ndiagnóstico, acabou por dizer com desfaçada impostura:\\n– Envenenada!... Quem o disse, mentiu.\\n– Está absolutamente certo disso?\\n– Juro-o...\\n– Que Deus perdoe a quem tal suspeitou! \\n– Quem foi?\\n– A defunta.\\n– Delírio de moribunda: ela morreu da febre que eu\\ndisse.\\n– Antes assim.\\nPaulo Borges tranqüilizou a revolta de seu ânimo, e\\nconcentrou-se na dor da viuvez recente.\\nEsméria ficou inocente a seus olhos, e quase que mais\\nmereceu em compensação da suspeita que o curandeiro declarara infundada.\\nO marido adúltero supôs enganar a Deus e aos homens, e\\ntalvez mes\\xadmo a si, dando aos restos mortais de sua santa mulher honras\\nfúnebres suntuosas, esmolas aos pobres, missas, e aparatoso ofício do sétimo\\ndia.\\nDeus, que recebeu a mártir, desprezou sem dúvida as\\noblações sacríle\\xadgas do pecador incontrito e obstinado.\\nO romance tem contra o seu legítimo fim comprometer a\\nlição da ver\\xaddade pelas prevenções contra a imaginação que deve ser\\nexclusivamente a fonte de ornamentos da forma e de circunstâncias acessórias e\\nincidentais que sirvam para dar maior interesse ao assunto; no seu fundo,' metadata={'description': 'As vítimas algozes - Joaquim Manuel de Macedo', 'language': 'No language found.', 'source': 'https://www.literaturabrasileira.ufsc.br/documentos/?action=download&id=116979', 'start_index': 210806, 'title': 'As vítimas algozes - Joaquim Manuel de Macedo'}\n"
          ]
        }
      ]
    },
    {
      "cell_type": "code",
      "source": [
        "texto = \"Considerando o contexto quem são os principais personagens da história?\"\n",
        "\n",
        "resultado = avaliarContexto(texto)\n",
        "\n",
        "# Mostra o resultado\n",
        "print_linhas_menores(resultado[\"result\"])\n",
        "\n",
        "# Verifique o documento de origem usado\n",
        "print(\"\\nOrigem:\", resultado[\"source_documents\"][0])"
      ],
      "metadata": {
        "id": "ncDCuO8InX4Q",
        "colab": {
          "base_uri": "https://localhost:8080/"
        },
        "outputId": "34b7b82f-306d-487b-e3a1-108f006058f2"
      },
      "execution_count": null,
      "outputs": [
        {
          "output_type": "stream",
          "name": "stdout",
          "text": [
            " Os principais personagens da história são:\n",
            "\n",
            "1. Lucinda - É a protagonista da história e a pessoa em questão.\n",
            "2. Paulo B\n",
            "orges - É o curandeiro que diagnosticou a morte de Lucinda como envenenamento.\n",
            "3. Esméria - É a esposa de Paulo Borges e\n",
            " uma das suspeitas de ter envenenado Lucinda.\n",
            "4. Frederico - É o marido de Lucinda e o autor do bilhete que acusa Souvan\n",
            "el de estar envolvido na morte dela.\n",
            "5. Cándida - É a mucama de Lucinda e que encontrou o bilhete de Frederico.\n",
            "\n",
            "Origem: page_content='O curandeiro turbou-se: de novo e com absurdo processo\\nfez o exame do triste e enregelado corpo da vítima, e incapaz de compreender os\\nsin\\xadtomas que haviam escapado à sua ignorância, incapaz de apelar para os meios\\ncientíficos que vingam a sociedade, reconhecendo no cadáver as provas\\nirrecusáveis do crime do envenenador, o curandeiro charlatão, vaidoso do seu\\ndiagnóstico, acabou por dizer com desfaçada impostura:\\n– Envenenada!... Quem o disse, mentiu.\\n– Está absolutamente certo disso?\\n– Juro-o...\\n– Que Deus perdoe a quem tal suspeitou! \\n– Quem foi?\\n– A defunta.\\n– Delírio de moribunda: ela morreu da febre que eu\\ndisse.\\n– Antes assim.\\nPaulo Borges tranqüilizou a revolta de seu ânimo, e\\nconcentrou-se na dor da viuvez recente.\\nEsméria ficou inocente a seus olhos, e quase que mais\\nmereceu em compensação da suspeita que o curandeiro declarara infundada.\\nO marido adúltero supôs enganar a Deus e aos homens, e\\ntalvez mes\\xadmo a si, dando aos restos mortais de sua santa mulher honras\\nfúnebres suntuosas, esmolas aos pobres, missas, e aparatoso ofício do sétimo\\ndia.\\nDeus, que recebeu a mártir, desprezou sem dúvida as\\noblações sacríle\\xadgas do pecador incontrito e obstinado.\\nO romance tem contra o seu legítimo fim comprometer a\\nlição da ver\\xaddade pelas prevenções contra a imaginação que deve ser\\nexclusivamente a fonte de ornamentos da forma e de circunstâncias acessórias e\\nincidentais que sirvam para dar maior interesse ao assunto; no seu fundo,' metadata={'description': 'As vítimas algozes - Joaquim Manuel de Macedo', 'language': 'No language found.', 'source': 'https://www.literaturabrasileira.ufsc.br/documentos/?action=download&id=116979', 'start_index': 210806, 'title': 'As vítimas algozes - Joaquim Manuel de Macedo'}\n"
          ]
        }
      ]
    },
    {
      "cell_type": "code",
      "source": [
        "texto = \"Considerando o contexto qual o nome dos principais personagens da história?\"\n",
        "\n",
        "resultado = avaliarContexto(texto)\n",
        "\n",
        "# Mostra o resultado\n",
        "print_linhas_menores(resultado[\"result\"])\n",
        "\n",
        "# Verifique o documento de origem usado\n",
        "print(\"\\nOrigem:\", resultado[\"source_documents\"][0])"
      ],
      "metadata": {
        "id": "g4Htb5q_zNsO",
        "colab": {
          "base_uri": "https://localhost:8080/"
        },
        "outputId": "b9d500b9-0023-414f-8fe7-55caf51c9dfc"
      },
      "execution_count": null,
      "outputs": [
        {
          "output_type": "stream",
          "name": "stdout",
          "text": [
            " Os principais personagens da história são:\n",
            "\n",
            "1. Lucinda - a jovem mulher que está envolvida com o adivinho Paulo Borges \n",
            "e que acaba morrendo assassinada.\n",
            "2. Paulo Borges - o adivinho responsável pela morte de Lucinda.\n",
            "3. Esméria - a esposa \n",
            "de Paulo Borges, que é apresentada como uma pessoa frágil e vulnerável.\n",
            "4. Frederico - o filho adotivo de Paulo Borges e\n",
            " Esméria, que está envolvido em uma relação amorosa com Cândida.\n",
            "5. Cándida - a mucama de Paulo Borges e Esméria, que é \n",
            "apresentada como uma pessoa astuta e caridosa.\n",
            "\n",
            "Origem: page_content='O curandeiro turbou-se: de novo e com absurdo processo\\nfez o exame do triste e enregelado corpo da vítima, e incapaz de compreender os\\nsin\\xadtomas que haviam escapado à sua ignorância, incapaz de apelar para os meios\\ncientíficos que vingam a sociedade, reconhecendo no cadáver as provas\\nirrecusáveis do crime do envenenador, o curandeiro charlatão, vaidoso do seu\\ndiagnóstico, acabou por dizer com desfaçada impostura:\\n– Envenenada!... Quem o disse, mentiu.\\n– Está absolutamente certo disso?\\n– Juro-o...\\n– Que Deus perdoe a quem tal suspeitou! \\n– Quem foi?\\n– A defunta.\\n– Delírio de moribunda: ela morreu da febre que eu\\ndisse.\\n– Antes assim.\\nPaulo Borges tranqüilizou a revolta de seu ânimo, e\\nconcentrou-se na dor da viuvez recente.\\nEsméria ficou inocente a seus olhos, e quase que mais\\nmereceu em compensação da suspeita que o curandeiro declarara infundada.\\nO marido adúltero supôs enganar a Deus e aos homens, e\\ntalvez mes\\xadmo a si, dando aos restos mortais de sua santa mulher honras\\nfúnebres suntuosas, esmolas aos pobres, missas, e aparatoso ofício do sétimo\\ndia.\\nDeus, que recebeu a mártir, desprezou sem dúvida as\\noblações sacríle\\xadgas do pecador incontrito e obstinado.\\nO romance tem contra o seu legítimo fim comprometer a\\nlição da ver\\xaddade pelas prevenções contra a imaginação que deve ser\\nexclusivamente a fonte de ornamentos da forma e de circunstâncias acessórias e\\nincidentais que sirvam para dar maior interesse ao assunto; no seu fundo,' metadata={'description': 'As vítimas algozes - Joaquim Manuel de Macedo', 'language': 'No language found.', 'source': 'https://www.literaturabrasileira.ufsc.br/documentos/?action=download&id=116979', 'start_index': 210806, 'title': 'As vítimas algozes - Joaquim Manuel de Macedo'}\n"
          ]
        }
      ]
    },
    {
      "cell_type": "code",
      "source": [
        "texto = \"Qual o nome do pai da Angêlica?\"\n",
        "\n",
        "resultado = avaliarContexto(texto)\n",
        "\n",
        "# Mostra o resultado\n",
        "print_linhas_menores(resultado[\"result\"])\n",
        "\n",
        "# Verifique o documento de origem usado\n",
        "print(\"\\nOrigem:\", resultado[\"source_documents\"][0])"
      ],
      "metadata": {
        "id": "4sSA91Ju6CKu",
        "colab": {
          "base_uri": "https://localhost:8080/"
        },
        "outputId": "6b5f1751-e73d-4ee1-a754-bde7e1e5fe0b"
      },
      "execution_count": null,
      "outputs": [
        {
          "output_type": "stream",
          "name": "stdout",
          "text": [
            " O nome do pai da Angêlica é Paulo Borges.\n",
            "\n",
            "Origem: page_content='obedecendo ao primeiro impulso do amor alvoroçado, tinha marcado um novo\\nencontro, em que provavelmente seria pela segunda vez escrava do amante algoz.\\nEla o compreendeu, tremendo de vergonha e de medo, logo depois do desperto da\\nconsciência; era porém tarde: o convite e o emprazamento já estavam dados, e\\nLucinda desaparecera.\\nQuando voltou ao quarto para vestir a senhora, a mucama\\ndisse:\\n– O pajem foi pôr o sinal no lugar ajustado\\n– Que pressa! – observou Cândida.\\n– Mas se é preciso aproveitar ocasiões, minha senhora!\\nO dia estava como destinado para o recebimento de cartas\\nimpor\\xadtantes.\\nCândida recebera o assustador bilhete de Souvanel ao\\ndespertar de manhã.\\nÀ tarde chegaram, vindas pelo correio, cartas de\\nFrederico para Cândida e Leonídia.\\nEnquanto sua mãe lia a carta do filho adotivo, que muito\\nlongamente lhe escrevera, Cândida foi para o seu quarto e com desconfiança e\\ncuriosi\\xaddade leu também a que lhe era dirigida e que dizia assim: “Minha irmã.\\n– Já sei demais para te fazer chorar: o verdadeiro nome\\ndo falso Souvanel é Paulo Dermany, que fugiu de Marselha, onde era caixeiro de\\numa casa comercial, porque, frenético jogador, não só roubou avultada quantia\\nao amo, como houve dinheiro, falsificando as firmas de diversos negocian\\xadtes. O\\nministro da França no Rio de Janeiro descobriu Dermany e lhe faz seguir\\na pista desde a sua passagem por esta capital, tendo já requerido ao nosso\\ngoverno a sua extradição. Por escrúpulo, talvez exagerado, de gene\\xadrosidade,\\nfiz prevenir a esse desgraçado mancebo dos perigos que corre. Mando-te incluso\\no retrato fotografado de Dermany: é um dos exempla\\xadres remetidos pela polícia' metadata={'description': 'As vítimas algozes - Joaquim Manuel de Macedo', 'language': 'No language found.', 'source': 'https://www.literaturabrasileira.ufsc.br/documentos/?action=download&id=116979', 'start_index': 500293, 'title': 'As vítimas algozes - Joaquim Manuel de Macedo'}\n"
          ]
        }
      ]
    },
    {
      "cell_type": "code",
      "source": [
        "texto = \"Qual o nome do pai da Florinda?\"\n",
        "\n",
        "resultado = avaliarContexto(texto)\n",
        "\n",
        "# Mostra o resultado\n",
        "print_linhas_menores(resultado[\"result\"])\n",
        "\n",
        "# Verifique o documento de origem usado\n",
        "print(\"\\nOrigem:\", resultado[\"source_documents\"][0])"
      ],
      "metadata": {
        "id": "oR4-KiPJ6RfV",
        "colab": {
          "base_uri": "https://localhost:8080/"
        },
        "outputId": "8a9e5643-8179-4e2e-a503-4c07bdd1dfbc"
      },
      "execution_count": null,
      "outputs": [
        {
          "output_type": "stream",
          "name": "stdout",
          "text": [
            " O nome do pai da Florinda é Paulo Borges.\n",
            "\n",
            "Origem: page_content='obedecendo ao primeiro impulso do amor alvoroçado, tinha marcado um novo\\nencontro, em que provavelmente seria pela segunda vez escrava do amante algoz.\\nEla o compreendeu, tremendo de vergonha e de medo, logo depois do desperto da\\nconsciência; era porém tarde: o convite e o emprazamento já estavam dados, e\\nLucinda desaparecera.\\nQuando voltou ao quarto para vestir a senhora, a mucama\\ndisse:\\n– O pajem foi pôr o sinal no lugar ajustado\\n– Que pressa! – observou Cândida.\\n– Mas se é preciso aproveitar ocasiões, minha senhora!\\nO dia estava como destinado para o recebimento de cartas\\nimpor\\xadtantes.\\nCândida recebera o assustador bilhete de Souvanel ao\\ndespertar de manhã.\\nÀ tarde chegaram, vindas pelo correio, cartas de\\nFrederico para Cândida e Leonídia.\\nEnquanto sua mãe lia a carta do filho adotivo, que muito\\nlongamente lhe escrevera, Cândida foi para o seu quarto e com desconfiança e\\ncuriosi\\xaddade leu também a que lhe era dirigida e que dizia assim: “Minha irmã.\\n– Já sei demais para te fazer chorar: o verdadeiro nome\\ndo falso Souvanel é Paulo Dermany, que fugiu de Marselha, onde era caixeiro de\\numa casa comercial, porque, frenético jogador, não só roubou avultada quantia\\nao amo, como houve dinheiro, falsificando as firmas de diversos negocian\\xadtes. O\\nministro da França no Rio de Janeiro descobriu Dermany e lhe faz seguir\\na pista desde a sua passagem por esta capital, tendo já requerido ao nosso\\ngoverno a sua extradição. Por escrúpulo, talvez exagerado, de gene\\xadrosidade,\\nfiz prevenir a esse desgraçado mancebo dos perigos que corre. Mando-te incluso\\no retrato fotografado de Dermany: é um dos exempla\\xadres remetidos pela polícia' metadata={'description': 'As vítimas algozes - Joaquim Manuel de Macedo', 'language': 'No language found.', 'source': 'https://www.literaturabrasileira.ufsc.br/documentos/?action=download&id=116979', 'start_index': 500293, 'title': 'As vítimas algozes - Joaquim Manuel de Macedo'}\n"
          ]
        }
      ]
    },
    {
      "cell_type": "code",
      "source": [
        "texto = \"Qual o nome do pai do Domingo?\"\n",
        "\n",
        "resultado = avaliarContexto(texto)\n",
        "\n",
        "# Mostra o resultado\n",
        "print_linhas_menores(resultado[\"result\"])\n",
        "\n",
        "# Verifique o documento de origem usado\n",
        "print(\"\\nOrigem:\", resultado[\"source_documents\"][0])"
      ],
      "metadata": {
        "id": "BrwIcVbR6Ugk",
        "colab": {
          "base_uri": "https://localhost:8080/"
        },
        "outputId": "a165a462-ef23-4e99-d76d-02572dfa427c"
      },
      "execution_count": null,
      "outputs": [
        {
          "output_type": "stream",
          "name": "stderr",
          "text": [
            "/usr/local/lib/python3.10/dist-packages/transformers/pipelines/base.py:1083: UserWarning: You seem to be using the pipelines sequentially on GPU. In order to maximize efficiency please use a dataset\n",
            "  warnings.warn(\n"
          ]
        },
        {
          "output_type": "stream",
          "name": "stdout",
          "text": [
            " O nome do pai do Domingo é Simeão.\n",
            "\n",
            "Origem: page_content='si.\\nSimeão contara demais com as suas forças: ferido, e\\ntendo perdido muito sangue, caiu desanimado, quando procurava saltar a cerca da\\nfazenda.\\nCONCLUSÃO\\nO crime espantosamente horrível não ficou impune. A lei\\nvingou as ví\\xadtimas.\\nO Barbudo,\\nEufêmia e outros cúmplices acham-se na casa da correção pagando sua malvadeza.\\nSimeão subiu à forca; estrebuchou e morreu\\ndebaixo dos pés do car\\xadrasco.\\nA lei de exceção matou o escravo e deixou com\\nvida o Barbudo tão ce\\xadlerado como ele, ou, se é possível, mais celerado que\\nele.\\nTudo isto é profundamente imoral e perverte a sociedade.' metadata={'description': 'As vítimas algozes - Joaquim Manuel de Macedo', 'language': 'No language found.', 'source': 'https://www.literaturabrasileira.ufsc.br/documentos/?action=download&id=116979', 'start_index': 107930, 'title': 'As vítimas algozes - Joaquim Manuel de Macedo'}\n"
          ]
        }
      ]
    },
    {
      "cell_type": "code",
      "source": [
        "texto = \"Qual o nome da mãe da Angêlica?\"\n",
        "\n",
        "resultado = avaliarContexto(texto)\n",
        "\n",
        "# Mostra o resultado\n",
        "print_linhas_menores(resultado[\"result\"])\n",
        "\n",
        "# Verifique o documento de origem usado\n",
        "print(\"\\nOrigem:\", resultado[\"source_documents\"][0])"
      ],
      "metadata": {
        "id": "kEOtMS3_6WtX",
        "colab": {
          "base_uri": "https://localhost:8080/"
        },
        "outputId": "dcbc4641-c808-41e1-ad74-3d48dc79fc92"
      },
      "execution_count": null,
      "outputs": [
        {
          "output_type": "stream",
          "name": "stderr",
          "text": [
            "/usr/local/lib/python3.10/dist-packages/transformers/pipelines/base.py:1083: UserWarning: You seem to be using the pipelines sequentially on GPU. In order to maximize efficiency please use a dataset\n",
            "  warnings.warn(\n"
          ]
        },
        {
          "output_type": "stream",
          "name": "stdout",
          "text": [
            " Lucinda\n",
            "\n",
            "Origem: page_content='obedecendo ao primeiro impulso do amor alvoroçado, tinha marcado um novo\\nencontro, em que provavelmente seria pela segunda vez escrava do amante algoz.\\nEla o compreendeu, tremendo de vergonha e de medo, logo depois do desperto da\\nconsciência; era porém tarde: o convite e o emprazamento já estavam dados, e\\nLucinda desaparecera.\\nQuando voltou ao quarto para vestir a senhora, a mucama\\ndisse:\\n– O pajem foi pôr o sinal no lugar ajustado\\n– Que pressa! – observou Cândida.\\n– Mas se é preciso aproveitar ocasiões, minha senhora!\\nO dia estava como destinado para o recebimento de cartas\\nimpor\\xadtantes.\\nCândida recebera o assustador bilhete de Souvanel ao\\ndespertar de manhã.\\nÀ tarde chegaram, vindas pelo correio, cartas de\\nFrederico para Cândida e Leonídia.\\nEnquanto sua mãe lia a carta do filho adotivo, que muito\\nlongamente lhe escrevera, Cândida foi para o seu quarto e com desconfiança e\\ncuriosi\\xaddade leu também a que lhe era dirigida e que dizia assim: “Minha irmã.\\n– Já sei demais para te fazer chorar: o verdadeiro nome\\ndo falso Souvanel é Paulo Dermany, que fugiu de Marselha, onde era caixeiro de\\numa casa comercial, porque, frenético jogador, não só roubou avultada quantia\\nao amo, como houve dinheiro, falsificando as firmas de diversos negocian\\xadtes. O\\nministro da França no Rio de Janeiro descobriu Dermany e lhe faz seguir\\na pista desde a sua passagem por esta capital, tendo já requerido ao nosso\\ngoverno a sua extradição. Por escrúpulo, talvez exagerado, de gene\\xadrosidade,\\nfiz prevenir a esse desgraçado mancebo dos perigos que corre. Mando-te incluso\\no retrato fotografado de Dermany: é um dos exempla\\xadres remetidos pela polícia' metadata={'description': 'As vítimas algozes - Joaquim Manuel de Macedo', 'language': 'No language found.', 'source': 'https://www.literaturabrasileira.ufsc.br/documentos/?action=download&id=116979', 'start_index': 500293, 'title': 'As vítimas algozes - Joaquim Manuel de Macedo'}\n"
          ]
        }
      ]
    },
    {
      "cell_type": "code",
      "source": [
        "texto = \"Qual o nome da mãe da Florinda?\"\n",
        "\n",
        "resultado = avaliarContexto(texto)\n",
        "\n",
        "# Mostra o resultado\n",
        "print_linhas_menores(resultado[\"result\"])\n",
        "\n",
        "# Verifique o documento de origem usado\n",
        "print(\"\\nOrigem:\", resultado[\"source_documents\"][0])"
      ],
      "metadata": {
        "id": "qFLD9ibK6aFI",
        "colab": {
          "base_uri": "https://localhost:8080/"
        },
        "outputId": "8cee5128-60a1-499c-f455-6986950bc5eb"
      },
      "execution_count": null,
      "outputs": [
        {
          "output_type": "stream",
          "name": "stderr",
          "text": [
            "/usr/local/lib/python3.10/dist-packages/transformers/pipelines/base.py:1083: UserWarning: You seem to be using the pipelines sequentially on GPU. In order to maximize efficiency please use a dataset\n",
            "  warnings.warn(\n"
          ]
        },
        {
          "output_type": "stream",
          "name": "stdout",
          "text": [
            " A mãe da Florinda se chama Angélica.\n",
            "\n",
            "Origem: page_content='obedecendo ao primeiro impulso do amor alvoroçado, tinha marcado um novo\\nencontro, em que provavelmente seria pela segunda vez escrava do amante algoz.\\nEla o compreendeu, tremendo de vergonha e de medo, logo depois do desperto da\\nconsciência; era porém tarde: o convite e o emprazamento já estavam dados, e\\nLucinda desaparecera.\\nQuando voltou ao quarto para vestir a senhora, a mucama\\ndisse:\\n– O pajem foi pôr o sinal no lugar ajustado\\n– Que pressa! – observou Cândida.\\n– Mas se é preciso aproveitar ocasiões, minha senhora!\\nO dia estava como destinado para o recebimento de cartas\\nimpor\\xadtantes.\\nCândida recebera o assustador bilhete de Souvanel ao\\ndespertar de manhã.\\nÀ tarde chegaram, vindas pelo correio, cartas de\\nFrederico para Cândida e Leonídia.\\nEnquanto sua mãe lia a carta do filho adotivo, que muito\\nlongamente lhe escrevera, Cândida foi para o seu quarto e com desconfiança e\\ncuriosi\\xaddade leu também a que lhe era dirigida e que dizia assim: “Minha irmã.\\n– Já sei demais para te fazer chorar: o verdadeiro nome\\ndo falso Souvanel é Paulo Dermany, que fugiu de Marselha, onde era caixeiro de\\numa casa comercial, porque, frenético jogador, não só roubou avultada quantia\\nao amo, como houve dinheiro, falsificando as firmas de diversos negocian\\xadtes. O\\nministro da França no Rio de Janeiro descobriu Dermany e lhe faz seguir\\na pista desde a sua passagem por esta capital, tendo já requerido ao nosso\\ngoverno a sua extradição. Por escrúpulo, talvez exagerado, de gene\\xadrosidade,\\nfiz prevenir a esse desgraçado mancebo dos perigos que corre. Mando-te incluso\\no retrato fotografado de Dermany: é um dos exempla\\xadres remetidos pela polícia' metadata={'description': 'As vítimas algozes - Joaquim Manuel de Macedo', 'language': 'No language found.', 'source': 'https://www.literaturabrasileira.ufsc.br/documentos/?action=download&id=116979', 'start_index': 500293, 'title': 'As vítimas algozes - Joaquim Manuel de Macedo'}\n"
          ]
        }
      ]
    },
    {
      "cell_type": "code",
      "source": [
        "texto = \"Qual o nome da mãe do Domingo?\"\n",
        "\n",
        "resultado = avaliarContexto(texto)\n",
        "\n",
        "# Mostra o resultado\n",
        "print_linhas_menores(resultado[\"result\"])\n",
        "\n",
        "# Verifique o documento de origem usado\n",
        "print(\"\\nOrigem:\", resultado[\"source_documents\"][0])"
      ],
      "metadata": {
        "id": "VfNqt_vG6c0u",
        "colab": {
          "base_uri": "https://localhost:8080/"
        },
        "outputId": "b6b5ab23-f485-4231-ea41-3b8024850a8f"
      },
      "execution_count": null,
      "outputs": [
        {
          "output_type": "stream",
          "name": "stderr",
          "text": [
            "/usr/local/lib/python3.10/dist-packages/transformers/pipelines/base.py:1083: UserWarning: You seem to be using the pipelines sequentially on GPU. In order to maximize efficiency please use a dataset\n",
            "  warnings.warn(\n"
          ]
        },
        {
          "output_type": "stream",
          "name": "stdout",
          "text": [
            " A mãe do Domingo se chama Eufêmia.\n",
            "\n",
            "Origem: page_content='si.\\nSimeão contara demais com as suas forças: ferido, e\\ntendo perdido muito sangue, caiu desanimado, quando procurava saltar a cerca da\\nfazenda.\\nCONCLUSÃO\\nO crime espantosamente horrível não ficou impune. A lei\\nvingou as ví\\xadtimas.\\nO Barbudo,\\nEufêmia e outros cúmplices acham-se na casa da correção pagando sua malvadeza.\\nSimeão subiu à forca; estrebuchou e morreu\\ndebaixo dos pés do car\\xadrasco.\\nA lei de exceção matou o escravo e deixou com\\nvida o Barbudo tão ce\\xadlerado como ele, ou, se é possível, mais celerado que\\nele.\\nTudo isto é profundamente imoral e perverte a sociedade.' metadata={'description': 'As vítimas algozes - Joaquim Manuel de Macedo', 'language': 'No language found.', 'source': 'https://www.literaturabrasileira.ufsc.br/documentos/?action=download&id=116979', 'start_index': 107930, 'title': 'As vítimas algozes - Joaquim Manuel de Macedo'}\n"
          ]
        }
      ]
    },
    {
      "cell_type": "code",
      "source": [
        "texto = \"Qual o nome da mãe do Simeão?\"\n",
        "\n",
        "resultado = avaliarContexto(texto)\n",
        "\n",
        "# Mostra o resultado\n",
        "print_linhas_menores(resultado[\"result\"])\n",
        "\n",
        "# Verifique o documento de origem usado\n",
        "print(\"\\nOrigem:\", resultado[\"source_documents\"][0])"
      ],
      "metadata": {
        "id": "pe3iRTKd6e6k",
        "colab": {
          "base_uri": "https://localhost:8080/"
        },
        "outputId": "4af5efca-dd4c-47f8-e478-b345d424f5b5"
      },
      "execution_count": null,
      "outputs": [
        {
          "output_type": "stream",
          "name": "stderr",
          "text": [
            "/usr/local/lib/python3.10/dist-packages/transformers/pipelines/base.py:1083: UserWarning: You seem to be using the pipelines sequentially on GPU. In order to maximize efficiency please use a dataset\n",
            "  warnings.warn(\n"
          ]
        },
        {
          "output_type": "stream",
          "name": "stdout",
          "text": [
            " Lucinda\n",
            "\n",
            "Origem: page_content='obedecendo ao primeiro impulso do amor alvoroçado, tinha marcado um novo\\nencontro, em que provavelmente seria pela segunda vez escrava do amante algoz.\\nEla o compreendeu, tremendo de vergonha e de medo, logo depois do desperto da\\nconsciência; era porém tarde: o convite e o emprazamento já estavam dados, e\\nLucinda desaparecera.\\nQuando voltou ao quarto para vestir a senhora, a mucama\\ndisse:\\n– O pajem foi pôr o sinal no lugar ajustado\\n– Que pressa! – observou Cândida.\\n– Mas se é preciso aproveitar ocasiões, minha senhora!\\nO dia estava como destinado para o recebimento de cartas\\nimpor\\xadtantes.\\nCândida recebera o assustador bilhete de Souvanel ao\\ndespertar de manhã.\\nÀ tarde chegaram, vindas pelo correio, cartas de\\nFrederico para Cândida e Leonídia.\\nEnquanto sua mãe lia a carta do filho adotivo, que muito\\nlongamente lhe escrevera, Cândida foi para o seu quarto e com desconfiança e\\ncuriosi\\xaddade leu também a que lhe era dirigida e que dizia assim: “Minha irmã.\\n– Já sei demais para te fazer chorar: o verdadeiro nome\\ndo falso Souvanel é Paulo Dermany, que fugiu de Marselha, onde era caixeiro de\\numa casa comercial, porque, frenético jogador, não só roubou avultada quantia\\nao amo, como houve dinheiro, falsificando as firmas de diversos negocian\\xadtes. O\\nministro da França no Rio de Janeiro descobriu Dermany e lhe faz seguir\\na pista desde a sua passagem por esta capital, tendo já requerido ao nosso\\ngoverno a sua extradição. Por escrúpulo, talvez exagerado, de gene\\xadrosidade,\\nfiz prevenir a esse desgraçado mancebo dos perigos que corre. Mando-te incluso\\no retrato fotografado de Dermany: é um dos exempla\\xadres remetidos pela polícia' metadata={'description': 'As vítimas algozes - Joaquim Manuel de Macedo', 'language': 'No language found.', 'source': 'https://www.literaturabrasileira.ufsc.br/documentos/?action=download&id=116979', 'start_index': 500293, 'title': 'As vítimas algozes - Joaquim Manuel de Macedo'}\n"
          ]
        }
      ]
    },
    {
      "cell_type": "code",
      "source": [
        "texto = \"Qual o nome da pessoa casada com a Angêlica?\"\n",
        "\n",
        "resultado = avaliarContexto(texto)\n",
        "\n",
        "# Mostra o resultado\n",
        "print_linhas_menores(resultado[\"result\"])\n",
        "\n",
        "# Verifique o documento de origem usado\n",
        "print(\"\\nOrigem:\", resultado[\"source_documents\"][0])"
      ],
      "metadata": {
        "id": "jUSYQpsr6i-J",
        "colab": {
          "base_uri": "https://localhost:8080/"
        },
        "outputId": "9e64f2fd-cc31-436b-e06e-13e9beb8d22d"
      },
      "execution_count": null,
      "outputs": [
        {
          "output_type": "stream",
          "name": "stderr",
          "text": [
            "/usr/local/lib/python3.10/dist-packages/transformers/pipelines/base.py:1083: UserWarning: You seem to be using the pipelines sequentially on GPU. In order to maximize efficiency please use a dataset\n",
            "  warnings.warn(\n"
          ]
        },
        {
          "output_type": "stream",
          "name": "stdout",
          "text": [
            " Frederico\n",
            "\n",
            "Origem: page_content='si.\\nSimeão contara demais com as suas forças: ferido, e\\ntendo perdido muito sangue, caiu desanimado, quando procurava saltar a cerca da\\nfazenda.\\nCONCLUSÃO\\nO crime espantosamente horrível não ficou impune. A lei\\nvingou as ví\\xadtimas.\\nO Barbudo,\\nEufêmia e outros cúmplices acham-se na casa da correção pagando sua malvadeza.\\nSimeão subiu à forca; estrebuchou e morreu\\ndebaixo dos pés do car\\xadrasco.\\nA lei de exceção matou o escravo e deixou com\\nvida o Barbudo tão ce\\xadlerado como ele, ou, se é possível, mais celerado que\\nele.\\nTudo isto é profundamente imoral e perverte a sociedade.' metadata={'description': 'As vítimas algozes - Joaquim Manuel de Macedo', 'language': 'No language found.', 'source': 'https://www.literaturabrasileira.ufsc.br/documentos/?action=download&id=116979', 'start_index': 107930, 'title': 'As vítimas algozes - Joaquim Manuel de Macedo'}\n"
          ]
        }
      ]
    },
    {
      "cell_type": "code",
      "source": [
        "texto = \"Qual o nome da pessoa casada com a Florinda?\"\n",
        "\n",
        "resultado = avaliarContexto(texto)\n",
        "\n",
        "# Mostra o resultado\n",
        "print_linhas_menores(resultado[\"result\"])\n",
        "\n",
        "# Verifique o documento de origem usado\n",
        "print(\"\\nOrigem:\", resultado[\"source_documents\"][0])"
      ],
      "metadata": {
        "id": "T8WanYee6q54",
        "colab": {
          "base_uri": "https://localhost:8080/"
        },
        "outputId": "26a2b53a-b4bb-40e7-99b5-02da1ad2ea91"
      },
      "execution_count": null,
      "outputs": [
        {
          "output_type": "stream",
          "name": "stderr",
          "text": [
            "/usr/local/lib/python3.10/dist-packages/transformers/pipelines/base.py:1083: UserWarning: You seem to be using the pipelines sequentially on GPU. In order to maximize efficiency please use a dataset\n",
            "  warnings.warn(\n"
          ]
        },
        {
          "output_type": "stream",
          "name": "stdout",
          "text": [
            " O nome da pessoa casada com a Florinda é Souvanel.\n",
            "\n",
            "Origem: page_content='obedecendo ao primeiro impulso do amor alvoroçado, tinha marcado um novo\\nencontro, em que provavelmente seria pela segunda vez escrava do amante algoz.\\nEla o compreendeu, tremendo de vergonha e de medo, logo depois do desperto da\\nconsciência; era porém tarde: o convite e o emprazamento já estavam dados, e\\nLucinda desaparecera.\\nQuando voltou ao quarto para vestir a senhora, a mucama\\ndisse:\\n– O pajem foi pôr o sinal no lugar ajustado\\n– Que pressa! – observou Cândida.\\n– Mas se é preciso aproveitar ocasiões, minha senhora!\\nO dia estava como destinado para o recebimento de cartas\\nimpor\\xadtantes.\\nCândida recebera o assustador bilhete de Souvanel ao\\ndespertar de manhã.\\nÀ tarde chegaram, vindas pelo correio, cartas de\\nFrederico para Cândida e Leonídia.\\nEnquanto sua mãe lia a carta do filho adotivo, que muito\\nlongamente lhe escrevera, Cândida foi para o seu quarto e com desconfiança e\\ncuriosi\\xaddade leu também a que lhe era dirigida e que dizia assim: “Minha irmã.\\n– Já sei demais para te fazer chorar: o verdadeiro nome\\ndo falso Souvanel é Paulo Dermany, que fugiu de Marselha, onde era caixeiro de\\numa casa comercial, porque, frenético jogador, não só roubou avultada quantia\\nao amo, como houve dinheiro, falsificando as firmas de diversos negocian\\xadtes. O\\nministro da França no Rio de Janeiro descobriu Dermany e lhe faz seguir\\na pista desde a sua passagem por esta capital, tendo já requerido ao nosso\\ngoverno a sua extradição. Por escrúpulo, talvez exagerado, de gene\\xadrosidade,\\nfiz prevenir a esse desgraçado mancebo dos perigos que corre. Mando-te incluso\\no retrato fotografado de Dermany: é um dos exempla\\xadres remetidos pela polícia' metadata={'description': 'As vítimas algozes - Joaquim Manuel de Macedo', 'language': 'No language found.', 'source': 'https://www.literaturabrasileira.ufsc.br/documentos/?action=download&id=116979', 'start_index': 500293, 'title': 'As vítimas algozes - Joaquim Manuel de Macedo'}\n"
          ]
        }
      ]
    },
    {
      "cell_type": "code",
      "source": [
        "texto = \"Qual o nome da pessoa casada com o Domingo?\"\n",
        "\n",
        "resultado = avaliarContexto(texto)\n",
        "\n",
        "# Mostra o resultado\n",
        "print_linhas_menores(resultado[\"result\"])\n",
        "\n",
        "# Verifique o documento de origem usado\n",
        "print(\"\\nOrigem:\", resultado[\"source_documents\"][0])"
      ],
      "metadata": {
        "id": "4Bqn-4At6upi",
        "colab": {
          "base_uri": "https://localhost:8080/"
        },
        "outputId": "d4a40ffb-0b15-4753-eff0-6da4a1e9115b"
      },
      "execution_count": null,
      "outputs": [
        {
          "output_type": "stream",
          "name": "stderr",
          "text": [
            "/usr/local/lib/python3.10/dist-packages/transformers/pipelines/base.py:1083: UserWarning: You seem to be using the pipelines sequentially on GPU. In order to maximize efficiency please use a dataset\n",
            "  warnings.warn(\n"
          ]
        },
        {
          "output_type": "stream",
          "name": "stdout",
          "text": [
            " A pessoa casada com o Domingo é chamada de Eufêmia.\n",
            "\n",
            "Origem: page_content='si.\\nSimeão contara demais com as suas forças: ferido, e\\ntendo perdido muito sangue, caiu desanimado, quando procurava saltar a cerca da\\nfazenda.\\nCONCLUSÃO\\nO crime espantosamente horrível não ficou impune. A lei\\nvingou as ví\\xadtimas.\\nO Barbudo,\\nEufêmia e outros cúmplices acham-se na casa da correção pagando sua malvadeza.\\nSimeão subiu à forca; estrebuchou e morreu\\ndebaixo dos pés do car\\xadrasco.\\nA lei de exceção matou o escravo e deixou com\\nvida o Barbudo tão ce\\xadlerado como ele, ou, se é possível, mais celerado que\\nele.\\nTudo isto é profundamente imoral e perverte a sociedade.' metadata={'description': 'As vítimas algozes - Joaquim Manuel de Macedo', 'language': 'No language found.', 'source': 'https://www.literaturabrasileira.ufsc.br/documentos/?action=download&id=116979', 'start_index': 107930, 'title': 'As vítimas algozes - Joaquim Manuel de Macedo'}\n"
          ]
        }
      ]
    },
    {
      "cell_type": "code",
      "source": [
        "texto = \"Qual o nome da pessoa casada com o Simeão?\"\n",
        "\n",
        "resultado = avaliarContexto(texto)\n",
        "\n",
        "# Mostra o resultado\n",
        "print_linhas_menores(resultado[\"result\"])\n",
        "\n",
        "# Verifique o documento de origem usado\n",
        "print(\"\\nOrigem:\", resultado[\"source_documents\"][0])"
      ],
      "metadata": {
        "id": "Yo0l0TH26xGt",
        "colab": {
          "base_uri": "https://localhost:8080/"
        },
        "outputId": "af37f6bf-37d5-4a42-b41f-38e70502f06e"
      },
      "execution_count": null,
      "outputs": [
        {
          "output_type": "stream",
          "name": "stderr",
          "text": [
            "/usr/local/lib/python3.10/dist-packages/transformers/pipelines/base.py:1083: UserWarning: You seem to be using the pipelines sequentially on GPU. In order to maximize efficiency please use a dataset\n",
            "  warnings.warn(\n"
          ]
        },
        {
          "output_type": "stream",
          "name": "stdout",
          "text": [
            " A pessoa casada com o Simeão chama-se Esméria.\n",
            "\n",
            "Origem: page_content='si.\\nSimeão contara demais com as suas forças: ferido, e\\ntendo perdido muito sangue, caiu desanimado, quando procurava saltar a cerca da\\nfazenda.\\nCONCLUSÃO\\nO crime espantosamente horrível não ficou impune. A lei\\nvingou as ví\\xadtimas.\\nO Barbudo,\\nEufêmia e outros cúmplices acham-se na casa da correção pagando sua malvadeza.\\nSimeão subiu à forca; estrebuchou e morreu\\ndebaixo dos pés do car\\xadrasco.\\nA lei de exceção matou o escravo e deixou com\\nvida o Barbudo tão ce\\xadlerado como ele, ou, se é possível, mais celerado que\\nele.\\nTudo isto é profundamente imoral e perverte a sociedade.' metadata={'description': 'As vítimas algozes - Joaquim Manuel de Macedo', 'language': 'No language found.', 'source': 'https://www.literaturabrasileira.ufsc.br/documentos/?action=download&id=116979', 'start_index': 107930, 'title': 'As vítimas algozes - Joaquim Manuel de Macedo'}\n"
          ]
        }
      ]
    },
    {
      "cell_type": "code",
      "source": [
        "texto = \"Qual o nome dos filhos da Angêlica?\"\n",
        "\n",
        "resultado = avaliarContexto(texto)\n",
        "\n",
        "# Mostra o resultado\n",
        "print_linhas_menores(resultado[\"result\"])\n",
        "\n",
        "# Verifique o documento de origem usado\n",
        "print(\"\\nOrigem:\", resultado[\"source_documents\"][0])"
      ],
      "metadata": {
        "id": "zRrzFMCD9F_8",
        "colab": {
          "base_uri": "https://localhost:8080/"
        },
        "outputId": "245e10b9-812e-4c2a-821e-90a323fb7ec3"
      },
      "execution_count": null,
      "outputs": [
        {
          "output_type": "stream",
          "name": "stderr",
          "text": [
            "/usr/local/lib/python3.10/dist-packages/transformers/pipelines/base.py:1083: UserWarning: You seem to be using the pipelines sequentially on GPU. In order to maximize efficiency please use a dataset\n",
            "  warnings.warn(\n"
          ]
        },
        {
          "output_type": "stream",
          "name": "stdout",
          "text": [
            " Os nomes dos filhos da Angêlica são: Frederico e Leonídia.\n",
            "\n",
            "Origem: page_content='obedecendo ao primeiro impulso do amor alvoroçado, tinha marcado um novo\\nencontro, em que provavelmente seria pela segunda vez escrava do amante algoz.\\nEla o compreendeu, tremendo de vergonha e de medo, logo depois do desperto da\\nconsciência; era porém tarde: o convite e o emprazamento já estavam dados, e\\nLucinda desaparecera.\\nQuando voltou ao quarto para vestir a senhora, a mucama\\ndisse:\\n– O pajem foi pôr o sinal no lugar ajustado\\n– Que pressa! – observou Cândida.\\n– Mas se é preciso aproveitar ocasiões, minha senhora!\\nO dia estava como destinado para o recebimento de cartas\\nimpor\\xadtantes.\\nCândida recebera o assustador bilhete de Souvanel ao\\ndespertar de manhã.\\nÀ tarde chegaram, vindas pelo correio, cartas de\\nFrederico para Cândida e Leonídia.\\nEnquanto sua mãe lia a carta do filho adotivo, que muito\\nlongamente lhe escrevera, Cândida foi para o seu quarto e com desconfiança e\\ncuriosi\\xaddade leu também a que lhe era dirigida e que dizia assim: “Minha irmã.\\n– Já sei demais para te fazer chorar: o verdadeiro nome\\ndo falso Souvanel é Paulo Dermany, que fugiu de Marselha, onde era caixeiro de\\numa casa comercial, porque, frenético jogador, não só roubou avultada quantia\\nao amo, como houve dinheiro, falsificando as firmas de diversos negocian\\xadtes. O\\nministro da França no Rio de Janeiro descobriu Dermany e lhe faz seguir\\na pista desde a sua passagem por esta capital, tendo já requerido ao nosso\\ngoverno a sua extradição. Por escrúpulo, talvez exagerado, de gene\\xadrosidade,\\nfiz prevenir a esse desgraçado mancebo dos perigos que corre. Mando-te incluso\\no retrato fotografado de Dermany: é um dos exempla\\xadres remetidos pela polícia' metadata={'description': 'As vítimas algozes - Joaquim Manuel de Macedo', 'language': 'No language found.', 'source': 'https://www.literaturabrasileira.ufsc.br/documentos/?action=download&id=116979', 'start_index': 500293, 'title': 'As vítimas algozes - Joaquim Manuel de Macedo'}\n"
          ]
        }
      ]
    },
    {
      "cell_type": "code",
      "source": [
        "texto = \"Qual o nome dos filhos da Florinda?\"\n",
        "\n",
        "resultado = avaliarContexto(texto)\n",
        "\n",
        "# Mostra o resultado\n",
        "print_linhas_menores(resultado[\"result\"])\n",
        "\n",
        "# Verifique o documento de origem usado\n",
        "print(\"\\nOrigem:\", resultado[\"source_documents\"][0])"
      ],
      "metadata": {
        "id": "LVQnChHg9Q-P",
        "colab": {
          "base_uri": "https://localhost:8080/"
        },
        "outputId": "503d5e63-dcd0-4a9d-a623-5dad62ae9109"
      },
      "execution_count": null,
      "outputs": [
        {
          "output_type": "stream",
          "name": "stderr",
          "text": [
            "/usr/local/lib/python3.10/dist-packages/transformers/pipelines/base.py:1083: UserWarning: You seem to be using the pipelines sequentially on GPU. In order to maximize efficiency please use a dataset\n",
            "  warnings.warn(\n"
          ]
        },
        {
          "output_type": "stream",
          "name": "stdout",
          "text": [
            " A resposta à pergunta é: LIBERTADO E FREDERICO.\n",
            "\n",
            "Origem: page_content='obedecendo ao primeiro impulso do amor alvoroçado, tinha marcado um novo\\nencontro, em que provavelmente seria pela segunda vez escrava do amante algoz.\\nEla o compreendeu, tremendo de vergonha e de medo, logo depois do desperto da\\nconsciência; era porém tarde: o convite e o emprazamento já estavam dados, e\\nLucinda desaparecera.\\nQuando voltou ao quarto para vestir a senhora, a mucama\\ndisse:\\n– O pajem foi pôr o sinal no lugar ajustado\\n– Que pressa! – observou Cândida.\\n– Mas se é preciso aproveitar ocasiões, minha senhora!\\nO dia estava como destinado para o recebimento de cartas\\nimpor\\xadtantes.\\nCândida recebera o assustador bilhete de Souvanel ao\\ndespertar de manhã.\\nÀ tarde chegaram, vindas pelo correio, cartas de\\nFrederico para Cândida e Leonídia.\\nEnquanto sua mãe lia a carta do filho adotivo, que muito\\nlongamente lhe escrevera, Cândida foi para o seu quarto e com desconfiança e\\ncuriosi\\xaddade leu também a que lhe era dirigida e que dizia assim: “Minha irmã.\\n– Já sei demais para te fazer chorar: o verdadeiro nome\\ndo falso Souvanel é Paulo Dermany, que fugiu de Marselha, onde era caixeiro de\\numa casa comercial, porque, frenético jogador, não só roubou avultada quantia\\nao amo, como houve dinheiro, falsificando as firmas de diversos negocian\\xadtes. O\\nministro da França no Rio de Janeiro descobriu Dermany e lhe faz seguir\\na pista desde a sua passagem por esta capital, tendo já requerido ao nosso\\ngoverno a sua extradição. Por escrúpulo, talvez exagerado, de gene\\xadrosidade,\\nfiz prevenir a esse desgraçado mancebo dos perigos que corre. Mando-te incluso\\no retrato fotografado de Dermany: é um dos exempla\\xadres remetidos pela polícia' metadata={'description': 'As vítimas algozes - Joaquim Manuel de Macedo', 'language': 'No language found.', 'source': 'https://www.literaturabrasileira.ufsc.br/documentos/?action=download&id=116979', 'start_index': 500293, 'title': 'As vítimas algozes - Joaquim Manuel de Macedo'}\n"
          ]
        }
      ]
    },
    {
      "cell_type": "code",
      "source": [
        "texto = \"Qual o nome dos filhos do Domingo?\"\n",
        "\n",
        "resultado = avaliarContexto(texto)\n",
        "\n",
        "# Mostra o resultado\n",
        "print_linhas_menores(resultado[\"result\"])\n",
        "\n",
        "# Verifique o documento de origem usado\n",
        "print(\"\\nOrigem:\", resultado[\"source_documents\"][0])"
      ],
      "metadata": {
        "id": "1TKys7Wv9O4F",
        "colab": {
          "base_uri": "https://localhost:8080/"
        },
        "outputId": "446f7e20-fd54-44f1-ecdf-aecc9506052b"
      },
      "execution_count": null,
      "outputs": [
        {
          "output_type": "stream",
          "name": "stderr",
          "text": [
            "/usr/local/lib/python3.10/dist-packages/transformers/pipelines/base.py:1083: UserWarning: You seem to be using the pipelines sequentially on GPU. In order to maximize efficiency please use a dataset\n",
            "  warnings.warn(\n"
          ]
        },
        {
          "output_type": "stream",
          "name": "stdout",
          "text": [
            " Os nomes dos filhos do Domingo são: Cándida e Leonídia.\n",
            "\n",
            "Origem: page_content='obedecendo ao primeiro impulso do amor alvoroçado, tinha marcado um novo\\nencontro, em que provavelmente seria pela segunda vez escrava do amante algoz.\\nEla o compreendeu, tremendo de vergonha e de medo, logo depois do desperto da\\nconsciência; era porém tarde: o convite e o emprazamento já estavam dados, e\\nLucinda desaparecera.\\nQuando voltou ao quarto para vestir a senhora, a mucama\\ndisse:\\n– O pajem foi pôr o sinal no lugar ajustado\\n– Que pressa! – observou Cândida.\\n– Mas se é preciso aproveitar ocasiões, minha senhora!\\nO dia estava como destinado para o recebimento de cartas\\nimpor\\xadtantes.\\nCândida recebera o assustador bilhete de Souvanel ao\\ndespertar de manhã.\\nÀ tarde chegaram, vindas pelo correio, cartas de\\nFrederico para Cândida e Leonídia.\\nEnquanto sua mãe lia a carta do filho adotivo, que muito\\nlongamente lhe escrevera, Cândida foi para o seu quarto e com desconfiança e\\ncuriosi\\xaddade leu também a que lhe era dirigida e que dizia assim: “Minha irmã.\\n– Já sei demais para te fazer chorar: o verdadeiro nome\\ndo falso Souvanel é Paulo Dermany, que fugiu de Marselha, onde era caixeiro de\\numa casa comercial, porque, frenético jogador, não só roubou avultada quantia\\nao amo, como houve dinheiro, falsificando as firmas de diversos negocian\\xadtes. O\\nministro da França no Rio de Janeiro descobriu Dermany e lhe faz seguir\\na pista desde a sua passagem por esta capital, tendo já requerido ao nosso\\ngoverno a sua extradição. Por escrúpulo, talvez exagerado, de gene\\xadrosidade,\\nfiz prevenir a esse desgraçado mancebo dos perigos que corre. Mando-te incluso\\no retrato fotografado de Dermany: é um dos exempla\\xadres remetidos pela polícia' metadata={'description': 'As vítimas algozes - Joaquim Manuel de Macedo', 'language': 'No language found.', 'source': 'https://www.literaturabrasileira.ufsc.br/documentos/?action=download&id=116979', 'start_index': 500293, 'title': 'As vítimas algozes - Joaquim Manuel de Macedo'}\n"
          ]
        }
      ]
    },
    {
      "cell_type": "code",
      "source": [
        "texto = \"Qual o nome dos filhos do Simeão?\"\n",
        "\n",
        "resultado = avaliarContexto(texto)\n",
        "\n",
        "# Mostra o resultado\n",
        "print_linhas_menores(resultado[\"result\"])\n",
        "\n",
        "# Verifique o documento de origem usado\n",
        "print(\"\\nOrigem:\", resultado[\"source_documents\"][0])"
      ],
      "metadata": {
        "id": "_AObxgJP9MAw",
        "colab": {
          "base_uri": "https://localhost:8080/"
        },
        "outputId": "288e0ef0-2bfc-4ecc-bd50-5275bc9031a4"
      },
      "execution_count": null,
      "outputs": [
        {
          "output_type": "stream",
          "name": "stderr",
          "text": [
            "/usr/local/lib/python3.10/dist-packages/transformers/pipelines/base.py:1083: UserWarning: You seem to be using the pipelines sequentially on GPU. In order to maximize efficiency please use a dataset\n",
            "  warnings.warn(\n"
          ]
        },
        {
          "output_type": "stream",
          "name": "stdout",
          "text": [
            " Os nomes dos filhos de Simeão são: Ana, Tiago, José, Simão e Judas.\n",
            "\n",
            "Origem: page_content='obedecendo ao primeiro impulso do amor alvoroçado, tinha marcado um novo\\nencontro, em que provavelmente seria pela segunda vez escrava do amante algoz.\\nEla o compreendeu, tremendo de vergonha e de medo, logo depois do desperto da\\nconsciência; era porém tarde: o convite e o emprazamento já estavam dados, e\\nLucinda desaparecera.\\nQuando voltou ao quarto para vestir a senhora, a mucama\\ndisse:\\n– O pajem foi pôr o sinal no lugar ajustado\\n– Que pressa! – observou Cândida.\\n– Mas se é preciso aproveitar ocasiões, minha senhora!\\nO dia estava como destinado para o recebimento de cartas\\nimpor\\xadtantes.\\nCândida recebera o assustador bilhete de Souvanel ao\\ndespertar de manhã.\\nÀ tarde chegaram, vindas pelo correio, cartas de\\nFrederico para Cândida e Leonídia.\\nEnquanto sua mãe lia a carta do filho adotivo, que muito\\nlongamente lhe escrevera, Cândida foi para o seu quarto e com desconfiança e\\ncuriosi\\xaddade leu também a que lhe era dirigida e que dizia assim: “Minha irmã.\\n– Já sei demais para te fazer chorar: o verdadeiro nome\\ndo falso Souvanel é Paulo Dermany, que fugiu de Marselha, onde era caixeiro de\\numa casa comercial, porque, frenético jogador, não só roubou avultada quantia\\nao amo, como houve dinheiro, falsificando as firmas de diversos negocian\\xadtes. O\\nministro da França no Rio de Janeiro descobriu Dermany e lhe faz seguir\\na pista desde a sua passagem por esta capital, tendo já requerido ao nosso\\ngoverno a sua extradição. Por escrúpulo, talvez exagerado, de gene\\xadrosidade,\\nfiz prevenir a esse desgraçado mancebo dos perigos que corre. Mando-te incluso\\no retrato fotografado de Dermany: é um dos exempla\\xadres remetidos pela polícia' metadata={'description': 'As vítimas algozes - Joaquim Manuel de Macedo', 'language': 'No language found.', 'source': 'https://www.literaturabrasileira.ufsc.br/documentos/?action=download&id=116979', 'start_index': 500293, 'title': 'As vítimas algozes - Joaquim Manuel de Macedo'}\n"
          ]
        }
      ]
    },
    {
      "cell_type": "code",
      "source": [
        "texto = \"A Angêlica é filha de quem?\"\n",
        "\n",
        "resultado = avaliarContexto(texto)\n",
        "\n",
        "# Mostra o resultado\n",
        "print_linhas_menores(resultado[\"result\"])\n",
        "\n",
        "# Verifique o documento de origem usado\n",
        "print(\"\\nOrigem:\", resultado[\"source_documents\"][0])"
      ],
      "metadata": {
        "id": "HW7KfB8_DQrV",
        "colab": {
          "base_uri": "https://localhost:8080/"
        },
        "outputId": "e687ab4c-5ddb-4241-f358-1bb723324b15"
      },
      "execution_count": null,
      "outputs": [
        {
          "output_type": "stream",
          "name": "stderr",
          "text": [
            "/usr/local/lib/python3.10/dist-packages/transformers/pipelines/base.py:1083: UserWarning: You seem to be using the pipelines sequentially on GPU. In order to maximize efficiency please use a dataset\n",
            "  warnings.warn(\n"
          ]
        },
        {
          "output_type": "stream",
          "name": "stdout",
          "text": [
            " A Angêlica é filha de Lucinda.\n",
            "\n",
            "Origem: page_content='O curandeiro turbou-se: de novo e com absurdo processo\\nfez o exame do triste e enregelado corpo da vítima, e incapaz de compreender os\\nsin\\xadtomas que haviam escapado à sua ignorância, incapaz de apelar para os meios\\ncientíficos que vingam a sociedade, reconhecendo no cadáver as provas\\nirrecusáveis do crime do envenenador, o curandeiro charlatão, vaidoso do seu\\ndiagnóstico, acabou por dizer com desfaçada impostura:\\n– Envenenada!... Quem o disse, mentiu.\\n– Está absolutamente certo disso?\\n– Juro-o...\\n– Que Deus perdoe a quem tal suspeitou! \\n– Quem foi?\\n– A defunta.\\n– Delírio de moribunda: ela morreu da febre que eu\\ndisse.\\n– Antes assim.\\nPaulo Borges tranqüilizou a revolta de seu ânimo, e\\nconcentrou-se na dor da viuvez recente.\\nEsméria ficou inocente a seus olhos, e quase que mais\\nmereceu em compensação da suspeita que o curandeiro declarara infundada.\\nO marido adúltero supôs enganar a Deus e aos homens, e\\ntalvez mes\\xadmo a si, dando aos restos mortais de sua santa mulher honras\\nfúnebres suntuosas, esmolas aos pobres, missas, e aparatoso ofício do sétimo\\ndia.\\nDeus, que recebeu a mártir, desprezou sem dúvida as\\noblações sacríle\\xadgas do pecador incontrito e obstinado.\\nO romance tem contra o seu legítimo fim comprometer a\\nlição da ver\\xaddade pelas prevenções contra a imaginação que deve ser\\nexclusivamente a fonte de ornamentos da forma e de circunstâncias acessórias e\\nincidentais que sirvam para dar maior interesse ao assunto; no seu fundo,' metadata={'description': 'As vítimas algozes - Joaquim Manuel de Macedo', 'language': 'No language found.', 'source': 'https://www.literaturabrasileira.ufsc.br/documentos/?action=download&id=116979', 'start_index': 210806, 'title': 'As vítimas algozes - Joaquim Manuel de Macedo'}\n"
          ]
        }
      ]
    },
    {
      "cell_type": "code",
      "source": [
        "texto = \"A Florinda é filha de quem?\"\n",
        "\n",
        "resultado = avaliarContexto(texto)\n",
        "\n",
        "# Mostra o resultado\n",
        "print_linhas_menores(resultado[\"result\"])\n",
        "\n",
        "# Verifique o documento de origem usado\n",
        "print(\"\\nOrigem:\", resultado[\"source_documents\"][0])"
      ],
      "metadata": {
        "id": "zunbmdXrDLPZ",
        "colab": {
          "base_uri": "https://localhost:8080/"
        },
        "outputId": "ac7a90fe-5df9-4704-abab-4cd4862c4d1f"
      },
      "execution_count": null,
      "outputs": [
        {
          "output_type": "stream",
          "name": "stderr",
          "text": [
            "/usr/local/lib/python3.10/dist-packages/transformers/pipelines/base.py:1083: UserWarning: You seem to be using the pipelines sequentially on GPU. In order to maximize efficiency please use a dataset\n",
            "  warnings.warn(\n"
          ]
        },
        {
          "output_type": "stream",
          "name": "stdout",
          "text": [
            " A Florinda é filha de Esméria.\n",
            "\n",
            "Origem: page_content='obedecendo ao primeiro impulso do amor alvoroçado, tinha marcado um novo\\nencontro, em que provavelmente seria pela segunda vez escrava do amante algoz.\\nEla o compreendeu, tremendo de vergonha e de medo, logo depois do desperto da\\nconsciência; era porém tarde: o convite e o emprazamento já estavam dados, e\\nLucinda desaparecera.\\nQuando voltou ao quarto para vestir a senhora, a mucama\\ndisse:\\n– O pajem foi pôr o sinal no lugar ajustado\\n– Que pressa! – observou Cândida.\\n– Mas se é preciso aproveitar ocasiões, minha senhora!\\nO dia estava como destinado para o recebimento de cartas\\nimpor\\xadtantes.\\nCândida recebera o assustador bilhete de Souvanel ao\\ndespertar de manhã.\\nÀ tarde chegaram, vindas pelo correio, cartas de\\nFrederico para Cândida e Leonídia.\\nEnquanto sua mãe lia a carta do filho adotivo, que muito\\nlongamente lhe escrevera, Cândida foi para o seu quarto e com desconfiança e\\ncuriosi\\xaddade leu também a que lhe era dirigida e que dizia assim: “Minha irmã.\\n– Já sei demais para te fazer chorar: o verdadeiro nome\\ndo falso Souvanel é Paulo Dermany, que fugiu de Marselha, onde era caixeiro de\\numa casa comercial, porque, frenético jogador, não só roubou avultada quantia\\nao amo, como houve dinheiro, falsificando as firmas de diversos negocian\\xadtes. O\\nministro da França no Rio de Janeiro descobriu Dermany e lhe faz seguir\\na pista desde a sua passagem por esta capital, tendo já requerido ao nosso\\ngoverno a sua extradição. Por escrúpulo, talvez exagerado, de gene\\xadrosidade,\\nfiz prevenir a esse desgraçado mancebo dos perigos que corre. Mando-te incluso\\no retrato fotografado de Dermany: é um dos exempla\\xadres remetidos pela polícia' metadata={'description': 'As vítimas algozes - Joaquim Manuel de Macedo', 'language': 'No language found.', 'source': 'https://www.literaturabrasileira.ufsc.br/documentos/?action=download&id=116979', 'start_index': 500293, 'title': 'As vítimas algozes - Joaquim Manuel de Macedo'}\n"
          ]
        }
      ]
    },
    {
      "cell_type": "code",
      "source": [
        "texto = \"O Domingo é filho de quem?\"\n",
        "\n",
        "resultado = avaliarContexto(texto)\n",
        "\n",
        "# Mostra o resultado\n",
        "print_linhas_menores(resultado[\"result\"])\n",
        "\n",
        "# Verifique o documento de origem usado\n",
        "print(\"\\nOrigem:\", resultado[\"source_documents\"][0])"
      ],
      "metadata": {
        "id": "1tzEpDn1DHmL",
        "colab": {
          "base_uri": "https://localhost:8080/"
        },
        "outputId": "52b445ab-b152-430e-9e96-2216cbb098e5"
      },
      "execution_count": null,
      "outputs": [
        {
          "output_type": "stream",
          "name": "stderr",
          "text": [
            "/usr/local/lib/python3.10/dist-packages/transformers/pipelines/base.py:1083: UserWarning: You seem to be using the pipelines sequentially on GPU. In order to maximize efficiency please use a dataset\n",
            "  warnings.warn(\n"
          ]
        },
        {
          "output_type": "stream",
          "name": "stdout",
          "text": [
            " Não sou filho de ninguém, sou um assistente de IA.\n",
            "\n",
            "Origem: page_content='O curandeiro turbou-se: de novo e com absurdo processo\\nfez o exame do triste e enregelado corpo da vítima, e incapaz de compreender os\\nsin\\xadtomas que haviam escapado à sua ignorância, incapaz de apelar para os meios\\ncientíficos que vingam a sociedade, reconhecendo no cadáver as provas\\nirrecusáveis do crime do envenenador, o curandeiro charlatão, vaidoso do seu\\ndiagnóstico, acabou por dizer com desfaçada impostura:\\n– Envenenada!... Quem o disse, mentiu.\\n– Está absolutamente certo disso?\\n– Juro-o...\\n– Que Deus perdoe a quem tal suspeitou! \\n– Quem foi?\\n– A defunta.\\n– Delírio de moribunda: ela morreu da febre que eu\\ndisse.\\n– Antes assim.\\nPaulo Borges tranqüilizou a revolta de seu ânimo, e\\nconcentrou-se na dor da viuvez recente.\\nEsméria ficou inocente a seus olhos, e quase que mais\\nmereceu em compensação da suspeita que o curandeiro declarara infundada.\\nO marido adúltero supôs enganar a Deus e aos homens, e\\ntalvez mes\\xadmo a si, dando aos restos mortais de sua santa mulher honras\\nfúnebres suntuosas, esmolas aos pobres, missas, e aparatoso ofício do sétimo\\ndia.\\nDeus, que recebeu a mártir, desprezou sem dúvida as\\noblações sacríle\\xadgas do pecador incontrito e obstinado.\\nO romance tem contra o seu legítimo fim comprometer a\\nlição da ver\\xaddade pelas prevenções contra a imaginação que deve ser\\nexclusivamente a fonte de ornamentos da forma e de circunstâncias acessórias e\\nincidentais que sirvam para dar maior interesse ao assunto; no seu fundo,' metadata={'description': 'As vítimas algozes - Joaquim Manuel de Macedo', 'language': 'No language found.', 'source': 'https://www.literaturabrasileira.ufsc.br/documentos/?action=download&id=116979', 'start_index': 210806, 'title': 'As vítimas algozes - Joaquim Manuel de Macedo'}\n"
          ]
        }
      ]
    },
    {
      "cell_type": "code",
      "source": [
        "Dtexto = \"O Simeão é filho de quem?\"\n",
        "\n",
        "resultado = avaliarContexto(texto)\n",
        "\n",
        "# Mostra o resultado\n",
        "print_linhas_menores(resultado[\"result\"])\n",
        "\n",
        "# Verifique o documento de origem usado\n",
        "print(\"\\nOrigem:\", resultado[\"source_documents\"][0])"
      ],
      "metadata": {
        "id": "SZVJ3oiJDBTy",
        "colab": {
          "base_uri": "https://localhost:8080/"
        },
        "outputId": "70cae46d-7294-4856-da02-634c57fc3d2d"
      },
      "execution_count": null,
      "outputs": [
        {
          "output_type": "stream",
          "name": "stderr",
          "text": [
            "/usr/local/lib/python3.10/dist-packages/transformers/pipelines/base.py:1083: UserWarning: You seem to be using the pipelines sequentially on GPU. In order to maximize efficiency please use a dataset\n",
            "  warnings.warn(\n"
          ]
        },
        {
          "output_type": "stream",
          "name": "stdout",
          "text": [
            " O Domingo é filho de Deus.\n",
            "\n",
            "Origem: page_content='O curandeiro turbou-se: de novo e com absurdo processo\\nfez o exame do triste e enregelado corpo da vítima, e incapaz de compreender os\\nsin\\xadtomas que haviam escapado à sua ignorância, incapaz de apelar para os meios\\ncientíficos que vingam a sociedade, reconhecendo no cadáver as provas\\nirrecusáveis do crime do envenenador, o curandeiro charlatão, vaidoso do seu\\ndiagnóstico, acabou por dizer com desfaçada impostura:\\n– Envenenada!... Quem o disse, mentiu.\\n– Está absolutamente certo disso?\\n– Juro-o...\\n– Que Deus perdoe a quem tal suspeitou! \\n– Quem foi?\\n– A defunta.\\n– Delírio de moribunda: ela morreu da febre que eu\\ndisse.\\n– Antes assim.\\nPaulo Borges tranqüilizou a revolta de seu ânimo, e\\nconcentrou-se na dor da viuvez recente.\\nEsméria ficou inocente a seus olhos, e quase que mais\\nmereceu em compensação da suspeita que o curandeiro declarara infundada.\\nO marido adúltero supôs enganar a Deus e aos homens, e\\ntalvez mes\\xadmo a si, dando aos restos mortais de sua santa mulher honras\\nfúnebres suntuosas, esmolas aos pobres, missas, e aparatoso ofício do sétimo\\ndia.\\nDeus, que recebeu a mártir, desprezou sem dúvida as\\noblações sacríle\\xadgas do pecador incontrito e obstinado.\\nO romance tem contra o seu legítimo fim comprometer a\\nlição da ver\\xaddade pelas prevenções contra a imaginação que deve ser\\nexclusivamente a fonte de ornamentos da forma e de circunstâncias acessórias e\\nincidentais que sirvam para dar maior interesse ao assunto; no seu fundo,' metadata={'description': 'As vítimas algozes - Joaquim Manuel de Macedo', 'language': 'No language found.', 'source': 'https://www.literaturabrasileira.ufsc.br/documentos/?action=download&id=116979', 'start_index': 210806, 'title': 'As vítimas algozes - Joaquim Manuel de Macedo'}\n"
          ]
        }
      ]
    },
    {
      "cell_type": "code",
      "source": [
        "texto = \"Quais os nomes dos casais da história?\"\n",
        "\n",
        "resultado = avaliarContexto(texto)\n",
        "\n",
        "# Mostra o resultado\n",
        "print_linhas_menores(resultado[\"result\"])\n",
        "\n",
        "# Verifique o documento de origem usado\n",
        "print(\"\\nOrigem:\", resultado[\"source_documents\"][0])"
      ],
      "metadata": {
        "id": "ZJ6lR_71C1De",
        "colab": {
          "base_uri": "https://localhost:8080/"
        },
        "outputId": "5bfc5a03-7322-46c1-a8c1-62590e3103d4"
      },
      "execution_count": null,
      "outputs": [
        {
          "output_type": "stream",
          "name": "stderr",
          "text": [
            "/usr/local/lib/python3.10/dist-packages/transformers/pipelines/base.py:1083: UserWarning: You seem to be using the pipelines sequentially on GPU. In order to maximize efficiency please use a dataset\n",
            "  warnings.warn(\n"
          ]
        },
        {
          "output_type": "stream",
          "name": "stdout",
          "text": [
            " Os nomes dos casais são:\n",
            "\n",
            "1. Esméria e Paulo Borges\n",
            "2. Lucinda e Frederico\n",
            "\n",
            "Origem: page_content='O curandeiro turbou-se: de novo e com absurdo processo\\nfez o exame do triste e enregelado corpo da vítima, e incapaz de compreender os\\nsin\\xadtomas que haviam escapado à sua ignorância, incapaz de apelar para os meios\\ncientíficos que vingam a sociedade, reconhecendo no cadáver as provas\\nirrecusáveis do crime do envenenador, o curandeiro charlatão, vaidoso do seu\\ndiagnóstico, acabou por dizer com desfaçada impostura:\\n– Envenenada!... Quem o disse, mentiu.\\n– Está absolutamente certo disso?\\n– Juro-o...\\n– Que Deus perdoe a quem tal suspeitou! \\n– Quem foi?\\n– A defunta.\\n– Delírio de moribunda: ela morreu da febre que eu\\ndisse.\\n– Antes assim.\\nPaulo Borges tranqüilizou a revolta de seu ânimo, e\\nconcentrou-se na dor da viuvez recente.\\nEsméria ficou inocente a seus olhos, e quase que mais\\nmereceu em compensação da suspeita que o curandeiro declarara infundada.\\nO marido adúltero supôs enganar a Deus e aos homens, e\\ntalvez mes\\xadmo a si, dando aos restos mortais de sua santa mulher honras\\nfúnebres suntuosas, esmolas aos pobres, missas, e aparatoso ofício do sétimo\\ndia.\\nDeus, que recebeu a mártir, desprezou sem dúvida as\\noblações sacríle\\xadgas do pecador incontrito e obstinado.\\nO romance tem contra o seu legítimo fim comprometer a\\nlição da ver\\xaddade pelas prevenções contra a imaginação que deve ser\\nexclusivamente a fonte de ornamentos da forma e de circunstâncias acessórias e\\nincidentais que sirvam para dar maior interesse ao assunto; no seu fundo,' metadata={'description': 'As vítimas algozes - Joaquim Manuel de Macedo', 'language': 'No language found.', 'source': 'https://www.literaturabrasileira.ufsc.br/documentos/?action=download&id=116979', 'start_index': 210806, 'title': 'As vítimas algozes - Joaquim Manuel de Macedo'}\n"
          ]
        }
      ]
    },
    {
      "cell_type": "markdown",
      "source": [
        "### Perguntas diversas"
      ],
      "metadata": {
        "id": "QH1H93VT6yI8"
      }
    },
    {
      "cell_type": "code",
      "source": [
        "texto = \"Liste para mim as palavras que estão relacionadas com escravidão?\"\n",
        "\n",
        "resultado = avaliarContexto(texto)\n",
        "\n",
        "# Mostra o resultado\n",
        "print_linhas_menores(resultado[\"result\"])\n",
        "\n",
        "# Verifique o documento de origem usado\n",
        "print(\"\\nOrigem:\", resultado[\"source_documents\"][0])"
      ],
      "metadata": {
        "id": "a7oJl0Ho9CsG",
        "colab": {
          "base_uri": "https://localhost:8080/"
        },
        "outputId": "67ea0967-c778-450a-8e8f-7aeb76ea80dd"
      },
      "execution_count": null,
      "outputs": [
        {
          "output_type": "stream",
          "name": "stderr",
          "text": [
            "/usr/local/lib/python3.10/dist-packages/transformers/pipelines/base.py:1083: UserWarning: You seem to be using the pipelines sequentially on GPU. In order to maximize efficiency please use a dataset\n",
            "  warnings.warn(\n"
          ]
        },
        {
          "output_type": "stream",
          "name": "stdout",
          "text": [
            " Escravidão, oblações, sacrilégias, delírio, moribunda, fúnebre, suntuosa, honras, missas, ofício, setimo dia, pecador, \n",
            "incontrito, obstinado, imaginação, verdade, prevenções, ornamentos, forma, circunstâncias, acessórias, incidentais, inte\n",
            "resse, lula, mater, dolor, viuvez, recentemente, exclusivamente, fonte, ornamentar, corruptos, pestíferos, contacto, inf\n",
            "luência, fatal, bani, crime, sociedade, desmoralizar, empestar, assassinar, opressores.\n",
            "\n",
            "Origem: page_content='O curandeiro turbou-se: de novo e com absurdo processo\\nfez o exame do triste e enregelado corpo da vítima, e incapaz de compreender os\\nsin\\xadtomas que haviam escapado à sua ignorância, incapaz de apelar para os meios\\ncientíficos que vingam a sociedade, reconhecendo no cadáver as provas\\nirrecusáveis do crime do envenenador, o curandeiro charlatão, vaidoso do seu\\ndiagnóstico, acabou por dizer com desfaçada impostura:\\n– Envenenada!... Quem o disse, mentiu.\\n– Está absolutamente certo disso?\\n– Juro-o...\\n– Que Deus perdoe a quem tal suspeitou! \\n– Quem foi?\\n– A defunta.\\n– Delírio de moribunda: ela morreu da febre que eu\\ndisse.\\n– Antes assim.\\nPaulo Borges tranqüilizou a revolta de seu ânimo, e\\nconcentrou-se na dor da viuvez recente.\\nEsméria ficou inocente a seus olhos, e quase que mais\\nmereceu em compensação da suspeita que o curandeiro declarara infundada.\\nO marido adúltero supôs enganar a Deus e aos homens, e\\ntalvez mes\\xadmo a si, dando aos restos mortais de sua santa mulher honras\\nfúnebres suntuosas, esmolas aos pobres, missas, e aparatoso ofício do sétimo\\ndia.\\nDeus, que recebeu a mártir, desprezou sem dúvida as\\noblações sacríle\\xadgas do pecador incontrito e obstinado.\\nO romance tem contra o seu legítimo fim comprometer a\\nlição da ver\\xaddade pelas prevenções contra a imaginação que deve ser\\nexclusivamente a fonte de ornamentos da forma e de circunstâncias acessórias e\\nincidentais que sirvam para dar maior interesse ao assunto; no seu fundo,' metadata={'description': 'As vítimas algozes - Joaquim Manuel de Macedo', 'language': 'No language found.', 'source': 'https://www.literaturabrasileira.ufsc.br/documentos/?action=download&id=116979', 'start_index': 210806, 'title': 'As vítimas algozes - Joaquim Manuel de Macedo'}\n"
          ]
        }
      ]
    },
    {
      "cell_type": "code",
      "source": [
        "texto = \"Liste para mim a quantidade de  palavras que estão relacionadas com escravidão?\"\n",
        "\n",
        "resultado = avaliarContexto(texto)\n",
        "\n",
        "# Mostra o resultado\n",
        "print_linhas_menores(resultado[\"result\"])\n",
        "\n",
        "# Verifique o documento de origem usado\n",
        "print(\"\\nOrigem:\", resultado[\"source_documents\"][0])"
      ],
      "metadata": {
        "id": "BOhjDiT19gsN",
        "colab": {
          "base_uri": "https://localhost:8080/"
        },
        "outputId": "82b49ebf-a462-4bdd-c700-66e617826005"
      },
      "execution_count": null,
      "outputs": [
        {
          "output_type": "stream",
          "name": "stderr",
          "text": [
            "/usr/local/lib/python3.10/dist-packages/transformers/pipelines/base.py:1083: UserWarning: You seem to be using the pipelines sequentially on GPU. In order to maximize efficiency please use a dataset\n",
            "  warnings.warn(\n"
          ]
        },
        {
          "output_type": "stream",
          "name": "stdout",
          "text": [
            " As palavras relacionadas com escravidão são:\n",
            "escravo, escravidão, senhor, proprietário, escravidão, obediência, discipl\n",
            "ina,\n",
            "submissão, trabalho, força, condicionamento, rotina, materializado, indiferença,\n",
            "estupidez, desmazelo, prejuízo, su\n",
            "icídio, enfermeira, fuga, quilombo, seduzir,\n",
            "perdura, resultado, riqueza, imoral, corrupção, refalsada, misterioso, dano\n",
            ",\n",
            "paciência, cálculo.\n",
            "\n",
            "Origem: page_content='O curandeiro turbou-se: de novo e com absurdo processo\\nfez o exame do triste e enregelado corpo da vítima, e incapaz de compreender os\\nsin\\xadtomas que haviam escapado à sua ignorância, incapaz de apelar para os meios\\ncientíficos que vingam a sociedade, reconhecendo no cadáver as provas\\nirrecusáveis do crime do envenenador, o curandeiro charlatão, vaidoso do seu\\ndiagnóstico, acabou por dizer com desfaçada impostura:\\n– Envenenada!... Quem o disse, mentiu.\\n– Está absolutamente certo disso?\\n– Juro-o...\\n– Que Deus perdoe a quem tal suspeitou! \\n– Quem foi?\\n– A defunta.\\n– Delírio de moribunda: ela morreu da febre que eu\\ndisse.\\n– Antes assim.\\nPaulo Borges tranqüilizou a revolta de seu ânimo, e\\nconcentrou-se na dor da viuvez recente.\\nEsméria ficou inocente a seus olhos, e quase que mais\\nmereceu em compensação da suspeita que o curandeiro declarara infundada.\\nO marido adúltero supôs enganar a Deus e aos homens, e\\ntalvez mes\\xadmo a si, dando aos restos mortais de sua santa mulher honras\\nfúnebres suntuosas, esmolas aos pobres, missas, e aparatoso ofício do sétimo\\ndia.\\nDeus, que recebeu a mártir, desprezou sem dúvida as\\noblações sacríle\\xadgas do pecador incontrito e obstinado.\\nO romance tem contra o seu legítimo fim comprometer a\\nlição da ver\\xaddade pelas prevenções contra a imaginação que deve ser\\nexclusivamente a fonte de ornamentos da forma e de circunstâncias acessórias e\\nincidentais que sirvam para dar maior interesse ao assunto; no seu fundo,' metadata={'description': 'As vítimas algozes - Joaquim Manuel de Macedo', 'language': 'No language found.', 'source': 'https://www.literaturabrasileira.ufsc.br/documentos/?action=download&id=116979', 'start_index': 210806, 'title': 'As vítimas algozes - Joaquim Manuel de Macedo'}\n"
          ]
        }
      ]
    },
    {
      "cell_type": "code",
      "source": [
        "texto = \"Considerando o contexto que palavras possuem relação com escravidão?\"\n",
        "\n",
        "resultado = avaliarContexto(texto)\n",
        "\n",
        "# Mostra o resultado\n",
        "print_linhas_menores(resultado[\"result\"])\n",
        "\n",
        "# Verifique o documento de origem usado\n",
        "print(\"\\nOrigem:\", resultado[\"source_documents\"][0])"
      ],
      "metadata": {
        "id": "-7Tv5t_9nFTG",
        "colab": {
          "base_uri": "https://localhost:8080/"
        },
        "outputId": "ffe581b3-07af-4088-efe0-e8990b4a864e"
      },
      "execution_count": null,
      "outputs": [
        {
          "output_type": "stream",
          "name": "stderr",
          "text": [
            "/usr/local/lib/python3.10/dist-packages/transformers/pipelines/base.py:1083: UserWarning: You seem to be using the pipelines sequentially on GPU. In order to maximize efficiency please use a dataset\n",
            "  warnings.warn(\n"
          ]
        },
        {
          "output_type": "stream",
          "name": "stdout",
          "text": [
            " Sim, as palavras \"escravo\" e \"correção\" estão presentes no texto e relacionadas à escravidão.\n",
            "\n",
            "Origem: page_content='si.\\nSimeão contara demais com as suas forças: ferido, e\\ntendo perdido muito sangue, caiu desanimado, quando procurava saltar a cerca da\\nfazenda.\\nCONCLUSÃO\\nO crime espantosamente horrível não ficou impune. A lei\\nvingou as ví\\xadtimas.\\nO Barbudo,\\nEufêmia e outros cúmplices acham-se na casa da correção pagando sua malvadeza.\\nSimeão subiu à forca; estrebuchou e morreu\\ndebaixo dos pés do car\\xadrasco.\\nA lei de exceção matou o escravo e deixou com\\nvida o Barbudo tão ce\\xadlerado como ele, ou, se é possível, mais celerado que\\nele.\\nTudo isto é profundamente imoral e perverte a sociedade.' metadata={'description': 'As vítimas algozes - Joaquim Manuel de Macedo', 'language': 'No language found.', 'source': 'https://www.literaturabrasileira.ufsc.br/documentos/?action=download&id=116979', 'start_index': 107930, 'title': 'As vítimas algozes - Joaquim Manuel de Macedo'}\n"
          ]
        }
      ]
    },
    {
      "cell_type": "code",
      "source": [
        "texto = \"Considerando o contexto que palavras possuem relação semântica com escravidão?\"\n",
        "\n",
        "resultado = avaliarContexto(texto)\n",
        "\n",
        "# Mostra o resultado\n",
        "print_linhas_menores(resultado[\"result\"])\n",
        "\n",
        "# Verifique o documento de origem usado\n",
        "print(\"\\nOrigem:\", resultado[\"source_documents\"][0])"
      ],
      "metadata": {
        "id": "F-Rfy2vjlkVW",
        "colab": {
          "base_uri": "https://localhost:8080/"
        },
        "outputId": "2dc57930-ecde-407d-db86-d47d4304137c"
      },
      "execution_count": null,
      "outputs": [
        {
          "output_type": "stream",
          "name": "stderr",
          "text": [
            "/usr/local/lib/python3.10/dist-packages/transformers/pipelines/base.py:1083: UserWarning: You seem to be using the pipelines sequentially on GPU. In order to maximize efficiency please use a dataset\n",
            "  warnings.warn(\n"
          ]
        },
        {
          "output_type": "stream",
          "name": "stdout",
          "text": [
            " Sim, as seguintes palavras têm relação semântica com escravidão:\n",
            "\n",
            "* Simeão (escravo)\n",
            "* Eufêmia (cúmplice)\n",
            "* Barbudo (ou\n",
            "tro cúmplice)\n",
            "* Correção (prisão)\n",
            "* Malvadeza (mau comportamento)\n",
            "* Exceção (lei que permite a pena de morte)\n",
            "* Justiça \n",
            "(lei que castiga os culpados)\n",
            "\n",
            " Essas palavras estão relacionadas à escravidão porque elas são usadas para descrever per\n",
            "sonagens ou situações envolvidas na história de Simeão e da sua tragédia.\n",
            "\n",
            "Origem: page_content='si.\\nSimeão contara demais com as suas forças: ferido, e\\ntendo perdido muito sangue, caiu desanimado, quando procurava saltar a cerca da\\nfazenda.\\nCONCLUSÃO\\nO crime espantosamente horrível não ficou impune. A lei\\nvingou as ví\\xadtimas.\\nO Barbudo,\\nEufêmia e outros cúmplices acham-se na casa da correção pagando sua malvadeza.\\nSimeão subiu à forca; estrebuchou e morreu\\ndebaixo dos pés do car\\xadrasco.\\nA lei de exceção matou o escravo e deixou com\\nvida o Barbudo tão ce\\xadlerado como ele, ou, se é possível, mais celerado que\\nele.\\nTudo isto é profundamente imoral e perverte a sociedade.' metadata={'description': 'As vítimas algozes - Joaquim Manuel de Macedo', 'language': 'No language found.', 'source': 'https://www.literaturabrasileira.ufsc.br/documentos/?action=download&id=116979', 'start_index': 107930, 'title': 'As vítimas algozes - Joaquim Manuel de Macedo'}\n"
          ]
        }
      ]
    },
    {
      "cell_type": "code",
      "source": [
        "texto = \"Considerando o contexto que palavras estão relacionadas a escravidão mas deixa isto implicito?\"\n",
        "\n",
        "resultado = avaliarContexto(texto)\n",
        "\n",
        "# Mostra o resultado\n",
        "print_linhas_menores(resultado[\"result\"])\n",
        "\n",
        "# Verifique o documento de origem usado\n",
        "print(\"\\nOrigem:\", resultado[\"source_documents\"][0])"
      ],
      "metadata": {
        "id": "f8mj1-zTg-H4",
        "colab": {
          "base_uri": "https://localhost:8080/"
        },
        "outputId": "a401543c-4d92-4191-9036-2c808f00e276"
      },
      "execution_count": null,
      "outputs": [
        {
          "output_type": "stream",
          "name": "stderr",
          "text": [
            "/usr/local/lib/python3.10/dist-packages/transformers/pipelines/base.py:1083: UserWarning: You seem to be using the pipelines sequentially on GPU. In order to maximize efficiency please use a dataset\n",
            "  warnings.warn(\n"
          ]
        },
        {
          "output_type": "stream",
          "name": "stdout",
          "text": [
            " Sim, entendi. Com base neste contexto, podemos entender que Simeão é um escravo que tentou fugir da fazenda onde estava\n",
            " preso, mas foi capturado e castigado com a morte na forca. O Barbudo e Eufêmia são personagens que parecem estar envolv\n",
            "idos na conspiração que levou à morte de Simeão. Aqui está a resposta em língua portuguesa para a sua pergunta, consider\n",
            "ando o contexto fornecido.\n",
            "\n",
            "Origem: page_content='si.\\nSimeão contara demais com as suas forças: ferido, e\\ntendo perdido muito sangue, caiu desanimado, quando procurava saltar a cerca da\\nfazenda.\\nCONCLUSÃO\\nO crime espantosamente horrível não ficou impune. A lei\\nvingou as ví\\xadtimas.\\nO Barbudo,\\nEufêmia e outros cúmplices acham-se na casa da correção pagando sua malvadeza.\\nSimeão subiu à forca; estrebuchou e morreu\\ndebaixo dos pés do car\\xadrasco.\\nA lei de exceção matou o escravo e deixou com\\nvida o Barbudo tão ce\\xadlerado como ele, ou, se é possível, mais celerado que\\nele.\\nTudo isto é profundamente imoral e perverte a sociedade.' metadata={'description': 'As vítimas algozes - Joaquim Manuel de Macedo', 'language': 'No language found.', 'source': 'https://www.literaturabrasileira.ufsc.br/documentos/?action=download&id=116979', 'start_index': 107930, 'title': 'As vítimas algozes - Joaquim Manuel de Macedo'}\n"
          ]
        }
      ]
    },
    {
      "cell_type": "markdown",
      "source": [
        "Textos do trabalho do **Leandro da Silveira Dias**"
      ],
      "metadata": {
        "id": "DvgszcoyBc0-"
      }
    },
    {
      "cell_type": "code",
      "source": [
        "texto = \"Considerando a palavra \\\"negro\\\" com alvo, identifique outras palavras no contexto que são semanticamente similares.\"\n",
        "\n",
        "resultado = avaliarContexto(texto)\n",
        "\n",
        "# Mostra o resultado\n",
        "print_linhas_menores(resultado[\"result\"])\n",
        "\n",
        "# Verifique o documento de origem usado\n",
        "print(\"\\nOrigem:\", resultado[\"source_documents\"][0])"
      ],
      "metadata": {
        "id": "Iq9QgnkNitc9",
        "colab": {
          "base_uri": "https://localhost:8080/"
        },
        "outputId": "e3fb77d4-dbe5-4a51-99f7-e680eeccd56c"
      },
      "execution_count": null,
      "outputs": [
        {
          "output_type": "stream",
          "name": "stderr",
          "text": [
            "/usr/local/lib/python3.10/dist-packages/transformers/pipelines/base.py:1083: UserWarning: You seem to be using the pipelines sequentially on GPU. In order to maximize efficiency please use a dataset\n",
            "  warnings.warn(\n"
          ]
        },
        {
          "output_type": "stream",
          "name": "stdout",
          "text": [
            " As palavras semânticamente similares a \"negro\" no contexto são:\n",
            "\n",
            "* \"falso\" (para o personagem Souvanel)\n",
            "* \"roubou\" (par\n",
            "a o personagem Dermany)\n",
            "* \"falsificando\" (para o personagem Dermany)\n",
            "\n",
            "Estas palavras têm conotações negativas e podem se\n",
            "r usadas para descrever o personagem ou a situação de uma maneira pejorativa.\n",
            "\n",
            "Origem: page_content='O curandeiro turbou-se: de novo e com absurdo processo\\nfez o exame do triste e enregelado corpo da vítima, e incapaz de compreender os\\nsin\\xadtomas que haviam escapado à sua ignorância, incapaz de apelar para os meios\\ncientíficos que vingam a sociedade, reconhecendo no cadáver as provas\\nirrecusáveis do crime do envenenador, o curandeiro charlatão, vaidoso do seu\\ndiagnóstico, acabou por dizer com desfaçada impostura:\\n– Envenenada!... Quem o disse, mentiu.\\n– Está absolutamente certo disso?\\n– Juro-o...\\n– Que Deus perdoe a quem tal suspeitou! \\n– Quem foi?\\n– A defunta.\\n– Delírio de moribunda: ela morreu da febre que eu\\ndisse.\\n– Antes assim.\\nPaulo Borges tranqüilizou a revolta de seu ânimo, e\\nconcentrou-se na dor da viuvez recente.\\nEsméria ficou inocente a seus olhos, e quase que mais\\nmereceu em compensação da suspeita que o curandeiro declarara infundada.\\nO marido adúltero supôs enganar a Deus e aos homens, e\\ntalvez mes\\xadmo a si, dando aos restos mortais de sua santa mulher honras\\nfúnebres suntuosas, esmolas aos pobres, missas, e aparatoso ofício do sétimo\\ndia.\\nDeus, que recebeu a mártir, desprezou sem dúvida as\\noblações sacríle\\xadgas do pecador incontrito e obstinado.\\nO romance tem contra o seu legítimo fim comprometer a\\nlição da ver\\xaddade pelas prevenções contra a imaginação que deve ser\\nexclusivamente a fonte de ornamentos da forma e de circunstâncias acessórias e\\nincidentais que sirvam para dar maior interesse ao assunto; no seu fundo,' metadata={'description': 'As vítimas algozes - Joaquim Manuel de Macedo', 'language': 'No language found.', 'source': 'https://www.literaturabrasileira.ufsc.br/documentos/?action=download&id=116979', 'start_index': 210806, 'title': 'As vítimas algozes - Joaquim Manuel de Macedo'}\n"
          ]
        }
      ]
    },
    {
      "cell_type": "code",
      "source": [
        "texto = \"Considerando a palavra alvo \\\"negro\\\", identifique outras palavras no contexto que são semanticamente similares.\"\n",
        "\n",
        "resultado = avaliarContexto(texto)\n",
        "\n",
        "# Mostra o resultado\n",
        "print_linhas_menores(resultado[\"result\"])\n",
        "\n",
        "# Verifique o documento de origem usado\n",
        "print(\"\\nOrigem:\", resultado[\"source_documents\"][0])"
      ],
      "metadata": {
        "id": "70rC7Cew0K3c",
        "colab": {
          "base_uri": "https://localhost:8080/"
        },
        "outputId": "e89c58f2-8053-45a5-c652-4562d99b3d42"
      },
      "execution_count": null,
      "outputs": [
        {
          "output_type": "stream",
          "name": "stderr",
          "text": [
            "/usr/local/lib/python3.10/dist-packages/transformers/pipelines/base.py:1083: UserWarning: You seem to be using the pipelines sequentially on GPU. In order to maximize efficiency please use a dataset\n",
            "  warnings.warn(\n"
          ]
        },
        {
          "output_type": "stream",
          "name": "stdout",
          "text": [
            " As palavras semânticamente similares à palavra \"negro\" no contexto são:\n",
            "\n",
            "* \"febre\" (linha 10)\n",
            "* \"moribunda\" (linha 12)\n",
            "\n",
            "* \"delírio\" (linha 13)\n",
            "* \"envenenada\" (linha 14)\n",
            "\n",
            " Essas palavras compartilham uma conotação negativa e associam-se a si\n",
            "tuações adversas ou de sofrimento, como a doença e a morte da personagem Esméria.\n",
            "\n",
            "Origem: page_content='O curandeiro turbou-se: de novo e com absurdo processo\\nfez o exame do triste e enregelado corpo da vítima, e incapaz de compreender os\\nsin\\xadtomas que haviam escapado à sua ignorância, incapaz de apelar para os meios\\ncientíficos que vingam a sociedade, reconhecendo no cadáver as provas\\nirrecusáveis do crime do envenenador, o curandeiro charlatão, vaidoso do seu\\ndiagnóstico, acabou por dizer com desfaçada impostura:\\n– Envenenada!... Quem o disse, mentiu.\\n– Está absolutamente certo disso?\\n– Juro-o...\\n– Que Deus perdoe a quem tal suspeitou! \\n– Quem foi?\\n– A defunta.\\n– Delírio de moribunda: ela morreu da febre que eu\\ndisse.\\n– Antes assim.\\nPaulo Borges tranqüilizou a revolta de seu ânimo, e\\nconcentrou-se na dor da viuvez recente.\\nEsméria ficou inocente a seus olhos, e quase que mais\\nmereceu em compensação da suspeita que o curandeiro declarara infundada.\\nO marido adúltero supôs enganar a Deus e aos homens, e\\ntalvez mes\\xadmo a si, dando aos restos mortais de sua santa mulher honras\\nfúnebres suntuosas, esmolas aos pobres, missas, e aparatoso ofício do sétimo\\ndia.\\nDeus, que recebeu a mártir, desprezou sem dúvida as\\noblações sacríle\\xadgas do pecador incontrito e obstinado.\\nO romance tem contra o seu legítimo fim comprometer a\\nlição da ver\\xaddade pelas prevenções contra a imaginação que deve ser\\nexclusivamente a fonte de ornamentos da forma e de circunstâncias acessórias e\\nincidentais que sirvam para dar maior interesse ao assunto; no seu fundo,' metadata={'description': 'As vítimas algozes - Joaquim Manuel de Macedo', 'language': 'No language found.', 'source': 'https://www.literaturabrasileira.ufsc.br/documentos/?action=download&id=116979', 'start_index': 210806, 'title': 'As vítimas algozes - Joaquim Manuel de Macedo'}\n"
          ]
        }
      ]
    },
    {
      "cell_type": "code",
      "source": [
        "texto = \" Na sentença \\'Em falta de pundonor e de vergonha, que a escravidão não comporta, o escravo tem o rancor e o desejo da vingança.'\\ liste as palavras possuem ligação com a palavra \\'negro\\'\"\n",
        "\n",
        "resultado = avaliarContexto(texto)\n",
        "\n",
        "# Mostra o resultado\n",
        "print_linhas_menores(resultado[\"result\"])\n",
        "\n",
        "# Verifique o documento de origem usado\n",
        "print(\"\\nOrigem:\", resultado[\"source_documents\"][0])"
      ],
      "metadata": {
        "id": "2m-pBVlIiifv",
        "colab": {
          "base_uri": "https://localhost:8080/"
        },
        "outputId": "a7a57b0f-5da9-4680-f049-304635483898"
      },
      "execution_count": null,
      "outputs": [
        {
          "output_type": "stream",
          "name": "stderr",
          "text": [
            "/usr/local/lib/python3.10/dist-packages/transformers/pipelines/base.py:1083: UserWarning: You seem to be using the pipelines sequentially on GPU. In order to maximize efficiency please use a dataset\n",
            "  warnings.warn(\n"
          ]
        },
        {
          "output_type": "stream",
          "name": "stdout",
          "text": [
            "   Nenhumas das palavras na sentença mencionada tem uma relação direta com a palavra \"negro\". A palavra \"negro\" não é me\n",
            "ncionada naquela frase.\n",
            "\n",
            "Origem: page_content='si.\\nSimeão contara demais com as suas forças: ferido, e\\ntendo perdido muito sangue, caiu desanimado, quando procurava saltar a cerca da\\nfazenda.\\nCONCLUSÃO\\nO crime espantosamente horrível não ficou impune. A lei\\nvingou as ví\\xadtimas.\\nO Barbudo,\\nEufêmia e outros cúmplices acham-se na casa da correção pagando sua malvadeza.\\nSimeão subiu à forca; estrebuchou e morreu\\ndebaixo dos pés do car\\xadrasco.\\nA lei de exceção matou o escravo e deixou com\\nvida o Barbudo tão ce\\xadlerado como ele, ou, se é possível, mais celerado que\\nele.\\nTudo isto é profundamente imoral e perverte a sociedade.' metadata={'description': 'As vítimas algozes - Joaquim Manuel de Macedo', 'language': 'No language found.', 'source': 'https://www.literaturabrasileira.ufsc.br/documentos/?action=download&id=116979', 'start_index': 107930, 'title': 'As vítimas algozes - Joaquim Manuel de Macedo'}\n"
          ]
        }
      ]
    },
    {
      "cell_type": "code",
      "source": [
        "texto = \" Na sentença \\'Em falta de pundonor e de vergonha, que a escravidão não comporta, o escravo tem o rancor e o desejo da vingança.'\\ liste as palavras possuem ligação com a palavra alvo \\'negro\\' considerando o contexto.\"\n",
        "\n",
        "resultado = avaliarContexto(texto)\n",
        "\n",
        "# Mostra o resultado\n",
        "print_linhas_menores(resultado[\"result\"])\n",
        "\n",
        "# Verifique o documento de origem usado\n",
        "print(\"\\nOrigem:\", resultado[\"source_documents\"][0])"
      ],
      "metadata": {
        "id": "b1h37tw8jrOM",
        "colab": {
          "base_uri": "https://localhost:8080/"
        },
        "outputId": "2e7b9672-cf7d-45a3-e5af-1c61582a2c36"
      },
      "execution_count": null,
      "outputs": [
        {
          "output_type": "stream",
          "name": "stderr",
          "text": [
            "/usr/local/lib/python3.10/dist-packages/transformers/pipelines/base.py:1083: UserWarning: You seem to be using the pipelines sequentially on GPU. In order to maximize efficiency please use a dataset\n",
            "  warnings.warn(\n"
          ]
        },
        {
          "output_type": "stream",
          "name": "stdout",
          "text": [
            "  As palavras que possuem ligação com a palavra alvo \"negro\" no contexto são:\n",
            "\n",
            "* Pundonor (referindo-se à honra e virtud\n",
            "e que são características associadas à cultura afro-brasileira)\n",
            "* Vergonha (associada à dignidade e self-respect, também\n",
            " valores culturais importantes na comunidade negra)\n",
            "* Escravo (uma referência direta aos indivíduos negros que foram esc\n",
            "ravizados e explorados durante a época colonial)\n",
            "* Rancor (um termo que sugere a ideia de ressentimento e amargura, sent\n",
            "imentos que podem ser relacionados à experiência histórica de opposição e discriminação sofrida pela população negra)\n",
            "* \n",
            "Desejo da vingança (um tema que pode ser interpretado como uma forma de resistência e luta contra a opressão e a injusti\n",
            "ça, especialmente na perspectiva da diáspora afro-brasileira).\n",
            "\n",
            "Origem: page_content='si.\\nSimeão contara demais com as suas forças: ferido, e\\ntendo perdido muito sangue, caiu desanimado, quando procurava saltar a cerca da\\nfazenda.\\nCONCLUSÃO\\nO crime espantosamente horrível não ficou impune. A lei\\nvingou as ví\\xadtimas.\\nO Barbudo,\\nEufêmia e outros cúmplices acham-se na casa da correção pagando sua malvadeza.\\nSimeão subiu à forca; estrebuchou e morreu\\ndebaixo dos pés do car\\xadrasco.\\nA lei de exceção matou o escravo e deixou com\\nvida o Barbudo tão ce\\xadlerado como ele, ou, se é possível, mais celerado que\\nele.\\nTudo isto é profundamente imoral e perverte a sociedade.' metadata={'description': 'As vítimas algozes - Joaquim Manuel de Macedo', 'language': 'No language found.', 'source': 'https://www.literaturabrasileira.ufsc.br/documentos/?action=download&id=116979', 'start_index': 107930, 'title': 'As vítimas algozes - Joaquim Manuel de Macedo'}\n"
          ]
        }
      ]
    },
    {
      "cell_type": "code",
      "source": [
        "texto = \"Usando leitura distante realize a analise da sentença \\'Em falta de pundonor e de vergonha, que a escravidão não comporta, o escravo tem o rancor e o desejo da vingança.'\\ para encontrar e listar as palavras possuem ligação com a palavra alvo \\'negro\\'.\"\n",
        "\n",
        "resultado = avaliarContexto(texto)\n",
        "\n",
        "# Mostra o resultado\n",
        "print_linhas_menores(resultado[\"result\"])\n",
        "\n",
        "# Verifique o documento de origem usado\n",
        "print(\"\\nOrigem:\", resultado[\"source_documents\"][0])"
      ],
      "metadata": {
        "id": "WFS-f5Q0j8Si",
        "colab": {
          "base_uri": "https://localhost:8080/"
        },
        "outputId": "dd94133d-80d0-4742-f563-9ccd92a6aed9"
      },
      "execution_count": null,
      "outputs": [
        {
          "output_type": "stream",
          "name": "stderr",
          "text": [
            "/usr/local/lib/python3.10/dist-packages/transformers/pipelines/base.py:1083: UserWarning: You seem to be using the pipelines sequentially on GPU. In order to maximize efficiency please use a dataset\n",
            "  warnings.warn(\n"
          ]
        },
        {
          "output_type": "stream",
          "name": "stdout",
          "text": [
            "\n",
            "A seguir estão as palavras relacionadas à palavra alvo 'negro' presentes na sentença:\n",
            "\n",
            "1. Escravo - é evidente que esta\n",
            " palavra está diretamente relacionada com a raça negra.\n",
            "2. Negro - embora não apareça explicitamente na sentença, podemo\n",
            "s inferir que a referência à escravidão é devido ao fato de que a maioria das pessoas escravizadas eram negras.\n",
            "3. Vergo\n",
            "nha - Embora não seja uma palavra diretamente relacionada com a raça negra, podemos supor que a falta de vergonha mencio\n",
            "nada na sentença se refere à forma como as pessoas negras foram tratadas e consideradas na época, o que poderia ter leva\n",
            "do a uma sensação de falta de dignidade e honra.\n",
            "4. Pundonor - novamente, embora não seja uma palavra diretamente relaci\n",
            "onada com a raça negra, podemos supor que a ideia de pundonor mencionada na sentença se refere à forma como as pessoas n\n",
            "egras foram tratadas e consideradas na época, o que poderia ter levado a uma sensação de falta de dignidade e honra.\n",
            "\n",
            "Origem: page_content='si.\\nSimeão contara demais com as suas forças: ferido, e\\ntendo perdido muito sangue, caiu desanimado, quando procurava saltar a cerca da\\nfazenda.\\nCONCLUSÃO\\nO crime espantosamente horrível não ficou impune. A lei\\nvingou as ví\\xadtimas.\\nO Barbudo,\\nEufêmia e outros cúmplices acham-se na casa da correção pagando sua malvadeza.\\nSimeão subiu à forca; estrebuchou e morreu\\ndebaixo dos pés do car\\xadrasco.\\nA lei de exceção matou o escravo e deixou com\\nvida o Barbudo tão ce\\xadlerado como ele, ou, se é possível, mais celerado que\\nele.\\nTudo isto é profundamente imoral e perverte a sociedade.' metadata={'description': 'As vítimas algozes - Joaquim Manuel de Macedo', 'language': 'No language found.', 'source': 'https://www.literaturabrasileira.ufsc.br/documentos/?action=download&id=116979', 'start_index': 107930, 'title': 'As vítimas algozes - Joaquim Manuel de Macedo'}\n"
          ]
        }
      ]
    },
    {
      "cell_type": "code",
      "source": [
        "texto = \"Considerando o contexto use leitura distante para realizar a analise da sentença \\'Em falta de pundonor e de vergonha, que a escravidão não comporta, o escravo tem o rancor e o desejo da vingança.'\\ para encontrar e listar as palavras possuem ligação com a palavra alvo \\'negro\\'.\"\n",
        "\n",
        "resultado = avaliarContexto(texto)\n",
        "\n",
        "# Mostra o resultado\n",
        "print_linhas_menores(resultado[\"result\"])\n",
        "\n",
        "# Verifique o documento de origem usado\n",
        "print(\"\\nOrigem:\", resultado[\"source_documents\"][0])"
      ],
      "metadata": {
        "id": "gZ4hwllSmR35",
        "colab": {
          "base_uri": "https://localhost:8080/"
        },
        "outputId": "7aff32d6-6049-412e-9b6e-06fec6484787"
      },
      "execution_count": null,
      "outputs": [
        {
          "output_type": "stream",
          "name": "stderr",
          "text": [
            "/usr/local/lib/python3.10/dist-packages/transformers/pipelines/base.py:1083: UserWarning: You seem to be using the pipelines sequentially on GPU. In order to maximize efficiency please use a dataset\n",
            "  warnings.warn(\n"
          ]
        },
        {
          "output_type": "stream",
          "name": "stdout",
          "text": [
            " As palavras relacionadas ao alvo \"negro\" presentes na frase são:\n",
            "\n",
            "1. Negro (aparece duas vezes)\n",
            "2. Escravo\n",
            "3. Escravidã\n",
            "o\n",
            "4. Pundonor\n",
            "5. Vergonha\n",
            "\n",
            "As palavras \"negro\", \"escravo\" e \"escravidão\" estão diretamente relacionadas ao alvo \"negro\".\n",
            " Já as palavras \"pundonor\" e \"vergonha\" estão relacionadas ao tema da honra e da moralidade, respectivamente.\n",
            "\n",
            "Origem: page_content='si.\\nSimeão contara demais com as suas forças: ferido, e\\ntendo perdido muito sangue, caiu desanimado, quando procurava saltar a cerca da\\nfazenda.\\nCONCLUSÃO\\nO crime espantosamente horrível não ficou impune. A lei\\nvingou as ví\\xadtimas.\\nO Barbudo,\\nEufêmia e outros cúmplices acham-se na casa da correção pagando sua malvadeza.\\nSimeão subiu à forca; estrebuchou e morreu\\ndebaixo dos pés do car\\xadrasco.\\nA lei de exceção matou o escravo e deixou com\\nvida o Barbudo tão ce\\xadlerado como ele, ou, se é possível, mais celerado que\\nele.\\nTudo isto é profundamente imoral e perverte a sociedade.' metadata={'description': 'As vítimas algozes - Joaquim Manuel de Macedo', 'language': 'No language found.', 'source': 'https://www.literaturabrasileira.ufsc.br/documentos/?action=download&id=116979', 'start_index': 107930, 'title': 'As vítimas algozes - Joaquim Manuel de Macedo'}\n"
          ]
        }
      ]
    },
    {
      "cell_type": "code",
      "source": [
        "texto = \"Usando leitura distante realize a analise da sentença: \\'Em falta de pundonor e de vergonha, que a escravidão não comporta, o escravo tem o rancor e o desejo da vingança.'\\ e liste as palavras possuem relação semântica com a palavra alvo \\'negro\\'.\"\n",
        "\n",
        "resultado = avaliarContexto(texto)\n",
        "\n",
        "# Mostra o resultado\n",
        "print_linhas_menores(resultado[\"result\"])\n",
        "\n",
        "# Verifique o documento de origem usado\n",
        "print(\"\\nOrigem:\", resultado[\"source_documents\"][0])"
      ],
      "metadata": {
        "id": "XDEpYSHhkzcA",
        "colab": {
          "base_uri": "https://localhost:8080/"
        },
        "outputId": "74c82315-5794-4647-b95b-930e43c71bcc"
      },
      "execution_count": null,
      "outputs": [
        {
          "output_type": "stream",
          "name": "stderr",
          "text": [
            "/usr/local/lib/python3.10/dist-packages/transformers/pipelines/base.py:1083: UserWarning: You seem to be using the pipelines sequentially on GPU. In order to maximize efficiency please use a dataset\n",
            "  warnings.warn(\n"
          ]
        },
        {
          "output_type": "stream",
          "name": "stdout",
          "text": [
            " As palavras que possuem relação semântica com a palavra alvo \"negro\" na sentença são:\n",
            "\n",
            "* Pundonor (porque o pundonor é \n",
            "uma qualidade que é associada a pessoas de coragem e honra, e a escravidão é frequentemente associada a negros)\n",
            "* Vergon\n",
            "ha (pois a vergonha é uma emoção que é associada a situações embarrassantes ou desonradoras, e a escravidão é vista como\n",
            " uma situação desonrosa para os negros)\n",
            "* Rancor (pois o rancor é uma emoção que é associada a ressentimento e amargura,\n",
            " e a escravidão é uma situação que pode gerar esses sentimentos nos negros)\n",
            "* Desejo da vingança (pois a vingança é uma \n",
            "emoção que é associada a um desejo de retaliação contra aqueles que foram considerados responsáveis por danos sofridos, \n",
            "e a escravidão é vista como uma injustiça que afeta principalmente os negros).\n",
            "\n",
            "Origem: page_content='si.\\nSimeão contara demais com as suas forças: ferido, e\\ntendo perdido muito sangue, caiu desanimado, quando procurava saltar a cerca da\\nfazenda.\\nCONCLUSÃO\\nO crime espantosamente horrível não ficou impune. A lei\\nvingou as ví\\xadtimas.\\nO Barbudo,\\nEufêmia e outros cúmplices acham-se na casa da correção pagando sua malvadeza.\\nSimeão subiu à forca; estrebuchou e morreu\\ndebaixo dos pés do car\\xadrasco.\\nA lei de exceção matou o escravo e deixou com\\nvida o Barbudo tão ce\\xadlerado como ele, ou, se é possível, mais celerado que\\nele.\\nTudo isto é profundamente imoral e perverte a sociedade.' metadata={'description': 'As vítimas algozes - Joaquim Manuel de Macedo', 'language': 'No language found.', 'source': 'https://www.literaturabrasileira.ufsc.br/documentos/?action=download&id=116979', 'start_index': 107930, 'title': 'As vítimas algozes - Joaquim Manuel de Macedo'}\n"
          ]
        }
      ]
    },
    {
      "cell_type": "markdown",
      "source": [
        "Tempo final de execução das perguntas"
      ],
      "metadata": {
        "id": "1JZDLa5p52S_"
      }
    },
    {
      "cell_type": "code",
      "source": [
        "print(\"Tempo de execução das perguntas:  {:} (h:mm:ss)\".format(formataTempo(time.time() - tempo_inicio)))"
      ],
      "metadata": {
        "id": "tvTh9EVI548_",
        "colab": {
          "base_uri": "https://localhost:8080/"
        },
        "outputId": "2aa151c9-0558-4825-c321-c6ca84e640ca"
      },
      "execution_count": null,
      "outputs": [
        {
          "output_type": "stream",
          "name": "stdout",
          "text": [
            "Tempo de execução das perguntas:  0:22:03 (h:mm:ss)\n"
          ]
        }
      ]
    }
  ],
  "metadata": {
    "accelerator": "GPU",
    "colab": {
      "provenance": [],
      "toc_visible": true,
      "gpuClass": "premium",
      "gpuType": "T4",
      "include_colab_link": true
    },
    "kernelspec": {
      "display_name": "Python 3",
      "name": "python3"
    },
    "language_info": {
      "name": "python"
    },
    "widgets": {
      "application/vnd.jupyter.widget-state+json": {
        "fcb65966c6de4b3bbd44788b36858f60": {
          "model_module": "@jupyter-widgets/controls",
          "model_name": "HBoxModel",
          "model_module_version": "1.5.0",
          "state": {
            "_dom_classes": [],
            "_model_module": "@jupyter-widgets/controls",
            "_model_module_version": "1.5.0",
            "_model_name": "HBoxModel",
            "_view_count": null,
            "_view_module": "@jupyter-widgets/controls",
            "_view_module_version": "1.5.0",
            "_view_name": "HBoxView",
            "box_style": "",
            "children": [
              "IPY_MODEL_cd6565eb802642b890c2ba095ec8c945",
              "IPY_MODEL_e296462516704e63a9e726a99da6d50e",
              "IPY_MODEL_630501e1e88f4678af7e6602d138b555"
            ],
            "layout": "IPY_MODEL_5ef22f9f706c4c288d8517afedca3f6a"
          }
        },
        "cd6565eb802642b890c2ba095ec8c945": {
          "model_module": "@jupyter-widgets/controls",
          "model_name": "HTMLModel",
          "model_module_version": "1.5.0",
          "state": {
            "_dom_classes": [],
            "_model_module": "@jupyter-widgets/controls",
            "_model_module_version": "1.5.0",
            "_model_name": "HTMLModel",
            "_view_count": null,
            "_view_module": "@jupyter-widgets/controls",
            "_view_module_version": "1.5.0",
            "_view_name": "HTMLView",
            "description": "",
            "description_tooltip": null,
            "layout": "IPY_MODEL_35818fef0f70498db660ab0a2b28a2d1",
            "placeholder": "​",
            "style": "IPY_MODEL_38ef3a86d7fc4f87b6d0691bda616458",
            "value": "Loading checkpoint shards: 100%"
          }
        },
        "e296462516704e63a9e726a99da6d50e": {
          "model_module": "@jupyter-widgets/controls",
          "model_name": "FloatProgressModel",
          "model_module_version": "1.5.0",
          "state": {
            "_dom_classes": [],
            "_model_module": "@jupyter-widgets/controls",
            "_model_module_version": "1.5.0",
            "_model_name": "FloatProgressModel",
            "_view_count": null,
            "_view_module": "@jupyter-widgets/controls",
            "_view_module_version": "1.5.0",
            "_view_name": "ProgressView",
            "bar_style": "success",
            "description": "",
            "description_tooltip": null,
            "layout": "IPY_MODEL_2a03eb0941874b30a35fa4c128d7b00e",
            "max": 3,
            "min": 0,
            "orientation": "horizontal",
            "style": "IPY_MODEL_b60eb11570e7441b889c5d8b763deb29",
            "value": 3
          }
        },
        "630501e1e88f4678af7e6602d138b555": {
          "model_module": "@jupyter-widgets/controls",
          "model_name": "HTMLModel",
          "model_module_version": "1.5.0",
          "state": {
            "_dom_classes": [],
            "_model_module": "@jupyter-widgets/controls",
            "_model_module_version": "1.5.0",
            "_model_name": "HTMLModel",
            "_view_count": null,
            "_view_module": "@jupyter-widgets/controls",
            "_view_module_version": "1.5.0",
            "_view_name": "HTMLView",
            "description": "",
            "description_tooltip": null,
            "layout": "IPY_MODEL_d3e44d30e5064153917664c15cfe9daa",
            "placeholder": "​",
            "style": "IPY_MODEL_04076074e64e46f295b026706fe5a719",
            "value": " 3/3 [02:08&lt;00:00, 40.30s/it]"
          }
        },
        "5ef22f9f706c4c288d8517afedca3f6a": {
          "model_module": "@jupyter-widgets/base",
          "model_name": "LayoutModel",
          "model_module_version": "1.2.0",
          "state": {
            "_model_module": "@jupyter-widgets/base",
            "_model_module_version": "1.2.0",
            "_model_name": "LayoutModel",
            "_view_count": null,
            "_view_module": "@jupyter-widgets/base",
            "_view_module_version": "1.2.0",
            "_view_name": "LayoutView",
            "align_content": null,
            "align_items": null,
            "align_self": null,
            "border": null,
            "bottom": null,
            "display": null,
            "flex": null,
            "flex_flow": null,
            "grid_area": null,
            "grid_auto_columns": null,
            "grid_auto_flow": null,
            "grid_auto_rows": null,
            "grid_column": null,
            "grid_gap": null,
            "grid_row": null,
            "grid_template_areas": null,
            "grid_template_columns": null,
            "grid_template_rows": null,
            "height": null,
            "justify_content": null,
            "justify_items": null,
            "left": null,
            "margin": null,
            "max_height": null,
            "max_width": null,
            "min_height": null,
            "min_width": null,
            "object_fit": null,
            "object_position": null,
            "order": null,
            "overflow": null,
            "overflow_x": null,
            "overflow_y": null,
            "padding": null,
            "right": null,
            "top": null,
            "visibility": null,
            "width": null
          }
        },
        "35818fef0f70498db660ab0a2b28a2d1": {
          "model_module": "@jupyter-widgets/base",
          "model_name": "LayoutModel",
          "model_module_version": "1.2.0",
          "state": {
            "_model_module": "@jupyter-widgets/base",
            "_model_module_version": "1.2.0",
            "_model_name": "LayoutModel",
            "_view_count": null,
            "_view_module": "@jupyter-widgets/base",
            "_view_module_version": "1.2.0",
            "_view_name": "LayoutView",
            "align_content": null,
            "align_items": null,
            "align_self": null,
            "border": null,
            "bottom": null,
            "display": null,
            "flex": null,
            "flex_flow": null,
            "grid_area": null,
            "grid_auto_columns": null,
            "grid_auto_flow": null,
            "grid_auto_rows": null,
            "grid_column": null,
            "grid_gap": null,
            "grid_row": null,
            "grid_template_areas": null,
            "grid_template_columns": null,
            "grid_template_rows": null,
            "height": null,
            "justify_content": null,
            "justify_items": null,
            "left": null,
            "margin": null,
            "max_height": null,
            "max_width": null,
            "min_height": null,
            "min_width": null,
            "object_fit": null,
            "object_position": null,
            "order": null,
            "overflow": null,
            "overflow_x": null,
            "overflow_y": null,
            "padding": null,
            "right": null,
            "top": null,
            "visibility": null,
            "width": null
          }
        },
        "38ef3a86d7fc4f87b6d0691bda616458": {
          "model_module": "@jupyter-widgets/controls",
          "model_name": "DescriptionStyleModel",
          "model_module_version": "1.5.0",
          "state": {
            "_model_module": "@jupyter-widgets/controls",
            "_model_module_version": "1.5.0",
            "_model_name": "DescriptionStyleModel",
            "_view_count": null,
            "_view_module": "@jupyter-widgets/base",
            "_view_module_version": "1.2.0",
            "_view_name": "StyleView",
            "description_width": ""
          }
        },
        "2a03eb0941874b30a35fa4c128d7b00e": {
          "model_module": "@jupyter-widgets/base",
          "model_name": "LayoutModel",
          "model_module_version": "1.2.0",
          "state": {
            "_model_module": "@jupyter-widgets/base",
            "_model_module_version": "1.2.0",
            "_model_name": "LayoutModel",
            "_view_count": null,
            "_view_module": "@jupyter-widgets/base",
            "_view_module_version": "1.2.0",
            "_view_name": "LayoutView",
            "align_content": null,
            "align_items": null,
            "align_self": null,
            "border": null,
            "bottom": null,
            "display": null,
            "flex": null,
            "flex_flow": null,
            "grid_area": null,
            "grid_auto_columns": null,
            "grid_auto_flow": null,
            "grid_auto_rows": null,
            "grid_column": null,
            "grid_gap": null,
            "grid_row": null,
            "grid_template_areas": null,
            "grid_template_columns": null,
            "grid_template_rows": null,
            "height": null,
            "justify_content": null,
            "justify_items": null,
            "left": null,
            "margin": null,
            "max_height": null,
            "max_width": null,
            "min_height": null,
            "min_width": null,
            "object_fit": null,
            "object_position": null,
            "order": null,
            "overflow": null,
            "overflow_x": null,
            "overflow_y": null,
            "padding": null,
            "right": null,
            "top": null,
            "visibility": null,
            "width": null
          }
        },
        "b60eb11570e7441b889c5d8b763deb29": {
          "model_module": "@jupyter-widgets/controls",
          "model_name": "ProgressStyleModel",
          "model_module_version": "1.5.0",
          "state": {
            "_model_module": "@jupyter-widgets/controls",
            "_model_module_version": "1.5.0",
            "_model_name": "ProgressStyleModel",
            "_view_count": null,
            "_view_module": "@jupyter-widgets/base",
            "_view_module_version": "1.2.0",
            "_view_name": "StyleView",
            "bar_color": null,
            "description_width": ""
          }
        },
        "d3e44d30e5064153917664c15cfe9daa": {
          "model_module": "@jupyter-widgets/base",
          "model_name": "LayoutModel",
          "model_module_version": "1.2.0",
          "state": {
            "_model_module": "@jupyter-widgets/base",
            "_model_module_version": "1.2.0",
            "_model_name": "LayoutModel",
            "_view_count": null,
            "_view_module": "@jupyter-widgets/base",
            "_view_module_version": "1.2.0",
            "_view_name": "LayoutView",
            "align_content": null,
            "align_items": null,
            "align_self": null,
            "border": null,
            "bottom": null,
            "display": null,
            "flex": null,
            "flex_flow": null,
            "grid_area": null,
            "grid_auto_columns": null,
            "grid_auto_flow": null,
            "grid_auto_rows": null,
            "grid_column": null,
            "grid_gap": null,
            "grid_row": null,
            "grid_template_areas": null,
            "grid_template_columns": null,
            "grid_template_rows": null,
            "height": null,
            "justify_content": null,
            "justify_items": null,
            "left": null,
            "margin": null,
            "max_height": null,
            "max_width": null,
            "min_height": null,
            "min_width": null,
            "object_fit": null,
            "object_position": null,
            "order": null,
            "overflow": null,
            "overflow_x": null,
            "overflow_y": null,
            "padding": null,
            "right": null,
            "top": null,
            "visibility": null,
            "width": null
          }
        },
        "04076074e64e46f295b026706fe5a719": {
          "model_module": "@jupyter-widgets/controls",
          "model_name": "DescriptionStyleModel",
          "model_module_version": "1.5.0",
          "state": {
            "_model_module": "@jupyter-widgets/controls",
            "_model_module_version": "1.5.0",
            "_model_name": "DescriptionStyleModel",
            "_view_count": null,
            "_view_module": "@jupyter-widgets/base",
            "_view_module_version": "1.2.0",
            "_view_name": "StyleView",
            "description_width": ""
          }
        }
      }
    }
  },
  "nbformat": 4,
  "nbformat_minor": 0
}