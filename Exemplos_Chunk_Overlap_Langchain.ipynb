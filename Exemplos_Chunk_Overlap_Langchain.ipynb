{
  "cells": [
    {
      "cell_type": "markdown",
      "metadata": {
        "id": "view-in-github",
        "colab_type": "text"
      },
      "source": [
        "<a href=\"https://colab.research.google.com/github/osmarbraz/exemplos_Llama/blob/main/Exemplos_Chunk_Overlap_Langchain.ipynb\" target=\"_parent\"><img src=\"https://colab.research.google.com/assets/colab-badge.svg\" alt=\"Open In Colab\"/></a>"
      ]
    },
    {
      "cell_type": "markdown",
      "metadata": {
        "id": "78HE8FLsKN9Q"
      },
      "source": [
        "#Exemplo de manipulação de texto usando Langchain\n",
        "\n",
        "Cria a divisão de um texto em pedaços(chunks) para submeter a um LLM. Realiza a sobreposição(overlap) de parte do texto para manter a semântica entre os chunks.\n",
        "\n",
        "Semelhante a uma janela deslizante.\n",
        "\n",
        "Teste online da chunk(divisão) e overlap(overlap) usando um arquivo texto: https://chunkerizer.streamlit.app/\n",
        "\n",
        "Entendendo o chunk e overlap\n",
        "https://gustavo-espindola.medium.com/chunk-division-and-overlap-understanding-the-process-ade7eae1b2bd\n",
        "\n",
        "LangChain: como dividir corretamente seus chunks(pedaços):\n",
        "https://www.youtube.com/watch?v=n0uPzvGTFI0\n",
        "\n",
        "Estratégias de chucking: https://www.pinecone.io/learn/chunking-strategies/\n",
        "\n",
        "Como agrupar dados de texto - uma análise comparativa: https://towardsdatascience.com/how-to-chunk-text-data-a-comparative-analysis-3858c4a0997a"
      ]
    },
    {
      "cell_type": "markdown",
      "metadata": {
        "id": "xyxb5Px3p1-e"
      },
      "source": [
        "# 0 - Preparação do ambiente\n",
        "Preparação do ambiente para execução do exemplo."
      ]
    },
    {
      "cell_type": "markdown",
      "metadata": {
        "id": "iAPVtRXQqDim"
      },
      "source": [
        "## Tratamento de logs\n",
        "\n",
        "Método para tratamento dos logs."
      ]
    },
    {
      "cell_type": "code",
      "execution_count": null,
      "metadata": {
        "id": "DcopxbGZqDip"
      },
      "outputs": [],
      "source": [
        "# Biblioteca de logging\n",
        "import logging\n",
        "\n",
        "# Formatando a mensagem de logging\n",
        "logging.basicConfig(format=\"%(asctime)s : %(levelname)s : %(message)s\", level=logging.INFO)"
      ]
    },
    {
      "cell_type": "markdown",
      "metadata": {
        "id": "_GjYtXcMnSAe"
      },
      "source": [
        "## Identificando o ambiente Colab\n",
        "\n",
        "Cria uma variável para identificar que o notebook está sendo executado no Google Colaboratory."
      ]
    },
    {
      "cell_type": "code",
      "execution_count": null,
      "metadata": {
        "id": "YMiH0E3OnRa1"
      },
      "outputs": [],
      "source": [
        "# Se estiver executando no Google Colaboratory\n",
        "import sys\n",
        "\n",
        "# Retorna true ou false se estiver no Google Colaboratory\n",
        "IN_COLAB = \"google.colab\" in sys.modules"
      ]
    },
    {
      "cell_type": "markdown",
      "source": [
        "## Funções auxiliares"
      ],
      "metadata": {
        "id": "JKmhxcvIfbG2"
      }
    },
    {
      "cell_type": "markdown",
      "metadata": {
        "id": "603LYIYKBmq5"
      },
      "source": [
        "Função auxiliar para formatar o tempo como `hh: mm: ss`"
      ]
    },
    {
      "cell_type": "code",
      "execution_count": null,
      "metadata": {
        "id": "Guy6B4whsZFR"
      },
      "outputs": [],
      "source": [
        "# Import das bibliotecas.\n",
        "import time\n",
        "import datetime\n",
        "\n",
        "def formataTempo(tempo):\n",
        "    \"\"\"\n",
        "      Pega a tempo em segundos e retorna uma string hh:mm:ss\n",
        "    \"\"\"\n",
        "    # Arredonda para o segundo mais próximo.\n",
        "    tempo_arredondado = int(round((tempo)))\n",
        "\n",
        "    # Formata como hh:mm:ss\n",
        "    return str(datetime.timedelta(seconds=tempo_arredondado))"
      ]
    },
    {
      "cell_type": "markdown",
      "metadata": {
        "id": "Pqa-7WXBAw8q"
      },
      "source": [
        "# 1 - Instalação das bibliotecas"
      ]
    },
    {
      "cell_type": "markdown",
      "metadata": {
        "id": "zp0jVfo3QM3h"
      },
      "source": [
        "Manipulação de textos para LLM."
      ]
    },
    {
      "cell_type": "code",
      "execution_count": null,
      "metadata": {
        "colab": {
          "base_uri": "https://localhost:8080/"
        },
        "id": "12GE2W3fQM_n",
        "outputId": "06f5c573-3e48-438f-eda3-d21d39069bf4"
      },
      "outputs": [
        {
          "output_type": "stream",
          "name": "stdout",
          "text": [
            "Requirement already satisfied: langchain==0.0.320 in /usr/local/lib/python3.10/dist-packages (0.0.320)\n",
            "Requirement already satisfied: PyYAML>=5.3 in /usr/local/lib/python3.10/dist-packages (from langchain==0.0.320) (6.0.1)\n",
            "Requirement already satisfied: SQLAlchemy<3,>=1.4 in /usr/local/lib/python3.10/dist-packages (from langchain==0.0.320) (2.0.22)\n",
            "Requirement already satisfied: aiohttp<4.0.0,>=3.8.3 in /usr/local/lib/python3.10/dist-packages (from langchain==0.0.320) (3.8.6)\n",
            "Requirement already satisfied: anyio<4.0 in /usr/local/lib/python3.10/dist-packages (from langchain==0.0.320) (3.7.1)\n",
            "Requirement already satisfied: async-timeout<5.0.0,>=4.0.0 in /usr/local/lib/python3.10/dist-packages (from langchain==0.0.320) (4.0.3)\n",
            "Requirement already satisfied: dataclasses-json<0.7,>=0.5.7 in /usr/local/lib/python3.10/dist-packages (from langchain==0.0.320) (0.6.1)\n",
            "Requirement already satisfied: jsonpatch<2.0,>=1.33 in /usr/local/lib/python3.10/dist-packages (from langchain==0.0.320) (1.33)\n",
            "Requirement already satisfied: langsmith<0.1.0,>=0.0.43 in /usr/local/lib/python3.10/dist-packages (from langchain==0.0.320) (0.0.49)\n",
            "Requirement already satisfied: numpy<2,>=1 in /usr/local/lib/python3.10/dist-packages (from langchain==0.0.320) (1.23.5)\n",
            "Requirement already satisfied: pydantic<3,>=1 in /usr/local/lib/python3.10/dist-packages (from langchain==0.0.320) (1.10.13)\n",
            "Requirement already satisfied: requests<3,>=2 in /usr/local/lib/python3.10/dist-packages (from langchain==0.0.320) (2.31.0)\n",
            "Requirement already satisfied: tenacity<9.0.0,>=8.1.0 in /usr/local/lib/python3.10/dist-packages (from langchain==0.0.320) (8.2.3)\n",
            "Requirement already satisfied: attrs>=17.3.0 in /usr/local/lib/python3.10/dist-packages (from aiohttp<4.0.0,>=3.8.3->langchain==0.0.320) (23.1.0)\n",
            "Requirement already satisfied: charset-normalizer<4.0,>=2.0 in /usr/local/lib/python3.10/dist-packages (from aiohttp<4.0.0,>=3.8.3->langchain==0.0.320) (3.3.0)\n",
            "Requirement already satisfied: multidict<7.0,>=4.5 in /usr/local/lib/python3.10/dist-packages (from aiohttp<4.0.0,>=3.8.3->langchain==0.0.320) (6.0.4)\n",
            "Requirement already satisfied: yarl<2.0,>=1.0 in /usr/local/lib/python3.10/dist-packages (from aiohttp<4.0.0,>=3.8.3->langchain==0.0.320) (1.9.2)\n",
            "Requirement already satisfied: frozenlist>=1.1.1 in /usr/local/lib/python3.10/dist-packages (from aiohttp<4.0.0,>=3.8.3->langchain==0.0.320) (1.4.0)\n",
            "Requirement already satisfied: aiosignal>=1.1.2 in /usr/local/lib/python3.10/dist-packages (from aiohttp<4.0.0,>=3.8.3->langchain==0.0.320) (1.3.1)\n",
            "Requirement already satisfied: idna>=2.8 in /usr/local/lib/python3.10/dist-packages (from anyio<4.0->langchain==0.0.320) (3.4)\n",
            "Requirement already satisfied: sniffio>=1.1 in /usr/local/lib/python3.10/dist-packages (from anyio<4.0->langchain==0.0.320) (1.3.0)\n",
            "Requirement already satisfied: exceptiongroup in /usr/local/lib/python3.10/dist-packages (from anyio<4.0->langchain==0.0.320) (1.1.3)\n",
            "Requirement already satisfied: marshmallow<4.0.0,>=3.18.0 in /usr/local/lib/python3.10/dist-packages (from dataclasses-json<0.7,>=0.5.7->langchain==0.0.320) (3.20.1)\n",
            "Requirement already satisfied: typing-inspect<1,>=0.4.0 in /usr/local/lib/python3.10/dist-packages (from dataclasses-json<0.7,>=0.5.7->langchain==0.0.320) (0.9.0)\n",
            "Requirement already satisfied: jsonpointer>=1.9 in /usr/local/lib/python3.10/dist-packages (from jsonpatch<2.0,>=1.33->langchain==0.0.320) (2.4)\n",
            "Requirement already satisfied: typing-extensions>=4.2.0 in /usr/local/lib/python3.10/dist-packages (from pydantic<3,>=1->langchain==0.0.320) (4.5.0)\n",
            "Requirement already satisfied: urllib3<3,>=1.21.1 in /usr/local/lib/python3.10/dist-packages (from requests<3,>=2->langchain==0.0.320) (2.0.7)\n",
            "Requirement already satisfied: certifi>=2017.4.17 in /usr/local/lib/python3.10/dist-packages (from requests<3,>=2->langchain==0.0.320) (2023.7.22)\n",
            "Requirement already satisfied: greenlet!=0.4.17 in /usr/local/lib/python3.10/dist-packages (from SQLAlchemy<3,>=1.4->langchain==0.0.320) (3.0.0)\n",
            "Requirement already satisfied: packaging>=17.0 in /usr/local/lib/python3.10/dist-packages (from marshmallow<4.0.0,>=3.18.0->dataclasses-json<0.7,>=0.5.7->langchain==0.0.320) (23.2)\n",
            "Requirement already satisfied: mypy-extensions>=0.3.0 in /usr/local/lib/python3.10/dist-packages (from typing-inspect<1,>=0.4.0->dataclasses-json<0.7,>=0.5.7->langchain==0.0.320) (1.0.0)\n"
          ]
        }
      ],
      "source": [
        "!pip install langchain==0.0.320"
      ]
    },
    {
      "cell_type": "markdown",
      "source": [
        "Biblioteca para manipular pdf"
      ],
      "metadata": {
        "id": "akFHj1OT0eCc"
      }
    },
    {
      "cell_type": "code",
      "source": [
        "!pip install pypdf==3.16.4"
      ],
      "metadata": {
        "colab": {
          "base_uri": "https://localhost:8080/"
        },
        "id": "7mdrRBD_0gAL",
        "outputId": "20636115-94ba-47ce-ca72-d46fe182748b"
      },
      "execution_count": null,
      "outputs": [
        {
          "output_type": "stream",
          "name": "stdout",
          "text": [
            "Requirement already satisfied: pypdf==3.16.4 in /usr/local/lib/python3.10/dist-packages (3.16.4)\n"
          ]
        }
      ]
    },
    {
      "cell_type": "markdown",
      "source": [
        "# 2 - Manipulando letras\n",
        "\n",
        "https://medium.com/@onkarmishra/using-langchain-for-question-answering-on-own-data-3af0a82789ed"
      ],
      "metadata": {
        "id": "p6ft9K_U536x"
      }
    },
    {
      "cell_type": "code",
      "source": [
        "#Import de bibliotecas\n",
        "from langchain.text_splitter import RecursiveCharacterTextSplitter, CharacterTextSplitter\n",
        "\n",
        "chunk_size =26\n",
        "chunk_overlap = 4\n",
        "\n",
        "r_splitter = RecursiveCharacterTextSplitter(\n",
        "    chunk_size=chunk_size,\n",
        "    chunk_overlap=chunk_overlap\n",
        ")\n",
        "c_splitter = CharacterTextSplitter(\n",
        "    chunk_size=chunk_size,\n",
        "    chunk_overlap=chunk_overlap\n",
        ")"
      ],
      "metadata": {
        "id": "dw4-GseG54CS"
      },
      "execution_count": null,
      "outputs": []
    },
    {
      "cell_type": "code",
      "source": [
        "# Divisor recursivo de texto\n",
        "text1 = 'abcdefghijklmnopqrstuvwxyz'\n",
        "r_splitter.split_text(text1)\n",
        "# Saída - ['abcdefghijklmnopqrstuvwxyz']"
      ],
      "metadata": {
        "colab": {
          "base_uri": "https://localhost:8080/"
        },
        "id": "PDCzaLJX58HS",
        "outputId": "ae3cb5de-7b9e-443f-a12e-6a48a3b4769c"
      },
      "execution_count": null,
      "outputs": [
        {
          "output_type": "execute_result",
          "data": {
            "text/plain": [
              "['abcdefghijklmnopqrstuvwxyz']"
            ]
          },
          "metadata": {},
          "execution_count": 7
        }
      ]
    },
    {
      "cell_type": "code",
      "source": [
        "\n",
        "# Dividor de caracter texto\n",
        "text2 = 'abcdefghijklmnopqrstuvwxyzabcdefg'\n",
        "r_splitter.split_text(text2)\n",
        "# Saída - ['abcdefghijklmnopqrstuvwxyz', 'wxyzabcdefg']"
      ],
      "metadata": {
        "colab": {
          "base_uri": "https://localhost:8080/"
        },
        "id": "_zK29f4W_bf5",
        "outputId": "21885e9a-4677-4c6d-e99e-35bdfb41fe2b"
      },
      "execution_count": null,
      "outputs": [
        {
          "output_type": "execute_result",
          "data": {
            "text/plain": [
              "['abcdefghijklmnopqrstuvwxyz', 'wxyzabcdefg']"
            ]
          },
          "metadata": {},
          "execution_count": 8
        }
      ]
    },
    {
      "cell_type": "code",
      "source": [
        "# Recursive text Splitter\n",
        "# Dividor recursivo de texto\n",
        "text3 = \"a b c d e f g h i j k l m n o p q r s t u v w x y z\"\n",
        "r_splitter.split_text(text3)\n",
        "# Saída - ['a b c d e f g h i j k l m', 'l m n o p q r s t u v w x', 'w x y z']"
      ],
      "metadata": {
        "colab": {
          "base_uri": "https://localhost:8080/"
        },
        "id": "lZbUFOjm_ZbZ",
        "outputId": "90fce005-7ff1-46f1-cccf-ab0f5a24b8c8"
      },
      "execution_count": null,
      "outputs": [
        {
          "output_type": "execute_result",
          "data": {
            "text/plain": [
              "['a b c d e f g h i j k l m', 'l m n o p q r s t u v w x', 'w x y z']"
            ]
          },
          "metadata": {},
          "execution_count": 9
        }
      ]
    },
    {
      "cell_type": "code",
      "source": [
        "# Dividor de caracter texto\n",
        "c_splitter.split_text(text3)\n",
        "# Saída - ['a b c d e f g h i j k l m n o p q r s t u v w x y z']"
      ],
      "metadata": {
        "colab": {
          "base_uri": "https://localhost:8080/"
        },
        "id": "ntG-n5XT_XZo",
        "outputId": "23ae15a7-e0ca-4e76-9e42-041be70704f0"
      },
      "execution_count": null,
      "outputs": [
        {
          "output_type": "execute_result",
          "data": {
            "text/plain": [
              "['a b c d e f g h i j k l m n o p q r s t u v w x y z']"
            ]
          },
          "metadata": {},
          "execution_count": 10
        }
      ]
    },
    {
      "cell_type": "code",
      "source": [
        "# Character Text Splitter with separator defined\n",
        "# Divisor de caracter texto com separador definido\n",
        "c_splitter = CharacterTextSplitter(\n",
        "    chunk_size=chunk_size,\n",
        "    chunk_overlap=chunk_overlap,\n",
        "    separator = ' '\n",
        ")\n",
        "c_splitter.split_text(text3)\n",
        "# Saída - ['a b c d e f g h i j k l m', 'l m n o p q r s t u v w x', 'w x y z']"
      ],
      "metadata": {
        "colab": {
          "base_uri": "https://localhost:8080/"
        },
        "id": "cUlzJqJq_VrX",
        "outputId": "76db1517-47e7-4e4c-c45a-a92ac9dfb016"
      },
      "execution_count": null,
      "outputs": [
        {
          "output_type": "execute_result",
          "data": {
            "text/plain": [
              "['a b c d e f g h i j k l m', 'l m n o p q r s t u v w x', 'w x y z']"
            ]
          },
          "metadata": {},
          "execution_count": 11
        }
      ]
    },
    {
      "cell_type": "markdown",
      "source": [
        "# 3 - Manipulando documentos Texto"
      ],
      "metadata": {
        "id": "pHmpkn7FawZ-"
      }
    },
    {
      "cell_type": "markdown",
      "source": [
        "## Cria o texto"
      ],
      "metadata": {
        "id": "oh5ZKlFxewwO"
      }
    },
    {
      "cell_type": "code",
      "source": [
        "# trecho de https://www.literaturabrasileira.ufsc.br/documentos/?action=download&id=116979', #As Vítimas algozes\n",
        "\n",
        "\n",
        "texto = \"\"\"\n",
        "No interior e principalmente longe da vila, ou da freguesia e dos povoados há quase\n",
        "sempre uma venda perto da fazenda: é a parasita que se apega à árvore; pior que isso,\n",
        "é a inimiga hipócrita que rende vassalagem à sua vítima.\n",
        "A venda de que falo é uma taberna especialíssima\n",
        "que não poderia existir, manter-se, medrar em outras condições locais, e em\n",
        "outras condições do trabalho rural, e nem se confunde com a taberna regular que\n",
        "em toda parte se encontra, quanto mais com as casas de grande ou pequeno comércio,\n",
        "onde os lavradores ricos e pobres se provêem do que precisa a casa, quando não\n",
        "lhes é possível esperar pelas remessas dos seus consigna­tários ou fregueses.\n",
        "Essa parasita das fazendas e estabelecimentos agrícolas\n",
        "das vizinhanças facilmente se pode conhecer por suas feições e modos\n",
        "característicos, se nos é lícito dizer assim: uma se parece com todas e não há\n",
        "hipótese em que alguma delas, por mais dissimulada que seja, chegue a perder o\n",
        "cará­ter da família.\n",
        "É uma pequena casa de taipa e coberta de telha, tendo às\n",
        "vezes na frente varanda aberta pelos três lados, também coberta de telha e com\n",
        "o teto sustido por esteios fortes, mas rudes e ainda mesmo tortos; as paredes\n",
        "nem sempre são caiadas, o chão não tem assoalho nem ladrilho; quando há\n",
        "varanda, abrem-se para ela uma porta e uma janela; dentro está a ven­da: entre\n",
        "a porta e a janela encostado à parede um banco de pau, defronte um balcão tosco\n",
        "e no bojo ou no espaço que se vê além, grotesca armação de tábuas contendo\n",
        "garrafas, botijas, latas de tabaco em pó, a um canto algumas voltas de fumo em\n",
        "rolo e uma ruim manta de carne-seca. Eis a venda.\n",
        "Há muitas que nem chegam à opulência da que aí fica\n",
        "descrita; em todas porém aparece humilde no fundo do quase vazio bojo a porta\n",
        "baixa que comunica pelo corredor imundo com dois ou mais quartos escuros, onde\n",
        "se recolhem as pingues colheitas agrícolas do vendelhão que aliás não tem\n",
        "lavoura.\n",
        "\"\"\""
      ],
      "metadata": {
        "id": "U68MxN52friW"
      },
      "execution_count": null,
      "outputs": []
    },
    {
      "cell_type": "markdown",
      "source": [
        "## Carrega e divide o texto"
      ],
      "metadata": {
        "id": "31nUpp_DiVL-"
      }
    },
    {
      "cell_type": "code",
      "source": [
        "# Import das bibliotecas\n",
        "import os\n",
        "import time\n",
        "from langchain.text_splitter import RecursiveCharacterTextSplitter\n",
        "\n",
        "# Parâmetros\n",
        "chunk_tamanho = 500\n",
        "chunk_sobreposicao = 100\n",
        "\n",
        "text_splitter = RecursiveCharacterTextSplitter(\n",
        "    chunk_size = chunk_tamanho,\n",
        "    chunk_overlap  = chunk_sobreposicao, # Número de tokens sobrepostos entre chunks(pedaços)\n",
        "    length_function = len, # Usa o comprimento do texto como medida de tamanho\n",
        "    add_start_index = True, #\n",
        ")\n",
        "\n",
        "# Guarda o tempo de início\n",
        "tempo_inicio = time.time()\n",
        "\n",
        "# Calcula os chunks dos textos\n",
        "chunks = text_splitter.create_documents([texto])\n",
        "\n",
        "tempo_final = time.time()\n",
        "\n",
        "print(f\"Carregando e dividindo {len(texto)} documentos texto em {tempo_final - tempo_inicio} segundos!\")"
      ],
      "metadata": {
        "colab": {
          "base_uri": "https://localhost:8080/"
        },
        "id": "-TdiJE7IayZF",
        "outputId": "1da8a577-b350-4486-b459-646a79b06d53"
      },
      "execution_count": null,
      "outputs": [
        {
          "output_type": "stream",
          "name": "stdout",
          "text": [
            "Carregando e dividindo 1918 documentos texto em 0.0008533000946044922 segundos!\n"
          ]
        }
      ]
    },
    {
      "cell_type": "code",
      "source": [
        "print(len(chunks))"
      ],
      "metadata": {
        "colab": {
          "base_uri": "https://localhost:8080/"
        },
        "id": "55GoRqpTbzkI",
        "outputId": "9fe3dea8-991e-4f36-84b7-3c0c2fb177a5"
      },
      "execution_count": null,
      "outputs": [
        {
          "output_type": "stream",
          "name": "stdout",
          "text": [
            "5\n"
          ]
        }
      ]
    },
    {
      "cell_type": "code",
      "source": [
        "print(chunks)"
      ],
      "metadata": {
        "colab": {
          "base_uri": "https://localhost:8080/"
        },
        "id": "XCm6HLFcuGmF",
        "outputId": "5d78c5bb-7897-4ea4-95ae-50de9768a634"
      },
      "execution_count": null,
      "outputs": [
        {
          "output_type": "stream",
          "name": "stdout",
          "text": [
            "[Document(page_content='No interior e principalmente longe da vila, ou da freguesia e dos povoados há quase\\nsempre uma venda perto da fazenda: é a parasita que se apega à árvore; pior que isso,\\né a inimiga hipócrita que rende vassalagem à sua vítima.\\nA venda de que falo é uma taberna especialíssima\\nque não poderia existir, manter-se, medrar em outras condições locais, e em\\noutras condições do trabalho rural, e nem se confunde com a taberna regular que', metadata={'start_index': 1}), Document(page_content='outras condições do trabalho rural, e nem se confunde com a taberna regular que\\nem toda parte se encontra, quanto mais com as casas de grande ou pequeno comércio,\\nonde os lavradores ricos e pobres se provêem do que precisa a casa, quando não\\nlhes é possível esperar pelas remessas dos seus consigna\\xadtários ou fregueses.\\nEssa parasita das fazendas e estabelecimentos agrícolas\\ndas vizinhanças facilmente se pode conhecer por suas feições e modos', metadata={'start_index': 353}), Document(page_content='das vizinhanças facilmente se pode conhecer por suas feições e modos\\ncaracterísticos, se nos é lícito dizer assim: uma se parece com todas e não há\\nhipótese em que alguma delas, por mais dissimulada que seja, chegue a perder o\\ncará\\xadter da família.\\nÉ uma pequena casa de taipa e coberta de telha, tendo às\\nvezes na frente varanda aberta pelos três lados, também coberta de telha e com\\no teto sustido por esteios fortes, mas rudes e ainda mesmo tortos; as paredes', metadata={'start_index': 729}), Document(page_content='o teto sustido por esteios fortes, mas rudes e ainda mesmo tortos; as paredes\\nnem sempre são caiadas, o chão não tem assoalho nem ladrilho; quando há\\nvaranda, abrem-se para ela uma porta e uma janela; dentro está a ven\\xadda: entre\\na porta e a janela encostado à parede um banco de pau, defronte um balcão tosco\\ne no bojo ou no espaço que se vê além, grotesca armação de tábuas contendo\\ngarrafas, botijas, latas de tabaco em pó, a um canto algumas voltas de fumo em', metadata={'start_index': 1113}), Document(page_content='garrafas, botijas, latas de tabaco em pó, a um canto algumas voltas de fumo em\\nrolo e uma ruim manta de carne-seca. Eis a venda.\\nHá muitas que nem chegam à opulência da que aí fica\\ndescrita; em todas porém aparece humilde no fundo do quase vazio bojo a porta\\nbaixa que comunica pelo corredor imundo com dois ou mais quartos escuros, onde\\nse recolhem as pingues colheitas agrícolas do vendelhão que aliás não tem\\nlavoura.', metadata={'start_index': 1497})]\n"
          ]
        }
      ]
    },
    {
      "cell_type": "markdown",
      "source": [
        "## Mostra os chunks\n",
        "\n",
        "A sobreposição se encontra ao final e início de cada pedaço(chunk). A variável 'start_index' define onde começa o texto sem a sobreposição."
      ],
      "metadata": {
        "id": "S-8OH0lw1XX-"
      }
    },
    {
      "cell_type": "code",
      "source": [
        "for i, chunk in enumerate(chunks):\n",
        "    print('chunk #',i,' tamanho :', len(chunk.page_content),' start_index:', chunk.metadata.get('start_index') )\n",
        "    print()\n",
        "    print(chunk.page_content)\n",
        "    print('-----------------------------------------------------------------------')"
      ],
      "metadata": {
        "colab": {
          "base_uri": "https://localhost:8080/"
        },
        "id": "1V1EFir61jgn",
        "outputId": "3ce0fdfc-8788-4387-d698-aeba58088964"
      },
      "execution_count": null,
      "outputs": [
        {
          "output_type": "stream",
          "name": "stdout",
          "text": [
            "chunk # 0  tamanho : 431  start_index: 1\n",
            "\n",
            "No interior e principalmente longe da vila, ou da freguesia e dos povoados há quase\n",
            "sempre uma venda perto da fazenda: é a parasita que se apega à árvore; pior que isso,\n",
            "é a inimiga hipócrita que rende vassalagem à sua vítima.\n",
            "A venda de que falo é uma taberna especialíssima\n",
            "que não poderia existir, manter-se, medrar em outras condições locais, e em\n",
            "outras condições do trabalho rural, e nem se confunde com a taberna regular que\n",
            "-----------------------------------------------------------------------\n",
            "chunk # 1  tamanho : 444  start_index: 353\n",
            "\n",
            "outras condições do trabalho rural, e nem se confunde com a taberna regular que\n",
            "em toda parte se encontra, quanto mais com as casas de grande ou pequeno comércio,\n",
            "onde os lavradores ricos e pobres se provêem do que precisa a casa, quando não\n",
            "lhes é possível esperar pelas remessas dos seus consigna­tários ou fregueses.\n",
            "Essa parasita das fazendas e estabelecimentos agrícolas\n",
            "das vizinhanças facilmente se pode conhecer por suas feições e modos\n",
            "-----------------------------------------------------------------------\n",
            "chunk # 2  tamanho : 461  start_index: 729\n",
            "\n",
            "das vizinhanças facilmente se pode conhecer por suas feições e modos\n",
            "característicos, se nos é lícito dizer assim: uma se parece com todas e não há\n",
            "hipótese em que alguma delas, por mais dissimulada que seja, chegue a perder o\n",
            "cará­ter da família.\n",
            "É uma pequena casa de taipa e coberta de telha, tendo às\n",
            "vezes na frente varanda aberta pelos três lados, também coberta de telha e com\n",
            "o teto sustido por esteios fortes, mas rudes e ainda mesmo tortos; as paredes\n",
            "-----------------------------------------------------------------------\n",
            "chunk # 3  tamanho : 462  start_index: 1113\n",
            "\n",
            "o teto sustido por esteios fortes, mas rudes e ainda mesmo tortos; as paredes\n",
            "nem sempre são caiadas, o chão não tem assoalho nem ladrilho; quando há\n",
            "varanda, abrem-se para ela uma porta e uma janela; dentro está a ven­da: entre\n",
            "a porta e a janela encostado à parede um banco de pau, defronte um balcão tosco\n",
            "e no bojo ou no espaço que se vê além, grotesca armação de tábuas contendo\n",
            "garrafas, botijas, latas de tabaco em pó, a um canto algumas voltas de fumo em\n",
            "-----------------------------------------------------------------------\n",
            "chunk # 4  tamanho : 420  start_index: 1497\n",
            "\n",
            "garrafas, botijas, latas de tabaco em pó, a um canto algumas voltas de fumo em\n",
            "rolo e uma ruim manta de carne-seca. Eis a venda.\n",
            "Há muitas que nem chegam à opulência da que aí fica\n",
            "descrita; em todas porém aparece humilde no fundo do quase vazio bojo a porta\n",
            "baixa que comunica pelo corredor imundo com dois ou mais quartos escuros, onde\n",
            "se recolhem as pingues colheitas agrícolas do vendelhão que aliás não tem\n",
            "lavoura.\n",
            "-----------------------------------------------------------------------\n"
          ]
        }
      ]
    },
    {
      "cell_type": "markdown",
      "source": [
        "# 4 - Manipulando Documentos PDF"
      ],
      "metadata": {
        "id": "85Xcl5zTxpmi"
      }
    },
    {
      "cell_type": "markdown",
      "source": [
        "## Download dos pdfs"
      ],
      "metadata": {
        "id": "wd4GcvfCz7L1"
      }
    },
    {
      "cell_type": "code",
      "source": [
        "# Import das bibliotecas\n",
        "import subprocess\n",
        "\n",
        "url1 = 'https://www.literaturabrasileira.ufsc.br/documentos/?action=download&id=116977'\n",
        "destino1 = 'arquivo1.pdf'\n",
        "\n",
        "# Executa o comando wget no prompt\n",
        "subprocess.call([\"wget\", url1, \"-O\", destino1])\n",
        "\n",
        "url2 = 'https://www.literaturabrasileira.ufsc.br/documentos/?action=download&id=92390'\n",
        "destino1 = 'arquivo2.pdf'\n",
        "\n",
        "# Executa o comando wget no prompt\n",
        "subprocess.call([\"wget\", url1, \"-O\", destino1])"
      ],
      "metadata": {
        "colab": {
          "base_uri": "https://localhost:8080/"
        },
        "id": "WbAPtRSxyuIG",
        "outputId": "508c9d64-f619-418f-cc66-2490d1136112"
      },
      "execution_count": null,
      "outputs": [
        {
          "output_type": "execute_result",
          "data": {
            "text/plain": [
              "0"
            ]
          },
          "metadata": {},
          "execution_count": 17
        }
      ]
    },
    {
      "cell_type": "markdown",
      "source": [
        "## Carrega os pdfs"
      ],
      "metadata": {
        "id": "kRx-vabm0Vbc"
      }
    },
    {
      "cell_type": "code",
      "source": [
        "# Import das bibliotecas\n",
        "from langchain.document_loaders import PyPDFLoader, PyPDFDirectoryLoader\n",
        "\n",
        "documentos = []\n",
        "\n",
        "# Define o diretório\n",
        "diretorio = '/content'\n",
        "\n",
        " # Carrega os documentos\n",
        "documentos = PyPDFDirectoryLoader(diretorio).load()"
      ],
      "metadata": {
        "id": "j18ncV8e0B8M"
      },
      "execution_count": null,
      "outputs": []
    },
    {
      "cell_type": "markdown",
      "source": [
        "## Carrega e divide os pdfs"
      ],
      "metadata": {
        "id": "CFY2d-y60scC"
      }
    },
    {
      "cell_type": "code",
      "source": [
        "# Import das bibliotecas\n",
        "import os\n",
        "import time\n",
        "from langchain.text_splitter import RecursiveCharacterTextSplitter\n",
        "\n",
        "# Parâmetros\n",
        "chunk_tamanho = 500\n",
        "chunk_sobreposicao = 100\n",
        "\n",
        "text_splitter = RecursiveCharacterTextSplitter(\n",
        "    chunk_size = chunk_tamanho,\n",
        "    chunk_overlap  = chunk_sobreposicao, # Número de tokens sobrepostos entre chunks(pedaços)\n",
        "    length_function = len, # Usa o comprimento do texto como medida de tamanho\n",
        "    add_start_index = True, #\n",
        ")\n",
        "\n",
        "# Guarda o tempo de início\n",
        "tempo_inicio = time.time()\n",
        "\n",
        "# Calcula os chunks dos textos\n",
        "chunks = text_splitter.split_documents(documentos)\n",
        "\n",
        "tempo_final = time.time()\n",
        "\n",
        "print(f\"Carregando e dividindo {len(texto)} documentos pdfs em {tempo_final - tempo_inicio} segundos!\")"
      ],
      "metadata": {
        "colab": {
          "base_uri": "https://localhost:8080/"
        },
        "outputId": "b0148341-d1c5-4e2e-c9e1-d4c72cef2674",
        "id": "SENyOAu30scC"
      },
      "execution_count": null,
      "outputs": [
        {
          "output_type": "stream",
          "name": "stdout",
          "text": [
            "Carregando e dividindo 1918 documentos pdfs em 0.06731224060058594 segundos!\n"
          ]
        }
      ]
    },
    {
      "cell_type": "markdown",
      "source": [
        "## Mostra os chunks\n",
        "\n",
        "A sobreposição se encontra ao final e início de cada pedaço(chunk). A variável 'start_index' define onde começa o texto sem a sobreposição."
      ],
      "metadata": {
        "id": "K-bq_HXh04Dr"
      }
    },
    {
      "cell_type": "code",
      "source": [
        "for i, chunk in enumerate(chunks):\n",
        "  if i < 20:\n",
        "    print('chunk #',i,' tamanho :', len(chunk.page_content),' start_index:', chunk.metadata.get('start_index') )\n",
        "    print()\n",
        "    print(chunk.page_content)\n",
        "    print('-----------------------------------------------------------------------')"
      ],
      "metadata": {
        "colab": {
          "base_uri": "https://localhost:8080/"
        },
        "outputId": "70df09a2-452d-4744-a627-8915ed52bff7",
        "id": "avh5A1UH04Dr"
      },
      "execution_count": null,
      "outputs": [
        {
          "output_type": "stream",
          "name": "stdout",
          "text": [
            "chunk # 0  tamanho : 375  start_index: 0\n",
            "\n",
            "J MAS-ALGOZE \n",
            "ROMAM \n",
            "~% \n",
            "LIVRARIA DE B. L. GARNIER \n",
            "«9, rua do Ouvidor, CO \n",
            "Grandesortimento del.ivros clássicos, Medicina, \n",
            "Sciencias e Arlís, Junsprudcncia, Littsratura, \n",
            "Novellas, lllustrações, Educação, Devoção, Atlas, \n",
            "Happas geographicos, etc, etc. \n",
            "Livros francezes, portuguezes, inqlezes, italianos, ele-, \n",
            "Encarrega-se áe qualquer conmissio de Liuros-\n",
            "BIO DE JIMIIIO\n",
            "-----------------------------------------------------------------------\n",
            "chunk # 1  tamanho : 78  start_index: 0\n",
            "\n",
            "Ie ne fay rien \n",
            "sans \n",
            "Gayeté \n",
            "(Montaigne, Des livres) \n",
            "Ex Libris \n",
            "José Mindlin\n",
            "-----------------------------------------------------------------------\n",
            "chunk # 2  tamanho : 19  start_index: 0\n",
            "\n",
            "AS VICTIMAS-ALGOZES\n",
            "-----------------------------------------------------------------------\n",
            "chunk # 3  tamanho : 154  start_index: 0\n",
            "\n",
            "AS VICTIMAS-ALGOZES \n",
            "QUADROS DA ESCRAVIDÃO \n",
            "ROMANCES \n",
            "POR \n",
            "JOAQUIM MANOEL DE MACEDO \n",
            "TOMO I \n",
            "fyo DE JANEIRO \n",
            "Typ. AMERICANA , roa dos Ourives n. 19. \n",
            "1869\n",
            "-----------------------------------------------------------------------\n",
            "chunk # 4  tamanho : 483  start_index: 0\n",
            "\n",
            "AOS NOSSOS LEITORES \n",
            "I \n",
            "Queremos agoraconlar-vos em alguns romances \n",
            "historias verdadeiras que todos vós já sabeis, \n",
            "sendo certo que em as já saberdes é que \n",
            "pôde consistir o único merecimento que por \n",
            "ventura tenha este trabalho; porque na vossa \n",
            "scien ia e na vossa consciência se hão de firmar \n",
            "as verdades xpie vamos dizer. \n",
            "Serão romances sem atavios, contos sem \n",
            "phantasias poéticas, tristes historias passadas á \n",
            "nossos olhos, e á que não poderá negar-se o \n",
            "vos*so testemunho.\n",
            "-----------------------------------------------------------------------\n",
            "chunk # 5  tamanho : 169  start_index: 420\n",
            "\n",
            "nossos olhos, e á que não poderá negar-se o \n",
            "vos*so testemunho. \n",
            "Não queremos ter .egredos, nem reservas men-\n",
            "(aes comvosco. \n",
            "E' nosso empenho e nosso fim levar ao vosso\n",
            "-----------------------------------------------------------------------\n",
            "chunk # 6  tamanho : 472  start_index: 0\n",
            "\n",
            "VI \n",
            "espirito e demorar nas reflexões e no estudo \n",
            "da vossa razão factos que tendes observado, \n",
            "verdades que não precizam mais de demons­\n",
            "tração obrigando-vos deste modo á encarar \n",
            "de face, á medir, á sondar em toda sua pro­\n",
            "fundeza um mal enorme que afeia, infecciona, \n",
            "avilta, deturpa e corroe á nossa sociedade, e \n",
            "á que a nossa sociedade ainda se apega se­\n",
            "melhante a desgraçada mulher que, tomando \n",
            "o habito da prostituição, á ella se abandona \n",
            "com indecente desvario.\n",
            "-----------------------------------------------------------------------\n",
            "chunk # 7  tamanho : 472  start_index: 403\n",
            "\n",
            "o habito da prostituição, á ella se abandona \n",
            "com indecente desvario. \n",
            "E o empenho que tomamos, o fim que temos \n",
            "em vista adunão-se com uma aspiração ge­\n",
            "nerosa da actualidade, e com a exigência im­\n",
            "placável da civilisação e do século. \n",
            "II \n",
            "Sob as apprehensões de uma crise social im-\n",
            "minente, infallivel que á todos ha de custar \n",
            "directa ou indirectamente onerosos sacrifícios \n",
            "o povo brasileiro e particularmente os lavra­\n",
            "dores cspcrão anciosos, enlrc receios por certo\n",
            "-----------------------------------------------------------------------\n",
            "chunk # 8  tamanho : 470  start_index: 0\n",
            "\n",
            "YII \n",
            "justificáveis e clamores que se explicão sem \n",
            "dezar, o pronunciamento legal e decisivo da \n",
            "solução do problema da emansipação dos es­\n",
            "cravos. \n",
            "Este estado de duvidas afflictivas sobre o \n",
            "futuro, de temor dos detrimentos que se hão de \n",
            "experimentar, e que o descostume e certa des­\n",
            "confiança do trabalho livre ainda mais exa-\n",
            "gerão, este mal estar dos proprietários de es­\n",
            "cravos, vendo cheio de nuvens o dia de amanhã, \n",
            "pôde comparar-se a situação dos espíritos tí­\n",
            "-----------------------------------------------------------------------\n",
            "chunk # 9  tamanho : 481  start_index: 377\n",
            "\n",
            "cravos, vendo cheio de nuvens o dia de amanhã, \n",
            "pôde comparar-se a situação dos espíritos tí­\n",
            "midos e das pessoas de* organisação sobre­\n",
            "maneira nervosa, quando em negro horisonte \n",
            "*e em atmosphera abafada começão a rasgar-\n",
            "se os,fuzis, e a rugir a trovoada que avança \n",
            "formidável. Esta imagem se nos afigura tanto \n",
            "mais acertadamente applicada, quanto é sabido \n",
            "que depois das grandes trovoadas vem a pureza \n",
            "do ar, a bonança e a claridade. \n",
            "Como^quer que seja, máo grado os inte­\n",
            "-----------------------------------------------------------------------\n",
            "chunk # 10  tamanho : 260  start_index: 787\n",
            "\n",
            "do ar, a bonança e a claridade. \n",
            "Como^quer que seja, máo grado os inte­\n",
            "resses que hão de padecer, á despeito das op-\n",
            "posições que se fazem e se farão sentir, embalde \n",
            "ás fáceis objecções denunciadoras de indubi-\n",
            "taveis inconveniências e senões em quantos pro-\n",
            "-----------------------------------------------------------------------\n",
            "chunk # 11  tamanho : 497  start_index: 0\n",
            "\n",
            "VIII \n",
            "jectos e imagináveis planos se engendrarem para \n",
            "que menos violenta e dolorosa se resolva a crise, \n",
            "e se opere a revolução social, é positivo que to­\n",
            "camos a véspera da emancipação dos escravos. \n",
            "Ninguém se illuda, ninguém se deixe illudir. \n",
            "Não ha combinação de interesses, não ha partido \n",
            "político, não ha governo por mais forte que se \n",
            "presuma, que possa impedir o procelloso acon­\n",
            "tecimento. \n",
            "Nunca houve caso em que jnelhor assentasse a \n",
            "formula do fatalismo musulmano:—está es-\n",
            "cripto.\n",
            "-----------------------------------------------------------------------\n",
            "chunk # 12  tamanho : 498  start_index: 403\n",
            "\n",
            "Nunca houve caso em que jnelhor assentasse a \n",
            "formula do fatalismo musulmano:—está es-\n",
            "cripto. \n",
            "A famosa prophecia do Velho do lfajurú es-\n",
            "cripta quasi á meio século se realisou em nossos \n",
            "dias: a nuvem negra veio do Norte. \n",
            "Havia uma grande potência, uma republica \n",
            "soberba que em seu seio tolerava a escravidão, \n",
            "e tenaz a mantinha: a confederação Norte-Ame-\n",
            "ricana era barreira tremenda ante a qual esta­\n",
            "cava o movimento emancipador; mas a fiiha-de \n",
            "Washington depois de uma luta formidável que\n",
            "-----------------------------------------------------------------------\n",
            "chunk # 13  tamanho : 228  start_index: 811\n",
            "\n",
            "cava o movimento emancipador; mas a fiiha-de \n",
            "Washington depois de uma luta formidável que \n",
            "espantou o mundo, no fim de uma guerra de pro­\n",
            "porções dcscommunaes afogou para sempre a \n",
            "escravidão nas águas ensangüentadas do Potomac\n",
            "-----------------------------------------------------------------------\n",
            "chunk # 14  tamanho : 494  start_index: 0\n",
            "\n",
            "IX \n",
            "que testemunhara as ultimas batalhas entre o \n",
            "Sul escravagista e o Norte emancipador. O \n",
            "Norte venceu: anmem negra nos veio do Norte. \n",
            "Desde então sé o Brasil e duas colônias da \n",
            "Hespanha mantém a escravidão aos olhos de \n",
            "todas as nações que protcstão contra a excepção. \n",
            "A voz de Deos, o brado do século da liber­\n",
            "dade, a opinião do mundo, o pronunciamento \n",
            "dos governos, o espirito e a matéria, a idéa e a \n",
            "força querem, exigem, e em caso extremo hão \n",
            "de impor a emancipação dos escravos.\n",
            "-----------------------------------------------------------------------\n",
            "chunk # 15  tamanho : 489  start_index: 413\n",
            "\n",
            "força querem, exigem, e em caso extremo hão \n",
            "de impor a emancipação dos escravos. \n",
            "Nas duas colônias da Hespanha o problema \n",
            "vai resolver-se com expontâneo decreto da me­\n",
            "trópole.* \n",
            "O Brasil só, isolado, marcado com o sello \n",
            "ignominioso da escravidão diante do mundo, seria \n",
            "o escarneo e o maldito do mundo, e se exporia \n",
            "ao opprobrio da coacção pela força. \n",
            "O patriotismo se revolta ao simpies ima­\n",
            "ginar do insulto á soberania nacional pela pre­\n",
            "potência estrangeira: mas a razão compre-\n",
            "-----------------------------------------------------------------------\n",
            "chunk # 16  tamanho : 184  start_index: 813\n",
            "\n",
            "ginar do insulto á soberania nacional pela pre­\n",
            "potência estrangeira: mas a razão compre-\n",
            "hende a possibilidade e a probabilidade do \n",
            "ultrage. \n",
            "Também vos imbalarão com a tolerância do\n",
            "-----------------------------------------------------------------------\n",
            "chunk # 17  tamanho : 484  start_index: 0\n",
            "\n",
            "X \n",
            "trafico de africanos r também vos fizerão cre­\n",
            "ditar que sem elle feneceria a agricultura ; \n",
            "também vos fallarão da soberania nacional para \n",
            "resistir á prepotência estrangeira, e em dias \n",
            "lugubres em que a pátria envergonhada escon-\n",
            "deo o rosto, lavrarão de súbito e precipitada­\n",
            "mente a sentença de morte do trafico de afri­\n",
            "canos ào som dos tiros dos canhões inglezes \n",
            "que cuspião injurias e allrontas nas faces de \n",
            "fortalezas nossas. \n",
            "Então foi somente a Inglaterra ; e o Brasil\n",
            "-----------------------------------------------------------------------\n",
            "chunk # 18  tamanho : 413  start_index: 421\n",
            "\n",
            "fortalezas nossas. \n",
            "Então foi somente a Inglaterra ; e o Brasil \n",
            "teve de ceder. \n",
            "Agora é o mundo, agora são todas as noções,' \n",
            "é a opinião universal, é o espirito e a matéria, \n",
            "a idéa e a força á reclamar a emancipação dos \n",
            "escravos. \n",
            "luiagiuaes resistência possível ? \n",
            "Não vos illudaes, não vos deixeis illudir: \n",
            "preparai-vos: a emancipação dos escravos ha de \n",
            "realizar-se dentro de poucos annos. \n",
            "Está escripto.\n",
            "-----------------------------------------------------------------------\n",
            "chunk # 19  tamanho : 470  start_index: 0\n",
            "\n",
            "XI \n",
            "III \n",
            "Não se eslirpa o cancro sem dôr. \n",
            "A escravidão que é cancro social, abuso inve­\n",
            "terado que entrou cm nossos costumes, arvore \n",
            "venenosa plantada no Brasil pelos primeiros co-\n",
            "Jonisadores, fonte de desmoralisacão, de vicios \n",
            "•e de crimes, é também ainda assim instrumento \n",
            "<Ie riqueza agrícola, manancial do trabalho dos \n",
            "campos, dependência de innumcraveis interes­\n",
            "ses, immenso capital que representa a fortuna \n",
            "de milhares de proprietários, e portanto a escra­\n",
            "-----------------------------------------------------------------------\n"
          ]
        }
      ]
    }
  ],
  "metadata": {
    "colab": {
      "provenance": [],
      "gpuClass": "premium",
      "toc_visible": true,
      "include_colab_link": true
    },
    "kernelspec": {
      "display_name": "Python 3",
      "name": "python3"
    },
    "language_info": {
      "name": "python"
    }
  },
  "nbformat": 4,
  "nbformat_minor": 0
}