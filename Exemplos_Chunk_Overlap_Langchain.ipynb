{
  "cells": [
    {
      "cell_type": "markdown",
      "metadata": {
        "id": "view-in-github",
        "colab_type": "text"
      },
      "source": [
        "<a href=\"https://colab.research.google.com/github/osmarbraz/exemplos_Llama/blob/main/Exemplos_Chunk_Overlap_Langchain.ipynb\" target=\"_parent\"><img src=\"https://colab.research.google.com/assets/colab-badge.svg\" alt=\"Open In Colab\"/></a>"
      ]
    },
    {
      "cell_type": "markdown",
      "metadata": {
        "id": "78HE8FLsKN9Q"
      },
      "source": [
        "#Exemplo de manipulação de texto usando Langchain\n",
        "\n",
        "Cria a divisão de um texto em pedaços(chunks) para submeter a um LLM. Realiza a sobreposição(overlap) de parte do texto para manter a semântica entre os chunks.\n",
        "\n",
        "Semelhante a uma janela deslizante.\n",
        "\n",
        "Teste online da chunk(divisão) e overlap(overlap) usando um arquivo texto: https://chunkerizer.streamlit.app/\n",
        "\n",
        "Entendendo o chunk e overlap\n",
        "https://gustavo-espindola.medium.com/chunk-division-and-overlap-understanding-the-process-ade7eae1b2bd\n",
        "\n",
        "LangChain: como dividir corretamente seus chunks(pedaços):\n",
        "https://www.youtube.com/watch?v=n0uPzvGTFI0\n",
        "\n",
        "Estratégias de chucking: https://www.pinecone.io/learn/chunking-strategies/\n",
        "\n",
        "Como agrupar dados de texto - uma análise comparativa: https://towardsdatascience.com/how-to-chunk-text-data-a-comparative-analysis-3858c4a0997a"
      ]
    },
    {
      "cell_type": "markdown",
      "metadata": {
        "id": "xyxb5Px3p1-e"
      },
      "source": [
        "# 0 - Preparação do ambiente\n",
        "Preparação do ambiente para execução do exemplo."
      ]
    },
    {
      "cell_type": "markdown",
      "metadata": {
        "id": "iAPVtRXQqDim"
      },
      "source": [
        "## Tratamento de logs\n",
        "\n",
        "Método para tratamento dos logs."
      ]
    },
    {
      "cell_type": "code",
      "execution_count": 1,
      "metadata": {
        "id": "DcopxbGZqDip"
      },
      "outputs": [],
      "source": [
        "# Biblioteca de logging\n",
        "import logging\n",
        "\n",
        "# Formatando a mensagem de logging\n",
        "logging.basicConfig(format=\"%(asctime)s : %(levelname)s : %(message)s\", level=logging.INFO)"
      ]
    },
    {
      "cell_type": "markdown",
      "metadata": {
        "id": "_GjYtXcMnSAe"
      },
      "source": [
        "## Identificando o ambiente Colab\n",
        "\n",
        "Cria uma variável para identificar que o notebook está sendo executado no Google Colaboratory."
      ]
    },
    {
      "cell_type": "code",
      "execution_count": 2,
      "metadata": {
        "id": "YMiH0E3OnRa1"
      },
      "outputs": [],
      "source": [
        "# Se estiver executando no Google Colaboratory\n",
        "import sys\n",
        "\n",
        "# Retorna true ou false se estiver no Google Colaboratory\n",
        "IN_COLAB = \"google.colab\" in sys.modules"
      ]
    },
    {
      "cell_type": "markdown",
      "source": [
        "## Funções auxiliares"
      ],
      "metadata": {
        "id": "JKmhxcvIfbG2"
      }
    },
    {
      "cell_type": "markdown",
      "metadata": {
        "id": "603LYIYKBmq5"
      },
      "source": [
        "Função auxiliar para formatar o tempo como `hh: mm: ss`"
      ]
    },
    {
      "cell_type": "code",
      "execution_count": 3,
      "metadata": {
        "id": "Guy6B4whsZFR"
      },
      "outputs": [],
      "source": [
        "# Import das bibliotecas.\n",
        "import time\n",
        "import datetime\n",
        "\n",
        "def formataTempo(tempo):\n",
        "    \"\"\"\n",
        "      Pega a tempo em segundos e retorna uma string hh:mm:ss\n",
        "    \"\"\"\n",
        "    # Arredonda para o segundo mais próximo.\n",
        "    tempo_arredondado = int(round((tempo)))\n",
        "\n",
        "    # Formata como hh:mm:ss\n",
        "    return str(datetime.timedelta(seconds=tempo_arredondado))"
      ]
    },
    {
      "cell_type": "markdown",
      "metadata": {
        "id": "Pqa-7WXBAw8q"
      },
      "source": [
        "# 1 - Instalação das bibliotecas"
      ]
    },
    {
      "cell_type": "markdown",
      "source": [
        "Biblioteca para manipular pdf"
      ],
      "metadata": {
        "id": "akFHj1OT0eCc"
      }
    },
    {
      "cell_type": "code",
      "source": [
        "!pip install pypdf==3.16.4"
      ],
      "metadata": {
        "colab": {
          "base_uri": "https://localhost:8080/"
        },
        "id": "7mdrRBD_0gAL",
        "outputId": "45c4b39f-9b58-4e41-a5e5-9fa65fc75541"
      },
      "execution_count": 4,
      "outputs": [
        {
          "output_type": "stream",
          "name": "stdout",
          "text": [
            "Collecting pypdf==3.16.4\n",
            "  Downloading pypdf-3.16.4-py3-none-any.whl (276 kB)\n",
            "\u001b[?25l     \u001b[90m━━━━━━━━━━━━━━━━━━━━━━━━━━━━━━━━━━━━━━━━\u001b[0m \u001b[32m0.0/276.6 kB\u001b[0m \u001b[31m?\u001b[0m eta \u001b[36m-:--:--\u001b[0m\r\u001b[2K     \u001b[91m━━━━━━━━━━━━━━━━━━━━━━━━━━━━━\u001b[0m\u001b[91m╸\u001b[0m\u001b[90m━━━━━━━━━━\u001b[0m \u001b[32m204.8/276.6 kB\u001b[0m \u001b[31m6.0 MB/s\u001b[0m eta \u001b[36m0:00:01\u001b[0m\r\u001b[2K     \u001b[90m━━━━━━━━━━━━━━━━━━━━━━━━━━━━━━━━━━━━━━━━\u001b[0m \u001b[32m276.6/276.6 kB\u001b[0m \u001b[31m6.1 MB/s\u001b[0m eta \u001b[36m0:00:00\u001b[0m\n",
            "\u001b[?25hInstalling collected packages: pypdf\n",
            "Successfully installed pypdf-3.16.4\n"
          ]
        }
      ]
    },
    {
      "cell_type": "markdown",
      "source": [
        "Biblioteca para persistir os embeddings e permitir busca semântica."
      ],
      "metadata": {
        "id": "nKVk0wKdEfgc"
      }
    },
    {
      "cell_type": "code",
      "source": [
        "!pip install chromadb==0.4.15"
      ],
      "metadata": {
        "colab": {
          "base_uri": "https://localhost:8080/"
        },
        "id": "B7z4IgGkEfnE",
        "outputId": "7d044d38-03fd-43a5-ab36-61561a24d470"
      },
      "execution_count": 5,
      "outputs": [
        {
          "output_type": "stream",
          "name": "stdout",
          "text": [
            "Collecting chromadb==0.4.15\n",
            "  Downloading chromadb-0.4.15-py3-none-any.whl (479 kB)\n",
            "\u001b[?25l     \u001b[90m━━━━━━━━━━━━━━━━━━━━━━━━━━━━━━━━━━━━━━━━\u001b[0m \u001b[32m0.0/479.8 kB\u001b[0m \u001b[31m?\u001b[0m eta \u001b[36m-:--:--\u001b[0m\r\u001b[2K     \u001b[91m━━━━━━━━━━━━━\u001b[0m\u001b[91m╸\u001b[0m\u001b[90m━━━━━━━━━━━━━━━━━━━━━━━━━━\u001b[0m \u001b[32m163.8/479.8 kB\u001b[0m \u001b[31m4.6 MB/s\u001b[0m eta \u001b[36m0:00:01\u001b[0m\r\u001b[2K     \u001b[90m━━━━━━━━━━━━━━━━━━━━━━━━━━━━━━━━━━━━━━━━\u001b[0m \u001b[32m479.8/479.8 kB\u001b[0m \u001b[31m8.7 MB/s\u001b[0m eta \u001b[36m0:00:00\u001b[0m\n",
            "\u001b[?25hRequirement already satisfied: requests>=2.28 in /usr/local/lib/python3.10/dist-packages (from chromadb==0.4.15) (2.31.0)\n",
            "Requirement already satisfied: pydantic>=1.9 in /usr/local/lib/python3.10/dist-packages (from chromadb==0.4.15) (1.10.13)\n",
            "Collecting chroma-hnswlib==0.7.3 (from chromadb==0.4.15)\n",
            "  Downloading chroma_hnswlib-0.7.3-cp310-cp310-manylinux_2_17_x86_64.manylinux2014_x86_64.whl (2.4 MB)\n",
            "\u001b[2K     \u001b[90m━━━━━━━━━━━━━━━━━━━━━━━━━━━━━━━━━━━━━━━━\u001b[0m \u001b[32m2.4/2.4 MB\u001b[0m \u001b[31m60.6 MB/s\u001b[0m eta \u001b[36m0:00:00\u001b[0m\n",
            "\u001b[?25hCollecting fastapi>=0.95.2 (from chromadb==0.4.15)\n",
            "  Downloading fastapi-0.104.0-py3-none-any.whl (92 kB)\n",
            "\u001b[2K     \u001b[90m━━━━━━━━━━━━━━━━━━━━━━━━━━━━━━━━━━━━━━━━\u001b[0m \u001b[32m92.9/92.9 kB\u001b[0m \u001b[31m13.6 MB/s\u001b[0m eta \u001b[36m0:00:00\u001b[0m\n",
            "\u001b[?25hCollecting uvicorn[standard]>=0.18.3 (from chromadb==0.4.15)\n",
            "  Downloading uvicorn-0.23.2-py3-none-any.whl (59 kB)\n",
            "\u001b[2K     \u001b[90m━━━━━━━━━━━━━━━━━━━━━━━━━━━━━━━━━━━━━━━━\u001b[0m \u001b[32m59.5/59.5 kB\u001b[0m \u001b[31m7.4 MB/s\u001b[0m eta \u001b[36m0:00:00\u001b[0m\n",
            "\u001b[?25hCollecting posthog>=2.4.0 (from chromadb==0.4.15)\n",
            "  Downloading posthog-3.0.2-py2.py3-none-any.whl (37 kB)\n",
            "Requirement already satisfied: typing-extensions>=4.5.0 in /usr/local/lib/python3.10/dist-packages (from chromadb==0.4.15) (4.5.0)\n",
            "Collecting pulsar-client>=3.1.0 (from chromadb==0.4.15)\n",
            "  Downloading pulsar_client-3.3.0-cp310-cp310-manylinux_2_17_x86_64.manylinux2014_x86_64.whl (5.4 MB)\n",
            "\u001b[2K     \u001b[90m━━━━━━━━━━━━━━━━━━━━━━━━━━━━━━━━━━━━━━━━\u001b[0m \u001b[32m5.4/5.4 MB\u001b[0m \u001b[31m81.7 MB/s\u001b[0m eta \u001b[36m0:00:00\u001b[0m\n",
            "\u001b[?25hCollecting onnxruntime>=1.14.1 (from chromadb==0.4.15)\n",
            "  Downloading onnxruntime-1.16.1-cp310-cp310-manylinux_2_17_x86_64.manylinux2014_x86_64.whl (6.2 MB)\n",
            "\u001b[2K     \u001b[90m━━━━━━━━━━━━━━━━━━━━━━━━━━━━━━━━━━━━━━━━\u001b[0m \u001b[32m6.2/6.2 MB\u001b[0m \u001b[31m123.9 MB/s\u001b[0m eta \u001b[36m0:00:00\u001b[0m\n",
            "\u001b[?25hCollecting opentelemetry-api>=1.2.0 (from chromadb==0.4.15)\n",
            "  Downloading opentelemetry_api-1.20.0-py3-none-any.whl (57 kB)\n",
            "\u001b[2K     \u001b[90m━━━━━━━━━━━━━━━━━━━━━━━━━━━━━━━━━━━━━━━━\u001b[0m \u001b[32m57.5/57.5 kB\u001b[0m \u001b[31m8.3 MB/s\u001b[0m eta \u001b[36m0:00:00\u001b[0m\n",
            "\u001b[?25hCollecting opentelemetry-exporter-otlp-proto-grpc>=1.2.0 (from chromadb==0.4.15)\n",
            "  Downloading opentelemetry_exporter_otlp_proto_grpc-1.20.0-py3-none-any.whl (18 kB)\n",
            "Collecting opentelemetry-sdk>=1.2.0 (from chromadb==0.4.15)\n",
            "  Downloading opentelemetry_sdk-1.20.0-py3-none-any.whl (103 kB)\n",
            "\u001b[2K     \u001b[90m━━━━━━━━━━━━━━━━━━━━━━━━━━━━━━━━━━━━━━━━\u001b[0m \u001b[32m103.9/103.9 kB\u001b[0m \u001b[31m16.7 MB/s\u001b[0m eta \u001b[36m0:00:00\u001b[0m\n",
            "\u001b[?25hCollecting tokenizers>=0.13.2 (from chromadb==0.4.15)\n",
            "  Downloading tokenizers-0.14.1-cp310-cp310-manylinux_2_17_x86_64.manylinux2014_x86_64.whl (3.8 MB)\n",
            "\u001b[2K     \u001b[90m━━━━━━━━━━━━━━━━━━━━━━━━━━━━━━━━━━━━━━━━\u001b[0m \u001b[32m3.8/3.8 MB\u001b[0m \u001b[31m83.9 MB/s\u001b[0m eta \u001b[36m0:00:00\u001b[0m\n",
            "\u001b[?25hCollecting pypika>=0.48.9 (from chromadb==0.4.15)\n",
            "  Downloading PyPika-0.48.9.tar.gz (67 kB)\n",
            "\u001b[2K     \u001b[90m━━━━━━━━━━━━━━━━━━━━━━━━━━━━━━━━━━━━━━━━\u001b[0m \u001b[32m67.3/67.3 kB\u001b[0m \u001b[31m9.1 MB/s\u001b[0m eta \u001b[36m0:00:00\u001b[0m\n",
            "\u001b[?25h  Installing build dependencies ... \u001b[?25l\u001b[?25hdone\n",
            "  Getting requirements to build wheel ... \u001b[?25l\u001b[?25hdone\n",
            "  Preparing metadata (pyproject.toml) ... \u001b[?25l\u001b[?25hdone\n",
            "Requirement already satisfied: tqdm>=4.65.0 in /usr/local/lib/python3.10/dist-packages (from chromadb==0.4.15) (4.66.1)\n",
            "Collecting overrides>=7.3.1 (from chromadb==0.4.15)\n",
            "  Downloading overrides-7.4.0-py3-none-any.whl (17 kB)\n",
            "Requirement already satisfied: importlib-resources in /usr/local/lib/python3.10/dist-packages (from chromadb==0.4.15) (6.1.0)\n",
            "Requirement already satisfied: grpcio>=1.58.0 in /usr/local/lib/python3.10/dist-packages (from chromadb==0.4.15) (1.59.0)\n",
            "Collecting bcrypt>=4.0.1 (from chromadb==0.4.15)\n",
            "  Downloading bcrypt-4.0.1-cp36-abi3-manylinux_2_28_x86_64.whl (593 kB)\n",
            "\u001b[2K     \u001b[90m━━━━━━━━━━━━━━━━━━━━━━━━━━━━━━━━━━━━━━━━\u001b[0m \u001b[32m593.7/593.7 kB\u001b[0m \u001b[31m40.3 MB/s\u001b[0m eta \u001b[36m0:00:00\u001b[0m\n",
            "\u001b[?25hRequirement already satisfied: typer>=0.9.0 in /usr/local/lib/python3.10/dist-packages (from chromadb==0.4.15) (0.9.0)\n",
            "Collecting kubernetes>=28.1.0 (from chromadb==0.4.15)\n",
            "  Downloading kubernetes-28.1.0-py2.py3-none-any.whl (1.6 MB)\n",
            "\u001b[2K     \u001b[90m━━━━━━━━━━━━━━━━━━━━━━━━━━━━━━━━━━━━━━━━\u001b[0m \u001b[32m1.6/1.6 MB\u001b[0m \u001b[31m103.4 MB/s\u001b[0m eta \u001b[36m0:00:00\u001b[0m\n",
            "\u001b[?25hRequirement already satisfied: tenacity>=8.2.3 in /usr/local/lib/python3.10/dist-packages (from chromadb==0.4.15) (8.2.3)\n",
            "Requirement already satisfied: numpy>=1.22.5 in /usr/local/lib/python3.10/dist-packages (from chromadb==0.4.15) (1.23.5)\n",
            "Requirement already satisfied: anyio<4.0.0,>=3.7.1 in /usr/local/lib/python3.10/dist-packages (from fastapi>=0.95.2->chromadb==0.4.15) (3.7.1)\n",
            "Collecting starlette<0.28.0,>=0.27.0 (from fastapi>=0.95.2->chromadb==0.4.15)\n",
            "  Downloading starlette-0.27.0-py3-none-any.whl (66 kB)\n",
            "\u001b[2K     \u001b[90m━━━━━━━━━━━━━━━━━━━━━━━━━━━━━━━━━━━━━━━━\u001b[0m \u001b[32m67.0/67.0 kB\u001b[0m \u001b[31m10.0 MB/s\u001b[0m eta \u001b[36m0:00:00\u001b[0m\n",
            "\u001b[?25hCollecting typing-extensions>=4.5.0 (from chromadb==0.4.15)\n",
            "  Downloading typing_extensions-4.8.0-py3-none-any.whl (31 kB)\n",
            "Requirement already satisfied: certifi>=14.05.14 in /usr/local/lib/python3.10/dist-packages (from kubernetes>=28.1.0->chromadb==0.4.15) (2023.7.22)\n",
            "Requirement already satisfied: six>=1.9.0 in /usr/local/lib/python3.10/dist-packages (from kubernetes>=28.1.0->chromadb==0.4.15) (1.16.0)\n",
            "Requirement already satisfied: python-dateutil>=2.5.3 in /usr/local/lib/python3.10/dist-packages (from kubernetes>=28.1.0->chromadb==0.4.15) (2.8.2)\n",
            "Requirement already satisfied: pyyaml>=5.4.1 in /usr/local/lib/python3.10/dist-packages (from kubernetes>=28.1.0->chromadb==0.4.15) (6.0.1)\n",
            "Requirement already satisfied: google-auth>=1.0.1 in /usr/local/lib/python3.10/dist-packages (from kubernetes>=28.1.0->chromadb==0.4.15) (2.17.3)\n",
            "Requirement already satisfied: websocket-client!=0.40.0,!=0.41.*,!=0.42.*,>=0.32.0 in /usr/local/lib/python3.10/dist-packages (from kubernetes>=28.1.0->chromadb==0.4.15) (1.6.4)\n",
            "Requirement already satisfied: requests-oauthlib in /usr/local/lib/python3.10/dist-packages (from kubernetes>=28.1.0->chromadb==0.4.15) (1.3.1)\n",
            "Requirement already satisfied: oauthlib>=3.2.2 in /usr/local/lib/python3.10/dist-packages (from kubernetes>=28.1.0->chromadb==0.4.15) (3.2.2)\n",
            "Collecting urllib3<2.0,>=1.24.2 (from kubernetes>=28.1.0->chromadb==0.4.15)\n",
            "  Downloading urllib3-1.26.18-py2.py3-none-any.whl (143 kB)\n",
            "\u001b[2K     \u001b[90m━━━━━━━━━━━━━━━━━━━━━━━━━━━━━━━━━━━━━━━━\u001b[0m \u001b[32m143.8/143.8 kB\u001b[0m \u001b[31m21.9 MB/s\u001b[0m eta \u001b[36m0:00:00\u001b[0m\n",
            "\u001b[?25hCollecting coloredlogs (from onnxruntime>=1.14.1->chromadb==0.4.15)\n",
            "  Downloading coloredlogs-15.0.1-py2.py3-none-any.whl (46 kB)\n",
            "\u001b[2K     \u001b[90m━━━━━━━━━━━━━━━━━━━━━━━━━━━━━━━━━━━━━━━━\u001b[0m \u001b[32m46.0/46.0 kB\u001b[0m \u001b[31m5.9 MB/s\u001b[0m eta \u001b[36m0:00:00\u001b[0m\n",
            "\u001b[?25hRequirement already satisfied: flatbuffers in /usr/local/lib/python3.10/dist-packages (from onnxruntime>=1.14.1->chromadb==0.4.15) (23.5.26)\n",
            "Requirement already satisfied: packaging in /usr/local/lib/python3.10/dist-packages (from onnxruntime>=1.14.1->chromadb==0.4.15) (23.2)\n",
            "Requirement already satisfied: protobuf in /usr/local/lib/python3.10/dist-packages (from onnxruntime>=1.14.1->chromadb==0.4.15) (3.20.3)\n",
            "Requirement already satisfied: sympy in /usr/local/lib/python3.10/dist-packages (from onnxruntime>=1.14.1->chromadb==0.4.15) (1.12)\n",
            "Collecting deprecated>=1.2.6 (from opentelemetry-api>=1.2.0->chromadb==0.4.15)\n",
            "  Downloading Deprecated-1.2.14-py2.py3-none-any.whl (9.6 kB)\n",
            "Requirement already satisfied: importlib-metadata<7.0,>=6.0 in /usr/local/lib/python3.10/dist-packages (from opentelemetry-api>=1.2.0->chromadb==0.4.15) (6.8.0)\n",
            "Collecting backoff<3.0.0,>=1.10.0 (from opentelemetry-exporter-otlp-proto-grpc>=1.2.0->chromadb==0.4.15)\n",
            "  Downloading backoff-2.2.1-py3-none-any.whl (15 kB)\n",
            "Requirement already satisfied: googleapis-common-protos~=1.52 in /usr/local/lib/python3.10/dist-packages (from opentelemetry-exporter-otlp-proto-grpc>=1.2.0->chromadb==0.4.15) (1.61.0)\n",
            "Collecting opentelemetry-exporter-otlp-proto-common==1.20.0 (from opentelemetry-exporter-otlp-proto-grpc>=1.2.0->chromadb==0.4.15)\n",
            "  Downloading opentelemetry_exporter_otlp_proto_common-1.20.0-py3-none-any.whl (17 kB)\n",
            "Collecting opentelemetry-proto==1.20.0 (from opentelemetry-exporter-otlp-proto-grpc>=1.2.0->chromadb==0.4.15)\n",
            "  Downloading opentelemetry_proto-1.20.0-py3-none-any.whl (50 kB)\n",
            "\u001b[2K     \u001b[90m━━━━━━━━━━━━━━━━━━━━━━━━━━━━━━━━━━━━━━━━\u001b[0m \u001b[32m50.8/50.8 kB\u001b[0m \u001b[31m7.7 MB/s\u001b[0m eta \u001b[36m0:00:00\u001b[0m\n",
            "\u001b[?25hCollecting opentelemetry-semantic-conventions==0.41b0 (from opentelemetry-sdk>=1.2.0->chromadb==0.4.15)\n",
            "  Downloading opentelemetry_semantic_conventions-0.41b0-py3-none-any.whl (26 kB)\n",
            "Collecting monotonic>=1.5 (from posthog>=2.4.0->chromadb==0.4.15)\n",
            "  Downloading monotonic-1.6-py2.py3-none-any.whl (8.2 kB)\n",
            "Requirement already satisfied: charset-normalizer<4,>=2 in /usr/local/lib/python3.10/dist-packages (from requests>=2.28->chromadb==0.4.15) (3.3.0)\n",
            "Requirement already satisfied: idna<4,>=2.5 in /usr/local/lib/python3.10/dist-packages (from requests>=2.28->chromadb==0.4.15) (3.4)\n",
            "Collecting huggingface_hub<0.18,>=0.16.4 (from tokenizers>=0.13.2->chromadb==0.4.15)\n",
            "  Downloading huggingface_hub-0.17.3-py3-none-any.whl (295 kB)\n",
            "\u001b[2K     \u001b[90m━━━━━━━━━━━━━━━━━━━━━━━━━━━━━━━━━━━━━━━━\u001b[0m \u001b[32m295.0/295.0 kB\u001b[0m \u001b[31m40.5 MB/s\u001b[0m eta \u001b[36m0:00:00\u001b[0m\n",
            "\u001b[?25hRequirement already satisfied: click<9.0.0,>=7.1.1 in /usr/local/lib/python3.10/dist-packages (from typer>=0.9.0->chromadb==0.4.15) (8.1.7)\n",
            "Collecting h11>=0.8 (from uvicorn[standard]>=0.18.3->chromadb==0.4.15)\n",
            "  Downloading h11-0.14.0-py3-none-any.whl (58 kB)\n",
            "\u001b[2K     \u001b[90m━━━━━━━━━━━━━━━━━━━━━━━━━━━━━━━━━━━━━━━━\u001b[0m \u001b[32m58.3/58.3 kB\u001b[0m \u001b[31m8.8 MB/s\u001b[0m eta \u001b[36m0:00:00\u001b[0m\n",
            "\u001b[?25hCollecting httptools>=0.5.0 (from uvicorn[standard]>=0.18.3->chromadb==0.4.15)\n",
            "  Downloading httptools-0.6.1-cp310-cp310-manylinux_2_5_x86_64.manylinux1_x86_64.manylinux_2_17_x86_64.manylinux2014_x86_64.whl (341 kB)\n",
            "\u001b[2K     \u001b[90m━━━━━━━━━━━━━━━━━━━━━━━━━━━━━━━━━━━━━━━━\u001b[0m \u001b[32m341.4/341.4 kB\u001b[0m \u001b[31m46.9 MB/s\u001b[0m eta \u001b[36m0:00:00\u001b[0m\n",
            "\u001b[?25hCollecting python-dotenv>=0.13 (from uvicorn[standard]>=0.18.3->chromadb==0.4.15)\n",
            "  Downloading python_dotenv-1.0.0-py3-none-any.whl (19 kB)\n",
            "Collecting uvloop!=0.15.0,!=0.15.1,>=0.14.0 (from uvicorn[standard]>=0.18.3->chromadb==0.4.15)\n",
            "  Downloading uvloop-0.19.0-cp310-cp310-manylinux_2_17_x86_64.manylinux2014_x86_64.whl (3.4 MB)\n",
            "\u001b[2K     \u001b[90m━━━━━━━━━━━━━━━━━━━━━━━━━━━━━━━━━━━━━━━━\u001b[0m \u001b[32m3.4/3.4 MB\u001b[0m \u001b[31m126.3 MB/s\u001b[0m eta \u001b[36m0:00:00\u001b[0m\n",
            "\u001b[?25hCollecting watchfiles>=0.13 (from uvicorn[standard]>=0.18.3->chromadb==0.4.15)\n",
            "  Downloading watchfiles-0.21.0-cp310-cp310-manylinux_2_17_x86_64.manylinux2014_x86_64.whl (1.3 MB)\n",
            "\u001b[2K     \u001b[90m━━━━━━━━━━━━━━━━━━━━━━━━━━━━━━━━━━━━━━━━\u001b[0m \u001b[32m1.3/1.3 MB\u001b[0m \u001b[31m106.6 MB/s\u001b[0m eta \u001b[36m0:00:00\u001b[0m\n",
            "\u001b[?25hCollecting websockets>=10.4 (from uvicorn[standard]>=0.18.3->chromadb==0.4.15)\n",
            "  Downloading websockets-12.0-cp310-cp310-manylinux_2_5_x86_64.manylinux1_x86_64.manylinux_2_17_x86_64.manylinux2014_x86_64.whl (130 kB)\n",
            "\u001b[2K     \u001b[90m━━━━━━━━━━━━━━━━━━━━━━━━━━━━━━━━━━━━━━━━\u001b[0m \u001b[32m130.2/130.2 kB\u001b[0m \u001b[31m19.5 MB/s\u001b[0m eta \u001b[36m0:00:00\u001b[0m\n",
            "\u001b[?25hRequirement already satisfied: sniffio>=1.1 in /usr/local/lib/python3.10/dist-packages (from anyio<4.0.0,>=3.7.1->fastapi>=0.95.2->chromadb==0.4.15) (1.3.0)\n",
            "Requirement already satisfied: exceptiongroup in /usr/local/lib/python3.10/dist-packages (from anyio<4.0.0,>=3.7.1->fastapi>=0.95.2->chromadb==0.4.15) (1.1.3)\n",
            "Requirement already satisfied: wrapt<2,>=1.10 in /usr/local/lib/python3.10/dist-packages (from deprecated>=1.2.6->opentelemetry-api>=1.2.0->chromadb==0.4.15) (1.14.1)\n",
            "Requirement already satisfied: cachetools<6.0,>=2.0.0 in /usr/local/lib/python3.10/dist-packages (from google-auth>=1.0.1->kubernetes>=28.1.0->chromadb==0.4.15) (5.3.1)\n",
            "Requirement already satisfied: pyasn1-modules>=0.2.1 in /usr/local/lib/python3.10/dist-packages (from google-auth>=1.0.1->kubernetes>=28.1.0->chromadb==0.4.15) (0.3.0)\n",
            "Requirement already satisfied: rsa<5,>=3.1.4 in /usr/local/lib/python3.10/dist-packages (from google-auth>=1.0.1->kubernetes>=28.1.0->chromadb==0.4.15) (4.9)\n",
            "Requirement already satisfied: filelock in /usr/local/lib/python3.10/dist-packages (from huggingface_hub<0.18,>=0.16.4->tokenizers>=0.13.2->chromadb==0.4.15) (3.12.4)\n",
            "Requirement already satisfied: fsspec in /usr/local/lib/python3.10/dist-packages (from huggingface_hub<0.18,>=0.16.4->tokenizers>=0.13.2->chromadb==0.4.15) (2023.6.0)\n",
            "Requirement already satisfied: zipp>=0.5 in /usr/local/lib/python3.10/dist-packages (from importlib-metadata<7.0,>=6.0->opentelemetry-api>=1.2.0->chromadb==0.4.15) (3.17.0)\n",
            "Collecting humanfriendly>=9.1 (from coloredlogs->onnxruntime>=1.14.1->chromadb==0.4.15)\n",
            "  Downloading humanfriendly-10.0-py2.py3-none-any.whl (86 kB)\n",
            "\u001b[2K     \u001b[90m━━━━━━━━━━━━━━━━━━━━━━━━━━━━━━━━━━━━━━━━\u001b[0m \u001b[32m86.8/86.8 kB\u001b[0m \u001b[31m11.5 MB/s\u001b[0m eta \u001b[36m0:00:00\u001b[0m\n",
            "\u001b[?25hRequirement already satisfied: mpmath>=0.19 in /usr/local/lib/python3.10/dist-packages (from sympy->onnxruntime>=1.14.1->chromadb==0.4.15) (1.3.0)\n",
            "Requirement already satisfied: pyasn1<0.6.0,>=0.4.6 in /usr/local/lib/python3.10/dist-packages (from pyasn1-modules>=0.2.1->google-auth>=1.0.1->kubernetes>=28.1.0->chromadb==0.4.15) (0.5.0)\n",
            "Building wheels for collected packages: pypika\n",
            "  Building wheel for pypika (pyproject.toml) ... \u001b[?25l\u001b[?25hdone\n",
            "  Created wheel for pypika: filename=PyPika-0.48.9-py2.py3-none-any.whl size=53723 sha256=0f6f59df939445ce2fad357ef2af69c9499566e297def0988a1636604d62c49f\n",
            "  Stored in directory: /root/.cache/pip/wheels/e1/26/51/d0bffb3d2fd82256676d7ad3003faea3bd6dddc9577af665f4\n",
            "Successfully built pypika\n",
            "Installing collected packages: pypika, monotonic, websockets, uvloop, urllib3, typing-extensions, python-dotenv, pulsar-client, overrides, opentelemetry-semantic-conventions, opentelemetry-proto, humanfriendly, httptools, h11, deprecated, chroma-hnswlib, bcrypt, backoff, watchfiles, uvicorn, starlette, opentelemetry-exporter-otlp-proto-common, opentelemetry-api, coloredlogs, posthog, opentelemetry-sdk, onnxruntime, huggingface_hub, fastapi, tokenizers, opentelemetry-exporter-otlp-proto-grpc, kubernetes, chromadb\n",
            "  Attempting uninstall: urllib3\n",
            "    Found existing installation: urllib3 2.0.7\n",
            "    Uninstalling urllib3-2.0.7:\n",
            "      Successfully uninstalled urllib3-2.0.7\n",
            "  Attempting uninstall: typing-extensions\n",
            "    Found existing installation: typing_extensions 4.5.0\n",
            "    Uninstalling typing_extensions-4.5.0:\n",
            "      Successfully uninstalled typing_extensions-4.5.0\n",
            "\u001b[31mERROR: pip's dependency resolver does not currently take into account all the packages that are installed. This behaviour is the source of the following dependency conflicts.\n",
            "lida 0.0.10 requires kaleido, which is not installed.\n",
            "lida 0.0.10 requires python-multipart, which is not installed.\n",
            "tensorflow-probability 0.22.0 requires typing-extensions<4.6.0, but you have typing-extensions 4.8.0 which is incompatible.\u001b[0m\u001b[31m\n",
            "\u001b[0mSuccessfully installed backoff-2.2.1 bcrypt-4.0.1 chroma-hnswlib-0.7.3 chromadb-0.4.15 coloredlogs-15.0.1 deprecated-1.2.14 fastapi-0.104.0 h11-0.14.0 httptools-0.6.1 huggingface_hub-0.17.3 humanfriendly-10.0 kubernetes-28.1.0 monotonic-1.6 onnxruntime-1.16.1 opentelemetry-api-1.20.0 opentelemetry-exporter-otlp-proto-common-1.20.0 opentelemetry-exporter-otlp-proto-grpc-1.20.0 opentelemetry-proto-1.20.0 opentelemetry-sdk-1.20.0 opentelemetry-semantic-conventions-0.41b0 overrides-7.4.0 posthog-3.0.2 pulsar-client-3.3.0 pypika-0.48.9 python-dotenv-1.0.0 starlette-0.27.0 tokenizers-0.14.1 typing-extensions-4.8.0 urllib3-1.26.18 uvicorn-0.23.2 uvloop-0.19.0 watchfiles-0.21.0 websockets-12.0\n"
          ]
        }
      ]
    },
    {
      "cell_type": "markdown",
      "metadata": {
        "id": "zp0jVfo3QM3h"
      },
      "source": [
        "Bibioteca LangChain é um framework de código aberto para o desenvolvimento de aplicações usando modelos de linguagem grandes."
      ]
    },
    {
      "cell_type": "code",
      "execution_count": 6,
      "metadata": {
        "colab": {
          "base_uri": "https://localhost:8080/"
        },
        "id": "12GE2W3fQM_n",
        "outputId": "eef3edc9-8a32-403b-9382-8acb64b73c16"
      },
      "outputs": [
        {
          "output_type": "stream",
          "name": "stdout",
          "text": [
            "Collecting langchain==0.0.323\n",
            "  Downloading langchain-0.0.323-py3-none-any.whl (1.9 MB)\n",
            "\u001b[?25l     \u001b[90m━━━━━━━━━━━━━━━━━━━━━━━━━━━━━━━━━━━━━━━━\u001b[0m \u001b[32m0.0/1.9 MB\u001b[0m \u001b[31m?\u001b[0m eta \u001b[36m-:--:--\u001b[0m\r\u001b[2K     \u001b[91m━━━\u001b[0m\u001b[90m╺\u001b[0m\u001b[90m━━━━━━━━━━━━━━━━━━━━━━━━━━━━━━━━━━━━\u001b[0m \u001b[32m0.2/1.9 MB\u001b[0m \u001b[31m4.3 MB/s\u001b[0m eta \u001b[36m0:00:01\u001b[0m\r\u001b[2K     \u001b[91m━━━━━━━━━━━━━━━━━━━━━━━━━━━━━━━\u001b[0m\u001b[91m╸\u001b[0m\u001b[90m━━━━━━━━\u001b[0m \u001b[32m1.5/1.9 MB\u001b[0m \u001b[31m22.0 MB/s\u001b[0m eta \u001b[36m0:00:01\u001b[0m\r\u001b[2K     \u001b[90m━━━━━━━━━━━━━━━━━━━━━━━━━━━━━━━━━━━━━━━━\u001b[0m \u001b[32m1.9/1.9 MB\u001b[0m \u001b[31m21.5 MB/s\u001b[0m eta \u001b[36m0:00:00\u001b[0m\n",
            "\u001b[?25hRequirement already satisfied: PyYAML>=5.3 in /usr/local/lib/python3.10/dist-packages (from langchain==0.0.323) (6.0.1)\n",
            "Requirement already satisfied: SQLAlchemy<3,>=1.4 in /usr/local/lib/python3.10/dist-packages (from langchain==0.0.323) (2.0.22)\n",
            "Requirement already satisfied: aiohttp<4.0.0,>=3.8.3 in /usr/local/lib/python3.10/dist-packages (from langchain==0.0.323) (3.8.6)\n",
            "Requirement already satisfied: anyio<4.0 in /usr/local/lib/python3.10/dist-packages (from langchain==0.0.323) (3.7.1)\n",
            "Requirement already satisfied: async-timeout<5.0.0,>=4.0.0 in /usr/local/lib/python3.10/dist-packages (from langchain==0.0.323) (4.0.3)\n",
            "Collecting dataclasses-json<0.7,>=0.5.7 (from langchain==0.0.323)\n",
            "  Downloading dataclasses_json-0.6.1-py3-none-any.whl (27 kB)\n",
            "Collecting jsonpatch<2.0,>=1.33 (from langchain==0.0.323)\n",
            "  Downloading jsonpatch-1.33-py2.py3-none-any.whl (12 kB)\n",
            "Collecting langsmith<0.1.0,>=0.0.43 (from langchain==0.0.323)\n",
            "  Downloading langsmith-0.0.52-py3-none-any.whl (43 kB)\n",
            "\u001b[2K     \u001b[90m━━━━━━━━━━━━━━━━━━━━━━━━━━━━━━━━━━━━━━━━\u001b[0m \u001b[32m43.3/43.3 kB\u001b[0m \u001b[31m6.5 MB/s\u001b[0m eta \u001b[36m0:00:00\u001b[0m\n",
            "\u001b[?25hRequirement already satisfied: numpy<2,>=1 in /usr/local/lib/python3.10/dist-packages (from langchain==0.0.323) (1.23.5)\n",
            "Requirement already satisfied: pydantic<3,>=1 in /usr/local/lib/python3.10/dist-packages (from langchain==0.0.323) (1.10.13)\n",
            "Requirement already satisfied: requests<3,>=2 in /usr/local/lib/python3.10/dist-packages (from langchain==0.0.323) (2.31.0)\n",
            "Requirement already satisfied: tenacity<9.0.0,>=8.1.0 in /usr/local/lib/python3.10/dist-packages (from langchain==0.0.323) (8.2.3)\n",
            "Requirement already satisfied: attrs>=17.3.0 in /usr/local/lib/python3.10/dist-packages (from aiohttp<4.0.0,>=3.8.3->langchain==0.0.323) (23.1.0)\n",
            "Requirement already satisfied: charset-normalizer<4.0,>=2.0 in /usr/local/lib/python3.10/dist-packages (from aiohttp<4.0.0,>=3.8.3->langchain==0.0.323) (3.3.0)\n",
            "Requirement already satisfied: multidict<7.0,>=4.5 in /usr/local/lib/python3.10/dist-packages (from aiohttp<4.0.0,>=3.8.3->langchain==0.0.323) (6.0.4)\n",
            "Requirement already satisfied: yarl<2.0,>=1.0 in /usr/local/lib/python3.10/dist-packages (from aiohttp<4.0.0,>=3.8.3->langchain==0.0.323) (1.9.2)\n",
            "Requirement already satisfied: frozenlist>=1.1.1 in /usr/local/lib/python3.10/dist-packages (from aiohttp<4.0.0,>=3.8.3->langchain==0.0.323) (1.4.0)\n",
            "Requirement already satisfied: aiosignal>=1.1.2 in /usr/local/lib/python3.10/dist-packages (from aiohttp<4.0.0,>=3.8.3->langchain==0.0.323) (1.3.1)\n",
            "Requirement already satisfied: idna>=2.8 in /usr/local/lib/python3.10/dist-packages (from anyio<4.0->langchain==0.0.323) (3.4)\n",
            "Requirement already satisfied: sniffio>=1.1 in /usr/local/lib/python3.10/dist-packages (from anyio<4.0->langchain==0.0.323) (1.3.0)\n",
            "Requirement already satisfied: exceptiongroup in /usr/local/lib/python3.10/dist-packages (from anyio<4.0->langchain==0.0.323) (1.1.3)\n",
            "Collecting marshmallow<4.0.0,>=3.18.0 (from dataclasses-json<0.7,>=0.5.7->langchain==0.0.323)\n",
            "  Downloading marshmallow-3.20.1-py3-none-any.whl (49 kB)\n",
            "\u001b[2K     \u001b[90m━━━━━━━━━━━━━━━━━━━━━━━━━━━━━━━━━━━━━━━━\u001b[0m \u001b[32m49.4/49.4 kB\u001b[0m \u001b[31m6.5 MB/s\u001b[0m eta \u001b[36m0:00:00\u001b[0m\n",
            "\u001b[?25hCollecting typing-inspect<1,>=0.4.0 (from dataclasses-json<0.7,>=0.5.7->langchain==0.0.323)\n",
            "  Downloading typing_inspect-0.9.0-py3-none-any.whl (8.8 kB)\n",
            "Collecting jsonpointer>=1.9 (from jsonpatch<2.0,>=1.33->langchain==0.0.323)\n",
            "  Downloading jsonpointer-2.4-py2.py3-none-any.whl (7.8 kB)\n",
            "Requirement already satisfied: typing-extensions>=4.2.0 in /usr/local/lib/python3.10/dist-packages (from pydantic<3,>=1->langchain==0.0.323) (4.8.0)\n",
            "Requirement already satisfied: urllib3<3,>=1.21.1 in /usr/local/lib/python3.10/dist-packages (from requests<3,>=2->langchain==0.0.323) (1.26.18)\n",
            "Requirement already satisfied: certifi>=2017.4.17 in /usr/local/lib/python3.10/dist-packages (from requests<3,>=2->langchain==0.0.323) (2023.7.22)\n",
            "Requirement already satisfied: greenlet!=0.4.17 in /usr/local/lib/python3.10/dist-packages (from SQLAlchemy<3,>=1.4->langchain==0.0.323) (3.0.0)\n",
            "Requirement already satisfied: packaging>=17.0 in /usr/local/lib/python3.10/dist-packages (from marshmallow<4.0.0,>=3.18.0->dataclasses-json<0.7,>=0.5.7->langchain==0.0.323) (23.2)\n",
            "Collecting mypy-extensions>=0.3.0 (from typing-inspect<1,>=0.4.0->dataclasses-json<0.7,>=0.5.7->langchain==0.0.323)\n",
            "  Downloading mypy_extensions-1.0.0-py3-none-any.whl (4.7 kB)\n",
            "Installing collected packages: mypy-extensions, marshmallow, jsonpointer, typing-inspect, langsmith, jsonpatch, dataclasses-json, langchain\n",
            "Successfully installed dataclasses-json-0.6.1 jsonpatch-1.33 jsonpointer-2.4 langchain-0.0.323 langsmith-0.0.52 marshmallow-3.20.1 mypy-extensions-1.0.0 typing-inspect-0.9.0\n"
          ]
        }
      ],
      "source": [
        "!pip install langchain==0.0.323"
      ]
    },
    {
      "cell_type": "markdown",
      "source": [
        "# 2 - Manipulando letras\n",
        "\n",
        "https://medium.com/@onkarmishra/using-langchain-for-question-answering-on-own-data-3af0a82789ed"
      ],
      "metadata": {
        "id": "p6ft9K_U536x"
      }
    },
    {
      "cell_type": "code",
      "source": [
        "#Import de bibliotecas\n",
        "from langchain.text_splitter import RecursiveCharacterTextSplitter, CharacterTextSplitter\n",
        "\n",
        "chunk_size =26\n",
        "chunk_overlap = 4\n",
        "\n",
        "r_splitter = RecursiveCharacterTextSplitter(\n",
        "    chunk_size=chunk_size,\n",
        "    chunk_overlap=chunk_overlap\n",
        ")\n",
        "c_splitter = CharacterTextSplitter(\n",
        "    chunk_size=chunk_size,\n",
        "    chunk_overlap=chunk_overlap\n",
        ")"
      ],
      "metadata": {
        "id": "dw4-GseG54CS"
      },
      "execution_count": 7,
      "outputs": []
    },
    {
      "cell_type": "code",
      "source": [
        "# Divisor recursivo de texto\n",
        "text1 = 'abcdefghijklmnopqrstuvwxyz'\n",
        "r_splitter.split_text(text1)\n",
        "# Saída - ['abcdefghijklmnopqrstuvwxyz']"
      ],
      "metadata": {
        "colab": {
          "base_uri": "https://localhost:8080/"
        },
        "id": "PDCzaLJX58HS",
        "outputId": "631c4f8e-d45a-467f-c4b7-1ad6cacc609e"
      },
      "execution_count": 8,
      "outputs": [
        {
          "output_type": "execute_result",
          "data": {
            "text/plain": [
              "['abcdefghijklmnopqrstuvwxyz']"
            ]
          },
          "metadata": {},
          "execution_count": 8
        }
      ]
    },
    {
      "cell_type": "code",
      "source": [
        "\n",
        "# Dividor de caracter texto\n",
        "text2 = 'abcdefghijklmnopqrstuvwxyzabcdefg'\n",
        "r_splitter.split_text(text2)\n",
        "# Saída - ['abcdefghijklmnopqrstuvwxyz', 'wxyzabcdefg']"
      ],
      "metadata": {
        "colab": {
          "base_uri": "https://localhost:8080/"
        },
        "id": "_zK29f4W_bf5",
        "outputId": "c3ecf6d9-2f02-467a-fd78-91c2b418e9b1"
      },
      "execution_count": 9,
      "outputs": [
        {
          "output_type": "execute_result",
          "data": {
            "text/plain": [
              "['abcdefghijklmnopqrstuvwxyz', 'wxyzabcdefg']"
            ]
          },
          "metadata": {},
          "execution_count": 9
        }
      ]
    },
    {
      "cell_type": "code",
      "source": [
        "# Recursive text Splitter\n",
        "# Dividor recursivo de texto\n",
        "text3 = \"a b c d e f g h i j k l m n o p q r s t u v w x y z\"\n",
        "r_splitter.split_text(text3)\n",
        "# Saída - ['a b c d e f g h i j k l m', 'l m n o p q r s t u v w x', 'w x y z']"
      ],
      "metadata": {
        "colab": {
          "base_uri": "https://localhost:8080/"
        },
        "id": "lZbUFOjm_ZbZ",
        "outputId": "41b57ccc-fd7c-49fe-f658-e2a8b15bab34"
      },
      "execution_count": 10,
      "outputs": [
        {
          "output_type": "execute_result",
          "data": {
            "text/plain": [
              "['a b c d e f g h i j k l m', 'l m n o p q r s t u v w x', 'w x y z']"
            ]
          },
          "metadata": {},
          "execution_count": 10
        }
      ]
    },
    {
      "cell_type": "code",
      "source": [
        "# Dividor de caracter texto\n",
        "c_splitter.split_text(text3)\n",
        "# Saída - ['a b c d e f g h i j k l m n o p q r s t u v w x y z']"
      ],
      "metadata": {
        "colab": {
          "base_uri": "https://localhost:8080/"
        },
        "id": "ntG-n5XT_XZo",
        "outputId": "ca10073f-25be-41bb-a73d-957a57ba88e3"
      },
      "execution_count": 11,
      "outputs": [
        {
          "output_type": "execute_result",
          "data": {
            "text/plain": [
              "['a b c d e f g h i j k l m n o p q r s t u v w x y z']"
            ]
          },
          "metadata": {},
          "execution_count": 11
        }
      ]
    },
    {
      "cell_type": "code",
      "source": [
        "# Character Text Splitter with separator defined\n",
        "# Divisor de caracter texto com separador definido\n",
        "c_splitter = CharacterTextSplitter(\n",
        "    chunk_size=chunk_size,\n",
        "    chunk_overlap=chunk_overlap,\n",
        "    separator = ' '\n",
        ")\n",
        "c_splitter.split_text(text3)\n",
        "# Saída - ['a b c d e f g h i j k l m', 'l m n o p q r s t u v w x', 'w x y z']"
      ],
      "metadata": {
        "colab": {
          "base_uri": "https://localhost:8080/"
        },
        "id": "cUlzJqJq_VrX",
        "outputId": "d053d6cf-6bed-46f2-8e19-8788f0bf2258"
      },
      "execution_count": 12,
      "outputs": [
        {
          "output_type": "execute_result",
          "data": {
            "text/plain": [
              "['a b c d e f g h i j k l m', 'l m n o p q r s t u v w x', 'w x y z']"
            ]
          },
          "metadata": {},
          "execution_count": 12
        }
      ]
    },
    {
      "cell_type": "markdown",
      "source": [
        "# 3 - Manipulando documentos Texto"
      ],
      "metadata": {
        "id": "pHmpkn7FawZ-"
      }
    },
    {
      "cell_type": "markdown",
      "source": [
        "## Cria o texto"
      ],
      "metadata": {
        "id": "oh5ZKlFxewwO"
      }
    },
    {
      "cell_type": "code",
      "source": [
        "# trecho de https://www.literaturabrasileira.ufsc.br/documentos/?action=download&id=116979', #As Vítimas algozes\n",
        "\n",
        "\n",
        "texto = \"\"\"\n",
        "No interior e principalmente longe da vila, ou da freguesia e dos povoados há quase\n",
        "sempre uma venda perto da fazenda: é a parasita que se apega à árvore; pior que isso,\n",
        "é a inimiga hipócrita que rende vassalagem à sua vítima.\n",
        "A venda de que falo é uma taberna especialíssima\n",
        "que não poderia existir, manter-se, medrar em outras condições locais, e em\n",
        "outras condições do trabalho rural, e nem se confunde com a taberna regular que\n",
        "em toda parte se encontra, quanto mais com as casas de grande ou pequeno comércio,\n",
        "onde os lavradores ricos e pobres se provêem do que precisa a casa, quando não\n",
        "lhes é possível esperar pelas remessas dos seus consigna­tários ou fregueses.\n",
        "Essa parasita das fazendas e estabelecimentos agrícolas\n",
        "das vizinhanças facilmente se pode conhecer por suas feições e modos\n",
        "característicos, se nos é lícito dizer assim: uma se parece com todas e não há\n",
        "hipótese em que alguma delas, por mais dissimulada que seja, chegue a perder o\n",
        "cará­ter da família.\n",
        "É uma pequena casa de taipa e coberta de telha, tendo às\n",
        "vezes na frente varanda aberta pelos três lados, também coberta de telha e com\n",
        "o teto sustido por esteios fortes, mas rudes e ainda mesmo tortos; as paredes\n",
        "nem sempre são caiadas, o chão não tem assoalho nem ladrilho; quando há\n",
        "varanda, abrem-se para ela uma porta e uma janela; dentro está a ven­da: entre\n",
        "a porta e a janela encostado à parede um banco de pau, defronte um balcão tosco\n",
        "e no bojo ou no espaço que se vê além, grotesca armação de tábuas contendo\n",
        "garrafas, botijas, latas de tabaco em pó, a um canto algumas voltas de fumo em\n",
        "rolo e uma ruim manta de carne-seca. Eis a venda.\n",
        "Há muitas que nem chegam à opulência da que aí fica\n",
        "descrita; em todas porém aparece humilde no fundo do quase vazio bojo a porta\n",
        "baixa que comunica pelo corredor imundo com dois ou mais quartos escuros, onde\n",
        "se recolhem as pingues colheitas agrícolas do vendelhão que aliás não tem\n",
        "lavoura.\n",
        "\"\"\""
      ],
      "metadata": {
        "id": "U68MxN52friW"
      },
      "execution_count": 13,
      "outputs": []
    },
    {
      "cell_type": "markdown",
      "source": [
        "## Divide e sobrepõe o texto"
      ],
      "metadata": {
        "id": "31nUpp_DiVL-"
      }
    },
    {
      "cell_type": "code",
      "source": [
        "# Import das bibliotecas\n",
        "import os\n",
        "import time\n",
        "from langchain.text_splitter import RecursiveCharacterTextSplitter\n",
        "\n",
        "# Parâmetros\n",
        "chunk_tamanho = 500\n",
        "chunk_sobreposicao = 100\n",
        "\n",
        "text_splitter = RecursiveCharacterTextSplitter(\n",
        "    chunk_size = chunk_tamanho,\n",
        "    chunk_overlap  = chunk_sobreposicao, # Número de tokens sobrepostos entre chunks(pedaços)\n",
        "    length_function = len, # Usa o comprimento do texto como medida de tamanho\n",
        "    add_start_index = True, #\n",
        ")\n",
        "\n",
        "# Guarda o tempo de início\n",
        "tempo_inicio = time.time()\n",
        "\n",
        "# Calcula os chunks dos textos\n",
        "chunks = text_splitter.create_documents([texto])\n",
        "\n",
        "tempo_final = time.time()\n",
        "\n",
        "print(f\"Carregando e dividindo {len(texto)} documentos texto em {tempo_final - tempo_inicio} segundos!\")"
      ],
      "metadata": {
        "colab": {
          "base_uri": "https://localhost:8080/"
        },
        "id": "-TdiJE7IayZF",
        "outputId": "f8d3c0c0-db4e-4862-e258-0cda16a8915e"
      },
      "execution_count": 14,
      "outputs": [
        {
          "output_type": "stream",
          "name": "stdout",
          "text": [
            "Carregando e dividindo 1918 documentos texto em 0.0007002353668212891 segundos!\n"
          ]
        }
      ]
    },
    {
      "cell_type": "code",
      "source": [
        "print(len(chunks))"
      ],
      "metadata": {
        "colab": {
          "base_uri": "https://localhost:8080/"
        },
        "id": "55GoRqpTbzkI",
        "outputId": "3d6f8c95-6fa0-4ea1-c2f0-142947d83057"
      },
      "execution_count": 15,
      "outputs": [
        {
          "output_type": "stream",
          "name": "stdout",
          "text": [
            "5\n"
          ]
        }
      ]
    },
    {
      "cell_type": "code",
      "source": [
        "print(chunks)"
      ],
      "metadata": {
        "colab": {
          "base_uri": "https://localhost:8080/"
        },
        "id": "XCm6HLFcuGmF",
        "outputId": "44ee0684-a0fe-4389-b2e9-7de1151cf0e6"
      },
      "execution_count": 16,
      "outputs": [
        {
          "output_type": "stream",
          "name": "stdout",
          "text": [
            "[Document(page_content='No interior e principalmente longe da vila, ou da freguesia e dos povoados há quase\\nsempre uma venda perto da fazenda: é a parasita que se apega à árvore; pior que isso,\\né a inimiga hipócrita que rende vassalagem à sua vítima.\\nA venda de que falo é uma taberna especialíssima\\nque não poderia existir, manter-se, medrar em outras condições locais, e em\\noutras condições do trabalho rural, e nem se confunde com a taberna regular que', metadata={'start_index': 1}), Document(page_content='outras condições do trabalho rural, e nem se confunde com a taberna regular que\\nem toda parte se encontra, quanto mais com as casas de grande ou pequeno comércio,\\nonde os lavradores ricos e pobres se provêem do que precisa a casa, quando não\\nlhes é possível esperar pelas remessas dos seus consigna\\xadtários ou fregueses.\\nEssa parasita das fazendas e estabelecimentos agrícolas\\ndas vizinhanças facilmente se pode conhecer por suas feições e modos', metadata={'start_index': 353}), Document(page_content='das vizinhanças facilmente se pode conhecer por suas feições e modos\\ncaracterísticos, se nos é lícito dizer assim: uma se parece com todas e não há\\nhipótese em que alguma delas, por mais dissimulada que seja, chegue a perder o\\ncará\\xadter da família.\\nÉ uma pequena casa de taipa e coberta de telha, tendo às\\nvezes na frente varanda aberta pelos três lados, também coberta de telha e com\\no teto sustido por esteios fortes, mas rudes e ainda mesmo tortos; as paredes', metadata={'start_index': 729}), Document(page_content='o teto sustido por esteios fortes, mas rudes e ainda mesmo tortos; as paredes\\nnem sempre são caiadas, o chão não tem assoalho nem ladrilho; quando há\\nvaranda, abrem-se para ela uma porta e uma janela; dentro está a ven\\xadda: entre\\na porta e a janela encostado à parede um banco de pau, defronte um balcão tosco\\ne no bojo ou no espaço que se vê além, grotesca armação de tábuas contendo\\ngarrafas, botijas, latas de tabaco em pó, a um canto algumas voltas de fumo em', metadata={'start_index': 1113}), Document(page_content='garrafas, botijas, latas de tabaco em pó, a um canto algumas voltas de fumo em\\nrolo e uma ruim manta de carne-seca. Eis a venda.\\nHá muitas que nem chegam à opulência da que aí fica\\ndescrita; em todas porém aparece humilde no fundo do quase vazio bojo a porta\\nbaixa que comunica pelo corredor imundo com dois ou mais quartos escuros, onde\\nse recolhem as pingues colheitas agrícolas do vendelhão que aliás não tem\\nlavoura.', metadata={'start_index': 1497})]\n"
          ]
        }
      ]
    },
    {
      "cell_type": "markdown",
      "source": [
        "## Mostra os chunks\n",
        "\n",
        "A sobreposição se encontra ao final e início de cada pedaço(chunk). A variável 'start_index' define onde começa o texto sem a sobreposição."
      ],
      "metadata": {
        "id": "S-8OH0lw1XX-"
      }
    },
    {
      "cell_type": "code",
      "source": [
        "for i, chunk in enumerate(chunks):\n",
        "    print('chunk #',i,' tamanho :', len(chunk.page_content),' start_index:', chunk.metadata.get('start_index') )\n",
        "    print()\n",
        "    print(chunk.page_content)\n",
        "    print('-----------------------------------------------------------------------')"
      ],
      "metadata": {
        "colab": {
          "base_uri": "https://localhost:8080/"
        },
        "id": "1V1EFir61jgn",
        "outputId": "e31c1e3d-1869-46e1-85fd-dacb348657a1"
      },
      "execution_count": 17,
      "outputs": [
        {
          "output_type": "stream",
          "name": "stdout",
          "text": [
            "chunk # 0  tamanho : 431  start_index: 1\n",
            "\n",
            "No interior e principalmente longe da vila, ou da freguesia e dos povoados há quase\n",
            "sempre uma venda perto da fazenda: é a parasita que se apega à árvore; pior que isso,\n",
            "é a inimiga hipócrita que rende vassalagem à sua vítima.\n",
            "A venda de que falo é uma taberna especialíssima\n",
            "que não poderia existir, manter-se, medrar em outras condições locais, e em\n",
            "outras condições do trabalho rural, e nem se confunde com a taberna regular que\n",
            "-----------------------------------------------------------------------\n",
            "chunk # 1  tamanho : 444  start_index: 353\n",
            "\n",
            "outras condições do trabalho rural, e nem se confunde com a taberna regular que\n",
            "em toda parte se encontra, quanto mais com as casas de grande ou pequeno comércio,\n",
            "onde os lavradores ricos e pobres se provêem do que precisa a casa, quando não\n",
            "lhes é possível esperar pelas remessas dos seus consigna­tários ou fregueses.\n",
            "Essa parasita das fazendas e estabelecimentos agrícolas\n",
            "das vizinhanças facilmente se pode conhecer por suas feições e modos\n",
            "-----------------------------------------------------------------------\n",
            "chunk # 2  tamanho : 461  start_index: 729\n",
            "\n",
            "das vizinhanças facilmente se pode conhecer por suas feições e modos\n",
            "característicos, se nos é lícito dizer assim: uma se parece com todas e não há\n",
            "hipótese em que alguma delas, por mais dissimulada que seja, chegue a perder o\n",
            "cará­ter da família.\n",
            "É uma pequena casa de taipa e coberta de telha, tendo às\n",
            "vezes na frente varanda aberta pelos três lados, também coberta de telha e com\n",
            "o teto sustido por esteios fortes, mas rudes e ainda mesmo tortos; as paredes\n",
            "-----------------------------------------------------------------------\n",
            "chunk # 3  tamanho : 462  start_index: 1113\n",
            "\n",
            "o teto sustido por esteios fortes, mas rudes e ainda mesmo tortos; as paredes\n",
            "nem sempre são caiadas, o chão não tem assoalho nem ladrilho; quando há\n",
            "varanda, abrem-se para ela uma porta e uma janela; dentro está a ven­da: entre\n",
            "a porta e a janela encostado à parede um banco de pau, defronte um balcão tosco\n",
            "e no bojo ou no espaço que se vê além, grotesca armação de tábuas contendo\n",
            "garrafas, botijas, latas de tabaco em pó, a um canto algumas voltas de fumo em\n",
            "-----------------------------------------------------------------------\n",
            "chunk # 4  tamanho : 420  start_index: 1497\n",
            "\n",
            "garrafas, botijas, latas de tabaco em pó, a um canto algumas voltas de fumo em\n",
            "rolo e uma ruim manta de carne-seca. Eis a venda.\n",
            "Há muitas que nem chegam à opulência da que aí fica\n",
            "descrita; em todas porém aparece humilde no fundo do quase vazio bojo a porta\n",
            "baixa que comunica pelo corredor imundo com dois ou mais quartos escuros, onde\n",
            "se recolhem as pingues colheitas agrícolas do vendelhão que aliás não tem\n",
            "lavoura.\n",
            "-----------------------------------------------------------------------\n"
          ]
        }
      ]
    },
    {
      "cell_type": "markdown",
      "source": [
        "# 4 - Manipulando Documentos PDF\n",
        "\n",
        "https://python.langchain.com/docs/modules/data_connection/document_loaders/pdf"
      ],
      "metadata": {
        "id": "85Xcl5zTxpmi"
      }
    },
    {
      "cell_type": "markdown",
      "source": [
        "## - Link dos PDFs"
      ],
      "metadata": {
        "id": "LOv2yZbvcG-Z"
      }
    },
    {
      "cell_type": "code",
      "source": [
        "# As Vítimas Algozes\n",
        "url1 = 'https://www.literaturabrasileira.ufsc.br/documentos/?action=download&id=116977'\n",
        "\n",
        "# A Escrava Isaura\n",
        "url2 = 'https://www.literaturabrasileira.ufsc.br/documentos/?action=download&id=92390'"
      ],
      "metadata": {
        "id": "XZeKgq75cKzO"
      },
      "execution_count": 18,
      "outputs": []
    },
    {
      "cell_type": "markdown",
      "source": [
        "## Download dos pdfs"
      ],
      "metadata": {
        "id": "wd4GcvfCz7L1"
      }
    },
    {
      "cell_type": "code",
      "source": [
        "# Import das bibliotecas\n",
        "import subprocess\n",
        "\n",
        "# As Vítimas Algozes\n",
        "\n",
        "# Arquivo de destino1\n",
        "destino1 = 'arquivo1.pdf'\n",
        "\n",
        "# Executa o comando wget no prompt\n",
        "subprocess.call([\"wget\", url1, \"-O\", destino1])\n",
        "\n",
        "# Arquivo de destino1\n",
        "destino2 = 'arquivo2.pdf'\n",
        "\n",
        "# Executa o comando wget no prompt\n",
        "subprocess.call([\"wget\", url1, \"-O\", destino2])"
      ],
      "metadata": {
        "colab": {
          "base_uri": "https://localhost:8080/"
        },
        "id": "WbAPtRSxyuIG",
        "outputId": "a83ca3d3-d4af-4d3f-ac20-dee7768e8a14"
      },
      "execution_count": 19,
      "outputs": [
        {
          "output_type": "execute_result",
          "data": {
            "text/plain": [
              "0"
            ]
          },
          "metadata": {},
          "execution_count": 19
        }
      ]
    },
    {
      "cell_type": "markdown",
      "source": [
        "## Carrega os pdfs"
      ],
      "metadata": {
        "id": "kRx-vabm0Vbc"
      }
    },
    {
      "cell_type": "code",
      "source": [
        "# Import das bibliotecas\n",
        "from langchain.document_loaders import PyPDFLoader, PyPDFDirectoryLoader\n",
        "\n",
        "# Define o diretório\n",
        "diretorio = '/content'\n",
        "\n",
        " # Cria o carregador do PDF\n",
        "carregador = PyPDFDirectoryLoader(diretorio)\n",
        "\n",
        "# Carrega os documentos\n",
        "documentos = carregador.load()"
      ],
      "metadata": {
        "id": "j18ncV8e0B8M"
      },
      "execution_count": 20,
      "outputs": []
    },
    {
      "cell_type": "markdown",
      "source": [
        "## Divide e sobrepõe os pdfs"
      ],
      "metadata": {
        "id": "CFY2d-y60scC"
      }
    },
    {
      "cell_type": "code",
      "source": [
        "# Import das bibliotecas\n",
        "import os\n",
        "import time\n",
        "from langchain.text_splitter import RecursiveCharacterTextSplitter\n",
        "\n",
        "# Parâmetros\n",
        "chunk_tamanho = 500\n",
        "chunk_sobreposicao = 100\n",
        "\n",
        "text_splitter = RecursiveCharacterTextSplitter(\n",
        "    chunk_size = chunk_tamanho,\n",
        "    chunk_overlap  = chunk_sobreposicao, # Número de tokens sobrepostos entre chunks(pedaços)\n",
        "    length_function = len, # Usa o comprimento do texto como medida de tamanho\n",
        "    add_start_index = True, #\n",
        ")\n",
        "\n",
        "# Guarda o tempo de início\n",
        "tempo_inicio = time.time()\n",
        "\n",
        "# Calcula os chunks dos textos\n",
        "chunks = text_splitter.split_documents(documentos)\n",
        "\n",
        "tempo_final = time.time()\n",
        "\n",
        "print(f\"Carregando e dividindo {len(texto)} documentos pdfs em {tempo_final - tempo_inicio} segundos!\")"
      ],
      "metadata": {
        "colab": {
          "base_uri": "https://localhost:8080/"
        },
        "outputId": "72ebcc38-81ee-4c36-b890-e306547a5456",
        "id": "SENyOAu30scC"
      },
      "execution_count": 21,
      "outputs": [
        {
          "output_type": "stream",
          "name": "stdout",
          "text": [
            "Carregando e dividindo 1918 documentos pdfs em 0.07132530212402344 segundos!\n"
          ]
        }
      ]
    },
    {
      "cell_type": "markdown",
      "source": [
        "## Mostra os chunks\n",
        "\n",
        "A sobreposição se encontra ao final e início de cada pedaço(chunk). A variável 'start_index' define onde começa o texto sem a sobreposição."
      ],
      "metadata": {
        "id": "K-bq_HXh04Dr"
      }
    },
    {
      "cell_type": "code",
      "source": [
        "for i, chunk in enumerate(chunks):\n",
        "  if i < 20:\n",
        "    print('chunk #',i,' tamanho :', len(chunk.page_content),' start_index:', chunk.metadata.get('start_index') )\n",
        "    print()\n",
        "    print(chunk.page_content)\n",
        "    print('-----------------------------------------------------------------------')"
      ],
      "metadata": {
        "colab": {
          "base_uri": "https://localhost:8080/"
        },
        "outputId": "bb9c7630-9284-4675-b92f-332f283e776f",
        "id": "avh5A1UH04Dr"
      },
      "execution_count": 22,
      "outputs": [
        {
          "output_type": "stream",
          "name": "stdout",
          "text": [
            "chunk # 0  tamanho : 375  start_index: 0\n",
            "\n",
            "J MAS-ALGOZE \n",
            "ROMAM \n",
            "~% \n",
            "LIVRARIA DE B. L. GARNIER \n",
            "«9, rua do Ouvidor, CO \n",
            "Grandesortimento del.ivros clássicos, Medicina, \n",
            "Sciencias e Arlís, Junsprudcncia, Littsratura, \n",
            "Novellas, lllustrações, Educação, Devoção, Atlas, \n",
            "Happas geographicos, etc, etc. \n",
            "Livros francezes, portuguezes, inqlezes, italianos, ele-, \n",
            "Encarrega-se áe qualquer conmissio de Liuros-\n",
            "BIO DE JIMIIIO\n",
            "-----------------------------------------------------------------------\n",
            "chunk # 1  tamanho : 78  start_index: 0\n",
            "\n",
            "Ie ne fay rien \n",
            "sans \n",
            "Gayeté \n",
            "(Montaigne, Des livres) \n",
            "Ex Libris \n",
            "José Mindlin\n",
            "-----------------------------------------------------------------------\n",
            "chunk # 2  tamanho : 19  start_index: 0\n",
            "\n",
            "AS VICTIMAS-ALGOZES\n",
            "-----------------------------------------------------------------------\n",
            "chunk # 3  tamanho : 154  start_index: 0\n",
            "\n",
            "AS VICTIMAS-ALGOZES \n",
            "QUADROS DA ESCRAVIDÃO \n",
            "ROMANCES \n",
            "POR \n",
            "JOAQUIM MANOEL DE MACEDO \n",
            "TOMO I \n",
            "fyo DE JANEIRO \n",
            "Typ. AMERICANA , roa dos Ourives n. 19. \n",
            "1869\n",
            "-----------------------------------------------------------------------\n",
            "chunk # 4  tamanho : 483  start_index: 0\n",
            "\n",
            "AOS NOSSOS LEITORES \n",
            "I \n",
            "Queremos agoraconlar-vos em alguns romances \n",
            "historias verdadeiras que todos vós já sabeis, \n",
            "sendo certo que em as já saberdes é que \n",
            "pôde consistir o único merecimento que por \n",
            "ventura tenha este trabalho; porque na vossa \n",
            "scien ia e na vossa consciência se hão de firmar \n",
            "as verdades xpie vamos dizer. \n",
            "Serão romances sem atavios, contos sem \n",
            "phantasias poéticas, tristes historias passadas á \n",
            "nossos olhos, e á que não poderá negar-se o \n",
            "vos*so testemunho.\n",
            "-----------------------------------------------------------------------\n",
            "chunk # 5  tamanho : 169  start_index: 420\n",
            "\n",
            "nossos olhos, e á que não poderá negar-se o \n",
            "vos*so testemunho. \n",
            "Não queremos ter .egredos, nem reservas men-\n",
            "(aes comvosco. \n",
            "E' nosso empenho e nosso fim levar ao vosso\n",
            "-----------------------------------------------------------------------\n",
            "chunk # 6  tamanho : 472  start_index: 0\n",
            "\n",
            "VI \n",
            "espirito e demorar nas reflexões e no estudo \n",
            "da vossa razão factos que tendes observado, \n",
            "verdades que não precizam mais de demons­\n",
            "tração obrigando-vos deste modo á encarar \n",
            "de face, á medir, á sondar em toda sua pro­\n",
            "fundeza um mal enorme que afeia, infecciona, \n",
            "avilta, deturpa e corroe á nossa sociedade, e \n",
            "á que a nossa sociedade ainda se apega se­\n",
            "melhante a desgraçada mulher que, tomando \n",
            "o habito da prostituição, á ella se abandona \n",
            "com indecente desvario.\n",
            "-----------------------------------------------------------------------\n",
            "chunk # 7  tamanho : 472  start_index: 403\n",
            "\n",
            "o habito da prostituição, á ella se abandona \n",
            "com indecente desvario. \n",
            "E o empenho que tomamos, o fim que temos \n",
            "em vista adunão-se com uma aspiração ge­\n",
            "nerosa da actualidade, e com a exigência im­\n",
            "placável da civilisação e do século. \n",
            "II \n",
            "Sob as apprehensões de uma crise social im-\n",
            "minente, infallivel que á todos ha de custar \n",
            "directa ou indirectamente onerosos sacrifícios \n",
            "o povo brasileiro e particularmente os lavra­\n",
            "dores cspcrão anciosos, enlrc receios por certo\n",
            "-----------------------------------------------------------------------\n",
            "chunk # 8  tamanho : 470  start_index: 0\n",
            "\n",
            "YII \n",
            "justificáveis e clamores que se explicão sem \n",
            "dezar, o pronunciamento legal e decisivo da \n",
            "solução do problema da emansipação dos es­\n",
            "cravos. \n",
            "Este estado de duvidas afflictivas sobre o \n",
            "futuro, de temor dos detrimentos que se hão de \n",
            "experimentar, e que o descostume e certa des­\n",
            "confiança do trabalho livre ainda mais exa-\n",
            "gerão, este mal estar dos proprietários de es­\n",
            "cravos, vendo cheio de nuvens o dia de amanhã, \n",
            "pôde comparar-se a situação dos espíritos tí­\n",
            "-----------------------------------------------------------------------\n",
            "chunk # 9  tamanho : 481  start_index: 377\n",
            "\n",
            "cravos, vendo cheio de nuvens o dia de amanhã, \n",
            "pôde comparar-se a situação dos espíritos tí­\n",
            "midos e das pessoas de* organisação sobre­\n",
            "maneira nervosa, quando em negro horisonte \n",
            "*e em atmosphera abafada começão a rasgar-\n",
            "se os,fuzis, e a rugir a trovoada que avança \n",
            "formidável. Esta imagem se nos afigura tanto \n",
            "mais acertadamente applicada, quanto é sabido \n",
            "que depois das grandes trovoadas vem a pureza \n",
            "do ar, a bonança e a claridade. \n",
            "Como^quer que seja, máo grado os inte­\n",
            "-----------------------------------------------------------------------\n",
            "chunk # 10  tamanho : 260  start_index: 787\n",
            "\n",
            "do ar, a bonança e a claridade. \n",
            "Como^quer que seja, máo grado os inte­\n",
            "resses que hão de padecer, á despeito das op-\n",
            "posições que se fazem e se farão sentir, embalde \n",
            "ás fáceis objecções denunciadoras de indubi-\n",
            "taveis inconveniências e senões em quantos pro-\n",
            "-----------------------------------------------------------------------\n",
            "chunk # 11  tamanho : 497  start_index: 0\n",
            "\n",
            "VIII \n",
            "jectos e imagináveis planos se engendrarem para \n",
            "que menos violenta e dolorosa se resolva a crise, \n",
            "e se opere a revolução social, é positivo que to­\n",
            "camos a véspera da emancipação dos escravos. \n",
            "Ninguém se illuda, ninguém se deixe illudir. \n",
            "Não ha combinação de interesses, não ha partido \n",
            "político, não ha governo por mais forte que se \n",
            "presuma, que possa impedir o procelloso acon­\n",
            "tecimento. \n",
            "Nunca houve caso em que jnelhor assentasse a \n",
            "formula do fatalismo musulmano:—está es-\n",
            "cripto.\n",
            "-----------------------------------------------------------------------\n",
            "chunk # 12  tamanho : 498  start_index: 403\n",
            "\n",
            "Nunca houve caso em que jnelhor assentasse a \n",
            "formula do fatalismo musulmano:—está es-\n",
            "cripto. \n",
            "A famosa prophecia do Velho do lfajurú es-\n",
            "cripta quasi á meio século se realisou em nossos \n",
            "dias: a nuvem negra veio do Norte. \n",
            "Havia uma grande potência, uma republica \n",
            "soberba que em seu seio tolerava a escravidão, \n",
            "e tenaz a mantinha: a confederação Norte-Ame-\n",
            "ricana era barreira tremenda ante a qual esta­\n",
            "cava o movimento emancipador; mas a fiiha-de \n",
            "Washington depois de uma luta formidável que\n",
            "-----------------------------------------------------------------------\n",
            "chunk # 13  tamanho : 228  start_index: 811\n",
            "\n",
            "cava o movimento emancipador; mas a fiiha-de \n",
            "Washington depois de uma luta formidável que \n",
            "espantou o mundo, no fim de uma guerra de pro­\n",
            "porções dcscommunaes afogou para sempre a \n",
            "escravidão nas águas ensangüentadas do Potomac\n",
            "-----------------------------------------------------------------------\n",
            "chunk # 14  tamanho : 494  start_index: 0\n",
            "\n",
            "IX \n",
            "que testemunhara as ultimas batalhas entre o \n",
            "Sul escravagista e o Norte emancipador. O \n",
            "Norte venceu: anmem negra nos veio do Norte. \n",
            "Desde então sé o Brasil e duas colônias da \n",
            "Hespanha mantém a escravidão aos olhos de \n",
            "todas as nações que protcstão contra a excepção. \n",
            "A voz de Deos, o brado do século da liber­\n",
            "dade, a opinião do mundo, o pronunciamento \n",
            "dos governos, o espirito e a matéria, a idéa e a \n",
            "força querem, exigem, e em caso extremo hão \n",
            "de impor a emancipação dos escravos.\n",
            "-----------------------------------------------------------------------\n",
            "chunk # 15  tamanho : 489  start_index: 413\n",
            "\n",
            "força querem, exigem, e em caso extremo hão \n",
            "de impor a emancipação dos escravos. \n",
            "Nas duas colônias da Hespanha o problema \n",
            "vai resolver-se com expontâneo decreto da me­\n",
            "trópole.* \n",
            "O Brasil só, isolado, marcado com o sello \n",
            "ignominioso da escravidão diante do mundo, seria \n",
            "o escarneo e o maldito do mundo, e se exporia \n",
            "ao opprobrio da coacção pela força. \n",
            "O patriotismo se revolta ao simpies ima­\n",
            "ginar do insulto á soberania nacional pela pre­\n",
            "potência estrangeira: mas a razão compre-\n",
            "-----------------------------------------------------------------------\n",
            "chunk # 16  tamanho : 184  start_index: 813\n",
            "\n",
            "ginar do insulto á soberania nacional pela pre­\n",
            "potência estrangeira: mas a razão compre-\n",
            "hende a possibilidade e a probabilidade do \n",
            "ultrage. \n",
            "Também vos imbalarão com a tolerância do\n",
            "-----------------------------------------------------------------------\n",
            "chunk # 17  tamanho : 484  start_index: 0\n",
            "\n",
            "X \n",
            "trafico de africanos r também vos fizerão cre­\n",
            "ditar que sem elle feneceria a agricultura ; \n",
            "também vos fallarão da soberania nacional para \n",
            "resistir á prepotência estrangeira, e em dias \n",
            "lugubres em que a pátria envergonhada escon-\n",
            "deo o rosto, lavrarão de súbito e precipitada­\n",
            "mente a sentença de morte do trafico de afri­\n",
            "canos ào som dos tiros dos canhões inglezes \n",
            "que cuspião injurias e allrontas nas faces de \n",
            "fortalezas nossas. \n",
            "Então foi somente a Inglaterra ; e o Brasil\n",
            "-----------------------------------------------------------------------\n",
            "chunk # 18  tamanho : 413  start_index: 421\n",
            "\n",
            "fortalezas nossas. \n",
            "Então foi somente a Inglaterra ; e o Brasil \n",
            "teve de ceder. \n",
            "Agora é o mundo, agora são todas as noções,' \n",
            "é a opinião universal, é o espirito e a matéria, \n",
            "a idéa e a força á reclamar a emancipação dos \n",
            "escravos. \n",
            "luiagiuaes resistência possível ? \n",
            "Não vos illudaes, não vos deixeis illudir: \n",
            "preparai-vos: a emancipação dos escravos ha de \n",
            "realizar-se dentro de poucos annos. \n",
            "Está escripto.\n",
            "-----------------------------------------------------------------------\n",
            "chunk # 19  tamanho : 470  start_index: 0\n",
            "\n",
            "XI \n",
            "III \n",
            "Não se eslirpa o cancro sem dôr. \n",
            "A escravidão que é cancro social, abuso inve­\n",
            "terado que entrou cm nossos costumes, arvore \n",
            "venenosa plantada no Brasil pelos primeiros co-\n",
            "Jonisadores, fonte de desmoralisacão, de vicios \n",
            "•e de crimes, é também ainda assim instrumento \n",
            "<Ie riqueza agrícola, manancial do trabalho dos \n",
            "campos, dependência de innumcraveis interes­\n",
            "ses, immenso capital que representa a fortuna \n",
            "de milhares de proprietários, e portanto a escra­\n",
            "-----------------------------------------------------------------------\n"
          ]
        }
      ]
    },
    {
      "cell_type": "markdown",
      "source": [
        "# 5 - Manipulando Documentos HTML\n",
        "\n",
        "https://python.langchain.com/docs/integrations/document_loaders/web_base"
      ],
      "metadata": {
        "id": "SNH6_Rxe8YZi"
      }
    },
    {
      "cell_type": "markdown",
      "source": [
        "## Links dos HTML"
      ],
      "metadata": {
        "id": "ryhxQC-s8YZj"
      }
    },
    {
      "cell_type": "code",
      "source": [
        "# As Vítimas Algozes\n",
        "url1 = \"https://www.literaturabrasileira.ufsc.br/documentos/?action=download&id=116979\"\n",
        "\n",
        "# A Escrava Isaura\n",
        "url2 = \"https://www.literaturabrasileira.ufsc.br/documentos/?action=download&id=92389\""
      ],
      "metadata": {
        "id": "OGCYLdON8YZj"
      },
      "execution_count": 23,
      "outputs": []
    },
    {
      "cell_type": "markdown",
      "source": [
        "## Carrega os HTMLs\n",
        "\n",
        "Se ocorrer o **erro** abaixo, instale o Chromedb. Alguma dependência do pacote resolve o problema.\n",
        "\n",
        "---------------------------------------------------------------------------\n",
        "IncompleteRead                            Traceback (most recent call last)\n",
        "/usr/local/lib/python3.10/dist-packages/urllib3/response.py in _error_catcher(self)\n",
        "    709             try:\n",
        "--> 710                 yield\n",
        "    711\n",
        "\n",
        "15 frames\n",
        "IncompleteRead: IncompleteRead(821958 bytes read, 2240625 more expected)\n",
        "\n",
        "The above exception was the direct cause of the following exception:\n",
        "\n",
        "ProtocolError                             Traceback (most recent call last)\n",
        "ProtocolError: ('Connection broken: IncompleteRead(821958 bytes read, 2240625 more expected)', IncompleteRead(821958 bytes read, 2240625 more expected))\n",
        "\n",
        "During handling of the above exception, another exception occurred:\n",
        "\n",
        "ChunkedEncodingError                      Traceback (most recent call last)\n",
        "/usr/local/lib/python3.10/dist-packages/requests/models.py in generate()\n",
        "    816                     yield from self.raw.stream(chunk_size, decode_content=True)\n",
        "    817                 except ProtocolError as e:\n",
        "--> 818                     raise ChunkedEncodingError(e)\n",
        "    819                 except DecodeError as e:\n",
        "    820                     raise ContentDecodingError(e)\n",
        "\n",
        "ChunkedEncodingError: ('Connection broken: IncompleteRead(821958 bytes read, 2240625 more expected)', IncompleteRead(821958 bytes read, 2240625 more expected))"
      ],
      "metadata": {
        "id": "59860cla8YZk"
      }
    },
    {
      "cell_type": "code",
      "source": [
        "# Import das bibliotecas\n",
        "from langchain.document_loaders import WebBaseLoader\n",
        "\n",
        "# Cria o carregador da página\n",
        "carregador = WebBaseLoader([url1, url2])\n",
        "# carregador.requests_kwargs = {'verify':False}\n",
        "\n",
        "# Carrega os documentos\n",
        "documentos = carregador.load()"
      ],
      "metadata": {
        "id": "tVrxbci38YZk"
      },
      "execution_count": 24,
      "outputs": []
    },
    {
      "cell_type": "markdown",
      "source": [
        "## Divide e sobrepõe os HTMLs"
      ],
      "metadata": {
        "id": "YRtM1x9Z8YZk"
      }
    },
    {
      "cell_type": "code",
      "source": [
        "# Import das bibliotecas\n",
        "import os\n",
        "import time\n",
        "from langchain.text_splitter import RecursiveCharacterTextSplitter\n",
        "\n",
        "# Parâmetros\n",
        "chunk_tamanho = 500\n",
        "chunk_sobreposicao = 100\n",
        "\n",
        "text_splitter = RecursiveCharacterTextSplitter(\n",
        "    chunk_size = chunk_tamanho,\n",
        "    chunk_overlap  = chunk_sobreposicao, # Número de tokens sobrepostos entre chunks(pedaços)\n",
        "    length_function = len, # Usa o comprimento do texto como medida de tamanho\n",
        "    add_start_index = True, #\n",
        ")\n",
        "\n",
        "# Guarda o tempo de início\n",
        "tempo_inicio = time.time()\n",
        "\n",
        "# Calcula os chunks dos textos\n",
        "chunks = text_splitter.split_documents(documentos)\n",
        "\n",
        "tempo_final = time.time()\n",
        "\n",
        "print(f\"Carregando e dividindo {len(texto)} documentos htmls em {tempo_final - tempo_inicio} segundos!\")"
      ],
      "metadata": {
        "id": "v6Izr0Qy8YZk",
        "colab": {
          "base_uri": "https://localhost:8080/"
        },
        "outputId": "daaacc43-21f8-4b25-cfe6-8654fda9d190"
      },
      "execution_count": 25,
      "outputs": [
        {
          "output_type": "stream",
          "name": "stdout",
          "text": [
            "Carregando e dividindo 1918 documentos htmls em 0.09111475944519043 segundos!\n"
          ]
        }
      ]
    },
    {
      "cell_type": "markdown",
      "source": [
        "## Mostra os chunks\n",
        "\n",
        "A sobreposição se encontra ao final e início de cada pedaço(chunk). A variável 'start_index' define onde começa o texto sem a sobreposição."
      ],
      "metadata": {
        "id": "gzjAso-S8YZl"
      }
    },
    {
      "cell_type": "code",
      "source": [
        "for i, chunk in enumerate(chunks):\n",
        "  if i < 20:\n",
        "    print('chunk #',i,' tamanho :', len(chunk.page_content),' start_index:', chunk.metadata.get('start_index') )\n",
        "    print()\n",
        "    print(chunk.page_content)\n",
        "    print('-----------------------------------------------------------------------')"
      ],
      "metadata": {
        "id": "fhNTYxCh8YZl",
        "colab": {
          "base_uri": "https://localhost:8080/"
        },
        "outputId": "5c4dc7d9-8551-4a68-f10c-4df426a352e1"
      },
      "execution_count": 26,
      "outputs": [
        {
          "output_type": "stream",
          "name": "stdout",
          "text": [
            "chunk # 0  tamanho : 217  start_index: 16\n",
            "\n",
            "As vítimas algozes - Joaquim Manuel de Macedo\n",
            "\n",
            "\n",
            "\n",
            "Fonte: Biblioteca Digital de Literatura de Países Lusófonos\n",
            "\n",
            "LITERATURA BRASILEIRA \n",
            "Textos literários em\n",
            "meio eletrônico\n",
            "As\n",
            "Vítimas-Algozes, de Joaquim Manuel de Macedo\n",
            "-----------------------------------------------------------------------\n",
            "chunk # 1  tamanho : 442  start_index: 235\n",
            "\n",
            "Edição de base:\n",
            "Biblioteca Nacional – setor de obras digitalizadas\n",
            "ÍNDICE\n",
            "SIMEÃO, O CRIOULO\n",
            "PAI- RAIOL, O FEITICEIRO\n",
            "LUCINDA, A\n",
            "MUCAMA\n",
            "CONCLUSÃO\n",
            "I\n",
            "SIMEÃO, O CRIOULO\n",
            "I\n",
            "No interior e principalmente longe da vila, ou da\n",
            "freguesia e dos povoados há quase sempre uma venda perto da fazenda: é a\n",
            "parasita que se apega à árvore; pior que isso, é a inimiga hipócrita que rende\n",
            "vassalagem à sua vítima.\n",
            "A venda de que falo é uma taberna especialíssima\n",
            "-----------------------------------------------------------------------\n",
            "chunk # 2  tamanho : 469  start_index: 604\n",
            "\n",
            "vassalagem à sua vítima.\n",
            "A venda de que falo é uma taberna especialíssima\n",
            "que não poderia existir, manter-se, medrar em outras condições locais, e em\n",
            "outras condições do trabalho rural, e nem se confunde com a taberna regular que\n",
            "em toda parte se encontra, quanto mais com as casas de grande ou pequeno comércio,\n",
            "onde os lavradores ricos e pobres se provêem do que precisa a casa, quando não\n",
            "lhes é possível esperar pelas remessas dos seus consigna­tários ou fregueses.\n",
            "-----------------------------------------------------------------------\n",
            "chunk # 3  tamanho : 439  start_index: 996\n",
            "\n",
            "lhes é possível esperar pelas remessas dos seus consigna­tários ou fregueses.\n",
            "Essa parasita das fazendas e estabelecimentos agrícolas\n",
            "das vizinhanças facilmente se pode conhecer por suas feições e modos\n",
            "característicos, se nos é lícito dizer assim: uma se parece com todas e não há\n",
            "hipótese em que alguma delas, por mais dissimulada que seja, chegue a perder o\n",
            "cará­ter da família. \n",
            "É uma pequena casa de taipa e coberta de telha, tendo às\n",
            "-----------------------------------------------------------------------\n",
            "chunk # 4  tamanho : 466  start_index: 1357\n",
            "\n",
            "cará­ter da família. \n",
            "É uma pequena casa de taipa e coberta de telha, tendo às\n",
            "vezes na frente varanda aberta pelos três lados, também coberta de telha e com\n",
            "o teto sustido por esteios fortes, mas rudes e ainda mesmo tortos; as paredes\n",
            "nem sempre são caiadas, o chão não tem assoalho nem ladrilho; quando há\n",
            "varanda, abrem-se para ela uma porta e uma janela; dentro está a ven­da: entre\n",
            "a porta e a janela encostado à parede um banco de pau, defronte um balcão tosco\n",
            "-----------------------------------------------------------------------\n",
            "chunk # 5  tamanho : 492  start_index: 1744\n",
            "\n",
            "a porta e a janela encostado à parede um banco de pau, defronte um balcão tosco\n",
            "e no bojo ou no espaço que se vê além, grotesca armação de tábuas contendo\n",
            "garrafas, botijas, latas de tabaco em pó, a um canto algumas voltas de fumo em\n",
            "rolo e uma ruim manta de carne-seca. Eis a venda.\n",
            "Há muitas que nem chegam à opulência da que aí fica\n",
            "descrita; em todas porém aparece humilde no fundo do quase vazio bojo a porta\n",
            "baixa que comunica pelo corredor imundo com dois ou mais quartos escuros, onde\n",
            "-----------------------------------------------------------------------\n",
            "chunk # 6  tamanho : 446  start_index: 2158\n",
            "\n",
            "baixa que comunica pelo corredor imundo com dois ou mais quartos escuros, onde\n",
            "se recolhem as pingues colheitas agrícolas do vendelhão que aliás não tem\n",
            "lavoura.\n",
            "A venda é pouco freqüentada à luz do sol nos dias\n",
            "de serviço; nunca porém, ou raramente se acha solitária: ainda nesses mesmos\n",
            "dias de santo dever do trabalho, homens ociosos, vadios e turbulentos jogam ao\n",
            "balcão com um baralho de cartas machucadas, enegrecidas e como oleosas desde a\n",
            "-----------------------------------------------------------------------\n",
            "chunk # 7  tamanho : 435  start_index: 2526\n",
            "\n",
            "balcão com um baralho de cartas machucadas, enegrecidas e como oleosas desde a\n",
            "manhã até o fim da tarde, e é milagre faltar algum incansável tocador de viola;\n",
            "mas apenas chega a noite, começa a concorrência e ferve o negócio.\n",
            "Explorador das trevas protetoras dos vícios e do crime,\n",
            "o vendelhão baixo, ignóbil, sem consciência, paga com abuso duplo e escandaloso\n",
            "a garrafas de aguardente, a rolos de fumo, e a chorados vinténs o café, o\n",
            "-----------------------------------------------------------------------\n",
            "chunk # 8  tamanho : 443  start_index: 2888\n",
            "\n",
            "a garrafas de aguardente, a rolos de fumo, e a chorados vinténs o café, o\n",
            "açúcar e os cereais que os escravos furtam aos senhores; e cúmplice no furto\n",
            "efetuado pelos escravos, é ladrão por sua vez, roubando a estes nas medidas e\n",
            "no preço dos gêneros.\n",
            "A venda não dorme: às horas mortas da\n",
            "noite vêm os quilombolas escravos fugidos e acoitados nas florestas, trazer o\n",
            "tributo de suas depredações nas roças vizinhas ou distantes ao vendelhão que\n",
            "-----------------------------------------------------------------------\n",
            "chunk # 9  tamanho : 452  start_index: 3255\n",
            "\n",
            "tributo de suas depredações nas roças vizinhas ou distantes ao vendelhão que\n",
            "apura nelas segunda colheita do que não semeou e que tem sempre de reserva para\n",
            "os quilombolas recursos de alimentação de que eles não podem prescindir, e\n",
            "também não raras vezes a pólvora e o chumbo para a resistência nos casos de\n",
            "ataque aos quilombos.\n",
            "E o vendelhão é em regra a vigilância protetora do\n",
            "quilombola e o seu espião dissimulado que tem interesse em contrariar a\n",
            "-----------------------------------------------------------------------\n",
            "chunk # 10  tamanho : 493  start_index: 3636\n",
            "\n",
            "quilombola e o seu espião dissimulado que tem interesse em contrariar a\n",
            "polícia, ou as diligências dos senhores no encalço dos escravos fugidos.\n",
            "Desprezível e nociva durante o dia, a venda é\n",
            "esquálida, medonha, criminosa e atroz durante a noite: os escravos, que aí\n",
            "então se reúnem, embebedam-se, espancam-se, tornando-se muitos incapazes de\n",
            "trabalhar na manhã seguinte; misturam as rixas e as pancadas com a conversação\n",
            "mais indecente sob o caráter e a vida de seus senhores, cuja reputação é\n",
            "-----------------------------------------------------------------------\n",
            "chunk # 11  tamanho : 462  start_index: 4057\n",
            "\n",
            "mais indecente sob o caráter e a vida de seus senhores, cuja reputação é\n",
            "ultrajada ao som de gargalhadas selvagens: inspirados pelo ódio, pelo horror,\n",
            "pelos sofrimentos inseparáveis da escravidão, se expandem em calúnias terríveis\n",
            "que às vezes chegam até a honra das esposas e das filhas dos senhores; atiçam a\n",
            "raiva que todos eles têm dos feitores, contando histórias lúgubres de castigos\n",
            "exagerados e de cruelíssimas vinganças, a cuja idéia se habituam; em sua\n",
            "-----------------------------------------------------------------------\n",
            "chunk # 12  tamanho : 452  start_index: 4447\n",
            "\n",
            "exagerados e de cruelíssimas vinganças, a cuja idéia se habituam; em sua\n",
            "credulidade estúpida e ilimitada esses desgraçados escutam boquiabertos a\n",
            "relação dos prodígios do feitiço, e se emprazam para as reuniões noturnas dos\n",
            "feiticeiros; e uns finalmente aprendem com outros mais sabidos a conhecer\n",
            "plantas maléficas, raízes venenosas que produzem a loucura ou dão a morte, e\n",
            "tudo isto e muito mais ainda envolta com a embriaguez, com a desordem, com o\n",
            "-----------------------------------------------------------------------\n",
            "chunk # 13  tamanho : 484  start_index: 4823\n",
            "\n",
            "tudo isto e muito mais ainda envolta com a embriaguez, com a desordem, com o\n",
            "quadro da abjeção e do desavergonhamento já natural nas palavras, nas ações,\n",
            "nos gozos do es­cravo.\n",
            "Aos domingos e nos dias santificados, a venda tem\n",
            "centuplicadas as suas glórias nefandas, aproveita a luz e as trevas, o dia e a\n",
            "noite, e por isso mesmo cada lavrador conta de menos na roça e demais na\n",
            "enfermaria al­guns escravos na manhã do dia que se segue.\n",
            "De ordinário, pelo menos muitas vezes, é nessas\n",
            "-----------------------------------------------------------------------\n",
            "chunk # 14  tamanho : 464  start_index: 5260\n",
            "\n",
            "De ordinário, pelo menos muitas vezes, é nessas\n",
            "reuniões, é nesse foco de peste moral que se premeditam e planejam os crimes\n",
            "que ensangüen­tam e alvoroçam as fazendas. Na hipótese de uma insurreição de\n",
            "escravos, a venda nunca seria alheia ao tremendo acontecimento.\n",
            "Todavia tolera-se a venda: o governo não pode\n",
            "ignorar, a polícia local sabe, os fazendeiros e lavradores conhecem e sentem\n",
            "que essa espelunca ignóbil é fonte de vícios e de crimes, manancial turvo e\n",
            "-----------------------------------------------------------------------\n",
            "chunk # 15  tamanho : 440  start_index: 5649\n",
            "\n",
            "que essa espelunca ignóbil é fonte de vícios e de crimes, manancial turvo e\n",
            "hediondo de pro­funda corrupção, constante ameaça à propriedade, patíbulo da\n",
            "reputa­ção, e em certos casos forja de arma assassina; porque é e será sempre o\n",
            "ponto de ajuntamento de escravos onde se conspire ou se inicie a conspi­ração;\n",
            "e ainda assim a venda subsiste e não há força capaz de aniquilá-la.\n",
            "Porquê?...\n",
            "É que se proibissem a venda, de que trato, se lhe\n",
            "-----------------------------------------------------------------------\n",
            "chunk # 16  tamanho : 490  start_index: 6029\n",
            "\n",
            "Porquê?...\n",
            "É que se proibissem a venda, de que trato, se lhe\n",
            "fechassem a porta, se lhe destruíssem o teto, ela renasceria com outro nome, e,\n",
            "como quer que fosse, e, onde quer que fosse, havia de manter-se, embora\n",
            "dissimulada e abusivamente.\n",
            "A lógica é implacável.\n",
            "Não é possível que haja escravos sem todas as\n",
            "conseqüências escandalo­sas da escravidão: querer a úlcera sem o pus, o cancro\n",
            "sem a podridão é loucura ou capricho infantil.\n",
            "Perigosa e repugnante por certo, e ainda assim não das\n",
            "-----------------------------------------------------------------------\n",
            "chunk # 17  tamanho : 442  start_index: 6465\n",
            "\n",
            "Perigosa e repugnante por certo, e ainda assim não das\n",
            "mais formidá­veis conseqüências da escravidão, a venda de que estou\n",
            "falando é inevitá­vel; porque nasce da vida, das condições, e das exigências\n",
            "irresistíveis da situação dos escravos.\n",
            "A venda é o espelho que retrata ao vivo o rosto e\n",
            "o espírito da escravi­dão.\n",
            "Se não fosse, se não se chamasse venda, teria\n",
            "outro e mil nomes no pa­tuá do escravo; seria uma casa no deserto, um sítio nas\n",
            "-----------------------------------------------------------------------\n",
            "chunk # 18  tamanho : 467  start_index: 6828\n",
            "\n",
            "outro e mil nomes no pa­tuá do escravo; seria uma casa no deserto, um sítio nas\n",
            "brenhas; estaria na gruta da floresta, em um antro tomado às feras, mas onde\n",
            "iria sempre o escravo, o quilombola, vender o furto, embriagar-se, ultrajar a\n",
            "honra do senhor e de sua família, a quem detesta, engolfar-se em vícios, ouvir\n",
            "con­selhos envenenados, inflamar-se em ódio, e habituar-se à idéia do crime\n",
            "filho da vingança; porque o escravo, por melhor que seja tratado, é, em regra\n",
            "-----------------------------------------------------------------------\n",
            "chunk # 19  tamanho : 476  start_index: 7218\n",
            "\n",
            "filho da vingança; porque o escravo, por melhor que seja tratado, é, em regra\n",
            "geral, pelo fato de ser escravo, sempre e natural e logicamente o pri­meiro e\n",
            "mais rancoroso inimigo de seu senhor.\n",
            "O escravo precisa dar expansão à sua raiva, que ferve\n",
            "incessante, e es­quecer por momentos ou horas as misérias e os tormentos\n",
            "insondáveis da escravidão; é na venda que ele se expande e esquece; aí o\n",
            "ódio fala licen­cioso e a aguardente afoga em vapores e no atordoamento a\n",
            "memória.\n",
            "-----------------------------------------------------------------------\n"
          ]
        }
      ]
    }
  ],
  "metadata": {
    "colab": {
      "provenance": [],
      "gpuClass": "premium",
      "toc_visible": true,
      "include_colab_link": true
    },
    "kernelspec": {
      "display_name": "Python 3",
      "name": "python3"
    },
    "language_info": {
      "name": "python"
    }
  },
  "nbformat": 4,
  "nbformat_minor": 0
}