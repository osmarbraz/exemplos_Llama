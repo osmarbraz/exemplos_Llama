{
  "cells": [
    {
      "cell_type": "markdown",
      "metadata": {
        "id": "view-in-github",
        "colab_type": "text"
      },
      "source": [
        "<a href=\"https://colab.research.google.com/github/osmarbraz/exemplos_Llama/blob/main/Exemplos_Chunk_Overlap_Langchain.ipynb\" target=\"_parent\"><img src=\"https://colab.research.google.com/assets/colab-badge.svg\" alt=\"Open In Colab\"/></a>"
      ]
    },
    {
      "cell_type": "markdown",
      "metadata": {
        "id": "78HE8FLsKN9Q"
      },
      "source": [
        "#Exemplo de divisão e sobreposiçao de texto usando Langchain\n",
        "\n",
        "Cria a divisão de um texto em pedaços(chunks) por tokens e caracteres para submeter a um LLM. Realiza a sobreposição(overlap) de parte do texto para manter a semântica entre os chunks.\n",
        "\n",
        "Semelhante a uma janela deslizante.\n",
        "\n",
        "Teste online da chunk(divisão) e overlap(overlap) usando um arquivo texto: https://chunkerizer.streamlit.app/\n",
        "\n",
        "Entendendo o chunk e overlap\n",
        "https://gustavo-espindola.medium.com/chunk-division-and-overlap-understanding-the-process-ade7eae1b2bd\n",
        "\n",
        "LangChain: como dividir corretamente seus chunks(pedaços):\n",
        "https://www.youtube.com/watch?v=n0uPzvGTFI0\n",
        "\n",
        "Estratégias de chucking: https://www.pinecone.io/learn/chunking-strategies/\n",
        "\n",
        "Como agrupar dados de texto - uma análise comparativa: https://towardsdatascience.com/how-to-chunk-text-data-a-comparative-analysis-3858c4a0997a"
      ]
    },
    {
      "cell_type": "markdown",
      "metadata": {
        "id": "xyxb5Px3p1-e"
      },
      "source": [
        "# 0 - Preparação do ambiente\n",
        "Preparação do ambiente para execução do exemplo."
      ]
    },
    {
      "cell_type": "markdown",
      "metadata": {
        "id": "iAPVtRXQqDim"
      },
      "source": [
        "## Tratamento de logs\n",
        "\n",
        "Método para tratamento dos logs."
      ]
    },
    {
      "cell_type": "code",
      "execution_count": 61,
      "metadata": {
        "id": "DcopxbGZqDip"
      },
      "outputs": [],
      "source": [
        "# Biblioteca de logging\n",
        "import logging\n",
        "\n",
        "# Formatando a mensagem de logging\n",
        "logging.basicConfig(format=\"%(asctime)s : %(levelname)s : %(message)s\", level=logging.INFO)"
      ]
    },
    {
      "cell_type": "markdown",
      "metadata": {
        "id": "_GjYtXcMnSAe"
      },
      "source": [
        "## Identificando o ambiente Colab\n",
        "\n",
        "Cria uma variável para identificar que o notebook está sendo executado no Google Colaboratory."
      ]
    },
    {
      "cell_type": "code",
      "execution_count": 62,
      "metadata": {
        "id": "YMiH0E3OnRa1"
      },
      "outputs": [],
      "source": [
        "# Se estiver executando no Google Colaboratory\n",
        "import sys\n",
        "\n",
        "# Retorna true ou false se estiver no Google Colaboratory\n",
        "IN_COLAB = \"google.colab\" in sys.modules"
      ]
    },
    {
      "cell_type": "markdown",
      "source": [
        "## Funções auxiliares"
      ],
      "metadata": {
        "id": "JKmhxcvIfbG2"
      }
    },
    {
      "cell_type": "markdown",
      "metadata": {
        "id": "603LYIYKBmq5"
      },
      "source": [
        "Função auxiliar para formatar o tempo como `hh: mm: ss`"
      ]
    },
    {
      "cell_type": "code",
      "execution_count": 63,
      "metadata": {
        "id": "Guy6B4whsZFR"
      },
      "outputs": [],
      "source": [
        "# Import das bibliotecas.\n",
        "import time\n",
        "import datetime\n",
        "\n",
        "def formataTempo(tempo):\n",
        "    \"\"\"\n",
        "      Pega a tempo em segundos e retorna uma string hh:mm:ss\n",
        "    \"\"\"\n",
        "    # Arredonda para o segundo mais próximo.\n",
        "    tempo_arredondado = int(round((tempo)))\n",
        "\n",
        "    # Formata como hh:mm:ss\n",
        "    return str(datetime.timedelta(seconds=tempo_arredondado))"
      ]
    },
    {
      "cell_type": "markdown",
      "metadata": {
        "id": "Pqa-7WXBAw8q"
      },
      "source": [
        "# 1 - Instalação das bibliotecas"
      ]
    },
    {
      "cell_type": "markdown",
      "source": [
        "Biblioteca para manipular pdf\n",
        "\n",
        "https://pypi.org/project/pypdf/"
      ],
      "metadata": {
        "id": "akFHj1OT0eCc"
      }
    },
    {
      "cell_type": "code",
      "source": [
        "!pip install pypdf==3.16.4"
      ],
      "metadata": {
        "colab": {
          "base_uri": "https://localhost:8080/"
        },
        "id": "7mdrRBD_0gAL",
        "outputId": "0c5eec3c-3c06-4a3f-9a16-34f26d0d0a17"
      },
      "execution_count": 64,
      "outputs": [
        {
          "output_type": "stream",
          "name": "stdout",
          "text": [
            "Requirement already satisfied: pypdf==3.16.4 in /usr/local/lib/python3.10/dist-packages (3.16.4)\n"
          ]
        }
      ]
    },
    {
      "cell_type": "markdown",
      "source": [
        "Biblioteca que persiste os embeddings e realiza busca semântica.\n",
        "\n",
        "https://pypi.org/project/chromadb/"
      ],
      "metadata": {
        "id": "nKVk0wKdEfgc"
      }
    },
    {
      "cell_type": "code",
      "source": [
        "!pip install chromadb==0.4.15"
      ],
      "metadata": {
        "colab": {
          "base_uri": "https://localhost:8080/"
        },
        "id": "B7z4IgGkEfnE",
        "outputId": "74d6c18f-391c-4665-a6dd-edae1fa3a9d3"
      },
      "execution_count": 65,
      "outputs": [
        {
          "output_type": "stream",
          "name": "stdout",
          "text": [
            "Requirement already satisfied: chromadb==0.4.15 in /usr/local/lib/python3.10/dist-packages (0.4.15)\n",
            "Requirement already satisfied: requests>=2.28 in /usr/local/lib/python3.10/dist-packages (from chromadb==0.4.15) (2.31.0)\n",
            "Requirement already satisfied: pydantic>=1.9 in /usr/local/lib/python3.10/dist-packages (from chromadb==0.4.15) (1.10.13)\n",
            "Requirement already satisfied: chroma-hnswlib==0.7.3 in /usr/local/lib/python3.10/dist-packages (from chromadb==0.4.15) (0.7.3)\n",
            "Requirement already satisfied: fastapi>=0.95.2 in /usr/local/lib/python3.10/dist-packages (from chromadb==0.4.15) (0.104.0)\n",
            "Requirement already satisfied: uvicorn[standard]>=0.18.3 in /usr/local/lib/python3.10/dist-packages (from chromadb==0.4.15) (0.23.2)\n",
            "Requirement already satisfied: posthog>=2.4.0 in /usr/local/lib/python3.10/dist-packages (from chromadb==0.4.15) (3.0.2)\n",
            "Requirement already satisfied: typing-extensions>=4.5.0 in /usr/local/lib/python3.10/dist-packages (from chromadb==0.4.15) (4.8.0)\n",
            "Requirement already satisfied: pulsar-client>=3.1.0 in /usr/local/lib/python3.10/dist-packages (from chromadb==0.4.15) (3.3.0)\n",
            "Requirement already satisfied: onnxruntime>=1.14.1 in /usr/local/lib/python3.10/dist-packages (from chromadb==0.4.15) (1.16.1)\n",
            "Requirement already satisfied: opentelemetry-api>=1.2.0 in /usr/local/lib/python3.10/dist-packages (from chromadb==0.4.15) (1.20.0)\n",
            "Requirement already satisfied: opentelemetry-exporter-otlp-proto-grpc>=1.2.0 in /usr/local/lib/python3.10/dist-packages (from chromadb==0.4.15) (1.20.0)\n",
            "Requirement already satisfied: opentelemetry-sdk>=1.2.0 in /usr/local/lib/python3.10/dist-packages (from chromadb==0.4.15) (1.20.0)\n",
            "Requirement already satisfied: tokenizers>=0.13.2 in /usr/local/lib/python3.10/dist-packages (from chromadb==0.4.15) (0.14.1)\n",
            "Requirement already satisfied: pypika>=0.48.9 in /usr/local/lib/python3.10/dist-packages (from chromadb==0.4.15) (0.48.9)\n",
            "Requirement already satisfied: tqdm>=4.65.0 in /usr/local/lib/python3.10/dist-packages (from chromadb==0.4.15) (4.66.1)\n",
            "Requirement already satisfied: overrides>=7.3.1 in /usr/local/lib/python3.10/dist-packages (from chromadb==0.4.15) (7.4.0)\n",
            "Requirement already satisfied: importlib-resources in /usr/local/lib/python3.10/dist-packages (from chromadb==0.4.15) (6.1.0)\n",
            "Requirement already satisfied: grpcio>=1.58.0 in /usr/local/lib/python3.10/dist-packages (from chromadb==0.4.15) (1.59.0)\n",
            "Requirement already satisfied: bcrypt>=4.0.1 in /usr/local/lib/python3.10/dist-packages (from chromadb==0.4.15) (4.0.1)\n",
            "Requirement already satisfied: typer>=0.9.0 in /usr/local/lib/python3.10/dist-packages (from chromadb==0.4.15) (0.9.0)\n",
            "Requirement already satisfied: kubernetes>=28.1.0 in /usr/local/lib/python3.10/dist-packages (from chromadb==0.4.15) (28.1.0)\n",
            "Requirement already satisfied: tenacity>=8.2.3 in /usr/local/lib/python3.10/dist-packages (from chromadb==0.4.15) (8.2.3)\n",
            "Requirement already satisfied: numpy>=1.22.5 in /usr/local/lib/python3.10/dist-packages (from chromadb==0.4.15) (1.23.5)\n",
            "Requirement already satisfied: anyio<4.0.0,>=3.7.1 in /usr/local/lib/python3.10/dist-packages (from fastapi>=0.95.2->chromadb==0.4.15) (3.7.1)\n",
            "Requirement already satisfied: starlette<0.28.0,>=0.27.0 in /usr/local/lib/python3.10/dist-packages (from fastapi>=0.95.2->chromadb==0.4.15) (0.27.0)\n",
            "Requirement already satisfied: certifi>=14.05.14 in /usr/local/lib/python3.10/dist-packages (from kubernetes>=28.1.0->chromadb==0.4.15) (2023.7.22)\n",
            "Requirement already satisfied: six>=1.9.0 in /usr/local/lib/python3.10/dist-packages (from kubernetes>=28.1.0->chromadb==0.4.15) (1.16.0)\n",
            "Requirement already satisfied: python-dateutil>=2.5.3 in /usr/local/lib/python3.10/dist-packages (from kubernetes>=28.1.0->chromadb==0.4.15) (2.8.2)\n",
            "Requirement already satisfied: pyyaml>=5.4.1 in /usr/local/lib/python3.10/dist-packages (from kubernetes>=28.1.0->chromadb==0.4.15) (6.0.1)\n",
            "Requirement already satisfied: google-auth>=1.0.1 in /usr/local/lib/python3.10/dist-packages (from kubernetes>=28.1.0->chromadb==0.4.15) (2.17.3)\n",
            "Requirement already satisfied: websocket-client!=0.40.0,!=0.41.*,!=0.42.*,>=0.32.0 in /usr/local/lib/python3.10/dist-packages (from kubernetes>=28.1.0->chromadb==0.4.15) (1.6.4)\n",
            "Requirement already satisfied: requests-oauthlib in /usr/local/lib/python3.10/dist-packages (from kubernetes>=28.1.0->chromadb==0.4.15) (1.3.1)\n",
            "Requirement already satisfied: oauthlib>=3.2.2 in /usr/local/lib/python3.10/dist-packages (from kubernetes>=28.1.0->chromadb==0.4.15) (3.2.2)\n",
            "Requirement already satisfied: urllib3<2.0,>=1.24.2 in /usr/local/lib/python3.10/dist-packages (from kubernetes>=28.1.0->chromadb==0.4.15) (1.26.18)\n",
            "Requirement already satisfied: coloredlogs in /usr/local/lib/python3.10/dist-packages (from onnxruntime>=1.14.1->chromadb==0.4.15) (15.0.1)\n",
            "Requirement already satisfied: flatbuffers in /usr/local/lib/python3.10/dist-packages (from onnxruntime>=1.14.1->chromadb==0.4.15) (23.5.26)\n",
            "Requirement already satisfied: packaging in /usr/local/lib/python3.10/dist-packages (from onnxruntime>=1.14.1->chromadb==0.4.15) (23.2)\n",
            "Requirement already satisfied: protobuf in /usr/local/lib/python3.10/dist-packages (from onnxruntime>=1.14.1->chromadb==0.4.15) (3.20.3)\n",
            "Requirement already satisfied: sympy in /usr/local/lib/python3.10/dist-packages (from onnxruntime>=1.14.1->chromadb==0.4.15) (1.12)\n",
            "Requirement already satisfied: deprecated>=1.2.6 in /usr/local/lib/python3.10/dist-packages (from opentelemetry-api>=1.2.0->chromadb==0.4.15) (1.2.14)\n",
            "Requirement already satisfied: importlib-metadata<7.0,>=6.0 in /usr/local/lib/python3.10/dist-packages (from opentelemetry-api>=1.2.0->chromadb==0.4.15) (6.8.0)\n",
            "Requirement already satisfied: backoff<3.0.0,>=1.10.0 in /usr/local/lib/python3.10/dist-packages (from opentelemetry-exporter-otlp-proto-grpc>=1.2.0->chromadb==0.4.15) (2.2.1)\n",
            "Requirement already satisfied: googleapis-common-protos~=1.52 in /usr/local/lib/python3.10/dist-packages (from opentelemetry-exporter-otlp-proto-grpc>=1.2.0->chromadb==0.4.15) (1.61.0)\n",
            "Requirement already satisfied: opentelemetry-exporter-otlp-proto-common==1.20.0 in /usr/local/lib/python3.10/dist-packages (from opentelemetry-exporter-otlp-proto-grpc>=1.2.0->chromadb==0.4.15) (1.20.0)\n",
            "Requirement already satisfied: opentelemetry-proto==1.20.0 in /usr/local/lib/python3.10/dist-packages (from opentelemetry-exporter-otlp-proto-grpc>=1.2.0->chromadb==0.4.15) (1.20.0)\n",
            "Requirement already satisfied: opentelemetry-semantic-conventions==0.41b0 in /usr/local/lib/python3.10/dist-packages (from opentelemetry-sdk>=1.2.0->chromadb==0.4.15) (0.41b0)\n",
            "Requirement already satisfied: monotonic>=1.5 in /usr/local/lib/python3.10/dist-packages (from posthog>=2.4.0->chromadb==0.4.15) (1.6)\n",
            "Requirement already satisfied: charset-normalizer<4,>=2 in /usr/local/lib/python3.10/dist-packages (from requests>=2.28->chromadb==0.4.15) (3.3.0)\n",
            "Requirement already satisfied: idna<4,>=2.5 in /usr/local/lib/python3.10/dist-packages (from requests>=2.28->chromadb==0.4.15) (3.4)\n",
            "Requirement already satisfied: huggingface_hub<0.18,>=0.16.4 in /usr/local/lib/python3.10/dist-packages (from tokenizers>=0.13.2->chromadb==0.4.15) (0.17.3)\n",
            "Requirement already satisfied: click<9.0.0,>=7.1.1 in /usr/local/lib/python3.10/dist-packages (from typer>=0.9.0->chromadb==0.4.15) (8.1.7)\n",
            "Requirement already satisfied: h11>=0.8 in /usr/local/lib/python3.10/dist-packages (from uvicorn[standard]>=0.18.3->chromadb==0.4.15) (0.14.0)\n",
            "Requirement already satisfied: httptools>=0.5.0 in /usr/local/lib/python3.10/dist-packages (from uvicorn[standard]>=0.18.3->chromadb==0.4.15) (0.6.1)\n",
            "Requirement already satisfied: python-dotenv>=0.13 in /usr/local/lib/python3.10/dist-packages (from uvicorn[standard]>=0.18.3->chromadb==0.4.15) (1.0.0)\n",
            "Requirement already satisfied: uvloop!=0.15.0,!=0.15.1,>=0.14.0 in /usr/local/lib/python3.10/dist-packages (from uvicorn[standard]>=0.18.3->chromadb==0.4.15) (0.19.0)\n",
            "Requirement already satisfied: watchfiles>=0.13 in /usr/local/lib/python3.10/dist-packages (from uvicorn[standard]>=0.18.3->chromadb==0.4.15) (0.21.0)\n",
            "Requirement already satisfied: websockets>=10.4 in /usr/local/lib/python3.10/dist-packages (from uvicorn[standard]>=0.18.3->chromadb==0.4.15) (12.0)\n",
            "Requirement already satisfied: sniffio>=1.1 in /usr/local/lib/python3.10/dist-packages (from anyio<4.0.0,>=3.7.1->fastapi>=0.95.2->chromadb==0.4.15) (1.3.0)\n",
            "Requirement already satisfied: exceptiongroup in /usr/local/lib/python3.10/dist-packages (from anyio<4.0.0,>=3.7.1->fastapi>=0.95.2->chromadb==0.4.15) (1.1.3)\n",
            "Requirement already satisfied: wrapt<2,>=1.10 in /usr/local/lib/python3.10/dist-packages (from deprecated>=1.2.6->opentelemetry-api>=1.2.0->chromadb==0.4.15) (1.14.1)\n",
            "Requirement already satisfied: cachetools<6.0,>=2.0.0 in /usr/local/lib/python3.10/dist-packages (from google-auth>=1.0.1->kubernetes>=28.1.0->chromadb==0.4.15) (5.3.1)\n",
            "Requirement already satisfied: pyasn1-modules>=0.2.1 in /usr/local/lib/python3.10/dist-packages (from google-auth>=1.0.1->kubernetes>=28.1.0->chromadb==0.4.15) (0.3.0)\n",
            "Requirement already satisfied: rsa<5,>=3.1.4 in /usr/local/lib/python3.10/dist-packages (from google-auth>=1.0.1->kubernetes>=28.1.0->chromadb==0.4.15) (4.9)\n",
            "Requirement already satisfied: filelock in /usr/local/lib/python3.10/dist-packages (from huggingface_hub<0.18,>=0.16.4->tokenizers>=0.13.2->chromadb==0.4.15) (3.12.4)\n",
            "Requirement already satisfied: fsspec in /usr/local/lib/python3.10/dist-packages (from huggingface_hub<0.18,>=0.16.4->tokenizers>=0.13.2->chromadb==0.4.15) (2023.6.0)\n",
            "Requirement already satisfied: zipp>=0.5 in /usr/local/lib/python3.10/dist-packages (from importlib-metadata<7.0,>=6.0->opentelemetry-api>=1.2.0->chromadb==0.4.15) (3.17.0)\n",
            "Requirement already satisfied: humanfriendly>=9.1 in /usr/local/lib/python3.10/dist-packages (from coloredlogs->onnxruntime>=1.14.1->chromadb==0.4.15) (10.0)\n",
            "Requirement already satisfied: mpmath>=0.19 in /usr/local/lib/python3.10/dist-packages (from sympy->onnxruntime>=1.14.1->chromadb==0.4.15) (1.3.0)\n",
            "Requirement already satisfied: pyasn1<0.6.0,>=0.4.6 in /usr/local/lib/python3.10/dist-packages (from pyasn1-modules>=0.2.1->google-auth>=1.0.1->kubernetes>=28.1.0->chromadb==0.4.15) (0.5.0)\n"
          ]
        }
      ]
    },
    {
      "cell_type": "markdown",
      "source": [
        "Biblioteca para realizar a divisão por token."
      ],
      "metadata": {
        "id": "YIz5_pcBneGu"
      }
    },
    {
      "cell_type": "code",
      "source": [
        "!pip install tiktoken==0.5.1"
      ],
      "metadata": {
        "colab": {
          "base_uri": "https://localhost:8080/"
        },
        "id": "WO0tpmblneRf",
        "outputId": "6a8ba6d9-3109-4855-bb5b-2e689775007b"
      },
      "execution_count": 66,
      "outputs": [
        {
          "output_type": "stream",
          "name": "stdout",
          "text": [
            "Requirement already satisfied: tiktoken==0.5.1 in /usr/local/lib/python3.10/dist-packages (0.5.1)\n",
            "Requirement already satisfied: regex>=2022.1.18 in /usr/local/lib/python3.10/dist-packages (from tiktoken==0.5.1) (2023.6.3)\n",
            "Requirement already satisfied: requests>=2.26.0 in /usr/local/lib/python3.10/dist-packages (from tiktoken==0.5.1) (2.31.0)\n",
            "Requirement already satisfied: charset-normalizer<4,>=2 in /usr/local/lib/python3.10/dist-packages (from requests>=2.26.0->tiktoken==0.5.1) (3.3.0)\n",
            "Requirement already satisfied: idna<4,>=2.5 in /usr/local/lib/python3.10/dist-packages (from requests>=2.26.0->tiktoken==0.5.1) (3.4)\n",
            "Requirement already satisfied: urllib3<3,>=1.21.1 in /usr/local/lib/python3.10/dist-packages (from requests>=2.26.0->tiktoken==0.5.1) (1.26.18)\n",
            "Requirement already satisfied: certifi>=2017.4.17 in /usr/local/lib/python3.10/dist-packages (from requests>=2.26.0->tiktoken==0.5.1) (2023.7.22)\n"
          ]
        }
      ]
    },
    {
      "cell_type": "markdown",
      "metadata": {
        "id": "zp0jVfo3QM3h"
      },
      "source": [
        "Bibioteca LangChain é um framework de código aberto para o desenvolvimento de aplicações usando modelos de linguagem grandes.\n",
        "\n",
        "https://pypi.org/project/langchain/"
      ]
    },
    {
      "cell_type": "code",
      "execution_count": 67,
      "metadata": {
        "colab": {
          "base_uri": "https://localhost:8080/"
        },
        "id": "12GE2W3fQM_n",
        "outputId": "d27d49bc-9dc5-49f2-86e7-4c6e1d281957"
      },
      "outputs": [
        {
          "output_type": "stream",
          "name": "stdout",
          "text": [
            "Requirement already satisfied: langchain==0.0.323 in /usr/local/lib/python3.10/dist-packages (0.0.323)\n",
            "Requirement already satisfied: PyYAML>=5.3 in /usr/local/lib/python3.10/dist-packages (from langchain==0.0.323) (6.0.1)\n",
            "Requirement already satisfied: SQLAlchemy<3,>=1.4 in /usr/local/lib/python3.10/dist-packages (from langchain==0.0.323) (2.0.22)\n",
            "Requirement already satisfied: aiohttp<4.0.0,>=3.8.3 in /usr/local/lib/python3.10/dist-packages (from langchain==0.0.323) (3.8.6)\n",
            "Requirement already satisfied: anyio<4.0 in /usr/local/lib/python3.10/dist-packages (from langchain==0.0.323) (3.7.1)\n",
            "Requirement already satisfied: async-timeout<5.0.0,>=4.0.0 in /usr/local/lib/python3.10/dist-packages (from langchain==0.0.323) (4.0.3)\n",
            "Requirement already satisfied: dataclasses-json<0.7,>=0.5.7 in /usr/local/lib/python3.10/dist-packages (from langchain==0.0.323) (0.6.1)\n",
            "Requirement already satisfied: jsonpatch<2.0,>=1.33 in /usr/local/lib/python3.10/dist-packages (from langchain==0.0.323) (1.33)\n",
            "Requirement already satisfied: langsmith<0.1.0,>=0.0.43 in /usr/local/lib/python3.10/dist-packages (from langchain==0.0.323) (0.0.52)\n",
            "Requirement already satisfied: numpy<2,>=1 in /usr/local/lib/python3.10/dist-packages (from langchain==0.0.323) (1.23.5)\n",
            "Requirement already satisfied: pydantic<3,>=1 in /usr/local/lib/python3.10/dist-packages (from langchain==0.0.323) (1.10.13)\n",
            "Requirement already satisfied: requests<3,>=2 in /usr/local/lib/python3.10/dist-packages (from langchain==0.0.323) (2.31.0)\n",
            "Requirement already satisfied: tenacity<9.0.0,>=8.1.0 in /usr/local/lib/python3.10/dist-packages (from langchain==0.0.323) (8.2.3)\n",
            "Requirement already satisfied: attrs>=17.3.0 in /usr/local/lib/python3.10/dist-packages (from aiohttp<4.0.0,>=3.8.3->langchain==0.0.323) (23.1.0)\n",
            "Requirement already satisfied: charset-normalizer<4.0,>=2.0 in /usr/local/lib/python3.10/dist-packages (from aiohttp<4.0.0,>=3.8.3->langchain==0.0.323) (3.3.0)\n",
            "Requirement already satisfied: multidict<7.0,>=4.5 in /usr/local/lib/python3.10/dist-packages (from aiohttp<4.0.0,>=3.8.3->langchain==0.0.323) (6.0.4)\n",
            "Requirement already satisfied: yarl<2.0,>=1.0 in /usr/local/lib/python3.10/dist-packages (from aiohttp<4.0.0,>=3.8.3->langchain==0.0.323) (1.9.2)\n",
            "Requirement already satisfied: frozenlist>=1.1.1 in /usr/local/lib/python3.10/dist-packages (from aiohttp<4.0.0,>=3.8.3->langchain==0.0.323) (1.4.0)\n",
            "Requirement already satisfied: aiosignal>=1.1.2 in /usr/local/lib/python3.10/dist-packages (from aiohttp<4.0.0,>=3.8.3->langchain==0.0.323) (1.3.1)\n",
            "Requirement already satisfied: idna>=2.8 in /usr/local/lib/python3.10/dist-packages (from anyio<4.0->langchain==0.0.323) (3.4)\n",
            "Requirement already satisfied: sniffio>=1.1 in /usr/local/lib/python3.10/dist-packages (from anyio<4.0->langchain==0.0.323) (1.3.0)\n",
            "Requirement already satisfied: exceptiongroup in /usr/local/lib/python3.10/dist-packages (from anyio<4.0->langchain==0.0.323) (1.1.3)\n",
            "Requirement already satisfied: marshmallow<4.0.0,>=3.18.0 in /usr/local/lib/python3.10/dist-packages (from dataclasses-json<0.7,>=0.5.7->langchain==0.0.323) (3.20.1)\n",
            "Requirement already satisfied: typing-inspect<1,>=0.4.0 in /usr/local/lib/python3.10/dist-packages (from dataclasses-json<0.7,>=0.5.7->langchain==0.0.323) (0.9.0)\n",
            "Requirement already satisfied: jsonpointer>=1.9 in /usr/local/lib/python3.10/dist-packages (from jsonpatch<2.0,>=1.33->langchain==0.0.323) (2.4)\n",
            "Requirement already satisfied: typing-extensions>=4.2.0 in /usr/local/lib/python3.10/dist-packages (from pydantic<3,>=1->langchain==0.0.323) (4.8.0)\n",
            "Requirement already satisfied: urllib3<3,>=1.21.1 in /usr/local/lib/python3.10/dist-packages (from requests<3,>=2->langchain==0.0.323) (1.26.18)\n",
            "Requirement already satisfied: certifi>=2017.4.17 in /usr/local/lib/python3.10/dist-packages (from requests<3,>=2->langchain==0.0.323) (2023.7.22)\n",
            "Requirement already satisfied: greenlet!=0.4.17 in /usr/local/lib/python3.10/dist-packages (from SQLAlchemy<3,>=1.4->langchain==0.0.323) (3.0.0)\n",
            "Requirement already satisfied: packaging>=17.0 in /usr/local/lib/python3.10/dist-packages (from marshmallow<4.0.0,>=3.18.0->dataclasses-json<0.7,>=0.5.7->langchain==0.0.323) (23.2)\n",
            "Requirement already satisfied: mypy-extensions>=0.3.0 in /usr/local/lib/python3.10/dist-packages (from typing-inspect<1,>=0.4.0->dataclasses-json<0.7,>=0.5.7->langchain==0.0.323) (1.0.0)\n"
          ]
        }
      ],
      "source": [
        "!pip install langchain==0.0.323"
      ]
    },
    {
      "cell_type": "markdown",
      "source": [
        "# 2 - Tipos de divisão\n",
        "\n",
        "https://medium.com/@onkarmishra/using-langchain-for-question-answering-on-own-data-3af0a82789ed"
      ],
      "metadata": {
        "id": "p6ft9K_U536x"
      }
    },
    {
      "cell_type": "code",
      "source": [
        "#Import de bibliotecas\n",
        "from langchain.text_splitter import RecursiveCharacterTextSplitter, CharacterTextSplitter, TokenTextSplitter\n",
        "\n",
        "chunk_size =26\n",
        "chunk_overlap = 4\n",
        "\n",
        "r_splitter = RecursiveCharacterTextSplitter(\n",
        "    chunk_size=chunk_size,\n",
        "    chunk_overlap=chunk_overlap\n",
        ")\n",
        "c_splitter = CharacterTextSplitter(\n",
        "    chunk_size=chunk_size,\n",
        "    chunk_overlap=chunk_overlap\n",
        ")\n",
        "\n",
        "t_splitter = TokenTextSplitter(\n",
        "    chunk_size=chunk_size,\n",
        "    chunk_overlap=chunk_overlap\n",
        ")"
      ],
      "metadata": {
        "id": "dw4-GseG54CS"
      },
      "execution_count": 68,
      "outputs": []
    },
    {
      "cell_type": "markdown",
      "source": [
        "## Divisor recursivo de caracteres"
      ],
      "metadata": {
        "id": "ehix-htJoFMv"
      }
    },
    {
      "cell_type": "code",
      "source": [
        "# Divisor recursivo do texto\n",
        "text1 = 'abcdefghijklmnopqrstuvwxyz'\n",
        "r_splitter.split_text(text1)\n",
        "# Saída - ['abcdefghijklmnopqrstuvwxyz']"
      ],
      "metadata": {
        "colab": {
          "base_uri": "https://localhost:8080/"
        },
        "id": "PDCzaLJX58HS",
        "outputId": "42a1d898-199b-4f62-93fc-83f16f81ebfd"
      },
      "execution_count": 69,
      "outputs": [
        {
          "output_type": "execute_result",
          "data": {
            "text/plain": [
              "['abcdefghijklmnopqrstuvwxyz']"
            ]
          },
          "metadata": {},
          "execution_count": 69
        }
      ]
    },
    {
      "cell_type": "code",
      "source": [
        "# Dividor de caracter do texto\n",
        "text2 = 'abcdefghijklmnopqrstuvwxyzabcdefg'\n",
        "r_splitter.split_text(text2)\n",
        "# Saída - ['abcdefghijklmnopqrstuvwxyz', 'wxyzabcdefg']"
      ],
      "metadata": {
        "colab": {
          "base_uri": "https://localhost:8080/"
        },
        "id": "_zK29f4W_bf5",
        "outputId": "f29b9000-b49e-4302-87b7-912a5ea09a93"
      },
      "execution_count": 70,
      "outputs": [
        {
          "output_type": "execute_result",
          "data": {
            "text/plain": [
              "['abcdefghijklmnopqrstuvwxyz', 'wxyzabcdefg']"
            ]
          },
          "metadata": {},
          "execution_count": 70
        }
      ]
    },
    {
      "cell_type": "code",
      "source": [
        "# Dividor recursivo de texto\n",
        "text3 = \"a b c d e f g h i j k l m n o p q r s t u v w x y z\"\n",
        "r_splitter.split_text(text3)\n",
        "# Saída - ['a b c d e f g h i j k l m', 'l m n o p q r s t u v w x', 'w x y z']"
      ],
      "metadata": {
        "colab": {
          "base_uri": "https://localhost:8080/"
        },
        "id": "lZbUFOjm_ZbZ",
        "outputId": "7e4e38b4-b580-40e7-a98e-edd0a0300bb3"
      },
      "execution_count": 71,
      "outputs": [
        {
          "output_type": "execute_result",
          "data": {
            "text/plain": [
              "['a b c d e f g h i j k l m', 'l m n o p q r s t u v w x', 'w x y z']"
            ]
          },
          "metadata": {},
          "execution_count": 71
        }
      ]
    },
    {
      "cell_type": "markdown",
      "source": [
        "## Divisor de caracter"
      ],
      "metadata": {
        "id": "WhJPyEp4oNeN"
      }
    },
    {
      "cell_type": "code",
      "source": [
        "# Dividor de caracter texto\n",
        "c_splitter.split_text(text3)\n",
        "# Saída - ['a b c d e f g h i j k l m n o p q r s t u v w x y z']"
      ],
      "metadata": {
        "colab": {
          "base_uri": "https://localhost:8080/"
        },
        "id": "ntG-n5XT_XZo",
        "outputId": "7e66d199-944b-4c94-ed75-38bd8a5f4024"
      },
      "execution_count": 72,
      "outputs": [
        {
          "output_type": "execute_result",
          "data": {
            "text/plain": [
              "['a b c d e f g h i j k l m n o p q r s t u v w x y z']"
            ]
          },
          "metadata": {},
          "execution_count": 72
        }
      ]
    },
    {
      "cell_type": "code",
      "source": [
        "# Character Text Splitter with separator defined\n",
        "# Divisor de caracter texto com separador definido\n",
        "c_splitter = CharacterTextSplitter(\n",
        "    chunk_size=chunk_size,\n",
        "    chunk_overlap=chunk_overlap,\n",
        "    separator = ' '\n",
        ")\n",
        "c_splitter.split_text(text3)\n",
        "# Saída - ['a b c d e f g h i j k l m', 'l m n o p q r s t u v w x', 'w x y z']"
      ],
      "metadata": {
        "colab": {
          "base_uri": "https://localhost:8080/"
        },
        "id": "cUlzJqJq_VrX",
        "outputId": "ee6ce5e8-05b4-4118-b97c-ede6bdeeacd9"
      },
      "execution_count": 73,
      "outputs": [
        {
          "output_type": "execute_result",
          "data": {
            "text/plain": [
              "['a b c d e f g h i j k l m', 'l m n o p q r s t u v w x', 'w x y z']"
            ]
          },
          "metadata": {},
          "execution_count": 73
        }
      ]
    },
    {
      "cell_type": "markdown",
      "source": [
        "## Divisor de token"
      ],
      "metadata": {
        "id": "Gv9Bix-CoRMm"
      }
    },
    {
      "cell_type": "code",
      "source": [
        "# Dividor de token do texto\n",
        "t_splitter.split_text(text1)\n",
        "# Saída - ['abcdefghijklmnopqrstuvwxyz']"
      ],
      "metadata": {
        "colab": {
          "base_uri": "https://localhost:8080/"
        },
        "id": "YiRRqRfln7Kn",
        "outputId": "3aa76ac4-9f8c-462e-9939-3668a220cae8"
      },
      "execution_count": 74,
      "outputs": [
        {
          "output_type": "execute_result",
          "data": {
            "text/plain": [
              "['abcdefghijklmnopqrstuvwxyz']"
            ]
          },
          "metadata": {},
          "execution_count": 74
        }
      ]
    },
    {
      "cell_type": "code",
      "source": [
        "# Dividor de token do texto\n",
        "text4 = 'ab cd ef gh ij kl mn op qr st uv wx yz ab cd ef gh ij kl mn op qr st uv wx yz'\n",
        "t_splitter.split_text(text4)\n",
        "# Saída - ['ab cd ef gh ij kl mn op qr st uv wx yz ab cd ef gh',' cd ef gh ij kl mn op qr st uv wx yz']"
      ],
      "metadata": {
        "colab": {
          "base_uri": "https://localhost:8080/"
        },
        "id": "KOk1NqpwmGlR",
        "outputId": "e08b915e-d438-495d-ac4d-4f1fc9c5c9b2"
      },
      "execution_count": 75,
      "outputs": [
        {
          "output_type": "execute_result",
          "data": {
            "text/plain": [
              "['ab cd ef gh ij kl mn op qr st uv wx yz ab cd ef gh',\n",
              " ' cd ef gh ij kl mn op qr st uv wx yz']"
            ]
          },
          "metadata": {},
          "execution_count": 75
        }
      ]
    },
    {
      "cell_type": "markdown",
      "source": [
        "# 3 - Divisão por Token"
      ],
      "metadata": {
        "id": "zdI35iTBrL78"
      }
    },
    {
      "cell_type": "markdown",
      "source": [
        "## 3.1 - Manipulando documentos Texto"
      ],
      "metadata": {
        "id": "pHmpkn7FawZ-"
      }
    },
    {
      "cell_type": "markdown",
      "source": [
        "### Cria o texto"
      ],
      "metadata": {
        "id": "oh5ZKlFxewwO"
      }
    },
    {
      "cell_type": "code",
      "source": [
        "# trecho de https://www.literaturabrasileira.ufsc.br/documentos/?action=download&id=116979', #As Vítimas algozes\n",
        "\n",
        "\n",
        "texto = \"\"\"\n",
        "No interior e principalmente longe da vila, ou da freguesia e dos povoados há quase\n",
        "sempre uma venda perto da fazenda: é a parasita que se apega à árvore; pior que isso,\n",
        "é a inimiga hipócrita que rende vassalagem à sua vítima.\n",
        "A venda de que falo é uma taberna especialíssima\n",
        "que não poderia existir, manter-se, medrar em outras condições locais, e em\n",
        "outras condições do trabalho rural, e nem se confunde com a taberna regular que\n",
        "em toda parte se encontra, quanto mais com as casas de grande ou pequeno comércio,\n",
        "onde os lavradores ricos e pobres se provêem do que precisa a casa, quando não\n",
        "lhes é possível esperar pelas remessas dos seus consigna­tários ou fregueses.\n",
        "Essa parasita das fazendas e estabelecimentos agrícolas\n",
        "das vizinhanças facilmente se pode conhecer por suas feições e modos\n",
        "característicos, se nos é lícito dizer assim: uma se parece com todas e não há\n",
        "hipótese em que alguma delas, por mais dissimulada que seja, chegue a perder o\n",
        "cará­ter da família.\n",
        "É uma pequena casa de taipa e coberta de telha, tendo às\n",
        "vezes na frente varanda aberta pelos três lados, também coberta de telha e com\n",
        "o teto sustido por esteios fortes, mas rudes e ainda mesmo tortos; as paredes\n",
        "nem sempre são caiadas, o chão não tem assoalho nem ladrilho; quando há\n",
        "varanda, abrem-se para ela uma porta e uma janela; dentro está a ven­da: entre\n",
        "a porta e a janela encostado à parede um banco de pau, defronte um balcão tosco\n",
        "e no bojo ou no espaço que se vê além, grotesca armação de tábuas contendo\n",
        "garrafas, botijas, latas de tabaco em pó, a um canto algumas voltas de fumo em\n",
        "rolo e uma ruim manta de carne-seca. Eis a venda.\n",
        "Há muitas que nem chegam à opulência da que aí fica\n",
        "descrita; em todas porém aparece humilde no fundo do quase vazio bojo a porta\n",
        "baixa que comunica pelo corredor imundo com dois ou mais quartos escuros, onde\n",
        "se recolhem as pingues colheitas agrícolas do vendelhão que aliás não tem\n",
        "lavoura.\n",
        "\"\"\""
      ],
      "metadata": {
        "id": "U68MxN52friW"
      },
      "execution_count": 76,
      "outputs": []
    },
    {
      "cell_type": "markdown",
      "source": [
        "### Divide e sobrepõe o texto"
      ],
      "metadata": {
        "id": "31nUpp_DiVL-"
      }
    },
    {
      "cell_type": "code",
      "source": [
        "# Import das bibliotecas\n",
        "import os\n",
        "import time\n",
        "from langchain.text_splitter import TokenTextSplitter\n",
        "\n",
        "# Parâmetros\n",
        "chunk_tamanho = 500\n",
        "chunk_sobreposicao = 100\n",
        "\n",
        "text_splitter = TokenTextSplitter(\n",
        "    chunk_size = chunk_tamanho,\n",
        "    chunk_overlap  = chunk_sobreposicao, # Número de tokens sobrepostos entre chunks(pedaços)\n",
        "    length_function = len, # Usa o comprimento do texto como medida de tamanho\n",
        "    add_start_index = True, #\n",
        ")\n",
        "\n",
        "# Guarda o tempo de início\n",
        "tempo_inicio = time.time()\n",
        "\n",
        "# Calcula os chunks dos textos\n",
        "chunks = text_splitter.create_documents([texto])\n",
        "\n",
        "tempo_final = time.time()\n",
        "\n",
        "print(f\"Carregando e dividindo {len(texto)} documentos texto em {tempo_final - tempo_inicio} segundos!\")"
      ],
      "metadata": {
        "colab": {
          "base_uri": "https://localhost:8080/"
        },
        "id": "-TdiJE7IayZF",
        "outputId": "7bb6cffa-281c-451a-b55f-291a118e52b5"
      },
      "execution_count": 77,
      "outputs": [
        {
          "output_type": "stream",
          "name": "stdout",
          "text": [
            "Carregando e dividindo 1918 documentos texto em 0.0031900405883789062 segundos!\n"
          ]
        }
      ]
    },
    {
      "cell_type": "code",
      "source": [
        "print(len(chunks))"
      ],
      "metadata": {
        "colab": {
          "base_uri": "https://localhost:8080/"
        },
        "id": "55GoRqpTbzkI",
        "outputId": "b7b98e3a-1960-4fe1-9988-8590bd7c97ac"
      },
      "execution_count": 78,
      "outputs": [
        {
          "output_type": "stream",
          "name": "stdout",
          "text": [
            "2\n"
          ]
        }
      ]
    },
    {
      "cell_type": "code",
      "source": [
        "print(chunks)"
      ],
      "metadata": {
        "colab": {
          "base_uri": "https://localhost:8080/"
        },
        "id": "XCm6HLFcuGmF",
        "outputId": "479d6f6e-6194-4546-ea68-a39ecf2a871c"
      },
      "execution_count": 79,
      "outputs": [
        {
          "output_type": "stream",
          "name": "stdout",
          "text": [
            "[Document(page_content='\\nNo interior e principalmente longe da vila, ou da freguesia e dos povoados há quase\\nsempre uma venda perto da fazenda: é a parasita que se apega à árvore; pior que isso,\\né a inimiga hipócrita que rende vassalagem à sua vítima.\\nA venda de que falo é uma taberna especialíssima\\nque não poderia existir, manter-se, medrar em outras condições locais, e em\\noutras condições do trabalho rural, e nem se confunde com a taberna regular que\\nem toda parte se encontra, quanto mais com as casas de grande ou pequeno comércio,\\nonde os lavradores ricos e pobres se provêem do que precisa a casa, quando não\\nlhes é possível esperar pelas remessas dos seus consigna\\xadtários ou fregueses.\\nEssa parasita das fazendas e estabelecimentos agrícolas\\ndas vizinhanças facilmente se pode conhecer por suas feições e modos\\ncaracterísticos, se nos é lícito dizer assim: uma se parece com todas e não há\\nhipótese em que alguma delas, por mais dissimulada que seja, chegue a perder o\\ncará\\xadter da família.\\nÉ uma pequena casa de taipa e coberta de telha, tendo às\\nvezes na frente varanda aberta pelos três lados, também coberta de telha e com\\no teto sustido por esteios fortes, mas rudes e ainda mesmo tortos; as paredes\\nnem sempre são caiadas, o chão não tem assoalho nem ladrilho; quando', metadata={'start_index': 0}), Document(page_content='a e coberta de telha, tendo às\\nvezes na frente varanda aberta pelos três lados, também coberta de telha e com\\no teto sustido por esteios fortes, mas rudes e ainda mesmo tortos; as paredes\\nnem sempre são caiadas, o chão não tem assoalho nem ladrilho; quando há\\nvaranda, abrem-se para ela uma porta e uma janela; dentro está a ven\\xadda: entre\\na porta e a janela encostado à parede um banco de pau, defronte um balcão tosco\\ne no bojo ou no espaço que se vê além, grotesca armação de tábuas contendo\\ngarrafas, botijas, latas de tabaco em pó, a um canto algumas voltas de fumo em\\nrolo e uma ruim manta de carne-seca. Eis a venda.\\nHá muitas que nem chegam à opulência da que aí fica\\ndescrita; em todas porém aparece humilde no fundo do quase vazio bojo a porta\\nbaixa que comunica pelo corredor imundo com dois ou mais quartos escuros, onde\\nse recolhem as pingues colheitas agrícolas do vendelhão que aliás não tem\\nlavoura.\\n', metadata={'start_index': 1003})]\n"
          ]
        }
      ]
    },
    {
      "cell_type": "markdown",
      "source": [
        "### Mostra os chunks\n",
        "\n",
        "A sobreposição se encontra ao final e início de cada pedaço(chunk). A variável 'start_index' define onde começa o texto sem a sobreposição."
      ],
      "metadata": {
        "id": "S-8OH0lw1XX-"
      }
    },
    {
      "cell_type": "code",
      "source": [
        "for i, chunk in enumerate(chunks):\n",
        "  if i < 20:\n",
        "    tokens = chunk.page_content.split(\" \")\n",
        "    print('chunk #',i, len(tokens),' qtde char :', len(chunk.page_content),' qtde token :', ' start_index:', chunk.metadata.get('start_index') )\n",
        "    print()\n",
        "    print(chunk.page_content)\n",
        "    print('-----------------------------------------------------------------------')"
      ],
      "metadata": {
        "colab": {
          "base_uri": "https://localhost:8080/"
        },
        "id": "1V1EFir61jgn",
        "outputId": "4c1643cd-2bbb-42f8-bd12-08f41ebe7dad"
      },
      "execution_count": 80,
      "outputs": [
        {
          "output_type": "stream",
          "name": "stdout",
          "text": [
            "chunk # 0 203  qtde char : 1259  qtde token :  start_index: 0\n",
            "\n",
            "\n",
            "No interior e principalmente longe da vila, ou da freguesia e dos povoados há quase\n",
            "sempre uma venda perto da fazenda: é a parasita que se apega à árvore; pior que isso,\n",
            "é a inimiga hipócrita que rende vassalagem à sua vítima.\n",
            "A venda de que falo é uma taberna especialíssima\n",
            "que não poderia existir, manter-se, medrar em outras condições locais, e em\n",
            "outras condições do trabalho rural, e nem se confunde com a taberna regular que\n",
            "em toda parte se encontra, quanto mais com as casas de grande ou pequeno comércio,\n",
            "onde os lavradores ricos e pobres se provêem do que precisa a casa, quando não\n",
            "lhes é possível esperar pelas remessas dos seus consigna­tários ou fregueses.\n",
            "Essa parasita das fazendas e estabelecimentos agrícolas\n",
            "das vizinhanças facilmente se pode conhecer por suas feições e modos\n",
            "característicos, se nos é lícito dizer assim: uma se parece com todas e não há\n",
            "hipótese em que alguma delas, por mais dissimulada que seja, chegue a perder o\n",
            "cará­ter da família.\n",
            "É uma pequena casa de taipa e coberta de telha, tendo às\n",
            "vezes na frente varanda aberta pelos três lados, também coberta de telha e com\n",
            "o teto sustido por esteios fortes, mas rudes e ainda mesmo tortos; as paredes\n",
            "nem sempre são caiadas, o chão não tem assoalho nem ladrilho; quando\n",
            "-----------------------------------------------------------------------\n",
            "chunk # 1 156  qtde char : 915  qtde token :  start_index: 1003\n",
            "\n",
            "a e coberta de telha, tendo às\n",
            "vezes na frente varanda aberta pelos três lados, também coberta de telha e com\n",
            "o teto sustido por esteios fortes, mas rudes e ainda mesmo tortos; as paredes\n",
            "nem sempre são caiadas, o chão não tem assoalho nem ladrilho; quando há\n",
            "varanda, abrem-se para ela uma porta e uma janela; dentro está a ven­da: entre\n",
            "a porta e a janela encostado à parede um banco de pau, defronte um balcão tosco\n",
            "e no bojo ou no espaço que se vê além, grotesca armação de tábuas contendo\n",
            "garrafas, botijas, latas de tabaco em pó, a um canto algumas voltas de fumo em\n",
            "rolo e uma ruim manta de carne-seca. Eis a venda.\n",
            "Há muitas que nem chegam à opulência da que aí fica\n",
            "descrita; em todas porém aparece humilde no fundo do quase vazio bojo a porta\n",
            "baixa que comunica pelo corredor imundo com dois ou mais quartos escuros, onde\n",
            "se recolhem as pingues colheitas agrícolas do vendelhão que aliás não tem\n",
            "lavoura.\n",
            "\n",
            "-----------------------------------------------------------------------\n"
          ]
        }
      ]
    },
    {
      "cell_type": "markdown",
      "source": [
        "## 3.2 - Manipulando Documentos PDF\n",
        "\n",
        "https://python.langchain.com/docs/modules/data_connection/document_loaders/pdf"
      ],
      "metadata": {
        "id": "85Xcl5zTxpmi"
      }
    },
    {
      "cell_type": "markdown",
      "source": [
        "### - Link dos PDFs"
      ],
      "metadata": {
        "id": "LOv2yZbvcG-Z"
      }
    },
    {
      "cell_type": "code",
      "source": [
        "# As Vítimas Algozes\n",
        "url1 = 'https://www.literaturabrasileira.ufsc.br/documentos/?action=download&id=116977'\n",
        "\n",
        "# A Escrava Isaura\n",
        "url2 = 'https://www.literaturabrasileira.ufsc.br/documentos/?action=download&id=92390'"
      ],
      "metadata": {
        "id": "XZeKgq75cKzO"
      },
      "execution_count": 81,
      "outputs": []
    },
    {
      "cell_type": "markdown",
      "source": [
        "### Download dos pdfs"
      ],
      "metadata": {
        "id": "wd4GcvfCz7L1"
      }
    },
    {
      "cell_type": "code",
      "source": [
        "# Import das bibliotecas\n",
        "import subprocess\n",
        "\n",
        "# As Vítimas Algozes\n",
        "\n",
        "# Arquivo de destino1\n",
        "destino1 = 'arquivo1.pdf'\n",
        "\n",
        "# Executa o comando wget no prompt\n",
        "subprocess.call([\"wget\", url1, \"-O\", destino1])\n",
        "\n",
        "# Arquivo de destino1\n",
        "destino2 = 'arquivo2.pdf'\n",
        "\n",
        "# Executa o comando wget no prompt\n",
        "subprocess.call([\"wget\", url1, \"-O\", destino2])"
      ],
      "metadata": {
        "colab": {
          "base_uri": "https://localhost:8080/"
        },
        "id": "WbAPtRSxyuIG",
        "outputId": "72fd0c55-8ef8-4e01-b7a3-d94baf398ccb"
      },
      "execution_count": 82,
      "outputs": [
        {
          "output_type": "execute_result",
          "data": {
            "text/plain": [
              "0"
            ]
          },
          "metadata": {},
          "execution_count": 82
        }
      ]
    },
    {
      "cell_type": "markdown",
      "source": [
        "### Carrega os pdfs"
      ],
      "metadata": {
        "id": "kRx-vabm0Vbc"
      }
    },
    {
      "cell_type": "code",
      "source": [
        "# Import das bibliotecas\n",
        "from langchain.document_loaders import PyPDFLoader, PyPDFDirectoryLoader\n",
        "\n",
        "# Define o diretório\n",
        "diretorio = '/content'\n",
        "\n",
        " # Cria o carregador do PDF\n",
        "carregador = PyPDFDirectoryLoader(diretorio)\n",
        "\n",
        "# Carrega os documentos\n",
        "documentos = carregador.load()"
      ],
      "metadata": {
        "id": "j18ncV8e0B8M"
      },
      "execution_count": 83,
      "outputs": []
    },
    {
      "cell_type": "markdown",
      "source": [
        "### Divide e sobrepõe os pdfs"
      ],
      "metadata": {
        "id": "CFY2d-y60scC"
      }
    },
    {
      "cell_type": "code",
      "source": [
        "# Import das bibliotecas\n",
        "import os\n",
        "import time\n",
        "from langchain.text_splitter import TokenTextSplitter\n",
        "\n",
        "# Parâmetros\n",
        "chunk_tamanho = 500\n",
        "chunk_sobreposicao = 100\n",
        "\n",
        "text_splitter = TokenTextSplitter(\n",
        "    chunk_size = chunk_tamanho,\n",
        "    chunk_overlap  = chunk_sobreposicao, # Número de tokens sobrepostos entre chunks(pedaços)\n",
        "    length_function = len, # Usa o comprimento do texto como medida de tamanho\n",
        "    add_start_index = True, #\n",
        ")\n",
        "\n",
        "# Guarda o tempo de início\n",
        "tempo_inicio = time.time()\n",
        "\n",
        "# Calcula os chunks dos textos\n",
        "chunks = text_splitter.split_documents(documentos)\n",
        "\n",
        "tempo_final = time.time()\n",
        "\n",
        "print(f\"Carregando e dividindo {len(texto)} documentos pdfs em {tempo_final - tempo_inicio} segundos!\")"
      ],
      "metadata": {
        "colab": {
          "base_uri": "https://localhost:8080/"
        },
        "outputId": "1e08d0a7-b7d3-42dc-80f0-39abbb51987e",
        "id": "SENyOAu30scC"
      },
      "execution_count": 84,
      "outputs": [
        {
          "output_type": "stream",
          "name": "stdout",
          "text": [
            "Carregando e dividindo 1918 documentos pdfs em 0.5524847507476807 segundos!\n"
          ]
        }
      ]
    },
    {
      "cell_type": "markdown",
      "source": [
        "### Mostra os chunks\n",
        "\n",
        "A sobreposição se encontra ao final e início de cada pedaço(chunk). A variável 'start_index' define onde começa o texto sem a sobreposição."
      ],
      "metadata": {
        "id": "K-bq_HXh04Dr"
      }
    },
    {
      "cell_type": "code",
      "source": [
        "for i, chunk in enumerate(chunks):\n",
        "  if i < 20:\n",
        "    tokens = chunk.page_content.split(\" \")\n",
        "    print('chunk #',i, len(tokens),' qtde char :', len(chunk.page_content),' qtde token :', ' start_index:', chunk.metadata.get('start_index') )\n",
        "    print()\n",
        "    print(chunk.page_content)\n",
        "    print('-----------------------------------------------------------------------')"
      ],
      "metadata": {
        "colab": {
          "base_uri": "https://localhost:8080/"
        },
        "outputId": "f5d0564e-266b-4e0d-d6e4-efbe7cff8d1b",
        "id": "avh5A1UH04Dr"
      },
      "execution_count": 85,
      "outputs": [
        {
          "output_type": "stream",
          "name": "stdout",
          "text": [
            "chunk # 0 47  qtde char : 376  qtde token :  start_index: 0\n",
            "\n",
            "J MAS-ALGOZE \n",
            "ROMAM \n",
            "~% \n",
            "LIVRARIA DE B. L. GARNIER \n",
            "«9, rua do Ouvidor, CO \n",
            "Grandesortimento del.ivros clássicos, Medicina, \n",
            "Sciencias e Arlís, Junsprudcncia, Littsratura, \n",
            "Novellas, lllustrações, Educação, Devoção, Atlas, \n",
            "Happas geographicos, etc, etc. \n",
            "Livros francezes, portuguezes, inqlezes, italianos, ele-, \n",
            "Encarrega-se áe qualquer conmissio de Liuros-\n",
            "BIO DE JIMIIIO \n",
            "-----------------------------------------------------------------------\n",
            "chunk # 1 14  qtde char : 79  qtde token :  start_index: 0\n",
            "\n",
            "Ie ne fay rien \n",
            "sans \n",
            "Gayeté \n",
            "(Montaigne, Des livres) \n",
            "Ex Libris \n",
            "José Mindlin \n",
            "-----------------------------------------------------------------------\n",
            "chunk # 2 3  qtde char : 20  qtde token :  start_index: 0\n",
            "\n",
            "AS VICTIMAS-ALGOZES \n",
            "-----------------------------------------------------------------------\n",
            "chunk # 3 26  qtde char : 155  qtde token :  start_index: 0\n",
            "\n",
            "AS VICTIMAS-ALGOZES \n",
            "QUADROS DA ESCRAVIDÃO \n",
            "ROMANCES \n",
            "POR \n",
            "JOAQUIM MANOEL DE MACEDO \n",
            "TOMO I \n",
            "fyo DE JANEIRO \n",
            "Typ. AMERICANA , roa dos Ourives n. 19. \n",
            "1869 \n",
            "-----------------------------------------------------------------------\n",
            "chunk # 4 95  qtde char : 590  qtde token :  start_index: 0\n",
            "\n",
            "AOS NOSSOS LEITORES \n",
            "I \n",
            "Queremos agoraconlar-vos em alguns romances \n",
            "historias verdadeiras que todos vós já sabeis, \n",
            "sendo certo que em as já saberdes é que \n",
            "pôde consistir o único merecimento que por \n",
            "ventura tenha este trabalho; porque na vossa \n",
            "scien ia e na vossa consciência se hão de firmar \n",
            "as verdades xpie vamos dizer. \n",
            "Serão romances sem atavios, contos sem \n",
            "phantasias poéticas, tristes historias passadas á \n",
            "nossos olhos, e á que não poderá negar-se o \n",
            "vos*so testemunho. \n",
            "Não queremos ter .egredos, nem reservas men-\n",
            "(aes comvosco. \n",
            "E' nosso empenho e nosso fim levar ao vosso \n",
            "-----------------------------------------------------------------------\n",
            "chunk # 5 140  qtde char : 876  qtde token :  start_index: 0\n",
            "\n",
            "VI \n",
            "espirito e demorar nas reflexões e no estudo \n",
            "da vossa razão factos que tendes observado, \n",
            "verdades que não precizam mais de demons­\n",
            "tração obrigando-vos deste modo á encarar \n",
            "de face, á medir, á sondar em toda sua pro­\n",
            "fundeza um mal enorme que afeia, infecciona, \n",
            "avilta, deturpa e corroe á nossa sociedade, e \n",
            "á que a nossa sociedade ainda se apega se­\n",
            "melhante a desgraçada mulher que, tomando \n",
            "o habito da prostituição, á ella se abandona \n",
            "com indecente desvario. \n",
            "E o empenho que tomamos, o fim que temos \n",
            "em vista adunão-se com uma aspiração ge­\n",
            "nerosa da actualidade, e com a exigência im­\n",
            "placável da civilisação e do século. \n",
            "II \n",
            "Sob as apprehensões de uma crise social im-\n",
            "minente, infallivel que á todos ha de custar \n",
            "directa ou indirectamente onerosos sacrifícios \n",
            "o povo brasileiro e particularmente os lavra­\n",
            "dores cspcrão anciosos, enlrc receios por certo \n",
            "-----------------------------------------------------------------------\n",
            "chunk # 6 163  qtde char : 1047  qtde token :  start_index: 0\n",
            "\n",
            "YII \n",
            "justificáveis e clamores que se explicão sem \n",
            "dezar, o pronunciamento legal e decisivo da \n",
            "solução do problema da emansipação dos es­\n",
            "cravos. \n",
            "Este estado de duvidas afflictivas sobre o \n",
            "futuro, de temor dos detrimentos que se hão de \n",
            "experimentar, e que o descostume e certa des­\n",
            "confiança do trabalho livre ainda mais exa-\n",
            "gerão, este mal estar dos proprietários de es­\n",
            "cravos, vendo cheio de nuvens o dia de amanhã, \n",
            "pôde comparar-se a situação dos espíritos tí­\n",
            "midos e das pessoas de* organisação sobre­\n",
            "maneira nervosa, quando em negro horisonte \n",
            "*e em atmosphera abafada começão a rasgar-\n",
            "se os,fuzis, e a rugir a trovoada que avança \n",
            "formidável. Esta imagem se nos afigura tanto \n",
            "mais acertadamente applicada, quanto é sabido \n",
            "que depois das grandes trovoadas vem a pureza \n",
            "do ar, a bonança e a claridade. \n",
            "Como^quer que seja, máo grado os inte­\n",
            "resses que hão de padecer, á despeito das op-\n",
            "posições que se fazem e se farão sentir, embalde \n",
            "ás fáceis objecções denunciadoras de indubi-\n",
            "taveis inconveniências e senões em quantos pro-\n",
            "-----------------------------------------------------------------------\n",
            "chunk # 7 9  qtde char : 65  qtde token :  start_index: 982\n",
            "\n",
            "adoras de indubi-\n",
            "taveis inconveniências e senões em quantos pro-\n",
            "-----------------------------------------------------------------------\n",
            "chunk # 8 163  qtde char : 1040  qtde token :  start_index: 0\n",
            "\n",
            "VIII \n",
            "jectos e imagináveis planos se engendrarem para \n",
            "que menos violenta e dolorosa se resolva a crise, \n",
            "e se opere a revolução social, é positivo que to­\n",
            "camos a véspera da emancipação dos escravos. \n",
            "Ninguém se illuda, ninguém se deixe illudir. \n",
            "Não ha combinação de interesses, não ha partido \n",
            "político, não ha governo por mais forte que se \n",
            "presuma, que possa impedir o procelloso acon­\n",
            "tecimento. \n",
            "Nunca houve caso em que jnelhor assentasse a \n",
            "formula do fatalismo musulmano:—está es-\n",
            "cripto. \n",
            "A famosa prophecia do Velho do lfajurú es-\n",
            "cripta quasi á meio século se realisou em nossos \n",
            "dias: a nuvem negra veio do Norte. \n",
            "Havia uma grande potência, uma republica \n",
            "soberba que em seu seio tolerava a escravidão, \n",
            "e tenaz a mantinha: a confederação Norte-Ame-\n",
            "ricana era barreira tremenda ante a qual esta­\n",
            "cava o movimento emancipador; mas a fiiha-de \n",
            "Washington depois de uma luta formidável que \n",
            "espantou o mundo, no fim de uma guerra de pro­\n",
            "porções dcscommunaes afogou para sempre a \n",
            "escravidão nas águas ensangüentadas do Potomac \n",
            "-----------------------------------------------------------------------\n",
            "chunk # 9 7  qtde char : 47  qtde token :  start_index: 993\n",
            "\n",
            "escravidão nas águas ensangüentadas do Potomac \n",
            "-----------------------------------------------------------------------\n",
            "chunk # 10 167  qtde char : 998  qtde token :  start_index: 0\n",
            "\n",
            "IX \n",
            "que testemunhara as ultimas batalhas entre o \n",
            "Sul escravagista e o Norte emancipador. O \n",
            "Norte venceu: anmem negra nos veio do Norte. \n",
            "Desde então sé o Brasil e duas colônias da \n",
            "Hespanha mantém a escravidão aos olhos de \n",
            "todas as nações que protcstão contra a excepção. \n",
            "A voz de Deos, o brado do século da liber­\n",
            "dade, a opinião do mundo, o pronunciamento \n",
            "dos governos, o espirito e a matéria, a idéa e a \n",
            "força querem, exigem, e em caso extremo hão \n",
            "de impor a emancipação dos escravos. \n",
            "Nas duas colônias da Hespanha o problema \n",
            "vai resolver-se com expontâneo decreto da me­\n",
            "trópole.* \n",
            "O Brasil só, isolado, marcado com o sello \n",
            "ignominioso da escravidão diante do mundo, seria \n",
            "o escarneo e o maldito do mundo, e se exporia \n",
            "ao opprobrio da coacção pela força. \n",
            "O patriotismo se revolta ao simpies ima­\n",
            "ginar do insulto á soberania nacional pela pre­\n",
            "potência estrangeira: mas a razão compre-\n",
            "hende a possibilidade e a probabilidade do \n",
            "ultrage. \n",
            "Também vos imbalarão com a tolerância do \n",
            "-----------------------------------------------------------------------\n",
            "chunk # 11 8  qtde char : 42  qtde token :  start_index: 956\n",
            "\n",
            "\n",
            "Também vos imbalarão com a tolerância do \n",
            "-----------------------------------------------------------------------\n",
            "chunk # 12 137  qtde char : 835  qtde token :  start_index: 0\n",
            "\n",
            "X \n",
            "trafico de africanos r também vos fizerão cre­\n",
            "ditar que sem elle feneceria a agricultura ; \n",
            "também vos fallarão da soberania nacional para \n",
            "resistir á prepotência estrangeira, e em dias \n",
            "lugubres em que a pátria envergonhada escon-\n",
            "deo o rosto, lavrarão de súbito e precipitada­\n",
            "mente a sentença de morte do trafico de afri­\n",
            "canos ào som dos tiros dos canhões inglezes \n",
            "que cuspião injurias e allrontas nas faces de \n",
            "fortalezas nossas. \n",
            "Então foi somente a Inglaterra ; e o Brasil \n",
            "teve de ceder. \n",
            "Agora é o mundo, agora são todas as noções,' \n",
            "é a opinião universal, é o espirito e a matéria, \n",
            "a idéa e a força á reclamar a emancipação dos \n",
            "escravos. \n",
            "luiagiuaes resistência possível ? \n",
            "Não vos illudaes, não vos deixeis illudir: \n",
            "preparai-vos: a emancipação dos escravos ha de \n",
            "realizar-se dentro de poucos annos. \n",
            "Está escripto. \n",
            "-----------------------------------------------------------------------\n",
            "chunk # 13 132  qtde char : 873  qtde token :  start_index: 0\n",
            "\n",
            "XI \n",
            "III \n",
            "Não se eslirpa o cancro sem dôr. \n",
            "A escravidão que é cancro social, abuso inve­\n",
            "terado que entrou cm nossos costumes, arvore \n",
            "venenosa plantada no Brasil pelos primeiros co-\n",
            "Jonisadores, fonte de desmoralisacão, de vicios \n",
            "•e de crimes, é também ainda assim instrumento \n",
            "<Ie riqueza agrícola, manancial do trabalho dos \n",
            "campos, dependência de innumcraveis interes­\n",
            "ses, immenso capital que representa a fortuna \n",
            "de milhares de proprietários, e portanto a escra­\n",
            "vidão para ser abolida fará em seus uHimos \n",
            "arrancos de monstro cruelissima despedida. \n",
            "A emancipação immediata e absoluta dos \n",
            "escravos, que aliás pôde vir a' ser um facto \n",
            "indeclinável e súbito na hypothese de adiamento \n",
            "teimoso do problema, e provosador do resenti-\n",
            "mento do mundo, seria louco arrojo que poria \n",
            "em convulsão o paiz, em desordem descommu-\n",
            "nal e em sossobro a riqueza particular e pu-\n",
            "-----------------------------------------------------------------------\n",
            "chunk # 14 162  qtde char : 957  qtde token :  start_index: 0\n",
            "\n",
            "XII \n",
            "blica, em miséria o povo. em banca-rota o \n",
            "Estado. \n",
            "A emancipação gradual iniciada pelos ventres \n",
            "livres das escrava's, e completada por meios in-\n",
            "directos no correr de prazo não muito longo, e \n",
            "direslos no fim desse prazo cora indemnisação. \n",
            "garantida aos senhores é o conselho da pru­\n",
            "dência e o recurso providenle dos proprie­\n",
            "tários. \n",
            "Ainda assim o costume e o interesse do senhor \n",
            "hão de disputar ao Estado a oppressão e o do­\n",
            "mínio do escravo : é explicável a oppsição ; % \n",
            "natural a repugnância que apparece no campo \n",
            "invadido ao principio que invade: é a dòr que \n",
            "faz gemer na extracção do cancro. \n",
            "Mas o governo e a imprensa de\\era esfor­\n",
            "çar-se por illuminar os proprietários de esla­\n",
            "vos e convencc-los de que está em seus próprios \n",
            "in teresses aux-liar o Estdo ni obra imnvnsa e \n",
            "escabrosa da emancipação, para que ella que é \n",
            "infallivel, se effectue com» a menor somma pos­\n",
            "sível de sacrifícios. \n",
            "A imprensa que o não fi/es, mentirá à sua \n",
            "-----------------------------------------------------------------------\n",
            "chunk # 15 127  qtde char : 836  qtde token :  start_index: 0\n",
            "\n",
            "XIII \n",
            "missão augusta ; o governo que o não fizer, \n",
            "atraiçoará a causa publica. \n",
            "IV \n",
            "Pobre escriptor de acanhada intelligencia, \n",
            "rude e simples romancista sem arte, que so­\n",
            "mente escreve para o povor não nos animare­\n",
            "mos a combinar planos de emancipação, nem \n",
            "presumidos de scencia procuraremos esclarecer \n",
            "o publico sobre as altas conveniências econô­\n",
            "micas, e as santas e irrecusáveis lições philoso-\n",
            "phicas que condemnão a escravidão. \n",
            "Como, porém, ô dever de cada um concorrer \n",
            "á seu modo, e nas suas condições, para o desen-\n",
            "Iace menos violento desse nó terrível, e servir \n",
            "á causa mais melindrosa e arriscada, porém in­\n",
            "declinável, que actualmente se offeréce ao labor \n",
            "e á dedicação do civilismo, pagaremos o nosso \n",
            "tributo nas proporções da nossa pobreza, escre­\n",
            "vendo ligeiros romances. \n",
            "Trabalhar no sentido de tornar bem mani-\n",
            "-----------------------------------------------------------------------\n",
            "chunk # 16 166  qtde char : 1059  qtde token :  start_index: 0\n",
            "\n",
            "XIV \n",
            "festa e clara a torpeza da escravidão, sua in-\n",
            "flueucia malvada, suas deformidades moraes e \n",
            "congênitas, seus instinctos ruins, seu horror, \n",
            "seus perigos, sua acção infernal é lambem con­\n",
            "tribuir para condemna-la e para fazer mais suave \n",
            "e sympathica a idéa da emancipação que a ani­\n",
            "quila. \n",
            "Seguindo dous caminhos opposlos, chega-se \n",
            "ao ponto que temos fitado, á reprovação pro­\n",
            "funda que deve inspirar a escravidão. \n",
            "Um desses caminhos se estende por entre as \n",
            "misérias tristíssimas, é os incalculáveis soffri-\n",
            "mcntos do escravo, por essa vida de amarguras \n",
            "sem termo, de árido deserto sem um oásis, de \n",
            "inferno perpetuo no mundo negro daescrevidão. \n",
            "E' o quadro do mal que o senhor, ainda sem \n",
            "querer, faz ao escravo. \n",
            "O outro mostra a seus lados os vícios ignó­\n",
            "beis, a perversão, os ódios, os ferozes instinctos \n",
            "do escravo, inimigo natural e rancoroso do seu \n",
            "senhor, os miasmas, deixem-nos dizer assim, a \n",
            "syphilis moral da escravidão infeccionando a \n",
            "casa, a fazenda, a família dos senhores, e a sua \n",
            "raiva concentrada, mas sempre em conspiração-\n",
            "-----------------------------------------------------------------------\n",
            "chunk # 17 14  qtde char : 84  qtde token :  start_index: 975\n",
            "\n",
            "enda, a família dos senhores, e a sua \n",
            "raiva concentrada, mas sempre em conspiração-\n",
            "-----------------------------------------------------------------------\n",
            "chunk # 18 144  qtde char : 917  qtde token :  start_index: 0\n",
            "\n",
            "IV \n",
            "latente attentando contra a fortuna, a vida e a \n",
            "honra dos seus inconscios oppressores, E' o qua­\n",
            "dro do mal que o escravo faz de assentado pro­\n",
            "pósito ou ás vezes involuntária e irrefleclida-\n",
            "mente ao senhor. \n",
            "Preferimos este segundo caminho: é o que \n",
            "mais convçm ao nosso empenho. \n",
            "Esquecemos o Buc-Jargal, o Toussaint, Loíi-\n",
            "verture e o Pai-Simão •, o escravo que vamos \n",
            "expor á vossos olhos é o escravo de nossas casas \n",
            "e de nossas fazendas, o homem que nasceu ho­\n",
            "mem, e que a escravidão tornou peste ou fera. \n",
            "Contar-vos-hemos, pois, em pequenos e resu­\n",
            "midos romances as historias que vós sabeis por­\n",
            "que tendes sido dellas testemunhas. \n",
            "Se pensardes^bem nestas historias, devereis \n",
            "banir a escravidão, para que cilas não se repro-\n",
            "duzão. \n",
            "Porque estas historias veracissimas forão de \n",
            "hontem, são de hoje, c serão de amanhã, e infi­\n",
            "nitamente se reproduzirão, emquanto tiverdes \n",
            "escravos. \n",
            "Lede e vereis. \n",
            "-----------------------------------------------------------------------\n",
            "chunk # 19 4  qtde char : 18  qtde token :  start_index: 0\n",
            "\n",
            "SIMEÃO —O CRIOULO \n",
            "-----------------------------------------------------------------------\n"
          ]
        }
      ]
    },
    {
      "cell_type": "markdown",
      "source": [
        "## 3.3 - Manipulando Documentos HTML\n",
        "\n",
        "https://python.langchain.com/docs/integrations/document_loaders/web_base"
      ],
      "metadata": {
        "id": "SNH6_Rxe8YZi"
      }
    },
    {
      "cell_type": "markdown",
      "source": [
        "### Links dos HTML"
      ],
      "metadata": {
        "id": "ryhxQC-s8YZj"
      }
    },
    {
      "cell_type": "code",
      "source": [
        "# As Vítimas Algozes\n",
        "url1 = \"https://www.literaturabrasileira.ufsc.br/documentos/?action=download&id=116979\"\n",
        "\n",
        "# A Escrava Isaura\n",
        "url2 = \"https://www.literaturabrasileira.ufsc.br/documentos/?action=download&id=92389\""
      ],
      "metadata": {
        "id": "OGCYLdON8YZj"
      },
      "execution_count": 86,
      "outputs": []
    },
    {
      "cell_type": "markdown",
      "source": [
        "### Carrega os HTMLs\n",
        "\n",
        "Se ocorrer o **erro** abaixo, instale o Chromedb. Alguma dependência do pacote resolve o problema.\n",
        "\n",
        "---------------------------------------------------------------------------\n",
        "IncompleteRead                            Traceback (most recent call last)\n",
        "/usr/local/lib/python3.10/dist-packages/urllib3/response.py in _error_catcher(self)\n",
        "    709             try:\n",
        "--> 710                 yield\n",
        "    711\n",
        "\n",
        "15 frames\n",
        "IncompleteRead: IncompleteRead(821958 bytes read, 2240625 more expected)\n",
        "\n",
        "The above exception was the direct cause of the following exception:\n",
        "\n",
        "ProtocolError                             Traceback (most recent call last)\n",
        "ProtocolError: ('Connection broken: IncompleteRead(821958 bytes read, 2240625 more expected)', IncompleteRead(821958 bytes read, 2240625 more expected))\n",
        "\n",
        "During handling of the above exception, another exception occurred:\n",
        "\n",
        "ChunkedEncodingError                      Traceback (most recent call last)\n",
        "/usr/local/lib/python3.10/dist-packages/requests/models.py in generate()\n",
        "    816                     yield from self.raw.stream(chunk_size, decode_content=True)\n",
        "    817                 except ProtocolError as e:\n",
        "--> 818                     raise ChunkedEncodingError(e)\n",
        "    819                 except DecodeError as e:\n",
        "    820                     raise ContentDecodingError(e)\n",
        "\n",
        "ChunkedEncodingError: ('Connection broken: IncompleteRead(821958 bytes read, 2240625 more expected)', IncompleteRead(821958 bytes read, 2240625 more expected))"
      ],
      "metadata": {
        "id": "59860cla8YZk"
      }
    },
    {
      "cell_type": "code",
      "source": [
        "# Import das bibliotecas\n",
        "from langchain.document_loaders import WebBaseLoader\n",
        "\n",
        "# Cria o carregador da página\n",
        "carregador = WebBaseLoader([url1, url2])\n",
        "# carregador.requests_kwargs = {'verify':False}\n",
        "\n",
        "# Carrega os documentos\n",
        "documentos = carregador.load()"
      ],
      "metadata": {
        "id": "tVrxbci38YZk"
      },
      "execution_count": 87,
      "outputs": []
    },
    {
      "cell_type": "markdown",
      "source": [
        "### Divide e sobrepõe os HTMLs"
      ],
      "metadata": {
        "id": "YRtM1x9Z8YZk"
      }
    },
    {
      "cell_type": "code",
      "source": [
        "# Import das bibliotecas\n",
        "import os\n",
        "import time\n",
        "from langchain.text_splitter import TokenTextSplitter\n",
        "\n",
        "# Parâmetros\n",
        "chunk_tamanho = 500\n",
        "chunk_sobreposicao = 100\n",
        "\n",
        "text_splitter = TokenTextSplitter(\n",
        "    chunk_size = chunk_tamanho,\n",
        "    chunk_overlap  = chunk_sobreposicao, # Número de tokens sobrepostos entre chunks(pedaços)\n",
        "    length_function = len, # Usa o comprimento do texto como medida de tamanho\n",
        "    add_start_index = True, #\n",
        ")\n",
        "\n",
        "# Guarda o tempo de início\n",
        "tempo_inicio = time.time()\n",
        "\n",
        "# Calcula os chunks dos textos\n",
        "chunks = text_splitter.split_documents(documentos)\n",
        "\n",
        "tempo_final = time.time()\n",
        "\n",
        "print(f\"Carregando e dividindo {len(texto)} documentos htmls em {tempo_final - tempo_inicio} segundos!\")"
      ],
      "metadata": {
        "id": "v6Izr0Qy8YZk",
        "colab": {
          "base_uri": "https://localhost:8080/"
        },
        "outputId": "ecdcd84d-e7e5-493e-e7a4-2e5bd9074d3c"
      },
      "execution_count": 88,
      "outputs": [
        {
          "output_type": "stream",
          "name": "stdout",
          "text": [
            "Carregando e dividindo 1918 documentos htmls em 0.3189356327056885 segundos!\n"
          ]
        }
      ]
    },
    {
      "cell_type": "markdown",
      "source": [
        "### Mostra os chunks\n",
        "\n",
        "A sobreposição se encontra ao final e início de cada pedaço(chunk). A variável 'start_index' define onde começa o texto sem a sobreposição."
      ],
      "metadata": {
        "id": "gzjAso-S8YZl"
      }
    },
    {
      "cell_type": "code",
      "source": [
        "for i, chunk in enumerate(chunks):\n",
        "  if i < 20:\n",
        "    tokens = chunk.page_content.split(\" \")\n",
        "    print('chunk #',i, len(tokens),' qtde char :', len(chunk.page_content),' qtde token :', ' start_index:', chunk.metadata.get('start_index') )\n",
        "    print()\n",
        "    print(chunk.page_content)\n",
        "    print('-----------------------------------------------------------------------')"
      ],
      "metadata": {
        "id": "fhNTYxCh8YZl",
        "colab": {
          "base_uri": "https://localhost:8080/"
        },
        "outputId": "0029d35e-f5bf-4464-95d8-5107ed071128"
      },
      "execution_count": 89,
      "outputs": [
        {
          "output_type": "stream",
          "name": "stdout",
          "text": [
            "chunk # 0 165  qtde char : 1199  qtde token :  start_index: 0\n",
            "\n",
            "\n",
            "\n",
            "\n",
            "\n",
            "\n",
            "\n",
            "\n",
            "\n",
            "\n",
            "\n",
            "\n",
            "\n",
            "\n",
            "\n",
            "\n",
            "\n",
            "As vítimas algozes - Joaquim Manuel de Macedo\n",
            "\n",
            "\n",
            "\n",
            "Fonte: Biblioteca Digital de Literatura de Países Lusófonos\n",
            "\n",
            "LITERATURA BRASILEIRA \n",
            "Textos literários em\n",
            "meio eletrônico\n",
            "As\n",
            "Vítimas-Algozes, de Joaquim Manuel de Macedo\n",
            "\n",
            "Edição de base:\n",
            "Biblioteca Nacional – setor de obras digitalizadas\n",
            "ÍNDICE\n",
            "SIMEÃO, O CRIOULO\n",
            "PAI- RAIOL, O FEITICEIRO\n",
            "LUCINDA, A\n",
            "MUCAMA\n",
            "CONCLUSÃO\n",
            "I\n",
            "SIMEÃO, O CRIOULO\n",
            "I\n",
            "No interior e principalmente longe da vila, ou da\n",
            "freguesia e dos povoados há quase sempre uma venda perto da fazenda: é a\n",
            "parasita que se apega à árvore; pior que isso, é a inimiga hipócrita que rende\n",
            "vassalagem à sua vítima.\n",
            "A venda de que falo é uma taberna especialíssima\n",
            "que não poderia existir, manter-se, medrar em outras condições locais, e em\n",
            "outras condições do trabalho rural, e nem se confunde com a taberna regular que\n",
            "em toda parte se encontra, quanto mais com as casas de grande ou pequeno comércio,\n",
            "onde os lavradores ricos e pobres se provêem do que precisa a casa, quando não\n",
            "lhes é possível esperar pelas remessas dos seus consigna­tários ou fregueses.\n",
            "Essa parasita das fazendas e estabelecimentos agrícolas\n",
            "das vizinhanças facilmente se pode conhecer por suas feições e modos\n",
            "\n",
            "-----------------------------------------------------------------------\n",
            "chunk # 1 203  qtde char : 1214  qtde token :  start_index: 953\n",
            "\n",
            " provêem do que precisa a casa, quando não\n",
            "lhes é possível esperar pelas remessas dos seus consigna­tários ou fregueses.\n",
            "Essa parasita das fazendas e estabelecimentos agrícolas\n",
            "das vizinhanças facilmente se pode conhecer por suas feições e modos\n",
            "característicos, se nos é lícito dizer assim: uma se parece com todas e não há\n",
            "hipótese em que alguma delas, por mais dissimulada que seja, chegue a perder o\n",
            "cará­ter da família. \n",
            "É uma pequena casa de taipa e coberta de telha, tendo às\n",
            "vezes na frente varanda aberta pelos três lados, também coberta de telha e com\n",
            "o teto sustido por esteios fortes, mas rudes e ainda mesmo tortos; as paredes\n",
            "nem sempre são caiadas, o chão não tem assoalho nem ladrilho; quando há\n",
            "varanda, abrem-se para ela uma porta e uma janela; dentro está a ven­da: entre\n",
            "a porta e a janela encostado à parede um banco de pau, defronte um balcão tosco\n",
            "e no bojo ou no espaço que se vê além, grotesca armação de tábuas contendo\n",
            "garrafas, botijas, latas de tabaco em pó, a um canto algumas voltas de fumo em\n",
            "rolo e uma ruim manta de carne-seca. Eis a venda.\n",
            "Há muitas que nem chegam à opulência da que aí fica\n",
            "descrita; em todas porém aparece humilde no fundo do quase vazio bojo a porta\n",
            "baixa que\n",
            "-----------------------------------------------------------------------\n",
            "chunk # 2 201  qtde char : 1227  qtde token :  start_index: 1930\n",
            "\n",
            "aco em pó, a um canto algumas voltas de fumo em\n",
            "rolo e uma ruim manta de carne-seca. Eis a venda.\n",
            "Há muitas que nem chegam à opulência da que aí fica\n",
            "descrita; em todas porém aparece humilde no fundo do quase vazio bojo a porta\n",
            "baixa que comunica pelo corredor imundo com dois ou mais quartos escuros, onde\n",
            "se recolhem as pingues colheitas agrícolas do vendelhão que aliás não tem\n",
            "lavoura.\n",
            "A venda é pouco freqüentada à luz do sol nos dias\n",
            "de serviço; nunca porém, ou raramente se acha solitária: ainda nesses mesmos\n",
            "dias de santo dever do trabalho, homens ociosos, vadios e turbulentos jogam ao\n",
            "balcão com um baralho de cartas machucadas, enegrecidas e como oleosas desde a\n",
            "manhã até o fim da tarde, e é milagre faltar algum incansável tocador de viola;\n",
            "mas apenas chega a noite, começa a concorrência e ferve o negócio.\n",
            "Explorador das trevas protetoras dos vícios e do crime,\n",
            "o vendelhão baixo, ignóbil, sem consciência, paga com abuso duplo e escandaloso\n",
            "a garrafas de aguardente, a rolos de fumo, e a chorados vinténs o café, o\n",
            "açúcar e os cereais que os escravos furtam aos senhores; e cúmplice no furto\n",
            "efetuado pelos escravos, é ladrão por sua vez, roubando a estes nas medidas e\n",
            "no preço dos gêneros.\n",
            "A venda não dorme:\n",
            "-----------------------------------------------------------------------\n",
            "chunk # 3 196  qtde char : 1250  qtde token :  start_index: 2921\n",
            "\n",
            " de fumo, e a chorados vinténs o café, o\n",
            "açúcar e os cereais que os escravos furtam aos senhores; e cúmplice no furto\n",
            "efetuado pelos escravos, é ladrão por sua vez, roubando a estes nas medidas e\n",
            "no preço dos gêneros.\n",
            "A venda não dorme: às horas mortas da\n",
            "noite vêm os quilombolas escravos fugidos e acoitados nas florestas, trazer o\n",
            "tributo de suas depredações nas roças vizinhas ou distantes ao vendelhão que\n",
            "apura nelas segunda colheita do que não semeou e que tem sempre de reserva para\n",
            "os quilombolas recursos de alimentação de que eles não podem prescindir, e\n",
            "também não raras vezes a pólvora e o chumbo para a resistência nos casos de\n",
            "ataque aos quilombos.\n",
            "E o vendelhão é em regra a vigilância protetora do\n",
            "quilombola e o seu espião dissimulado que tem interesse em contrariar a\n",
            "polícia, ou as diligências dos senhores no encalço dos escravos fugidos.\n",
            "Desprezível e nociva durante o dia, a venda é\n",
            "esquálida, medonha, criminosa e atroz durante a noite: os escravos, que aí\n",
            "então se reúnem, embebedam-se, espancam-se, tornando-se muitos incapazes de\n",
            "trabalhar na manhã seguinte; misturam as rixas e as pancadas com a conversação\n",
            "mais indecente sob o caráter e a vida de seus senhores, cuja reputação é\n",
            "ultrajada ao som de gargalhadas selvagens\n",
            "-----------------------------------------------------------------------\n",
            "chunk # 4 186  qtde char : 1246  qtde token :  start_index: 3915\n",
            "\n",
            "em, embebedam-se, espancam-se, tornando-se muitos incapazes de\n",
            "trabalhar na manhã seguinte; misturam as rixas e as pancadas com a conversação\n",
            "mais indecente sob o caráter e a vida de seus senhores, cuja reputação é\n",
            "ultrajada ao som de gargalhadas selvagens: inspirados pelo ódio, pelo horror,\n",
            "pelos sofrimentos inseparáveis da escravidão, se expandem em calúnias terríveis\n",
            "que às vezes chegam até a honra das esposas e das filhas dos senhores; atiçam a\n",
            "raiva que todos eles têm dos feitores, contando histórias lúgubres de castigos\n",
            "exagerados e de cruelíssimas vinganças, a cuja idéia se habituam; em sua\n",
            "credulidade estúpida e ilimitada esses desgraçados escutam boquiabertos a\n",
            "relação dos prodígios do feitiço, e se emprazam para as reuniões noturnas dos\n",
            "feiticeiros; e uns finalmente aprendem com outros mais sabidos a conhecer\n",
            "plantas maléficas, raízes venenosas que produzem a loucura ou dão a morte, e\n",
            "tudo isto e muito mais ainda envolta com a embriaguez, com a desordem, com o\n",
            "quadro da abjeção e do desavergonhamento já natural nas palavras, nas ações,\n",
            "nos gozos do es­cravo.\n",
            "Aos domingos e nos dias santificados, a venda tem\n",
            "centuplicadas as suas glórias nefandas, aproveita a luz e as trevas, o dia e a\n",
            "noite, e por isso mesmo cada lav\n",
            "-----------------------------------------------------------------------\n",
            "chunk # 5 198  qtde char : 1251  qtde token :  start_index: 4917\n",
            "\n",
            " e do desavergonhamento já natural nas palavras, nas ações,\n",
            "nos gozos do es­cravo.\n",
            "Aos domingos e nos dias santificados, a venda tem\n",
            "centuplicadas as suas glórias nefandas, aproveita a luz e as trevas, o dia e a\n",
            "noite, e por isso mesmo cada lavrador conta de menos na roça e demais na\n",
            "enfermaria al­guns escravos na manhã do dia que se segue.\n",
            "De ordinário, pelo menos muitas vezes, é nessas\n",
            "reuniões, é nesse foco de peste moral que se premeditam e planejam os crimes\n",
            "que ensangüen­tam e alvoroçam as fazendas. Na hipótese de uma insurreição de\n",
            "escravos, a venda nunca seria alheia ao tremendo acontecimento.\n",
            "Todavia tolera-se a venda: o governo não pode\n",
            "ignorar, a polícia local sabe, os fazendeiros e lavradores conhecem e sentem\n",
            "que essa espelunca ignóbil é fonte de vícios e de crimes, manancial turvo e\n",
            "hediondo de pro­funda corrupção, constante ameaça à propriedade, patíbulo da\n",
            "reputa­ção, e em certos casos forja de arma assassina; porque é e será sempre o\n",
            "ponto de ajuntamento de escravos onde se conspire ou se inicie a conspi­ração;\n",
            "e ainda assim a venda subsiste e não há força capaz de aniquilá-la.\n",
            "Porquê?...\n",
            "É que se proibissem a venda, de que trato, se lhe\n",
            "fechassem a porta, se lhe destruíssem o teto, ela renasceria com outro nome, e\n",
            "-----------------------------------------------------------------------\n",
            "chunk # 6 187  qtde char : 1187  qtde token :  start_index: 5934\n",
            "\n",
            " se inicie a conspi­ração;\n",
            "e ainda assim a venda subsiste e não há força capaz de aniquilá-la.\n",
            "Porquê?...\n",
            "É que se proibissem a venda, de que trato, se lhe\n",
            "fechassem a porta, se lhe destruíssem o teto, ela renasceria com outro nome, e,\n",
            "como quer que fosse, e, onde quer que fosse, havia de manter-se, embora\n",
            "dissimulada e abusivamente.\n",
            "A lógica é implacável.\n",
            "Não é possível que haja escravos sem todas as\n",
            "conseqüências escandalo­sas da escravidão: querer a úlcera sem o pus, o cancro\n",
            "sem a podridão é loucura ou capricho infantil.\n",
            "Perigosa e repugnante por certo, e ainda assim não das\n",
            "mais formidá­veis conseqüências da escravidão, a venda de que estou\n",
            "falando é inevitá­vel; porque nasce da vida, das condições, e das exigências\n",
            "irresistíveis da situação dos escravos.\n",
            "A venda é o espelho que retrata ao vivo o rosto e\n",
            "o espírito da escravi­dão.\n",
            "Se não fosse, se não se chamasse venda, teria\n",
            "outro e mil nomes no pa­tuá do escravo; seria uma casa no deserto, um sítio nas\n",
            "brenhas; estaria na gruta da floresta, em um antro tomado às feras, mas onde\n",
            "iria sempre o escravo, o quilombola, vender o furto, embriagar-se, ultrajar a\n",
            "honra do senhor e de sua família, a quem detesta, engolfar\n",
            "-----------------------------------------------------------------------\n",
            "chunk # 7 198  qtde char : 1271  qtde token :  start_index: 6866\n",
            "\n",
            "; seria uma casa no deserto, um sítio nas\n",
            "brenhas; estaria na gruta da floresta, em um antro tomado às feras, mas onde\n",
            "iria sempre o escravo, o quilombola, vender o furto, embriagar-se, ultrajar a\n",
            "honra do senhor e de sua família, a quem detesta, engolfar-se em vícios, ouvir\n",
            "con­selhos envenenados, inflamar-se em ódio, e habituar-se à idéia do crime\n",
            "filho da vingança; porque o escravo, por melhor que seja tratado, é, em regra\n",
            "geral, pelo fato de ser escravo, sempre e natural e logicamente o pri­meiro e\n",
            "mais rancoroso inimigo de seu senhor.\n",
            "O escravo precisa dar expansão à sua raiva, que ferve\n",
            "incessante, e es­quecer por momentos ou horas as misérias e os tormentos\n",
            "insondáveis da escravidão; é na venda que ele se expande e esquece; aí o\n",
            "ódio fala licen­cioso e a aguardente afoga em vapores e no atordoamento a\n",
            "memória.\n",
            "Entretanto, a venda é horrível; é o recinto da\n",
            "assembléia selvagem dos escravos, onde se eleva a tribuna malvada da lascívia\n",
            "feroz, da difamação nojenta e do crime sem suscetibilidade de remorso; ali a\n",
            "matrona veneranda, a esposa honesta, a donzela-anjo são julgadas e medidas pela\n",
            "bitola da moralidade dos escravos; o aleive é aplaudido e sancionado como\n",
            "verdade provada, e o aleive se lança com as formas esquálidas da selvatiqueza\n",
            "que fala\n",
            "-----------------------------------------------------------------------\n",
            "chunk # 8 186  qtde char : 1220  qtde token :  start_index: 7875\n",
            "\n",
            "ade de remorso; ali a\n",
            "matrona veneranda, a esposa honesta, a donzela-anjo são julgadas e medidas pela\n",
            "bitola da moralidade dos escravos; o aleive é aplaudido e sancionado como\n",
            "verdade provada, e o aleive se lança com as formas esquálidas da selvatiqueza\n",
            "que fala com a eloqüência do rancor sublimizado pelo álcool; ali se acendem\n",
            "fúrias contra os feitores e os senhores: ali se rouba a fazenda e se fazem\n",
            "votos ferozes pela morte daqueles que se detestam, porque, é im­possível\n",
            "negá-lo, são opressores.\n",
            "E não há para suprimir a venda, essa venda fatal,\n",
            "que rouba, desmoraliza, corrompe, calunia e às vezes mata, senão um só, um\n",
            "único meio: é suprimir a escravidão.\n",
            "Não há; porque a venda está intimamente presa,\n",
            "imprescindivelmente adunada à vida do escravo; sem ela, os suicídios dos\n",
            "escravos espantariam pelas suas proporções.\n",
            "Onde houver fazendas, haverá por força a venda perversa,\n",
            "ameaçadora, infamíssima, como a tenho descrito e a conhecem todos, sem exceção,\n",
            "todos os lavradores.\n",
            "Não há rei sem trono, não há família sem lar, nem aves\n",
            "sem ninho, nem fera sem antro; o trono, o lar, o ninho, o antro do escravo é,\n",
            "antes da senzala, a venda.\n",
            "A venda, que vos parece apenas repugnante,\n",
            "corruptora, ladra e infa­me, é\n",
            "-----------------------------------------------------------------------\n",
            "chunk # 9 187  qtde char : 1192  qtde token :  start_index: 8861\n",
            "\n",
            "\n",
            "Não há rei sem trono, não há família sem lar, nem aves\n",
            "sem ninho, nem fera sem antro; o trono, o lar, o ninho, o antro do escravo é,\n",
            "antes da senzala, a venda.\n",
            "A venda, que vos parece apenas repugnante,\n",
            "corruptora, ladra e infa­me, é, ainda mais, formidável e atroz; mas em todos\n",
            "esses atributos digna, legítima filha da escravidão, que a gerou, criou,\n",
            "sustenta, impõe, e que há de mantê-la arraigada à sua existência.\n",
            "É um mal absolutamente dependente, porém inseparável de\n",
            "outro mal; não é causa, é efeito; não é árvore, é fruto de árvore.\n",
            "Se quiserdes suprimir a venda-inferno, haveis de\n",
            "suprimir primeiro a escravidão-demônio.\n",
            "II\n",
            "Era em uma dessas vendas sinistras como a que\n",
            "acabamos de descrever. \n",
            "O sítio era solitário; a estrada rompia pelo meio vasta\n",
            "floresta que cortava sinuosa, e, descendo declive suave, ia\n",
            "atravessar tênue corrente d’água alimentada por brejal vizinho e de novo se\n",
            "perdia, como embe­bendo-se no seio do bosque.\n",
            "A venda mostrava-se triste à beira da estrada,\n",
            "que em sua frente se alargava cerca de seis ou oito braças; tinha ao lado\n",
            "direito o brejal a esten­der-se para trás, e ao esquerdo e pegada à casa uma\n",
            "rude tranqueira de pau, dando entrada para um terre\n",
            "-----------------------------------------------------------------------\n",
            "chunk # 10 198  qtde char : 1275  qtde token :  start_index: 9807\n",
            "\n",
            "enda mostrava-se triste à beira da estrada,\n",
            "que em sua frente se alargava cerca de seis ou oito braças; tinha ao lado\n",
            "direito o brejal a esten­der-se para trás, e ao esquerdo e pegada à casa uma\n",
            "rude tranqueira de pau, dando entrada para um terreiro imundo, que se adiantava\n",
            "pouco além da cozinha. Não havia criação no terreiro; apenas a ele se recolhiam\n",
            "à noite um porco, que chafurdava na lama, e um casal de patos, que grasnavam no\n",
            "brejo.\n",
            "A venda se isolava na solidão, mas não longe de\n",
            "fazendas e sítios, que se anunciavam de madrugada pelo cantar dos galos, à\n",
            "tarde pelo mugir dos bois, à noite pelo latir dos cães.\n",
            "Os cavaleiros e viandantes que passavam às vezes durante\n",
            "o dia, não se lembravam nunca de chegar-se ou parar àquela venda desprezível,\n",
            "onde em compensação faziam sempre estação demorada os escravos carreiros ou\n",
            "tropeiros que iam ou voltavam, conduzindo gêneros.\n",
            "Entretanto, aquele teto miserável, albergue de vícios e\n",
            "torpezas, jamais se achava em abandono de fregueses.\n",
            "Há poucos anos, em um dia calmoso do mês de fevereiro,\n",
            "viam-se às três horas da tarde nessa venda certas figuras, formando um\n",
            "quadro quase constantemente ali observado com insignificantes modificações até\n",
            "a hora do negro concurso noturno.\n",
            "Para dentro do balcão estava um menino de do\n",
            "-----------------------------------------------------------------------\n",
            "chunk # 11 197  qtde char : 1263  qtde token :  start_index: 10801\n",
            "\n",
            " poucos anos, em um dia calmoso do mês de fevereiro,\n",
            "viam-se às três horas da tarde nessa venda certas figuras, formando um\n",
            "quadro quase constantemente ali observado com insignificantes modificações até\n",
            "a hora do negro concurso noturno.\n",
            "Para dentro do balcão estava um menino de doze anos, de\n",
            "pés no chão, vestido de calças e camisa que desde um mês não mudava, e cuja cor\n",
            "e qualidade do pano escapariam ao mais teimoso exame; era o caixeiro mandrião,\n",
            "e já perdido pela desmoralização, pela incontinência da pala­vra e pela\n",
            "convivência com os vadios e os escravos. À porta da venda via-se em pé a\n",
            "olhar a estrada um homem de meia-idade, cabeludo, amarelo, em mangas de camisa\n",
            "com o colarinho desabotoado, o peito à mostra, e calçando grandes tamancos: era\n",
            "o vendelhão.\n",
            "Em uma extremidade do balcão sentava-se um homem avelhantado,\n",
            "tendo as pernas pendidas, os pés descalços, os vestidos remendados, um velho\n",
            "chapéu de palha na cabeça, e ao peito uma viola, em que tocava de contínuo as\n",
            "músicas rudes dos fados. Na outra extremidade do balcão quatro sujeitos moços\n",
            "quase todos, um ainda imberbe, todos quatro mais ou menos miseravelmente\n",
            "vestidos, jogavam o pacau, rixando a todo mo­mento, e não se poupando\n",
            "acusações de furtos e de fraude no jogo.\n",
            "Um último fregu\n",
            "-----------------------------------------------------------------------\n",
            "chunk # 12 185  qtde char : 1219  qtde token :  start_index: 11827\n",
            "\n",
            "idade do balcão quatro sujeitos moços\n",
            "quase todos, um ainda imberbe, todos quatro mais ou menos miseravelmente\n",
            "vestidos, jogavam o pacau, rixando a todo mo­mento, e não se poupando\n",
            "acusações de furtos e de fraude no jogo.\n",
            "Um último freguês enfim, figura sinistra, tendo olhos de\n",
            "tigre, boca, por assim dizer, sem lábios, e com imensa barba malcuidada,\n",
            "parecia dor­mir estendido em um banco de pau defronte do balcão.\n",
            "De espaço em espaço a aguardente inspirava o tocador de\n",
            "viola e ani­mava os jogadores.\n",
            "Às quatro horas da tarde um cavalo, correndo à\n",
            "desfilada, veio estacar à porta da venda, pondo-se o cavaleiro de um\n",
            "salto no chão.\n",
            "O cavaleiro era um crioulo escravo ainda muito jovem.\n",
            "– Oh!... O grande Simeão!... – exclamou o vendelhão,\n",
            "abraçando o escravo.\n",
            "– Uma pinga que estou com muita pressa – disse este, e\n",
            "correu para dentro da venda.\n",
            "Simeão recebeu logo um copo cheio de aguardente, que\n",
            "bebeu de uma vez, atirando o resto à cara do menino, que o servira.\n",
            "III\n",
            "Simeão devia ter vinte anos: era um crioulo de raça pura\n",
            "africana, mas cujos caracteres físicos aliás favoravelmente modificados pelo\n",
            "clima e pe­la influência natural do país onde nascera, não tinham sido ainda\n",
            "afeiados pelos serviços rigorosos da\n",
            "-----------------------------------------------------------------------\n",
            "chunk # 13 185  qtde char : 1264  qtde token :  start_index: 12790\n",
            "\n",
            "ira.\n",
            "III\n",
            "Simeão devia ter vinte anos: era um crioulo de raça pura\n",
            "africana, mas cujos caracteres físicos aliás favoravelmente modificados pelo\n",
            "clima e pe­la influência natural do país onde nascera, não tinham sido ainda\n",
            "afeiados pelos serviços rigorosos da escravidão, embora ele fosse escravo.\n",
            "Havia em seus modos a expansão que só parece própria do\n",
            "homem li­vre: ele não tinha nem as mãos calejadas, nem os pés esparramados do\n",
            "ne­gro trabalhador de enxada: era um escravo de cabelos penteados, vestido com\n",
            "asseio e certa faceirice, calçado, falando com os vícios de\n",
            "linguagem triviais no campo, mas sem a bruteza comum na gente da sua condição;\n",
            "até certo ponto, pois, aceito, apadrinhado, protegido e acariciado pela fa­mília\n",
            "livre, pelo amor dos senhores.\n",
            "A história de Simeão tem mil histórias irmãs até aos\n",
            "vinte anos, que ele conta; há de, portanto, trazer à memória mil histórias,\n",
            "como a sua, cheia de desgostos e de ressentimentos de ingratidão, que aliás,\n",
            "sem o pensar, os benfeitores cimentam. A história que vai seguir-se depois dos\n",
            "vinte anos talvez lembre alguma infelizmente mais ou menos semelhante, e cu­jo\n",
            "horror é somente um dos frutos e dos horrores da escravidão.\n",
            "Sementeira de venenosos espinhos, a escravidão não pode\n",
            "produzir flo­res inocent\n",
            "-----------------------------------------------------------------------\n",
            "chunk # 14 184  qtde char : 1237  qtde token :  start_index: 13801\n",
            "\n",
            "ria que vai seguir-se depois dos\n",
            "vinte anos talvez lembre alguma infelizmente mais ou menos semelhante, e cu­jo\n",
            "horror é somente um dos frutos e dos horrores da escravidão.\n",
            "Sementeira de venenosos espinhos, a escravidão não pode\n",
            "produzir flo­res inocentes.\n",
            "A história de Simeão ainda não criminoso é simples:\n",
            "muitos dos leito­res deste romance a encontrarão realizada, viva,\n",
            "eloqüentemente exposta no seio de seu lar doméstico.\n",
            "Domingos Caetano teve de sua mulher muito e bem\n",
            "merecidamente amada uma filha que satisfizera os doces votos de ambos.\n",
            "Angélica, a no­bre esposa e virtuosa mulher, não pôde ter a dita de amamentar o\n",
            "seu an­jo, e confiou-o aos peitos de uma escrava que acabava de ser mãe como\n",
            "ela: a escrava que amamentara dois filhos, o próprio e o da senhora, morreu\n",
            "dois anos depois, e Angélica pagou-lhe a amamentação da sua queri­da Florinda,\n",
            "criando com amor maternal o crioulinho Simeão, colaço de sua filha.\n",
            "A compaixão e o reconhecimento em breve se transformaram\n",
            "em ver­dadeira afeição: o crioulo era esperto e engraçado, começou fazendo rir,\n",
            "acabou fazendo-se amar. Simeão divertia, dava encanto às travessuras de\n",
            "Florinda: Domingos Caetano e Angélica o amaram em dobro por isso.\n",
            "Até os oito anos de idade Simeão te\n",
            "-----------------------------------------------------------------------\n",
            "chunk # 15 187  qtde char : 1226  qtde token :  start_index: 14796\n",
            "\n",
            "ira afeição: o crioulo era esperto e engraçado, começou fazendo rir,\n",
            "acabou fazendo-se amar. Simeão divertia, dava encanto às travessuras de\n",
            "Florinda: Domingos Caetano e Angélica o amaram em dobro por isso.\n",
            "Até os oito anos de idade Simeão teve prato à mesa e\n",
            "leito no quarto de seus senhores, e não teve consciência de sua condição de\n",
            "escravo. Depois dos oito anos apenas foi privado da mesa e do quarto em comum;\n",
            "conti­nuou, porém, a receber tratamento de filho adotivo, mas criado com amor\n",
            "desmazelado e imprudente, e cresceu enfim sem hábito de traba­lho, abusando\n",
            "muitas vezes da fraqueza dos senhores, sem atingir a digni­dade de homem livre,\n",
            "e sem reconhecer nem sentir a absoluta submissão do escravo.\n",
            "Era o tipo mais perfeito do crioulo, cria estimada da\n",
            "família.\n",
            "IV\n",
            "Mais de uma vez parentes e amigos de Domingos Caetano e\n",
            "Angélica disseram a um ou outro, mostrando Simeão:\n",
            "– Estão criando um inimigo: a regra não falha.\n",
            "E Domingos respondia:\n",
            "– Coitado! Ele é tão bom!\n",
            "E Angélica dizia sorrindo-se:\n",
            "É impossível que nos seja ingrato.\n",
            "– Ainda não houve um que o não fosse! – tornavam-lhes\n",
            "debalde; porque os senhores de Simeão nem por essas já triviais advertências\n",
            "menos condescendentes e afetuosos se mostravam com o\n",
            "-----------------------------------------------------------------------\n",
            "chunk # 16 184  qtde char : 1255  qtde token :  start_index: 15774\n",
            "\n",
            "E Angélica dizia sorrindo-se:\n",
            "É impossível que nos seja ingrato.\n",
            "– Ainda não houve um que o não fosse! – tornavam-lhes\n",
            "debalde; porque os senhores de Simeão nem por essas já triviais advertências\n",
            "menos condescendentes e afetuosos se mostravam com o seu crioulo estimado.\n",
            "Breve reflexão de passagem.\n",
            "As apreensões da ingratidão e da inimizade desses\n",
            "escravos, crias predi­letas aquecidas no seio da família, têm por certo o\n",
            "fundamento da mais triste experiência; mas a sanção da regra sem o estudo e\n",
            "reconhecimento da causa do mal tenderia a fazer apagar as santas inspirações da\n",
            "caridade, e a empedernir os corações de todos os senhores de escravos.\n",
            "Fora absurdo pretender que a ingratidão às vezes até\n",
            "profundamente perversa dos crioulos amorosamente criados por seus senhores é\n",
            "neles ina­ta ou condição natural da sua raça: a fonte do mal, que é mais negra\n",
            "do que a cor desses infelizes, é a escravidão, a consciência desse estado violen­ta\n",
            "e barbaramente imposto, estado lúgubre, revoltante, condição ignóbil, mãe do\n",
            "ódio, pústula encerradora de raiva, pantanal dos vícios mais tor­pes que\n",
            "degeneram, infeccionam, e tornam perverso o coração da vítima, o coração do\n",
            "escravo.\n",
            "No amor dos senhores o crioulo estimado viu, sentiu,\n",
            "gozou os reflexos das fl\n",
            "-----------------------------------------------------------------------\n",
            "chunk # 17 192  qtde char : 1253  qtde token :  start_index: 16794\n",
            "\n",
            "ódio, pústula encerradora de raiva, pantanal dos vícios mais tor­pes que\n",
            "degeneram, infeccionam, e tornam perverso o coração da vítima, o coração do\n",
            "escravo.\n",
            "No amor dos senhores o crioulo estimado viu, sentiu,\n",
            "gozou os reflexos das flamas vivificantes, generosas, sagradas da liberdade:\n",
            "mas vem um dia em que ele se reconhece escravo, coisa e não homem, apesar da\n",
            "afeição, das condescendências, dos caridosos benefícios do senhor – amigo, da\n",
            "se­nhora – segunda mãe; vem a primeira hora sinistra em que ele, que até então\n",
            "vivera em sonhos e ilusões, desperta com a certeza horrível de que é um\n",
            "condenado daquém-berço; condenado sem crime; tendo alma e con­siderado simples\n",
            "matéria ambulante; coisa, animal, que se vende, como a casa, como o boi e como\n",
            "a besta; finalmente miserável e perpétuo des­terrado em deserto sem horizonte,\n",
            "tendo vida e não vivendo para si, dese­jando sem esperanças, não possuindo de\n",
            "seu nem o pleno direito dos três amores mais santos: o de filho, o de esposo, e\n",
            "o de pai; máquina para ca­var com a enxada, homem desnaturado, miséria\n",
            "respirante e movente que os próprios cães distinguem pela marca do desprezo\n",
            "social.\n",
            "O crioulo escravo e estimado, por isso mesmo que tem\n",
            "mais aguçada a inteligência, e por isso mesmo que deram-\n",
            "-----------------------------------------------------------------------\n",
            "chunk # 18 205  qtde char : 1294  qtde token :  start_index: 17787\n",
            "\n",
            " pai; máquina para ca­var com a enxada, homem desnaturado, miséria\n",
            "respirante e movente que os próprios cães distinguem pela marca do desprezo\n",
            "social.\n",
            "O crioulo escravo e estimado, por isso mesmo que tem\n",
            "mais aguçada a inteligência, e por isso mesmo que deram-lhe as mostras dos\n",
            "gozos e da superioridade, mas não lhe deram a condição e a educação próprias do\n",
            "homem livre, pesa melhor que os escravos brutais o preço e o encanto da\n",
            "verdadeira liberdade; no meio dos benefícios compreende que lhe falta um que\n",
            "vale mais do que todos os outros somados e multiplicados; feliz pelos favores\n",
            "que recebe, pelos dons da afeição de que é objeto, esbarra sempre diante da\n",
            "realidade da escravidão, que o abate, avilta e moral­mente o aniquila: deseja e\n",
            "não tem, quer e não pode, sonha e não realiza o bem supremo da terra, escravo\n",
            "se reconhece e bebe o ódio, os maus cos­tumes, o veneno, a perversidade da\n",
            "escravidão.\n",
            "O crioulo escravo e estimado, em quem o amor e as\n",
            "condescendências do senhor animam e atiçam expansões naturais do amplo gozo da\n",
            "liberda­de, mistura nos dias da reflexão mais sombria e triste a lembrança dos\n",
            "sa­bores do reflexo da liberdade com a ameaça e os negros horrores da escra­vidão;\n",
            "habituado à impunidade garantida pela afeição, ousa muito e abu­sa ainda mais;\n",
            "como predileto da\n",
            "-----------------------------------------------------------------------\n",
            "chunk # 19 189  qtde char : 1253  qtde token :  start_index: 18828\n",
            "\n",
            "da­de, mistura nos dias da reflexão mais sombria e triste a lembrança dos\n",
            "sa­bores do reflexo da liberdade com a ameaça e os negros horrores da escra­vidão;\n",
            "habituado à impunidade garantida pela afeição, ousa muito e abu­sa ainda mais;\n",
            "como predileto da família, e escravo, portanto infecciona­do de todos os vícios\n",
            "e ferozes impulsos da madre-fera escravidão, insolen­te e malcriado, nem\n",
            "perfeitamente livre, nem absolutamente escravo, bom juiz odiento, pois que\n",
            "conhece as duas condições, e da melhor é bas­tardo, e da pior legítimo\n",
            "filho, o crioulo escravo e estimado de seu se­nhor, torna-se em breve tempo\n",
            "ingrato e muitas vezes leva a ingratidão a perversidade, porque é escravo.\n",
            "Mas a sua ingratidão e a sua perversidade não se\n",
            "explicam pela nature­za da raça, o que seria absurdo; explicam-se pela condição\n",
            "de escravo, que corrompe e perverte o homem.\n",
            "O\n",
            "crioulo amorosamente criado pela família dos senhores seria talvez o seu melhor\n",
            "amigo, se não fosse escravo.\n",
            "V\n",
            "Ninguém poderia ter marcado, nem o próprio Simeão seria\n",
            "capaz de determinar o dia em que lhe toldara as alegrias do coração inocente a\n",
            "pri­meira gota de fel destilado pela consciência da sua escravidão. Havia para\n",
            "ele na casa de seus amorosos senhores um céu e um inferno: na sala\n",
            "-----------------------------------------------------------------------\n"
          ]
        }
      ]
    },
    {
      "cell_type": "markdown",
      "source": [
        "# 4 - Divisão Recursiva de Caracter"
      ],
      "metadata": {
        "id": "K3Npy5xPrqUc"
      }
    },
    {
      "cell_type": "markdown",
      "source": [
        "## 4.1 - Manipulando documentos Texto"
      ],
      "metadata": {
        "id": "gUETGXYCrwJ5"
      }
    },
    {
      "cell_type": "markdown",
      "source": [
        "### Cria o texto"
      ],
      "metadata": {
        "id": "gkw0zS1-rwKB"
      }
    },
    {
      "cell_type": "code",
      "source": [
        "# trecho de https://www.literaturabrasileira.ufsc.br/documentos/?action=download&id=116979', #As Vítimas algozes\n",
        "\n",
        "\n",
        "texto = \"\"\"\n",
        "No interior e principalmente longe da vila, ou da freguesia e dos povoados há quase\n",
        "sempre uma venda perto da fazenda: é a parasita que se apega à árvore; pior que isso,\n",
        "é a inimiga hipócrita que rende vassalagem à sua vítima.\n",
        "A venda de que falo é uma taberna especialíssima\n",
        "que não poderia existir, manter-se, medrar em outras condições locais, e em\n",
        "outras condições do trabalho rural, e nem se confunde com a taberna regular que\n",
        "em toda parte se encontra, quanto mais com as casas de grande ou pequeno comércio,\n",
        "onde os lavradores ricos e pobres se provêem do que precisa a casa, quando não\n",
        "lhes é possível esperar pelas remessas dos seus consigna­tários ou fregueses.\n",
        "Essa parasita das fazendas e estabelecimentos agrícolas\n",
        "das vizinhanças facilmente se pode conhecer por suas feições e modos\n",
        "característicos, se nos é lícito dizer assim: uma se parece com todas e não há\n",
        "hipótese em que alguma delas, por mais dissimulada que seja, chegue a perder o\n",
        "cará­ter da família.\n",
        "É uma pequena casa de taipa e coberta de telha, tendo às\n",
        "vezes na frente varanda aberta pelos três lados, também coberta de telha e com\n",
        "o teto sustido por esteios fortes, mas rudes e ainda mesmo tortos; as paredes\n",
        "nem sempre são caiadas, o chão não tem assoalho nem ladrilho; quando há\n",
        "varanda, abrem-se para ela uma porta e uma janela; dentro está a ven­da: entre\n",
        "a porta e a janela encostado à parede um banco de pau, defronte um balcão tosco\n",
        "e no bojo ou no espaço que se vê além, grotesca armação de tábuas contendo\n",
        "garrafas, botijas, latas de tabaco em pó, a um canto algumas voltas de fumo em\n",
        "rolo e uma ruim manta de carne-seca. Eis a venda.\n",
        "Há muitas que nem chegam à opulência da que aí fica\n",
        "descrita; em todas porém aparece humilde no fundo do quase vazio bojo a porta\n",
        "baixa que comunica pelo corredor imundo com dois ou mais quartos escuros, onde\n",
        "se recolhem as pingues colheitas agrícolas do vendelhão que aliás não tem\n",
        "lavoura.\n",
        "\"\"\""
      ],
      "metadata": {
        "id": "qTbalvPSrwKC"
      },
      "execution_count": 90,
      "outputs": []
    },
    {
      "cell_type": "markdown",
      "source": [
        "### Divide e sobrepõe o texto"
      ],
      "metadata": {
        "id": "Qhk3tzydrwKC"
      }
    },
    {
      "cell_type": "code",
      "source": [
        "# Import das bibliotecas\n",
        "import os\n",
        "import time\n",
        "from langchain.text_splitter import RecursiveCharacterTextSplitter\n",
        "\n",
        "# Parâmetros\n",
        "chunk_tamanho = 500\n",
        "chunk_sobreposicao = 100\n",
        "\n",
        "text_splitter = RecursiveCharacterTextSplitter(\n",
        "    chunk_size = chunk_tamanho,\n",
        "    chunk_overlap  = chunk_sobreposicao, # Número de tokens sobrepostos entre chunks(pedaços)\n",
        "    length_function = len, # Usa o comprimento do texto como medida de tamanho\n",
        "    add_start_index = True, #\n",
        ")\n",
        "\n",
        "# Guarda o tempo de início\n",
        "tempo_inicio = time.time()\n",
        "\n",
        "# Calcula os chunks dos textos\n",
        "chunks = text_splitter.create_documents([texto])\n",
        "\n",
        "tempo_final = time.time()\n",
        "\n",
        "print(f\"Carregando e dividindo {len(texto)} documentos texto em {tempo_final - tempo_inicio} segundos!\")"
      ],
      "metadata": {
        "colab": {
          "base_uri": "https://localhost:8080/"
        },
        "outputId": "b6f4bf32-8d6a-45af-c302-a8e351a9a787",
        "id": "BRpIojDNrwKC"
      },
      "execution_count": 91,
      "outputs": [
        {
          "output_type": "stream",
          "name": "stdout",
          "text": [
            "Carregando e dividindo 1918 documentos texto em 0.0020737648010253906 segundos!\n"
          ]
        }
      ]
    },
    {
      "cell_type": "code",
      "source": [
        "print(len(chunks))"
      ],
      "metadata": {
        "colab": {
          "base_uri": "https://localhost:8080/"
        },
        "outputId": "2b3bd460-d119-4702-ca33-7e59458e6437",
        "id": "uvi9qLGwrwKD"
      },
      "execution_count": 92,
      "outputs": [
        {
          "output_type": "stream",
          "name": "stdout",
          "text": [
            "5\n"
          ]
        }
      ]
    },
    {
      "cell_type": "code",
      "source": [
        "print(chunks)"
      ],
      "metadata": {
        "colab": {
          "base_uri": "https://localhost:8080/"
        },
        "outputId": "f0aaddda-31a1-4c00-afd3-c3eeda9ea746",
        "id": "EtU8fGYyrwKD"
      },
      "execution_count": 93,
      "outputs": [
        {
          "output_type": "stream",
          "name": "stdout",
          "text": [
            "[Document(page_content='No interior e principalmente longe da vila, ou da freguesia e dos povoados há quase\\nsempre uma venda perto da fazenda: é a parasita que se apega à árvore; pior que isso,\\né a inimiga hipócrita que rende vassalagem à sua vítima.\\nA venda de que falo é uma taberna especialíssima\\nque não poderia existir, manter-se, medrar em outras condições locais, e em\\noutras condições do trabalho rural, e nem se confunde com a taberna regular que', metadata={'start_index': 1}), Document(page_content='outras condições do trabalho rural, e nem se confunde com a taberna regular que\\nem toda parte se encontra, quanto mais com as casas de grande ou pequeno comércio,\\nonde os lavradores ricos e pobres se provêem do que precisa a casa, quando não\\nlhes é possível esperar pelas remessas dos seus consigna\\xadtários ou fregueses.\\nEssa parasita das fazendas e estabelecimentos agrícolas\\ndas vizinhanças facilmente se pode conhecer por suas feições e modos', metadata={'start_index': 353}), Document(page_content='das vizinhanças facilmente se pode conhecer por suas feições e modos\\ncaracterísticos, se nos é lícito dizer assim: uma se parece com todas e não há\\nhipótese em que alguma delas, por mais dissimulada que seja, chegue a perder o\\ncará\\xadter da família.\\nÉ uma pequena casa de taipa e coberta de telha, tendo às\\nvezes na frente varanda aberta pelos três lados, também coberta de telha e com\\no teto sustido por esteios fortes, mas rudes e ainda mesmo tortos; as paredes', metadata={'start_index': 729}), Document(page_content='o teto sustido por esteios fortes, mas rudes e ainda mesmo tortos; as paredes\\nnem sempre são caiadas, o chão não tem assoalho nem ladrilho; quando há\\nvaranda, abrem-se para ela uma porta e uma janela; dentro está a ven\\xadda: entre\\na porta e a janela encostado à parede um banco de pau, defronte um balcão tosco\\ne no bojo ou no espaço que se vê além, grotesca armação de tábuas contendo\\ngarrafas, botijas, latas de tabaco em pó, a um canto algumas voltas de fumo em', metadata={'start_index': 1113}), Document(page_content='garrafas, botijas, latas de tabaco em pó, a um canto algumas voltas de fumo em\\nrolo e uma ruim manta de carne-seca. Eis a venda.\\nHá muitas que nem chegam à opulência da que aí fica\\ndescrita; em todas porém aparece humilde no fundo do quase vazio bojo a porta\\nbaixa que comunica pelo corredor imundo com dois ou mais quartos escuros, onde\\nse recolhem as pingues colheitas agrícolas do vendelhão que aliás não tem\\nlavoura.', metadata={'start_index': 1497})]\n"
          ]
        }
      ]
    },
    {
      "cell_type": "markdown",
      "source": [
        "### Mostra os chunks\n",
        "\n",
        "A sobreposição se encontra ao final e início de cada pedaço(chunk). A variável 'start_index' define onde começa o texto sem a sobreposição."
      ],
      "metadata": {
        "id": "gM1KC55ErwKD"
      }
    },
    {
      "cell_type": "code",
      "source": [
        "for i, chunk in enumerate(chunks):\n",
        "  if i < 20:\n",
        "    tokens = chunk.page_content.split(\" \")\n",
        "    print('chunk #',i, len(tokens),' qtde char :', len(chunk.page_content),' qtde token :', ' start_index:', chunk.metadata.get('start_index') )\n",
        "    print()\n",
        "    print(chunk.page_content)\n",
        "    print('-----------------------------------------------------------------------')"
      ],
      "metadata": {
        "colab": {
          "base_uri": "https://localhost:8080/"
        },
        "outputId": "32b86230-3147-4211-c167-e95ab880872a",
        "id": "MlNWRoHMrwKD"
      },
      "execution_count": 94,
      "outputs": [
        {
          "output_type": "stream",
          "name": "stdout",
          "text": [
            "chunk # 0 72  qtde char : 431  qtde token :  start_index: 1\n",
            "\n",
            "No interior e principalmente longe da vila, ou da freguesia e dos povoados há quase\n",
            "sempre uma venda perto da fazenda: é a parasita que se apega à árvore; pior que isso,\n",
            "é a inimiga hipócrita que rende vassalagem à sua vítima.\n",
            "A venda de que falo é uma taberna especialíssima\n",
            "que não poderia existir, manter-se, medrar em outras condições locais, e em\n",
            "outras condições do trabalho rural, e nem se confunde com a taberna regular que\n",
            "-----------------------------------------------------------------------\n",
            "chunk # 1 68  qtde char : 444  qtde token :  start_index: 353\n",
            "\n",
            "outras condições do trabalho rural, e nem se confunde com a taberna regular que\n",
            "em toda parte se encontra, quanto mais com as casas de grande ou pequeno comércio,\n",
            "onde os lavradores ricos e pobres se provêem do que precisa a casa, quando não\n",
            "lhes é possível esperar pelas remessas dos seus consigna­tários ou fregueses.\n",
            "Essa parasita das fazendas e estabelecimentos agrícolas\n",
            "das vizinhanças facilmente se pode conhecer por suas feições e modos\n",
            "-----------------------------------------------------------------------\n",
            "chunk # 2 77  qtde char : 461  qtde token :  start_index: 729\n",
            "\n",
            "das vizinhanças facilmente se pode conhecer por suas feições e modos\n",
            "característicos, se nos é lícito dizer assim: uma se parece com todas e não há\n",
            "hipótese em que alguma delas, por mais dissimulada que seja, chegue a perder o\n",
            "cará­ter da família.\n",
            "É uma pequena casa de taipa e coberta de telha, tendo às\n",
            "vezes na frente varanda aberta pelos três lados, também coberta de telha e com\n",
            "o teto sustido por esteios fortes, mas rudes e ainda mesmo tortos; as paredes\n",
            "-----------------------------------------------------------------------\n",
            "chunk # 3 82  qtde char : 462  qtde token :  start_index: 1113\n",
            "\n",
            "o teto sustido por esteios fortes, mas rudes e ainda mesmo tortos; as paredes\n",
            "nem sempre são caiadas, o chão não tem assoalho nem ladrilho; quando há\n",
            "varanda, abrem-se para ela uma porta e uma janela; dentro está a ven­da: entre\n",
            "a porta e a janela encostado à parede um banco de pau, defronte um balcão tosco\n",
            "e no bojo ou no espaço que se vê além, grotesca armação de tábuas contendo\n",
            "garrafas, botijas, latas de tabaco em pó, a um canto algumas voltas de fumo em\n",
            "-----------------------------------------------------------------------\n",
            "chunk # 4 70  qtde char : 420  qtde token :  start_index: 1497\n",
            "\n",
            "garrafas, botijas, latas de tabaco em pó, a um canto algumas voltas de fumo em\n",
            "rolo e uma ruim manta de carne-seca. Eis a venda.\n",
            "Há muitas que nem chegam à opulência da que aí fica\n",
            "descrita; em todas porém aparece humilde no fundo do quase vazio bojo a porta\n",
            "baixa que comunica pelo corredor imundo com dois ou mais quartos escuros, onde\n",
            "se recolhem as pingues colheitas agrícolas do vendelhão que aliás não tem\n",
            "lavoura.\n",
            "-----------------------------------------------------------------------\n"
          ]
        }
      ]
    },
    {
      "cell_type": "markdown",
      "source": [
        "## 4.2 - Manipulando Documentos PDF\n",
        "\n",
        "https://python.langchain.com/docs/modules/data_connection/document_loaders/pdf"
      ],
      "metadata": {
        "id": "ay6Do_sBrwKD"
      }
    },
    {
      "cell_type": "markdown",
      "source": [
        "### - Link dos PDFs"
      ],
      "metadata": {
        "id": "lvDm9zabrwKE"
      }
    },
    {
      "cell_type": "code",
      "source": [
        "# As Vítimas Algozes\n",
        "url1 = 'https://www.literaturabrasileira.ufsc.br/documentos/?action=download&id=116977'\n",
        "\n",
        "# A Escrava Isaura\n",
        "url2 = 'https://www.literaturabrasileira.ufsc.br/documentos/?action=download&id=92390'"
      ],
      "metadata": {
        "id": "XXSCZn8XrwKE"
      },
      "execution_count": 95,
      "outputs": []
    },
    {
      "cell_type": "markdown",
      "source": [
        "### Download dos pdfs"
      ],
      "metadata": {
        "id": "d3O-QC9DrwKE"
      }
    },
    {
      "cell_type": "code",
      "source": [
        "# Import das bibliotecas\n",
        "import subprocess\n",
        "\n",
        "# As Vítimas Algozes\n",
        "\n",
        "# Arquivo de destino1\n",
        "destino1 = 'arquivo1.pdf'\n",
        "\n",
        "# Executa o comando wget no prompt\n",
        "subprocess.call([\"wget\", url1, \"-O\", destino1])\n",
        "\n",
        "# Arquivo de destino1\n",
        "destino2 = 'arquivo2.pdf'\n",
        "\n",
        "# Executa o comando wget no prompt\n",
        "subprocess.call([\"wget\", url1, \"-O\", destino2])"
      ],
      "metadata": {
        "colab": {
          "base_uri": "https://localhost:8080/"
        },
        "outputId": "5be26490-1837-42da-8e21-46ba35ca3e61",
        "id": "qaNHC2AWrwKE"
      },
      "execution_count": 96,
      "outputs": [
        {
          "output_type": "execute_result",
          "data": {
            "text/plain": [
              "0"
            ]
          },
          "metadata": {},
          "execution_count": 96
        }
      ]
    },
    {
      "cell_type": "markdown",
      "source": [
        "### Carrega os pdfs"
      ],
      "metadata": {
        "id": "bmwS2sykrwKE"
      }
    },
    {
      "cell_type": "code",
      "source": [
        "# Import das bibliotecas\n",
        "from langchain.document_loaders import PyPDFLoader, PyPDFDirectoryLoader\n",
        "\n",
        "# Define o diretório\n",
        "diretorio = '/content'\n",
        "\n",
        " # Cria o carregador do PDF\n",
        "carregador = PyPDFDirectoryLoader(diretorio)\n",
        "\n",
        "# Carrega os documentos\n",
        "documentos = carregador.load()"
      ],
      "metadata": {
        "id": "7nkjSwUcrwKE"
      },
      "execution_count": 97,
      "outputs": []
    },
    {
      "cell_type": "markdown",
      "source": [
        "### Divide e sobrepõe os pdfs"
      ],
      "metadata": {
        "id": "PeelTubvrwKE"
      }
    },
    {
      "cell_type": "code",
      "source": [
        "# Import das bibliotecas\n",
        "import os\n",
        "import time\n",
        "from langchain.text_splitter import RecursiveCharacterTextSplitter\n",
        "\n",
        "# Parâmetros\n",
        "chunk_tamanho = 500\n",
        "chunk_sobreposicao = 100\n",
        "\n",
        "text_splitter = RecursiveCharacterTextSplitter(\n",
        "    chunk_size = chunk_tamanho,\n",
        "    chunk_overlap  = chunk_sobreposicao, # Número de tokens sobrepostos entre chunks(pedaços)\n",
        "    length_function = len, # Usa o comprimento do texto como medida de tamanho\n",
        "    add_start_index = True, #\n",
        ")\n",
        "\n",
        "# Guarda o tempo de início\n",
        "tempo_inicio = time.time()\n",
        "\n",
        "# Calcula os chunks dos textos\n",
        "chunks = text_splitter.split_documents(documentos)\n",
        "\n",
        "tempo_final = time.time()\n",
        "\n",
        "print(f\"Carregando e dividindo {len(texto)} documentos pdfs em {tempo_final - tempo_inicio} segundos!\")"
      ],
      "metadata": {
        "colab": {
          "base_uri": "https://localhost:8080/"
        },
        "outputId": "d8c9704d-9eaf-4517-884e-cb30350fef78",
        "id": "cL1U5OZRrwKF"
      },
      "execution_count": 98,
      "outputs": [
        {
          "output_type": "stream",
          "name": "stdout",
          "text": [
            "Carregando e dividindo 1918 documentos pdfs em 0.06796383857727051 segundos!\n"
          ]
        }
      ]
    },
    {
      "cell_type": "markdown",
      "source": [
        "### Mostra os chunks\n",
        "\n",
        "A sobreposição se encontra ao final e início de cada pedaço(chunk). A variável 'start_index' define onde começa o texto sem a sobreposição."
      ],
      "metadata": {
        "id": "awUJ9WoKrwKF"
      }
    },
    {
      "cell_type": "code",
      "source": [
        "for i, chunk in enumerate(chunks):\n",
        "  if i < 20:\n",
        "    tokens = chunk.page_content.split(\" \")\n",
        "    print('chunk #',i, len(tokens),' qtde char :', len(chunk.page_content),' qtde token :', ' start_index:', chunk.metadata.get('start_index') )\n",
        "    print()\n",
        "    print(chunk.page_content)\n",
        "    print('-----------------------------------------------------------------------')"
      ],
      "metadata": {
        "colab": {
          "base_uri": "https://localhost:8080/"
        },
        "outputId": "dc62c66e-06e3-42cd-e44c-e44a18be6282",
        "id": "XTj0JcBZrwKF"
      },
      "execution_count": 99,
      "outputs": [
        {
          "output_type": "stream",
          "name": "stdout",
          "text": [
            "chunk # 0 46  qtde char : 375  qtde token :  start_index: 0\n",
            "\n",
            "J MAS-ALGOZE \n",
            "ROMAM \n",
            "~% \n",
            "LIVRARIA DE B. L. GARNIER \n",
            "«9, rua do Ouvidor, CO \n",
            "Grandesortimento del.ivros clássicos, Medicina, \n",
            "Sciencias e Arlís, Junsprudcncia, Littsratura, \n",
            "Novellas, lllustrações, Educação, Devoção, Atlas, \n",
            "Happas geographicos, etc, etc. \n",
            "Livros francezes, portuguezes, inqlezes, italianos, ele-, \n",
            "Encarrega-se áe qualquer conmissio de Liuros-\n",
            "BIO DE JIMIIIO\n",
            "-----------------------------------------------------------------------\n",
            "chunk # 1 13  qtde char : 78  qtde token :  start_index: 0\n",
            "\n",
            "Ie ne fay rien \n",
            "sans \n",
            "Gayeté \n",
            "(Montaigne, Des livres) \n",
            "Ex Libris \n",
            "José Mindlin\n",
            "-----------------------------------------------------------------------\n",
            "chunk # 2 2  qtde char : 19  qtde token :  start_index: 0\n",
            "\n",
            "AS VICTIMAS-ALGOZES\n",
            "-----------------------------------------------------------------------\n",
            "chunk # 3 25  qtde char : 154  qtde token :  start_index: 0\n",
            "\n",
            "AS VICTIMAS-ALGOZES \n",
            "QUADROS DA ESCRAVIDÃO \n",
            "ROMANCES \n",
            "POR \n",
            "JOAQUIM MANOEL DE MACEDO \n",
            "TOMO I \n",
            "fyo DE JANEIRO \n",
            "Typ. AMERICANA , roa dos Ourives n. 19. \n",
            "1869\n",
            "-----------------------------------------------------------------------\n",
            "chunk # 4 77  qtde char : 483  qtde token :  start_index: 0\n",
            "\n",
            "AOS NOSSOS LEITORES \n",
            "I \n",
            "Queremos agoraconlar-vos em alguns romances \n",
            "historias verdadeiras que todos vós já sabeis, \n",
            "sendo certo que em as já saberdes é que \n",
            "pôde consistir o único merecimento que por \n",
            "ventura tenha este trabalho; porque na vossa \n",
            "scien ia e na vossa consciência se hão de firmar \n",
            "as verdades xpie vamos dizer. \n",
            "Serão romances sem atavios, contos sem \n",
            "phantasias poéticas, tristes historias passadas á \n",
            "nossos olhos, e á que não poderá negar-se o \n",
            "vos*so testemunho.\n",
            "-----------------------------------------------------------------------\n",
            "chunk # 5 28  qtde char : 169  qtde token :  start_index: 420\n",
            "\n",
            "nossos olhos, e á que não poderá negar-se o \n",
            "vos*so testemunho. \n",
            "Não queremos ter .egredos, nem reservas men-\n",
            "(aes comvosco. \n",
            "E' nosso empenho e nosso fim levar ao vosso\n",
            "-----------------------------------------------------------------------\n",
            "chunk # 6 77  qtde char : 472  qtde token :  start_index: 0\n",
            "\n",
            "VI \n",
            "espirito e demorar nas reflexões e no estudo \n",
            "da vossa razão factos que tendes observado, \n",
            "verdades que não precizam mais de demons­\n",
            "tração obrigando-vos deste modo á encarar \n",
            "de face, á medir, á sondar em toda sua pro­\n",
            "fundeza um mal enorme que afeia, infecciona, \n",
            "avilta, deturpa e corroe á nossa sociedade, e \n",
            "á que a nossa sociedade ainda se apega se­\n",
            "melhante a desgraçada mulher que, tomando \n",
            "o habito da prostituição, á ella se abandona \n",
            "com indecente desvario.\n",
            "-----------------------------------------------------------------------\n",
            "chunk # 7 73  qtde char : 472  qtde token :  start_index: 403\n",
            "\n",
            "o habito da prostituição, á ella se abandona \n",
            "com indecente desvario. \n",
            "E o empenho que tomamos, o fim que temos \n",
            "em vista adunão-se com uma aspiração ge­\n",
            "nerosa da actualidade, e com a exigência im­\n",
            "placável da civilisação e do século. \n",
            "II \n",
            "Sob as apprehensões de uma crise social im-\n",
            "minente, infallivel que á todos ha de custar \n",
            "directa ou indirectamente onerosos sacrifícios \n",
            "o povo brasileiro e particularmente os lavra­\n",
            "dores cspcrão anciosos, enlrc receios por certo\n",
            "-----------------------------------------------------------------------\n",
            "chunk # 8 74  qtde char : 470  qtde token :  start_index: 0\n",
            "\n",
            "YII \n",
            "justificáveis e clamores que se explicão sem \n",
            "dezar, o pronunciamento legal e decisivo da \n",
            "solução do problema da emansipação dos es­\n",
            "cravos. \n",
            "Este estado de duvidas afflictivas sobre o \n",
            "futuro, de temor dos detrimentos que se hão de \n",
            "experimentar, e que o descostume e certa des­\n",
            "confiança do trabalho livre ainda mais exa-\n",
            "gerão, este mal estar dos proprietários de es­\n",
            "cravos, vendo cheio de nuvens o dia de amanhã, \n",
            "pôde comparar-se a situação dos espíritos tí­\n",
            "-----------------------------------------------------------------------\n",
            "chunk # 9 77  qtde char : 481  qtde token :  start_index: 377\n",
            "\n",
            "cravos, vendo cheio de nuvens o dia de amanhã, \n",
            "pôde comparar-se a situação dos espíritos tí­\n",
            "midos e das pessoas de* organisação sobre­\n",
            "maneira nervosa, quando em negro horisonte \n",
            "*e em atmosphera abafada começão a rasgar-\n",
            "se os,fuzis, e a rugir a trovoada que avança \n",
            "formidável. Esta imagem se nos afigura tanto \n",
            "mais acertadamente applicada, quanto é sabido \n",
            "que depois das grandes trovoadas vem a pureza \n",
            "do ar, a bonança e a claridade. \n",
            "Como^quer que seja, máo grado os inte­\n",
            "-----------------------------------------------------------------------\n",
            "chunk # 10 42  qtde char : 260  qtde token :  start_index: 787\n",
            "\n",
            "do ar, a bonança e a claridade. \n",
            "Como^quer que seja, máo grado os inte­\n",
            "resses que hão de padecer, á despeito das op-\n",
            "posições que se fazem e se farão sentir, embalde \n",
            "ás fáceis objecções denunciadoras de indubi-\n",
            "taveis inconveniências e senões em quantos pro-\n",
            "-----------------------------------------------------------------------\n",
            "chunk # 11 77  qtde char : 497  qtde token :  start_index: 0\n",
            "\n",
            "VIII \n",
            "jectos e imagináveis planos se engendrarem para \n",
            "que menos violenta e dolorosa se resolva a crise, \n",
            "e se opere a revolução social, é positivo que to­\n",
            "camos a véspera da emancipação dos escravos. \n",
            "Ninguém se illuda, ninguém se deixe illudir. \n",
            "Não ha combinação de interesses, não ha partido \n",
            "político, não ha governo por mais forte que se \n",
            "presuma, que possa impedir o procelloso acon­\n",
            "tecimento. \n",
            "Nunca houve caso em que jnelhor assentasse a \n",
            "formula do fatalismo musulmano:—está es-\n",
            "cripto.\n",
            "-----------------------------------------------------------------------\n",
            "chunk # 12 77  qtde char : 498  qtde token :  start_index: 403\n",
            "\n",
            "Nunca houve caso em que jnelhor assentasse a \n",
            "formula do fatalismo musulmano:—está es-\n",
            "cripto. \n",
            "A famosa prophecia do Velho do lfajurú es-\n",
            "cripta quasi á meio século se realisou em nossos \n",
            "dias: a nuvem negra veio do Norte. \n",
            "Havia uma grande potência, uma republica \n",
            "soberba que em seu seio tolerava a escravidão, \n",
            "e tenaz a mantinha: a confederação Norte-Ame-\n",
            "ricana era barreira tremenda ante a qual esta­\n",
            "cava o movimento emancipador; mas a fiiha-de \n",
            "Washington depois de uma luta formidável que\n",
            "-----------------------------------------------------------------------\n",
            "chunk # 13 35  qtde char : 228  qtde token :  start_index: 811\n",
            "\n",
            "cava o movimento emancipador; mas a fiiha-de \n",
            "Washington depois de uma luta formidável que \n",
            "espantou o mundo, no fim de uma guerra de pro­\n",
            "porções dcscommunaes afogou para sempre a \n",
            "escravidão nas águas ensangüentadas do Potomac\n",
            "-----------------------------------------------------------------------\n",
            "chunk # 14 88  qtde char : 494  qtde token :  start_index: 0\n",
            "\n",
            "IX \n",
            "que testemunhara as ultimas batalhas entre o \n",
            "Sul escravagista e o Norte emancipador. O \n",
            "Norte venceu: anmem negra nos veio do Norte. \n",
            "Desde então sé o Brasil e duas colônias da \n",
            "Hespanha mantém a escravidão aos olhos de \n",
            "todas as nações que protcstão contra a excepção. \n",
            "A voz de Deos, o brado do século da liber­\n",
            "dade, a opinião do mundo, o pronunciamento \n",
            "dos governos, o espirito e a matéria, a idéa e a \n",
            "força querem, exigem, e em caso extremo hão \n",
            "de impor a emancipação dos escravos.\n",
            "-----------------------------------------------------------------------\n",
            "chunk # 15 78  qtde char : 489  qtde token :  start_index: 413\n",
            "\n",
            "força querem, exigem, e em caso extremo hão \n",
            "de impor a emancipação dos escravos. \n",
            "Nas duas colônias da Hespanha o problema \n",
            "vai resolver-se com expontâneo decreto da me­\n",
            "trópole.* \n",
            "O Brasil só, isolado, marcado com o sello \n",
            "ignominioso da escravidão diante do mundo, seria \n",
            "o escarneo e o maldito do mundo, e se exporia \n",
            "ao opprobrio da coacção pela força. \n",
            "O patriotismo se revolta ao simpies ima­\n",
            "ginar do insulto á soberania nacional pela pre­\n",
            "potência estrangeira: mas a razão compre-\n",
            "-----------------------------------------------------------------------\n",
            "chunk # 16 27  qtde char : 184  qtde token :  start_index: 813\n",
            "\n",
            "ginar do insulto á soberania nacional pela pre­\n",
            "potência estrangeira: mas a razão compre-\n",
            "hende a possibilidade e a probabilidade do \n",
            "ultrage. \n",
            "Também vos imbalarão com a tolerância do\n",
            "-----------------------------------------------------------------------\n",
            "chunk # 17 78  qtde char : 484  qtde token :  start_index: 0\n",
            "\n",
            "X \n",
            "trafico de africanos r também vos fizerão cre­\n",
            "ditar que sem elle feneceria a agricultura ; \n",
            "também vos fallarão da soberania nacional para \n",
            "resistir á prepotência estrangeira, e em dias \n",
            "lugubres em que a pátria envergonhada escon-\n",
            "deo o rosto, lavrarão de súbito e precipitada­\n",
            "mente a sentença de morte do trafico de afri­\n",
            "canos ào som dos tiros dos canhões inglezes \n",
            "que cuspião injurias e allrontas nas faces de \n",
            "fortalezas nossas. \n",
            "Então foi somente a Inglaterra ; e o Brasil\n",
            "-----------------------------------------------------------------------\n",
            "chunk # 18 69  qtde char : 413  qtde token :  start_index: 421\n",
            "\n",
            "fortalezas nossas. \n",
            "Então foi somente a Inglaterra ; e o Brasil \n",
            "teve de ceder. \n",
            "Agora é o mundo, agora são todas as noções,' \n",
            "é a opinião universal, é o espirito e a matéria, \n",
            "a idéa e a força á reclamar a emancipação dos \n",
            "escravos. \n",
            "luiagiuaes resistência possível ? \n",
            "Não vos illudaes, não vos deixeis illudir: \n",
            "preparai-vos: a emancipação dos escravos ha de \n",
            "realizar-se dentro de poucos annos. \n",
            "Está escripto.\n",
            "-----------------------------------------------------------------------\n",
            "chunk # 19 69  qtde char : 470  qtde token :  start_index: 0\n",
            "\n",
            "XI \n",
            "III \n",
            "Não se eslirpa o cancro sem dôr. \n",
            "A escravidão que é cancro social, abuso inve­\n",
            "terado que entrou cm nossos costumes, arvore \n",
            "venenosa plantada no Brasil pelos primeiros co-\n",
            "Jonisadores, fonte de desmoralisacão, de vicios \n",
            "•e de crimes, é também ainda assim instrumento \n",
            "<Ie riqueza agrícola, manancial do trabalho dos \n",
            "campos, dependência de innumcraveis interes­\n",
            "ses, immenso capital que representa a fortuna \n",
            "de milhares de proprietários, e portanto a escra­\n",
            "-----------------------------------------------------------------------\n"
          ]
        }
      ]
    },
    {
      "cell_type": "markdown",
      "source": [
        "## 4.3 - Manipulando Documentos HTML\n",
        "\n",
        "https://python.langchain.com/docs/integrations/document_loaders/web_base"
      ],
      "metadata": {
        "id": "kbCQCWEPrwKF"
      }
    },
    {
      "cell_type": "markdown",
      "source": [
        "### Links dos HTML"
      ],
      "metadata": {
        "id": "ZiLECmlBrwKF"
      }
    },
    {
      "cell_type": "code",
      "source": [
        "# As Vítimas Algozes\n",
        "url1 = \"https://www.literaturabrasileira.ufsc.br/documentos/?action=download&id=116979\"\n",
        "\n",
        "# A Escrava Isaura\n",
        "url2 = \"https://www.literaturabrasileira.ufsc.br/documentos/?action=download&id=92389\""
      ],
      "metadata": {
        "id": "uDf4nIPnrwKG"
      },
      "execution_count": 100,
      "outputs": []
    },
    {
      "cell_type": "markdown",
      "source": [
        "### Carrega os HTMLs\n",
        "\n",
        "Se ocorrer o **erro** abaixo, instale o Chromedb. Alguma dependência do pacote resolve o problema.\n",
        "\n",
        "---------------------------------------------------------------------------\n",
        "IncompleteRead                            Traceback (most recent call last)\n",
        "/usr/local/lib/python3.10/dist-packages/urllib3/response.py in _error_catcher(self)\n",
        "    709             try:\n",
        "--> 710                 yield\n",
        "    711\n",
        "\n",
        "15 frames\n",
        "IncompleteRead: IncompleteRead(821958 bytes read, 2240625 more expected)\n",
        "\n",
        "The above exception was the direct cause of the following exception:\n",
        "\n",
        "ProtocolError                             Traceback (most recent call last)\n",
        "ProtocolError: ('Connection broken: IncompleteRead(821958 bytes read, 2240625 more expected)', IncompleteRead(821958 bytes read, 2240625 more expected))\n",
        "\n",
        "During handling of the above exception, another exception occurred:\n",
        "\n",
        "ChunkedEncodingError                      Traceback (most recent call last)\n",
        "/usr/local/lib/python3.10/dist-packages/requests/models.py in generate()\n",
        "    816                     yield from self.raw.stream(chunk_size, decode_content=True)\n",
        "    817                 except ProtocolError as e:\n",
        "--> 818                     raise ChunkedEncodingError(e)\n",
        "    819                 except DecodeError as e:\n",
        "    820                     raise ContentDecodingError(e)\n",
        "\n",
        "ChunkedEncodingError: ('Connection broken: IncompleteRead(821958 bytes read, 2240625 more expected)', IncompleteRead(821958 bytes read, 2240625 more expected))"
      ],
      "metadata": {
        "id": "n49iV871rwKG"
      }
    },
    {
      "cell_type": "code",
      "source": [
        "# Import das bibliotecas\n",
        "from langchain.document_loaders import WebBaseLoader\n",
        "\n",
        "# Cria o carregador da página\n",
        "carregador = WebBaseLoader([url1, url2])\n",
        "# carregador.requests_kwargs = {'verify':False}\n",
        "\n",
        "# Carrega os documentos\n",
        "documentos = carregador.load()"
      ],
      "metadata": {
        "id": "3PHIDlIxrwKG"
      },
      "execution_count": 101,
      "outputs": []
    },
    {
      "cell_type": "markdown",
      "source": [
        "### Divide e sobrepõe os HTMLs"
      ],
      "metadata": {
        "id": "157FtqF5rwKG"
      }
    },
    {
      "cell_type": "code",
      "source": [
        "# Import das bibliotecas\n",
        "import os\n",
        "import time\n",
        "from langchain.text_splitter import RecursiveCharacterTextSplitter\n",
        "\n",
        "# Parâmetros\n",
        "chunk_tamanho = 500\n",
        "chunk_sobreposicao = 100\n",
        "\n",
        "text_splitter = RecursiveCharacterTextSplitter(\n",
        "    chunk_size = chunk_tamanho,\n",
        "    chunk_overlap  = chunk_sobreposicao, # Número de tokens sobrepostos entre chunks(pedaços)\n",
        "    length_function = len, # Usa o comprimento do texto como medida de tamanho\n",
        "    add_start_index = True, #\n",
        ")\n",
        "\n",
        "# Guarda o tempo de início\n",
        "tempo_inicio = time.time()\n",
        "\n",
        "# Calcula os chunks dos textos\n",
        "chunks = text_splitter.split_documents(documentos)\n",
        "\n",
        "tempo_final = time.time()\n",
        "\n",
        "print(f\"Carregando e dividindo {len(texto)} documentos htmls em {tempo_final - tempo_inicio} segundos!\")"
      ],
      "metadata": {
        "colab": {
          "base_uri": "https://localhost:8080/"
        },
        "outputId": "825f227f-9d66-494b-f8e6-2ece92985c71",
        "id": "A5uh9zn9rwKG"
      },
      "execution_count": 102,
      "outputs": [
        {
          "output_type": "stream",
          "name": "stdout",
          "text": [
            "Carregando e dividindo 1918 documentos htmls em 0.08250641822814941 segundos!\n"
          ]
        }
      ]
    },
    {
      "cell_type": "markdown",
      "source": [
        "### Mostra os chunks\n",
        "\n",
        "A sobreposição se encontra ao final e início de cada pedaço(chunk). A variável 'start_index' define onde começa o texto sem a sobreposição."
      ],
      "metadata": {
        "id": "kqTczygFrwKG"
      }
    },
    {
      "cell_type": "code",
      "source": [
        "for i, chunk in enumerate(chunks):\n",
        "  if i < 20:\n",
        "    tokens = chunk.page_content.split(\" \")\n",
        "    print('chunk #',i, len(tokens),' qtde char :', len(chunk.page_content),' qtde token :', ' start_index:', chunk.metadata.get('start_index') )\n",
        "    print()\n",
        "    print(chunk.page_content)\n",
        "    print('-----------------------------------------------------------------------')"
      ],
      "metadata": {
        "colab": {
          "base_uri": "https://localhost:8080/"
        },
        "outputId": "2439a85f-c1ab-49d7-c37a-ce6dc7b9a078",
        "id": "Ev2EQpoWrwKH"
      },
      "execution_count": 103,
      "outputs": [
        {
          "output_type": "stream",
          "name": "stdout",
          "text": [
            "chunk # 0 25  qtde char : 217  qtde token :  start_index: 16\n",
            "\n",
            "As vítimas algozes - Joaquim Manuel de Macedo\n",
            "\n",
            "\n",
            "\n",
            "Fonte: Biblioteca Digital de Literatura de Países Lusófonos\n",
            "\n",
            "LITERATURA BRASILEIRA \n",
            "Textos literários em\n",
            "meio eletrônico\n",
            "As\n",
            "Vítimas-Algozes, de Joaquim Manuel de Macedo\n",
            "-----------------------------------------------------------------------\n",
            "chunk # 1 63  qtde char : 442  qtde token :  start_index: 235\n",
            "\n",
            "Edição de base:\n",
            "Biblioteca Nacional – setor de obras digitalizadas\n",
            "ÍNDICE\n",
            "SIMEÃO, O CRIOULO\n",
            "PAI- RAIOL, O FEITICEIRO\n",
            "LUCINDA, A\n",
            "MUCAMA\n",
            "CONCLUSÃO\n",
            "I\n",
            "SIMEÃO, O CRIOULO\n",
            "I\n",
            "No interior e principalmente longe da vila, ou da\n",
            "freguesia e dos povoados há quase sempre uma venda perto da fazenda: é a\n",
            "parasita que se apega à árvore; pior que isso, é a inimiga hipócrita que rende\n",
            "vassalagem à sua vítima.\n",
            "A venda de que falo é uma taberna especialíssima\n",
            "-----------------------------------------------------------------------\n",
            "chunk # 2 74  qtde char : 469  qtde token :  start_index: 604\n",
            "\n",
            "vassalagem à sua vítima.\n",
            "A venda de que falo é uma taberna especialíssima\n",
            "que não poderia existir, manter-se, medrar em outras condições locais, e em\n",
            "outras condições do trabalho rural, e nem se confunde com a taberna regular que\n",
            "em toda parte se encontra, quanto mais com as casas de grande ou pequeno comércio,\n",
            "onde os lavradores ricos e pobres se provêem do que precisa a casa, quando não\n",
            "lhes é possível esperar pelas remessas dos seus consigna­tários ou fregueses.\n",
            "-----------------------------------------------------------------------\n",
            "chunk # 3 68  qtde char : 439  qtde token :  start_index: 996\n",
            "\n",
            "lhes é possível esperar pelas remessas dos seus consigna­tários ou fregueses.\n",
            "Essa parasita das fazendas e estabelecimentos agrícolas\n",
            "das vizinhanças facilmente se pode conhecer por suas feições e modos\n",
            "característicos, se nos é lícito dizer assim: uma se parece com todas e não há\n",
            "hipótese em que alguma delas, por mais dissimulada que seja, chegue a perder o\n",
            "cará­ter da família. \n",
            "É uma pequena casa de taipa e coberta de telha, tendo às\n",
            "-----------------------------------------------------------------------\n",
            "chunk # 4 81  qtde char : 466  qtde token :  start_index: 1357\n",
            "\n",
            "cará­ter da família. \n",
            "É uma pequena casa de taipa e coberta de telha, tendo às\n",
            "vezes na frente varanda aberta pelos três lados, também coberta de telha e com\n",
            "o teto sustido por esteios fortes, mas rudes e ainda mesmo tortos; as paredes\n",
            "nem sempre são caiadas, o chão não tem assoalho nem ladrilho; quando há\n",
            "varanda, abrem-se para ela uma porta e uma janela; dentro está a ven­da: entre\n",
            "a porta e a janela encostado à parede um banco de pau, defronte um balcão tosco\n",
            "-----------------------------------------------------------------------\n",
            "chunk # 5 88  qtde char : 492  qtde token :  start_index: 1744\n",
            "\n",
            "a porta e a janela encostado à parede um banco de pau, defronte um balcão tosco\n",
            "e no bojo ou no espaço que se vê além, grotesca armação de tábuas contendo\n",
            "garrafas, botijas, latas de tabaco em pó, a um canto algumas voltas de fumo em\n",
            "rolo e uma ruim manta de carne-seca. Eis a venda.\n",
            "Há muitas que nem chegam à opulência da que aí fica\n",
            "descrita; em todas porém aparece humilde no fundo do quase vazio bojo a porta\n",
            "baixa que comunica pelo corredor imundo com dois ou mais quartos escuros, onde\n",
            "-----------------------------------------------------------------------\n",
            "chunk # 6 69  qtde char : 446  qtde token :  start_index: 2158\n",
            "\n",
            "baixa que comunica pelo corredor imundo com dois ou mais quartos escuros, onde\n",
            "se recolhem as pingues colheitas agrícolas do vendelhão que aliás não tem\n",
            "lavoura.\n",
            "A venda é pouco freqüentada à luz do sol nos dias\n",
            "de serviço; nunca porém, ou raramente se acha solitária: ainda nesses mesmos\n",
            "dias de santo dever do trabalho, homens ociosos, vadios e turbulentos jogam ao\n",
            "balcão com um baralho de cartas machucadas, enegrecidas e como oleosas desde a\n",
            "-----------------------------------------------------------------------\n",
            "chunk # 7 71  qtde char : 435  qtde token :  start_index: 2526\n",
            "\n",
            "balcão com um baralho de cartas machucadas, enegrecidas e como oleosas desde a\n",
            "manhã até o fim da tarde, e é milagre faltar algum incansável tocador de viola;\n",
            "mas apenas chega a noite, começa a concorrência e ferve o negócio.\n",
            "Explorador das trevas protetoras dos vícios e do crime,\n",
            "o vendelhão baixo, ignóbil, sem consciência, paga com abuso duplo e escandaloso\n",
            "a garrafas de aguardente, a rolos de fumo, e a chorados vinténs o café, o\n",
            "-----------------------------------------------------------------------\n",
            "chunk # 8 73  qtde char : 443  qtde token :  start_index: 2888\n",
            "\n",
            "a garrafas de aguardente, a rolos de fumo, e a chorados vinténs o café, o\n",
            "açúcar e os cereais que os escravos furtam aos senhores; e cúmplice no furto\n",
            "efetuado pelos escravos, é ladrão por sua vez, roubando a estes nas medidas e\n",
            "no preço dos gêneros.\n",
            "A venda não dorme: às horas mortas da\n",
            "noite vêm os quilombolas escravos fugidos e acoitados nas florestas, trazer o\n",
            "tributo de suas depredações nas roças vizinhas ou distantes ao vendelhão que\n",
            "-----------------------------------------------------------------------\n",
            "chunk # 9 73  qtde char : 452  qtde token :  start_index: 3255\n",
            "\n",
            "tributo de suas depredações nas roças vizinhas ou distantes ao vendelhão que\n",
            "apura nelas segunda colheita do que não semeou e que tem sempre de reserva para\n",
            "os quilombolas recursos de alimentação de que eles não podem prescindir, e\n",
            "também não raras vezes a pólvora e o chumbo para a resistência nos casos de\n",
            "ataque aos quilombos.\n",
            "E o vendelhão é em regra a vigilância protetora do\n",
            "quilombola e o seu espião dissimulado que tem interesse em contrariar a\n",
            "-----------------------------------------------------------------------\n",
            "chunk # 10 74  qtde char : 493  qtde token :  start_index: 3636\n",
            "\n",
            "quilombola e o seu espião dissimulado que tem interesse em contrariar a\n",
            "polícia, ou as diligências dos senhores no encalço dos escravos fugidos.\n",
            "Desprezível e nociva durante o dia, a venda é\n",
            "esquálida, medonha, criminosa e atroz durante a noite: os escravos, que aí\n",
            "então se reúnem, embebedam-se, espancam-se, tornando-se muitos incapazes de\n",
            "trabalhar na manhã seguinte; misturam as rixas e as pancadas com a conversação\n",
            "mais indecente sob o caráter e a vida de seus senhores, cuja reputação é\n",
            "-----------------------------------------------------------------------\n",
            "chunk # 11 70  qtde char : 462  qtde token :  start_index: 4057\n",
            "\n",
            "mais indecente sob o caráter e a vida de seus senhores, cuja reputação é\n",
            "ultrajada ao som de gargalhadas selvagens: inspirados pelo ódio, pelo horror,\n",
            "pelos sofrimentos inseparáveis da escravidão, se expandem em calúnias terríveis\n",
            "que às vezes chegam até a honra das esposas e das filhas dos senhores; atiçam a\n",
            "raiva que todos eles têm dos feitores, contando histórias lúgubres de castigos\n",
            "exagerados e de cruelíssimas vinganças, a cuja idéia se habituam; em sua\n",
            "-----------------------------------------------------------------------\n",
            "chunk # 12 68  qtde char : 452  qtde token :  start_index: 4447\n",
            "\n",
            "exagerados e de cruelíssimas vinganças, a cuja idéia se habituam; em sua\n",
            "credulidade estúpida e ilimitada esses desgraçados escutam boquiabertos a\n",
            "relação dos prodígios do feitiço, e se emprazam para as reuniões noturnas dos\n",
            "feiticeiros; e uns finalmente aprendem com outros mais sabidos a conhecer\n",
            "plantas maléficas, raízes venenosas que produzem a loucura ou dão a morte, e\n",
            "tudo isto e muito mais ainda envolta com a embriaguez, com a desordem, com o\n",
            "-----------------------------------------------------------------------\n",
            "chunk # 13 81  qtde char : 484  qtde token :  start_index: 4823\n",
            "\n",
            "tudo isto e muito mais ainda envolta com a embriaguez, com a desordem, com o\n",
            "quadro da abjeção e do desavergonhamento já natural nas palavras, nas ações,\n",
            "nos gozos do es­cravo.\n",
            "Aos domingos e nos dias santificados, a venda tem\n",
            "centuplicadas as suas glórias nefandas, aproveita a luz e as trevas, o dia e a\n",
            "noite, e por isso mesmo cada lavrador conta de menos na roça e demais na\n",
            "enfermaria al­guns escravos na manhã do dia que se segue.\n",
            "De ordinário, pelo menos muitas vezes, é nessas\n",
            "-----------------------------------------------------------------------\n",
            "chunk # 14 71  qtde char : 464  qtde token :  start_index: 5260\n",
            "\n",
            "De ordinário, pelo menos muitas vezes, é nessas\n",
            "reuniões, é nesse foco de peste moral que se premeditam e planejam os crimes\n",
            "que ensangüen­tam e alvoroçam as fazendas. Na hipótese de uma insurreição de\n",
            "escravos, a venda nunca seria alheia ao tremendo acontecimento.\n",
            "Todavia tolera-se a venda: o governo não pode\n",
            "ignorar, a polícia local sabe, os fazendeiros e lavradores conhecem e sentem\n",
            "que essa espelunca ignóbil é fonte de vícios e de crimes, manancial turvo e\n",
            "-----------------------------------------------------------------------\n",
            "chunk # 15 71  qtde char : 440  qtde token :  start_index: 5649\n",
            "\n",
            "que essa espelunca ignóbil é fonte de vícios e de crimes, manancial turvo e\n",
            "hediondo de pro­funda corrupção, constante ameaça à propriedade, patíbulo da\n",
            "reputa­ção, e em certos casos forja de arma assassina; porque é e será sempre o\n",
            "ponto de ajuntamento de escravos onde se conspire ou se inicie a conspi­ração;\n",
            "e ainda assim a venda subsiste e não há força capaz de aniquilá-la.\n",
            "Porquê?...\n",
            "É que se proibissem a venda, de que trato, se lhe\n",
            "-----------------------------------------------------------------------\n",
            "chunk # 16 76  qtde char : 490  qtde token :  start_index: 6029\n",
            "\n",
            "Porquê?...\n",
            "É que se proibissem a venda, de que trato, se lhe\n",
            "fechassem a porta, se lhe destruíssem o teto, ela renasceria com outro nome, e,\n",
            "como quer que fosse, e, onde quer que fosse, havia de manter-se, embora\n",
            "dissimulada e abusivamente.\n",
            "A lógica é implacável.\n",
            "Não é possível que haja escravos sem todas as\n",
            "conseqüências escandalo­sas da escravidão: querer a úlcera sem o pus, o cancro\n",
            "sem a podridão é loucura ou capricho infantil.\n",
            "Perigosa e repugnante por certo, e ainda assim não das\n",
            "-----------------------------------------------------------------------\n",
            "chunk # 17 71  qtde char : 442  qtde token :  start_index: 6465\n",
            "\n",
            "Perigosa e repugnante por certo, e ainda assim não das\n",
            "mais formidá­veis conseqüências da escravidão, a venda de que estou\n",
            "falando é inevitá­vel; porque nasce da vida, das condições, e das exigências\n",
            "irresistíveis da situação dos escravos.\n",
            "A venda é o espelho que retrata ao vivo o rosto e\n",
            "o espírito da escravi­dão.\n",
            "Se não fosse, se não se chamasse venda, teria\n",
            "outro e mil nomes no pa­tuá do escravo; seria uma casa no deserto, um sítio nas\n",
            "-----------------------------------------------------------------------\n",
            "chunk # 18 76  qtde char : 467  qtde token :  start_index: 6828\n",
            "\n",
            "outro e mil nomes no pa­tuá do escravo; seria uma casa no deserto, um sítio nas\n",
            "brenhas; estaria na gruta da floresta, em um antro tomado às feras, mas onde\n",
            "iria sempre o escravo, o quilombola, vender o furto, embriagar-se, ultrajar a\n",
            "honra do senhor e de sua família, a quem detesta, engolfar-se em vícios, ouvir\n",
            "con­selhos envenenados, inflamar-se em ódio, e habituar-se à idéia do crime\n",
            "filho da vingança; porque o escravo, por melhor que seja tratado, é, em regra\n",
            "-----------------------------------------------------------------------\n",
            "chunk # 19 77  qtde char : 476  qtde token :  start_index: 7218\n",
            "\n",
            "filho da vingança; porque o escravo, por melhor que seja tratado, é, em regra\n",
            "geral, pelo fato de ser escravo, sempre e natural e logicamente o pri­meiro e\n",
            "mais rancoroso inimigo de seu senhor.\n",
            "O escravo precisa dar expansão à sua raiva, que ferve\n",
            "incessante, e es­quecer por momentos ou horas as misérias e os tormentos\n",
            "insondáveis da escravidão; é na venda que ele se expande e esquece; aí o\n",
            "ódio fala licen­cioso e a aguardente afoga em vapores e no atordoamento a\n",
            "memória.\n",
            "-----------------------------------------------------------------------\n"
          ]
        }
      ]
    }
  ],
  "metadata": {
    "colab": {
      "provenance": [],
      "gpuClass": "premium",
      "toc_visible": true,
      "include_colab_link": true
    },
    "kernelspec": {
      "display_name": "Python 3",
      "name": "python3"
    },
    "language_info": {
      "name": "python"
    }
  },
  "nbformat": 4,
  "nbformat_minor": 0
}