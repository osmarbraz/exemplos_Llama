{
  "cells": [
    {
      "cell_type": "markdown",
      "metadata": {
        "id": "view-in-github",
        "colab_type": "text"
      },
      "source": [
        "<a href=\"https://colab.research.google.com/github/osmarbraz/exemplos_Llama/blob/main/Exemplos_Chunk_Overlap_Langchain.ipynb\" target=\"_parent\"><img src=\"https://colab.research.google.com/assets/colab-badge.svg\" alt=\"Open In Colab\"/></a>"
      ]
    },
    {
      "cell_type": "markdown",
      "metadata": {
        "id": "78HE8FLsKN9Q"
      },
      "source": [
        "#Exemplo de manipulação de texto usando Langchain\n",
        "\n",
        "\n",
        "Teste online da chunk(divisão) e overlap\n",
        "\n",
        "https://chunkerizer.streamlit.app/\n",
        "\n",
        "LangChain: como dividir corretamente seus chunks(pedaços):\n",
        "https://www.youtube.com/watch?v=n0uPzvGTFI0\n",
        "\n",
        "Estratégias de chucking: https://www.pinecone.io/learn/chunking-strategies/\n",
        "\n"
      ]
    },
    {
      "cell_type": "markdown",
      "metadata": {
        "id": "xyxb5Px3p1-e"
      },
      "source": [
        "# 0 - Preparação do ambiente\n",
        "Preparação do ambiente para execução do exemplo."
      ]
    },
    {
      "cell_type": "markdown",
      "metadata": {
        "id": "iAPVtRXQqDim"
      },
      "source": [
        "## Tratamento de logs\n",
        "\n",
        "Método para tratamento dos logs."
      ]
    },
    {
      "cell_type": "code",
      "execution_count": null,
      "metadata": {
        "id": "DcopxbGZqDip"
      },
      "outputs": [],
      "source": [
        "# Biblioteca de logging\n",
        "import logging\n",
        "\n",
        "# Formatando a mensagem de logging\n",
        "logging.basicConfig(format=\"%(asctime)s : %(levelname)s : %(message)s\", level=logging.INFO)"
      ]
    },
    {
      "cell_type": "markdown",
      "metadata": {
        "id": "_GjYtXcMnSAe"
      },
      "source": [
        "## Identificando o ambiente Colab\n",
        "\n",
        "Cria uma variável para identificar que o notebook está sendo executado no Google Colaboratory."
      ]
    },
    {
      "cell_type": "code",
      "execution_count": null,
      "metadata": {
        "id": "YMiH0E3OnRa1"
      },
      "outputs": [],
      "source": [
        "# Se estiver executando no Google Colaboratory\n",
        "import sys\n",
        "\n",
        "# Retorna true ou false se estiver no Google Colaboratory\n",
        "IN_COLAB = \"google.colab\" in sys.modules"
      ]
    },
    {
      "cell_type": "markdown",
      "source": [
        "## Funções auxiliares"
      ],
      "metadata": {
        "id": "JKmhxcvIfbG2"
      }
    },
    {
      "cell_type": "markdown",
      "metadata": {
        "id": "603LYIYKBmq5"
      },
      "source": [
        "Função auxiliar para formatar o tempo como `hh: mm: ss`"
      ]
    },
    {
      "cell_type": "code",
      "execution_count": null,
      "metadata": {
        "id": "Guy6B4whsZFR"
      },
      "outputs": [],
      "source": [
        "# Import das bibliotecas.\n",
        "import time\n",
        "import datetime\n",
        "\n",
        "def formataTempo(tempo):\n",
        "    \"\"\"\n",
        "      Pega a tempo em segundos e retorna uma string hh:mm:ss\n",
        "    \"\"\"\n",
        "    # Arredonda para o segundo mais próximo.\n",
        "    tempo_arredondado = int(round((tempo)))\n",
        "\n",
        "    # Formata como hh:mm:ss\n",
        "    return str(datetime.timedelta(seconds=tempo_arredondado))"
      ]
    },
    {
      "cell_type": "markdown",
      "metadata": {
        "id": "Pqa-7WXBAw8q"
      },
      "source": [
        "# 1 - Instalação das bibliotecas"
      ]
    },
    {
      "cell_type": "markdown",
      "metadata": {
        "id": "zp0jVfo3QM3h"
      },
      "source": [
        "Manipulação de textos para LLM."
      ]
    },
    {
      "cell_type": "code",
      "execution_count": null,
      "metadata": {
        "colab": {
          "base_uri": "https://localhost:8080/"
        },
        "id": "12GE2W3fQM_n",
        "outputId": "9980d895-3beb-479c-96d8-235691554bde"
      },
      "outputs": [
        {
          "output_type": "stream",
          "name": "stdout",
          "text": [
            "Collecting langchain==0.0.320\n",
            "  Downloading langchain-0.0.320-py3-none-any.whl (1.9 MB)\n",
            "\u001b[?25l     \u001b[90m━━━━━━━━━━━━━━━━━━━━━━━━━━━━━━━━━━━━━━━━\u001b[0m \u001b[32m0.0/1.9 MB\u001b[0m \u001b[31m?\u001b[0m eta \u001b[36m-:--:--\u001b[0m\r\u001b[2K     \u001b[91m━━\u001b[0m\u001b[91m╸\u001b[0m\u001b[90m━━━━━━━━━━━━━━━━━━━━━━━━━━━━━━━━━━━━━\u001b[0m \u001b[32m0.1/1.9 MB\u001b[0m \u001b[31m4.2 MB/s\u001b[0m eta \u001b[36m0:00:01\u001b[0m\r\u001b[2K     \u001b[91m━━━━━━━━━━━━━━━━━━━━━━━━━━━━━\u001b[0m\u001b[90m╺\u001b[0m\u001b[90m━━━━━━━━━━\u001b[0m \u001b[32m1.4/1.9 MB\u001b[0m \u001b[31m20.5 MB/s\u001b[0m eta \u001b[36m0:00:01\u001b[0m\r\u001b[2K     \u001b[90m━━━━━━━━━━━━━━━━━━━━━━━━━━━━━━━━━━━━━━━━\u001b[0m \u001b[32m1.9/1.9 MB\u001b[0m \u001b[31m22.8 MB/s\u001b[0m eta \u001b[36m0:00:00\u001b[0m\n",
            "\u001b[?25hRequirement already satisfied: PyYAML>=5.3 in /usr/local/lib/python3.10/dist-packages (from langchain==0.0.320) (6.0.1)\n",
            "Requirement already satisfied: SQLAlchemy<3,>=1.4 in /usr/local/lib/python3.10/dist-packages (from langchain==0.0.320) (2.0.22)\n",
            "Requirement already satisfied: aiohttp<4.0.0,>=3.8.3 in /usr/local/lib/python3.10/dist-packages (from langchain==0.0.320) (3.8.6)\n",
            "Requirement already satisfied: anyio<4.0 in /usr/local/lib/python3.10/dist-packages (from langchain==0.0.320) (3.7.1)\n",
            "Requirement already satisfied: async-timeout<5.0.0,>=4.0.0 in /usr/local/lib/python3.10/dist-packages (from langchain==0.0.320) (4.0.3)\n",
            "Collecting dataclasses-json<0.7,>=0.5.7 (from langchain==0.0.320)\n",
            "  Downloading dataclasses_json-0.6.1-py3-none-any.whl (27 kB)\n",
            "Collecting jsonpatch<2.0,>=1.33 (from langchain==0.0.320)\n",
            "  Downloading jsonpatch-1.33-py2.py3-none-any.whl (12 kB)\n",
            "Collecting langsmith<0.1.0,>=0.0.43 (from langchain==0.0.320)\n",
            "  Downloading langsmith-0.0.49-py3-none-any.whl (41 kB)\n",
            "\u001b[2K     \u001b[90m━━━━━━━━━━━━━━━━━━━━━━━━━━━━━━━━━━━━━━━━\u001b[0m \u001b[32m41.9/41.9 kB\u001b[0m \u001b[31m6.4 MB/s\u001b[0m eta \u001b[36m0:00:00\u001b[0m\n",
            "\u001b[?25hRequirement already satisfied: numpy<2,>=1 in /usr/local/lib/python3.10/dist-packages (from langchain==0.0.320) (1.23.5)\n",
            "Requirement already satisfied: pydantic<3,>=1 in /usr/local/lib/python3.10/dist-packages (from langchain==0.0.320) (1.10.13)\n",
            "Requirement already satisfied: requests<3,>=2 in /usr/local/lib/python3.10/dist-packages (from langchain==0.0.320) (2.31.0)\n",
            "Requirement already satisfied: tenacity<9.0.0,>=8.1.0 in /usr/local/lib/python3.10/dist-packages (from langchain==0.0.320) (8.2.3)\n",
            "Requirement already satisfied: attrs>=17.3.0 in /usr/local/lib/python3.10/dist-packages (from aiohttp<4.0.0,>=3.8.3->langchain==0.0.320) (23.1.0)\n",
            "Requirement already satisfied: charset-normalizer<4.0,>=2.0 in /usr/local/lib/python3.10/dist-packages (from aiohttp<4.0.0,>=3.8.3->langchain==0.0.320) (3.3.0)\n",
            "Requirement already satisfied: multidict<7.0,>=4.5 in /usr/local/lib/python3.10/dist-packages (from aiohttp<4.0.0,>=3.8.3->langchain==0.0.320) (6.0.4)\n",
            "Requirement already satisfied: yarl<2.0,>=1.0 in /usr/local/lib/python3.10/dist-packages (from aiohttp<4.0.0,>=3.8.3->langchain==0.0.320) (1.9.2)\n",
            "Requirement already satisfied: frozenlist>=1.1.1 in /usr/local/lib/python3.10/dist-packages (from aiohttp<4.0.0,>=3.8.3->langchain==0.0.320) (1.4.0)\n",
            "Requirement already satisfied: aiosignal>=1.1.2 in /usr/local/lib/python3.10/dist-packages (from aiohttp<4.0.0,>=3.8.3->langchain==0.0.320) (1.3.1)\n",
            "Requirement already satisfied: idna>=2.8 in /usr/local/lib/python3.10/dist-packages (from anyio<4.0->langchain==0.0.320) (3.4)\n",
            "Requirement already satisfied: sniffio>=1.1 in /usr/local/lib/python3.10/dist-packages (from anyio<4.0->langchain==0.0.320) (1.3.0)\n",
            "Requirement already satisfied: exceptiongroup in /usr/local/lib/python3.10/dist-packages (from anyio<4.0->langchain==0.0.320) (1.1.3)\n",
            "Collecting marshmallow<4.0.0,>=3.18.0 (from dataclasses-json<0.7,>=0.5.7->langchain==0.0.320)\n",
            "  Downloading marshmallow-3.20.1-py3-none-any.whl (49 kB)\n",
            "\u001b[2K     \u001b[90m━━━━━━━━━━━━━━━━━━━━━━━━━━━━━━━━━━━━━━━━\u001b[0m \u001b[32m49.4/49.4 kB\u001b[0m \u001b[31m7.2 MB/s\u001b[0m eta \u001b[36m0:00:00\u001b[0m\n",
            "\u001b[?25hCollecting typing-inspect<1,>=0.4.0 (from dataclasses-json<0.7,>=0.5.7->langchain==0.0.320)\n",
            "  Downloading typing_inspect-0.9.0-py3-none-any.whl (8.8 kB)\n",
            "Collecting jsonpointer>=1.9 (from jsonpatch<2.0,>=1.33->langchain==0.0.320)\n",
            "  Downloading jsonpointer-2.4-py2.py3-none-any.whl (7.8 kB)\n",
            "Requirement already satisfied: typing-extensions>=4.2.0 in /usr/local/lib/python3.10/dist-packages (from pydantic<3,>=1->langchain==0.0.320) (4.5.0)\n",
            "Requirement already satisfied: urllib3<3,>=1.21.1 in /usr/local/lib/python3.10/dist-packages (from requests<3,>=2->langchain==0.0.320) (2.0.7)\n",
            "Requirement already satisfied: certifi>=2017.4.17 in /usr/local/lib/python3.10/dist-packages (from requests<3,>=2->langchain==0.0.320) (2023.7.22)\n",
            "Requirement already satisfied: greenlet!=0.4.17 in /usr/local/lib/python3.10/dist-packages (from SQLAlchemy<3,>=1.4->langchain==0.0.320) (3.0.0)\n",
            "Requirement already satisfied: packaging>=17.0 in /usr/local/lib/python3.10/dist-packages (from marshmallow<4.0.0,>=3.18.0->dataclasses-json<0.7,>=0.5.7->langchain==0.0.320) (23.2)\n",
            "Collecting mypy-extensions>=0.3.0 (from typing-inspect<1,>=0.4.0->dataclasses-json<0.7,>=0.5.7->langchain==0.0.320)\n",
            "  Downloading mypy_extensions-1.0.0-py3-none-any.whl (4.7 kB)\n",
            "Installing collected packages: mypy-extensions, marshmallow, jsonpointer, typing-inspect, langsmith, jsonpatch, dataclasses-json, langchain\n",
            "Successfully installed dataclasses-json-0.6.1 jsonpatch-1.33 jsonpointer-2.4 langchain-0.0.320 langsmith-0.0.49 marshmallow-3.20.1 mypy-extensions-1.0.0 typing-inspect-0.9.0\n"
          ]
        }
      ],
      "source": [
        "!pip install langchain==0.0.320"
      ]
    },
    {
      "cell_type": "markdown",
      "source": [
        "# 2 - Manipulando letras\n",
        "\n",
        "https://medium.com/@onkarmishra/using-langchain-for-question-answering-on-own-data-3af0a82789ed"
      ],
      "metadata": {
        "id": "p6ft9K_U536x"
      }
    },
    {
      "cell_type": "code",
      "source": [
        "from langchain.text_splitter import RecursiveCharacterTextSplitter, CharacterTextSplitter\n",
        "\n",
        "chunk_size =26\n",
        "chunk_overlap = 4\n",
        "\n",
        "r_splitter = RecursiveCharacterTextSplitter(\n",
        "    chunk_size=chunk_size,\n",
        "    chunk_overlap=chunk_overlap\n",
        ")\n",
        "c_splitter = CharacterTextSplitter(\n",
        "    chunk_size=chunk_size,\n",
        "    chunk_overlap=chunk_overlap\n",
        ")"
      ],
      "metadata": {
        "id": "dw4-GseG54CS"
      },
      "execution_count": null,
      "outputs": []
    },
    {
      "cell_type": "code",
      "source": [
        "# Recursive text Splitter\n",
        "text1 = 'abcdefghijklmnopqrstuvwxyz'\n",
        "r_splitter.split_text(text1)\n",
        "# Output - ['abcdefghijklmnopqrstuvwxyz']"
      ],
      "metadata": {
        "colab": {
          "base_uri": "https://localhost:8080/"
        },
        "id": "PDCzaLJX58HS",
        "outputId": "c68fdd5b-283b-48e1-9e3c-b985ae466ae3"
      },
      "execution_count": null,
      "outputs": [
        {
          "output_type": "execute_result",
          "data": {
            "text/plain": [
              "['abcdefghijklmnopqrstuvwxyz']"
            ]
          },
          "metadata": {},
          "execution_count": 7
        }
      ]
    },
    {
      "cell_type": "code",
      "source": [
        "\n",
        "# Character Text Splitter\n",
        "text2 = 'abcdefghijklmnopqrstuvwxyzabcdefg'\n",
        "r_splitter.split_text(text2)\n",
        "# Output - ['abcdefghijklmnopqrstuvwxyz', 'wxyzabcdefg']"
      ],
      "metadata": {
        "colab": {
          "base_uri": "https://localhost:8080/"
        },
        "id": "_zK29f4W_bf5",
        "outputId": "baef1456-53dd-455e-d9a0-59d43ac2976e"
      },
      "execution_count": null,
      "outputs": [
        {
          "output_type": "execute_result",
          "data": {
            "text/plain": [
              "['abcdefghijklmnopqrstuvwxyz', 'wxyzabcdefg']"
            ]
          },
          "metadata": {},
          "execution_count": 8
        }
      ]
    },
    {
      "cell_type": "code",
      "source": [
        "# Recursive text Splitter\n",
        "text3 = \"a b c d e f g h i j k l m n o p q r s t u v w x y z\"\n",
        "r_splitter.split_text(text3)\n",
        "# output - ['a b c d e f g h i j k l m', 'l m n o p q r s t u v w x', 'w x y z']"
      ],
      "metadata": {
        "colab": {
          "base_uri": "https://localhost:8080/"
        },
        "id": "lZbUFOjm_ZbZ",
        "outputId": "d9d6d749-45e7-45bb-d250-ca535627f856"
      },
      "execution_count": null,
      "outputs": [
        {
          "output_type": "execute_result",
          "data": {
            "text/plain": [
              "['a b c d e f g h i j k l m', 'l m n o p q r s t u v w x', 'w x y z']"
            ]
          },
          "metadata": {},
          "execution_count": 9
        }
      ]
    },
    {
      "cell_type": "code",
      "source": [
        "# Character Text Splitter\n",
        "c_splitter.split_text(text3)\n",
        "# output - ['a b c d e f g h i j k l m n o p q r s t u v w x y z']"
      ],
      "metadata": {
        "colab": {
          "base_uri": "https://localhost:8080/"
        },
        "id": "ntG-n5XT_XZo",
        "outputId": "98b5f7eb-8f74-49a7-cc2a-b00564b8d48c"
      },
      "execution_count": null,
      "outputs": [
        {
          "output_type": "execute_result",
          "data": {
            "text/plain": [
              "['a b c d e f g h i j k l m n o p q r s t u v w x y z']"
            ]
          },
          "metadata": {},
          "execution_count": 10
        }
      ]
    },
    {
      "cell_type": "code",
      "source": [
        "# Character Text Splitter with separator defined\n",
        "c_splitter = CharacterTextSplitter(\n",
        "    chunk_size=chunk_size,\n",
        "    chunk_overlap=chunk_overlap,\n",
        "    separator = ' '\n",
        ")\n",
        "c_splitter.split_text(text3)\n",
        "# Output - ['a b c d e f g h i j k l m', 'l m n o p q r s t u v w x', 'w x y z']"
      ],
      "metadata": {
        "colab": {
          "base_uri": "https://localhost:8080/"
        },
        "id": "cUlzJqJq_VrX",
        "outputId": "bcccf54c-79c1-4595-cf9b-096531357c95"
      },
      "execution_count": null,
      "outputs": [
        {
          "output_type": "execute_result",
          "data": {
            "text/plain": [
              "['a b c d e f g h i j k l m', 'l m n o p q r s t u v w x', 'w x y z']"
            ]
          },
          "metadata": {},
          "execution_count": 11
        }
      ]
    },
    {
      "cell_type": "markdown",
      "source": [
        "# 3 - Manipulando documentos txt"
      ],
      "metadata": {
        "id": "pHmpkn7FawZ-"
      }
    },
    {
      "cell_type": "markdown",
      "source": [
        "Cria o texto"
      ],
      "metadata": {
        "id": "oh5ZKlFxewwO"
      }
    },
    {
      "cell_type": "code",
      "source": [
        "# trecho de https://www.literaturabrasileira.ufsc.br/documentos/?action=download&id=116979', #As Vítimas algozes\n",
        "\n",
        "\n",
        "texto = \"\"\"\n",
        "No interior e principalmente longe da vila, ou da freguesia e dos povoados há quase\n",
        "sempre uma venda perto da fazenda: é a parasita que se apega à árvore; pior que isso,\n",
        "é a inimiga hipócrita que rende vassalagem à sua vítima.\n",
        "A venda de que falo é uma taberna especialíssima\n",
        "que não poderia existir, manter-se, medrar em outras condições locais, e em\n",
        "outras condições do trabalho rural, e nem se confunde com a taberna regular que\n",
        "em toda parte se encontra, quanto mais com as casas de grande ou pequeno comércio,\n",
        "onde os lavradores ricos e pobres se provêem do que precisa a casa, quando não\n",
        "lhes é possível esperar pelas remessas dos seus consigna­tários ou fregueses.\n",
        "Essa parasita das fazendas e estabelecimentos agrícolas\n",
        "das vizinhanças facilmente se pode conhecer por suas feições e modos\n",
        "característicos, se nos é lícito dizer assim: uma se parece com todas e não há\n",
        "hipótese em que alguma delas, por mais dissimulada que seja, chegue a perder o\n",
        "cará­ter da família.\n",
        "É uma pequena casa de taipa e coberta de telha, tendo às\n",
        "vezes na frente varanda aberta pelos três lados, também coberta de telha e com\n",
        "o teto sustido por esteios fortes, mas rudes e ainda mesmo tortos; as paredes\n",
        "nem sempre são caiadas, o chão não tem assoalho nem ladrilho; quando há\n",
        "varanda, abrem-se para ela uma porta e uma janela; dentro está a ven­da: entre\n",
        "a porta e a janela encostado à parede um banco de pau, defronte um balcão tosco\n",
        "e no bojo ou no espaço que se vê além, grotesca armação de tábuas contendo\n",
        "garrafas, botijas, latas de tabaco em pó, a um canto algumas voltas de fumo em\n",
        "rolo e uma ruim manta de carne-seca. Eis a venda.\n",
        "Há muitas que nem chegam à opulência da que aí fica\n",
        "descrita; em todas porém aparece humilde no fundo do quase vazio bojo a porta\n",
        "baixa que comunica pelo corredor imundo com dois ou mais quartos escuros, onde\n",
        "se recolhem as pingues colheitas agrícolas do vendelhão que aliás não tem\n",
        "lavoura.\n",
        "\"\"\""
      ],
      "metadata": {
        "id": "U68MxN52friW"
      },
      "execution_count": null,
      "outputs": []
    },
    {
      "cell_type": "markdown",
      "source": [
        "## Carrega e divide o texto"
      ],
      "metadata": {
        "id": "31nUpp_DiVL-"
      }
    },
    {
      "cell_type": "code",
      "source": [
        "# Import das bibliotecas\n",
        "import os\n",
        "import time\n",
        "from langchain.document_loaders import PyPDFLoader, PyPDFDirectoryLoader\n",
        "from langchain.text_splitter import RecursiveCharacterTextSplitter\n",
        "\n",
        "# Parâmetros\n",
        "chunk_tamanho = 500\n",
        "chunk_sobreposicao = 100\n",
        "\n",
        "text_splitter = RecursiveCharacterTextSplitter(\n",
        "    chunk_size = chunk_tamanho,\n",
        "    chunk_overlap  = chunk_sobreposicao, # Número de tokens sobrepostos entre chunks(pedaços)\n",
        "    length_function = len, # Usa o comprimento do texto como medida de tamanho\n",
        "    add_start_index = True, #\n",
        ")\n",
        "\n",
        "# Guarda o tempo de início\n",
        "tempo_inicio = time.time()\n",
        "\n",
        "# Calcula os chunks dos textos\n",
        "chunks = text_splitter.create_documents([texto])\n",
        "\n",
        "tempo_final = time.time()\n",
        "\n",
        "print(f\"Carregando e dividindo {len(texto)} documentos em {tempo_final - tempo_inicio} segundos!\")\n"
      ],
      "metadata": {
        "colab": {
          "base_uri": "https://localhost:8080/"
        },
        "id": "-TdiJE7IayZF",
        "outputId": "c6f3e107-a1b9-40f5-c56b-a4a98c04aaa1"
      },
      "execution_count": null,
      "outputs": [
        {
          "output_type": "stream",
          "name": "stdout",
          "text": [
            "Carregando e dividindo 1921 documentos em 0.0004353523254394531 segundos!\n"
          ]
        }
      ]
    },
    {
      "cell_type": "code",
      "source": [
        "print(len(chunks))"
      ],
      "metadata": {
        "colab": {
          "base_uri": "https://localhost:8080/"
        },
        "id": "55GoRqpTbzkI",
        "outputId": "900516d1-49f5-4f05-92e7-25a8503b7a1e"
      },
      "execution_count": null,
      "outputs": [
        {
          "output_type": "stream",
          "name": "stdout",
          "text": [
            "5\n"
          ]
        }
      ]
    },
    {
      "cell_type": "code",
      "source": [
        "print(chunks)"
      ],
      "metadata": {
        "colab": {
          "base_uri": "https://localhost:8080/"
        },
        "id": "XCm6HLFcuGmF",
        "outputId": "18d0659d-6a92-4c9e-85c9-682f0b85b717"
      },
      "execution_count": null,
      "outputs": [
        {
          "output_type": "stream",
          "name": "stdout",
          "text": [
            "[Document(page_content='No interior e principalmente longe da vila, ou da freguesia e dos povoados há quase \\nsempre uma venda perto da fazenda: é a parasita que se apega à árvore; pior que isso, \\né a inimiga hipócrita que rende vassalagem à sua vítima.\\nA venda de que falo é uma taberna especialíssima\\nque não poderia existir, manter-se, medrar em outras condições locais, e em\\noutras condições do trabalho rural, e nem se confunde com a taberna regular que', metadata={'start_index': 1}), Document(page_content='outras condições do trabalho rural, e nem se confunde com a taberna regular que\\nem toda parte se encontra, quanto mais com as casas de grande ou pequeno comércio,\\nonde os lavradores ricos e pobres se provêem do que precisa a casa, quando não\\nlhes é possível esperar pelas remessas dos seus consigna\\xadtários ou fregueses.\\nEssa parasita das fazendas e estabelecimentos agrícolas\\ndas vizinhanças facilmente se pode conhecer por suas feições e modos', metadata={'start_index': 355}), Document(page_content='das vizinhanças facilmente se pode conhecer por suas feições e modos\\ncaracterísticos, se nos é lícito dizer assim: uma se parece com todas e não há\\nhipótese em que alguma delas, por mais dissimulada que seja, chegue a perder o\\ncará\\xadter da família. \\nÉ uma pequena casa de taipa e coberta de telha, tendo às\\nvezes na frente varanda aberta pelos três lados, também coberta de telha e com\\no teto sustido por esteios fortes, mas rudes e ainda mesmo tortos; as paredes', metadata={'start_index': 731}), Document(page_content='o teto sustido por esteios fortes, mas rudes e ainda mesmo tortos; as paredes\\nnem sempre são caiadas, o chão não tem assoalho nem ladrilho; quando há\\nvaranda, abrem-se para ela uma porta e uma janela; dentro está a ven\\xadda: entre\\na porta e a janela encostado à parede um banco de pau, defronte um balcão tosco\\ne no bojo ou no espaço que se vê além, grotesca armação de tábuas contendo\\ngarrafas, botijas, latas de tabaco em pó, a um canto algumas voltas de fumo em', metadata={'start_index': 1116}), Document(page_content='garrafas, botijas, latas de tabaco em pó, a um canto algumas voltas de fumo em\\nrolo e uma ruim manta de carne-seca. Eis a venda.\\nHá muitas que nem chegam à opulência da que aí fica\\ndescrita; em todas porém aparece humilde no fundo do quase vazio bojo a porta\\nbaixa que comunica pelo corredor imundo com dois ou mais quartos escuros, onde\\nse recolhem as pingues colheitas agrícolas do vendelhão que aliás não tem\\nlavoura.', metadata={'start_index': 1500})]\n"
          ]
        }
      ]
    },
    {
      "cell_type": "markdown",
      "source": [
        "## Mostra os chunks"
      ],
      "metadata": {
        "id": "S-8OH0lw1XX-"
      }
    },
    {
      "cell_type": "code",
      "source": [
        "for i, chunk in enumerate(chunks):\n",
        "    print('chunk #',i,' tamanho :', len(chunk.page_content),' start_index:', chunk.metadata.get('start_index') )\n",
        "    print()\n",
        "    print(chunk.page_content)\n",
        "    print('-----------------------------------------------------------------------')"
      ],
      "metadata": {
        "colab": {
          "base_uri": "https://localhost:8080/"
        },
        "id": "1V1EFir61jgn",
        "outputId": "d47d9d02-f2fc-4bf1-8580-41b20ae29e87"
      },
      "execution_count": null,
      "outputs": [
        {
          "output_type": "stream",
          "name": "stdout",
          "text": [
            "chunk # 0  tamanho : 433  start_index: 1\n",
            "\n",
            "No interior e principalmente longe da vila, ou da freguesia e dos povoados há quase \n",
            "sempre uma venda perto da fazenda: é a parasita que se apega à árvore; pior que isso, \n",
            "é a inimiga hipócrita que rende vassalagem à sua vítima.\n",
            "A venda de que falo é uma taberna especialíssima\n",
            "que não poderia existir, manter-se, medrar em outras condições locais, e em\n",
            "outras condições do trabalho rural, e nem se confunde com a taberna regular que\n",
            "-----------------------------------------------------------------------\n",
            "chunk # 1  tamanho : 444  start_index: 355\n",
            "\n",
            "outras condições do trabalho rural, e nem se confunde com a taberna regular que\n",
            "em toda parte se encontra, quanto mais com as casas de grande ou pequeno comércio,\n",
            "onde os lavradores ricos e pobres se provêem do que precisa a casa, quando não\n",
            "lhes é possível esperar pelas remessas dos seus consigna­tários ou fregueses.\n",
            "Essa parasita das fazendas e estabelecimentos agrícolas\n",
            "das vizinhanças facilmente se pode conhecer por suas feições e modos\n",
            "-----------------------------------------------------------------------\n",
            "chunk # 2  tamanho : 462  start_index: 731\n",
            "\n",
            "das vizinhanças facilmente se pode conhecer por suas feições e modos\n",
            "característicos, se nos é lícito dizer assim: uma se parece com todas e não há\n",
            "hipótese em que alguma delas, por mais dissimulada que seja, chegue a perder o\n",
            "cará­ter da família. \n",
            "É uma pequena casa de taipa e coberta de telha, tendo às\n",
            "vezes na frente varanda aberta pelos três lados, também coberta de telha e com\n",
            "o teto sustido por esteios fortes, mas rudes e ainda mesmo tortos; as paredes\n",
            "-----------------------------------------------------------------------\n",
            "chunk # 3  tamanho : 462  start_index: 1116\n",
            "\n",
            "o teto sustido por esteios fortes, mas rudes e ainda mesmo tortos; as paredes\n",
            "nem sempre são caiadas, o chão não tem assoalho nem ladrilho; quando há\n",
            "varanda, abrem-se para ela uma porta e uma janela; dentro está a ven­da: entre\n",
            "a porta e a janela encostado à parede um banco de pau, defronte um balcão tosco\n",
            "e no bojo ou no espaço que se vê além, grotesca armação de tábuas contendo\n",
            "garrafas, botijas, latas de tabaco em pó, a um canto algumas voltas de fumo em\n",
            "-----------------------------------------------------------------------\n",
            "chunk # 4  tamanho : 420  start_index: 1500\n",
            "\n",
            "garrafas, botijas, latas de tabaco em pó, a um canto algumas voltas de fumo em\n",
            "rolo e uma ruim manta de carne-seca. Eis a venda.\n",
            "Há muitas que nem chegam à opulência da que aí fica\n",
            "descrita; em todas porém aparece humilde no fundo do quase vazio bojo a porta\n",
            "baixa que comunica pelo corredor imundo com dois ou mais quartos escuros, onde\n",
            "se recolhem as pingues colheitas agrícolas do vendelhão que aliás não tem\n",
            "lavoura.\n",
            "-----------------------------------------------------------------------\n"
          ]
        }
      ]
    },
    {
      "cell_type": "code",
      "source": [
        "for i, chunk in enumerate(chunks):\n",
        "    print('chunk #',i,' tamanho :', len(chunk.page_content), ' start_index:', chunk.metadata)\n",
        "    print()\n",
        "    print(chunk.page_content)\n",
        "    print('-----------------------------------------------------------------------')"
      ],
      "metadata": {
        "colab": {
          "base_uri": "https://localhost:8080/"
        },
        "id": "2HDTw4HZkAnl",
        "outputId": "c7aac146-9e52-4af9-a988-f59ac475d448"
      },
      "execution_count": null,
      "outputs": [
        {
          "output_type": "stream",
          "name": "stdout",
          "text": [
            "chunk # 0  tamanho : 433  start_index: {'start_index': 1}\n",
            "\n",
            "No interior e principalmente longe da vila, ou da freguesia e dos povoados há quase \n",
            "sempre uma venda perto da fazenda: é a parasita que se apega à árvore; pior que isso, \n",
            "é a inimiga hipócrita que rende vassalagem à sua vítima.\n",
            "A venda de que falo é uma taberna especialíssima\n",
            "que não poderia existir, manter-se, medrar em outras condições locais, e em\n",
            "outras condições do trabalho rural, e nem se confunde com a taberna regular que\n",
            "-----------------------------------------------------------------------\n",
            "chunk # 1  tamanho : 444  start_index: {'start_index': 355}\n",
            "\n",
            "outras condições do trabalho rural, e nem se confunde com a taberna regular que\n",
            "em toda parte se encontra, quanto mais com as casas de grande ou pequeno comércio,\n",
            "onde os lavradores ricos e pobres se provêem do que precisa a casa, quando não\n",
            "lhes é possível esperar pelas remessas dos seus consigna­tários ou fregueses.\n",
            "Essa parasita das fazendas e estabelecimentos agrícolas\n",
            "das vizinhanças facilmente se pode conhecer por suas feições e modos\n",
            "-----------------------------------------------------------------------\n",
            "chunk # 2  tamanho : 462  start_index: {'start_index': 731}\n",
            "\n",
            "das vizinhanças facilmente se pode conhecer por suas feições e modos\n",
            "característicos, se nos é lícito dizer assim: uma se parece com todas e não há\n",
            "hipótese em que alguma delas, por mais dissimulada que seja, chegue a perder o\n",
            "cará­ter da família. \n",
            "É uma pequena casa de taipa e coberta de telha, tendo às\n",
            "vezes na frente varanda aberta pelos três lados, também coberta de telha e com\n",
            "o teto sustido por esteios fortes, mas rudes e ainda mesmo tortos; as paredes\n",
            "-----------------------------------------------------------------------\n",
            "chunk # 3  tamanho : 462  start_index: {'start_index': 1116}\n",
            "\n",
            "o teto sustido por esteios fortes, mas rudes e ainda mesmo tortos; as paredes\n",
            "nem sempre são caiadas, o chão não tem assoalho nem ladrilho; quando há\n",
            "varanda, abrem-se para ela uma porta e uma janela; dentro está a ven­da: entre\n",
            "a porta e a janela encostado à parede um banco de pau, defronte um balcão tosco\n",
            "e no bojo ou no espaço que se vê além, grotesca armação de tábuas contendo\n",
            "garrafas, botijas, latas de tabaco em pó, a um canto algumas voltas de fumo em\n",
            "-----------------------------------------------------------------------\n",
            "chunk # 4  tamanho : 420  start_index: {'start_index': 1500}\n",
            "\n",
            "garrafas, botijas, latas de tabaco em pó, a um canto algumas voltas de fumo em\n",
            "rolo e uma ruim manta de carne-seca. Eis a venda.\n",
            "Há muitas que nem chegam à opulência da que aí fica\n",
            "descrita; em todas porém aparece humilde no fundo do quase vazio bojo a porta\n",
            "baixa que comunica pelo corredor imundo com dois ou mais quartos escuros, onde\n",
            "se recolhem as pingues colheitas agrícolas do vendelhão que aliás não tem\n",
            "lavoura.\n",
            "-----------------------------------------------------------------------\n"
          ]
        }
      ]
    }
  ],
  "metadata": {
    "colab": {
      "provenance": [],
      "toc_visible": true,
      "gpuClass": "premium",
      "include_colab_link": true
    },
    "kernelspec": {
      "display_name": "Python 3",
      "name": "python3"
    },
    "language_info": {
      "name": "python"
    }
  },
  "nbformat": 4,
  "nbformat_minor": 0
}